{
 "cells": [
  {
   "cell_type": "markdown",
   "metadata": {},
   "source": [
    "# Clustering 3k PBMCs following a Seurat Tutorial"
   ]
  },
  {
   "cell_type": "markdown",
   "metadata": {},
   "source": [
    "This started out (July 2017) with a demonstration that Scanpy would allow to reproduce most of Seurat's ([Satija *et al.*, 2015](https://doi.org/10.1038/nbt.3192)) clustering tutorial ([link](http://satijalab.org/seurat/pbmc3k_tutorial.html)), which we gratefully acknowledge. In the meanwhile, we have added and removed several pieces.\n",
    "\n",
    "The data consists in *3k PBMCs from a Healthy Donor* and is freely available from 10x Genomics ([here](http://cf.10xgenomics.com/samples/cell-exp/1.1.0/pbmc3k/pbmc3k_filtered_gene_bc_matrices.tar.gz) from this [webpage](https://support.10xgenomics.com/single-cell-gene-expression/datasets/1.1.0/pbmc3k))."
   ]
  },
  {
   "cell_type": "code",
   "execution_count": 1,
   "metadata": {
    "scrolled": false
   },
   "outputs": [
    {
     "name": "stderr",
     "output_type": "stream",
     "text": [
      "/home/mada/anaconda3/lib/python3.6/site-packages/h5py/__init__.py:36: FutureWarning: Conversion of the second argument of issubdtype from `float` to `np.floating` is deprecated. In future, it will be treated as `np.float64 == np.dtype(float).type`.\n",
      "  from ._conv import register_converters as _register_converters\n"
     ]
    },
    {
     "name": "stdout",
     "output_type": "stream",
     "text": [
      "scanpy==1.3.3 anndata==0.6.13 numpy==1.14.2 scipy==1.0.0 pandas==0.22.0 scikit-learn==0.19.1 statsmodels==0.9.0 python-igraph==0.7.1 louvain==0.6.1 \n"
     ]
    }
   ],
   "source": [
    "import numpy as np\n",
    "import pandas as pd\n",
    "import scanpy.api as sc\n",
    "from scipy import sparse, io\n",
    "from collections import Counter\n",
    "import os.path\n",
    "from sklearn.metrics.cluster import adjusted_rand_score\n",
    "import matplotlib.pyplot as plt\n",
    "import pickle\n",
    "import os\n",
    "import datetime\n",
    "import hyperopt\n",
    "from hyperopt import fmin, tpe, hp, Trials, STATUS_OK\n",
    "import time\n",
    "# import utils\n",
    "import seurat_utils\n",
    "import hyperopt_utils\n",
    "plt.ion()\n",
    "plt.show()\n",
    "sc.settings.set_figure_params(dpi=80)\n",
    "sc.settings.verbosity = 0  # verbosity: errors (0), warnings (1), info (2), hints (3)\n",
    "# sc.logging.print_versions()\n"
   ]
  },
  {
   "cell_type": "code",
   "execution_count": 2,
   "metadata": {},
   "outputs": [
    {
     "name": "stdout",
     "output_type": "stream",
     "text": [
      "scanpy==1.3.3 anndata==0.6.13 numpy==1.14.2 scipy==1.0.0 pandas==0.22.0 scikit-learn==0.19.1 statsmodels==0.9.0 python-igraph==0.7.1 louvain==0.6.1 \n"
     ]
    },
    {
     "data": {
      "text/plain": [
       "<module 'hyperopt_utils' from '/home/mada/ml/single-cell-sota/seurat/hyperopt_utils.py'>"
      ]
     },
     "execution_count": 2,
     "metadata": {},
     "output_type": "execute_result"
    }
   ],
   "source": [
    "%load_ext autoreload\n",
    "import importlib\n",
    "importlib.reload(seurat_utils)\n",
    "importlib.reload(hyperopt_utils)"
   ]
  },
  {
   "cell_type": "code",
   "execution_count": null,
   "metadata": {},
   "outputs": [],
   "source": []
  },
  {
   "cell_type": "markdown",
   "metadata": {},
   "source": [
    "# Input datasets"
   ]
  },
  {
   "cell_type": "code",
   "execution_count": 5,
   "metadata": {},
   "outputs": [],
   "source": [
    "\n",
    "space = {\n",
    "    'load_inputDataset' : 'brainCIDR'\n",
    "    ,'bpreprocess_min_genes' : hp.choice('bpreprocess_min_genes', [True,False])\n",
    "    ,'preprocess_min_genes' : hp.quniform('preprocess_min_genes', 0, 500, 10)\n",
    "    \n",
    "    ,'bpreprocess_min_cells' : hp.choice('bpreprocess_min_cells', [True,False])\n",
    "    ,'preprocess_min_cells' : hp.quniform('preprocess_min_cells', 0, 20, 1)\n",
    "    \n",
    "    ,'bpreprocess_teta_total_features' : hp.choice('bpreprocess_teta_total_features', [True,False])\n",
    "    ,'preprocess_teta_total_features' : hp.quniform('preprocess_teta_total_features', 5000, 18000, 1000)\n",
    "\n",
    "    ,'preprocess_normalize_per_cell' : hp.choice('l_preprocess_normalize_per_cell', \n",
    "                                                 [True, False])\n",
    "\n",
    "    ,'bpreprocess_filter_min_mean' : hp.choice('bpreprocess_filter_min_mean', [True,False])\n",
    "    ,'preprocess_filter_min_mean' : hp.uniform('preprocess_filter_min_mean', 0, 0.5) # 0.0125\n",
    "    ,'preprocess_filter_max_mean' : hp.uniform('preprocess_filter_max_mean', 0, 6)\n",
    "    \n",
    "    ,'bpreprocess_filter_min_disp' : hp.choice('bpreprocess_filter_min_disp', [True,False])\n",
    "    ,'preprocess_filter_min_disp' : hp.uniform('preprocess_filter_min_disp', 0, 1)# 0.5\n",
    "    \n",
    "    ,'preprocess_regress_out' : hp.choice('l_preprocess_regress_out', ['none', 'total_counts'])\n",
    "    ,'preprocess_scale' : hp.choice('l_preprocess_scale', [-1, 5, 10, 15, 20]) #10\n",
    "    ,'cluster_n_neighbors' : hp.quniform('cluster_n_neighbors', 1, 20,1) #10\n",
    "    ,'cluster_n_pcs' : hp.quniform('cluster_n_pcs', 20, 50, 1)  # 40\n",
    "    ,'cluster_plot_pca' : False\n",
    "    ,'preprocess_plot_preprocessing' : False\n",
    "    ,'evaluate_plot_results': False\n",
    "    ,'preprocess_verbosity' : 0\n",
    "}\n",
    "\n",
    "filename = 'deng_trials.pkl'  "
   ]
  },
  {
   "cell_type": "code",
   "execution_count": 4,
   "metadata": {},
   "outputs": [
    {
     "name": "stdout",
     "output_type": "stream",
     "text": [
      "Reload trials size :20\n"
     ]
    }
   ],
   "source": [
    " \n",
    "# trials=hyperopt_utils.getTrials(filename ,restart = False )"
   ]
  },
  {
   "cell_type": "code",
   "execution_count": null,
   "metadata": {
    "scrolled": true
   },
   "outputs": [
    {
     "name": "stdout",
     "output_type": "stream",
     "text": [
      "Creating new trials...\n",
      "... reading from cache file ./cache/input-brainCIDR-matrix.h5ad\n",
      "Loading dataset brainCIDR with 22085 genes and 420 cells\n",
      "computing neighbors\n",
      "    using 'X_pca' with n_pcs = 46\n",
      "    finished (0:00:03.01) --> added to `.uns['neighbors']`\n",
      "    'distances', weighted adjacency matrix\n",
      "    'connectivities', weighted adjacency matrix\n",
      "computing UMAP\n",
      "    finished (0:00:01.69) --> added\n",
      "    'X_umap', UMAP coordinates (adata.obsm)\n",
      "running Louvain clustering\n",
      "    using the \"louvain\" package of Traag (2017)\n",
      "    finished (0:00:00.01) --> found 11 clusters and added\n",
      "    'louvain', the cluster labels (adata.obs, categorical)\n",
      "Rand_index 0.5498210318686071\n",
      ">> Result: 0.5498210318686071\n",
      "... reading from cache file ./cache/input-brainCIDR-matrix.h5ad\n",
      "Loading dataset brainCIDR with 22085 genes and 420 cells\n",
      "computing neighbors\n",
      "    using 'X_pca' with n_pcs = 33\n",
      "    finished (0:00:00.17) --> added to `.uns['neighbors']`\n",
      "    'distances', weighted adjacency matrix\n",
      "    'connectivities', weighted adjacency matrix\n",
      "computing UMAP\n",
      "    finished (0:00:01.14) --> added\n",
      "    'X_umap', UMAP coordinates (adata.obsm)\n",
      "running Louvain clustering\n",
      "    using the \"louvain\" package of Traag (2017)\n",
      "    finished (0:00:00.02) --> found 7 clusters and added\n",
      "    'louvain', the cluster labels (adata.obs, categorical)\n",
      "Rand_index 0.41907784989233815\n",
      ">> Result: 0.41907784989233815\n",
      "... reading from cache file ./cache/input-brainCIDR-matrix.h5ad\n",
      "Loading dataset brainCIDR with 22085 genes and 420 cells\n",
      "regressing out ['total_counts']\n",
      "    sparse input is densified and may lead to high memory use\n",
      "... reading from cache file ./cache/input-brainCIDR-matrix.h5ad\n",
      "Loading dataset brainCIDR with 22085 genes and 420 cells\n"
     ]
    },
    {
     "name": "stderr",
     "output_type": "stream",
     "text": [
      "/home/mada/anaconda3/lib/python3.6/site-packages/scanpy/preprocessing/simple.py:681: RuntimeWarning: invalid value encountered in long_scalars\n",
      "  n_chunks = np.ceil(adata.X.shape[1] / len_chunk).astype(int)\n"
     ]
    },
    {
     "name": "stdout",
     "output_type": "stream",
     "text": [
      "computing neighbors\n",
      "    using 'X_pca' with n_pcs = 48\n",
      "    finished (0:00:00.13) --> added to `.uns['neighbors']`\n",
      "    'distances', weighted adjacency matrix\n",
      "    'connectivities', weighted adjacency matrix\n",
      "computing UMAP\n",
      "    finished (0:00:00.90) --> added\n",
      "    'X_umap', UMAP coordinates (adata.obsm)\n",
      "running Louvain clustering\n",
      "    using the \"louvain\" package of Traag (2017)\n",
      "    finished (0:00:00.14) --> found 10 clusters and added\n",
      "    'louvain', the cluster labels (adata.obs, categorical)\n",
      "Rand_index 0.4807822750465332\n",
      ">> Result: 0.4807822750465332\n",
      "... reading from cache file ./cache/input-brainCIDR-matrix.h5ad\n",
      "Loading dataset brainCIDR with 22085 genes and 420 cells\n",
      "computing neighbors\n",
      "    using 'X_pca' with n_pcs = 44\n",
      "    finished (0:00:00.15) --> added to `.uns['neighbors']`\n",
      "    'distances', weighted adjacency matrix\n",
      "    'connectivities', weighted adjacency matrix\n",
      "computing UMAP\n",
      "    finished (0:00:01.04) --> added\n",
      "    'X_umap', UMAP coordinates (adata.obsm)\n",
      "running Louvain clustering\n",
      "    using the \"louvain\" package of Traag (2017)\n",
      "    finished (0:00:00.02) --> found 8 clusters and added\n",
      "    'louvain', the cluster labels (adata.obs, categorical)\n",
      "Rand_index 0.5346808381315876\n",
      ">> Result: 0.5346808381315876\n",
      "... reading from cache file ./cache/input-brainCIDR-matrix.h5ad\n",
      "Loading dataset brainCIDR with 22085 genes and 420 cells\n",
      "regressing out ['total_counts']\n",
      "    sparse input is densified and may lead to high memory use\n",
      "... reading from cache file ./cache/input-brainCIDR-matrix.h5ad\n"
     ]
    },
    {
     "name": "stderr",
     "output_type": "stream",
     "text": [
      "/home/mada/anaconda3/lib/python3.6/site-packages/statsmodels/genmod/families/family.py:176: RuntimeWarning: invalid value encountered in true_divide\n",
      "  return np.sum(resid_dev * freq_weights * var_weights / scale)\n"
     ]
    },
    {
     "name": "stdout",
     "output_type": "stream",
     "text": [
      "Loading dataset brainCIDR with 22085 genes and 420 cells\n",
      "filtered out 6107 genes that are detected in less than 9.0 cells\n",
      "regressing out ['total_counts']\n",
      "    sparse input is densified and may lead to high memory use\n",
      "    finished (0:00:07.14)\n",
      "computing neighbors\n",
      "    using 'X_pca' with n_pcs = 34\n",
      "    finished (0:00:00.09) --> added to `.uns['neighbors']`\n",
      "    'distances', weighted adjacency matrix\n",
      "    'connectivities', weighted adjacency matrix\n",
      "computing UMAP\n",
      "    finished (0:00:00.64) --> added\n",
      "    'X_umap', UMAP coordinates (adata.obsm)\n",
      "running Louvain clustering\n",
      "    using the \"louvain\" package of Traag (2017)\n",
      "    finished (0:00:00.01) --> found 12 clusters and added\n",
      "    'louvain', the cluster labels (adata.obs, categorical)\n",
      "Rand_index 0.4900825217823536\n",
      ">> Result: 0.4900825217823536\n",
      "... reading from cache file ./cache/input-brainCIDR-matrix.h5ad\n",
      "Loading dataset brainCIDR with 22085 genes and 420 cells\n",
      "computing neighbors\n",
      "    using 'X_pca' with n_pcs = 39\n",
      "    finished (0:00:00.15) --> added to `.uns['neighbors']`\n",
      "    'distances', weighted adjacency matrix\n",
      "    'connectivities', weighted adjacency matrix\n",
      "computing UMAP\n",
      "    finished (0:00:01.03) --> added\n",
      "    'X_umap', UMAP coordinates (adata.obsm)\n",
      "running Louvain clustering\n",
      "    using the \"louvain\" package of Traag (2017)\n",
      "    finished (0:00:00.02) --> found 8 clusters and added\n",
      "    'louvain', the cluster labels (adata.obs, categorical)\n",
      "Rand_index 0.5236430217009204\n",
      ">> Result: 0.5236430217009204\n",
      "... reading from cache file ./cache/input-brainCIDR-matrix.h5ad\n",
      "Loading dataset brainCIDR with 22085 genes and 420 cells\n",
      "filtered out 6962 genes that are detected in less than 12.0 cells\n",
      "computing neighbors\n",
      "    using 'X_pca' with n_pcs = 43\n",
      "    finished (0:00:00.12) --> added to `.uns['neighbors']`\n",
      "    'distances', weighted adjacency matrix\n",
      "    'connectivities', weighted adjacency matrix\n",
      "computing UMAP\n",
      "    finished (0:00:00.77) --> added\n",
      "    'X_umap', UMAP coordinates (adata.obsm)\n",
      "running Louvain clustering\n",
      "    using the \"louvain\" package of Traag (2017)\n",
      "    finished (0:00:00.01) --> found 10 clusters and added\n",
      "    'louvain', the cluster labels (adata.obs, categorical)\n",
      "Rand_index 0.5864071778032551\n",
      ">> Result: 0.5864071778032551\n",
      "... reading from cache file ./cache/input-brainCIDR-matrix.h5ad\n",
      "Loading dataset brainCIDR with 22085 genes and 420 cells\n",
      "regressing out ['total_counts']\n",
      "    sparse input is densified and may lead to high memory use\n",
      "    finished (0:00:21.23)\n",
      "computing neighbors\n",
      "    using 'X_pca' with n_pcs = 32\n",
      "    finished (0:00:00.08) --> added to `.uns['neighbors']`\n",
      "    'distances', weighted adjacency matrix\n",
      "    'connectivities', weighted adjacency matrix\n",
      "computing UMAP\n",
      "    finished (0:00:00.64) --> added\n",
      "    'X_umap', UMAP coordinates (adata.obsm)\n",
      "running Louvain clustering\n",
      "    using the \"louvain\" package of Traag (2017)\n",
      "    finished (0:00:00.01) --> found 11 clusters and added\n",
      "    'louvain', the cluster labels (adata.obs, categorical)\n",
      "Rand_index 0.5306027520690344\n",
      ">> Result: 0.5306027520690344\n",
      "... reading from cache file ./cache/input-brainCIDR-matrix.h5ad\n",
      "Loading dataset brainCIDR with 22085 genes and 420 cells\n",
      "regressing out ['total_counts']\n",
      "    sparse input is densified and may lead to high memory use\n",
      "... reading from cache file ./cache/input-brainCIDR-matrix.h5ad\n",
      "Loading dataset brainCIDR with 22085 genes and 420 cells\n"
     ]
    },
    {
     "name": "stderr",
     "output_type": "stream",
     "text": [
      "/home/mada/anaconda3/lib/python3.6/site-packages/statsmodels/genmod/families/family.py:176: RuntimeWarning: invalid value encountered in true_divide\n",
      "  return np.sum(resid_dev * freq_weights * var_weights / scale)\n"
     ]
    },
    {
     "name": "stdout",
     "output_type": "stream",
     "text": [
      "computing neighbors\n",
      "    using 'X_pca' with n_pcs = 25\n",
      "    finished (0:00:00.15) --> added to `.uns['neighbors']`\n",
      "    'distances', weighted adjacency matrix\n",
      "    'connectivities', weighted adjacency matrix\n",
      "computing UMAP\n",
      "    finished (0:00:01.00) --> added\n",
      "    'X_umap', UMAP coordinates (adata.obsm)\n",
      "running Louvain clustering\n",
      "    using the \"louvain\" package of Traag (2017)\n",
      "    finished (0:00:00.02) --> found 8 clusters and added\n",
      "    'louvain', the cluster labels (adata.obs, categorical)\n",
      "Rand_index 0.5730766273394569\n",
      ">> Result: 0.5730766273394569\n",
      "... reading from cache file ./cache/input-brainCIDR-matrix.h5ad\n",
      "Loading dataset brainCIDR with 22085 genes and 420 cells\n",
      "filtered out 6107 genes that are detected in less than 9.0 cells\n",
      "regressing out ['total_counts']\n",
      "    sparse input is densified and may lead to high memory use\n",
      "    finished (0:00:33.09)\n",
      "computing neighbors\n",
      "    using 'X_pca' with n_pcs = 27\n",
      "    finished (0:00:00.13) --> added to `.uns['neighbors']`\n",
      "    'distances', weighted adjacency matrix\n",
      "    'connectivities', weighted adjacency matrix\n",
      "computing UMAP\n",
      "    finished (0:00:00.79) --> added\n",
      "    'X_umap', UMAP coordinates (adata.obsm)\n",
      "running Louvain clustering\n",
      "    using the \"louvain\" package of Traag (2017)\n",
      "    finished (0:00:00.05) --> found 13 clusters and added\n",
      "    'louvain', the cluster labels (adata.obs, categorical)\n",
      "Rand_index 0.5400480276645389\n",
      ">> Result: 0.5400480276645389\n",
      "... reading from cache file ./cache/input-brainCIDR-matrix.h5ad\n",
      "Loading dataset brainCIDR with 22085 genes and 420 cells\n",
      "computing neighbors\n",
      "    using 'X_pca' with n_pcs = 37\n",
      "    finished (0:00:00.17) --> added to `.uns['neighbors']`\n",
      "    'distances', weighted adjacency matrix\n",
      "    'connectivities', weighted adjacency matrix\n",
      "computing UMAP\n",
      "    finished (0:00:01.21) --> added\n",
      "    'X_umap', UMAP coordinates (adata.obsm)\n",
      "running Louvain clustering\n",
      "    using the \"louvain\" package of Traag (2017)\n",
      "    finished (0:00:00.03) --> found 8 clusters and added\n",
      "    'louvain', the cluster labels (adata.obs, categorical)\n",
      "Rand_index 0.6463074399756041\n",
      ">> Result: 0.6463074399756041\n",
      "... reading from cache file ./cache/input-brainCIDR-matrix.h5ad\n",
      "Loading dataset brainCIDR with 22085 genes and 420 cells\n",
      "filtered out 7792 genes that are detected in less than 16.0 cells\n",
      "computing neighbors\n",
      "    using 'X_pca' with n_pcs = 40\n",
      "    finished (0:00:00.21) --> added to `.uns['neighbors']`\n",
      "    'distances', weighted adjacency matrix\n",
      "    'connectivities', weighted adjacency matrix\n",
      "computing UMAP\n",
      "    finished (0:00:01.35) --> added\n",
      "    'X_umap', UMAP coordinates (adata.obsm)\n",
      "running Louvain clustering\n",
      "    using the \"louvain\" package of Traag (2017)\n",
      "    finished (0:00:00.10) --> found 6 clusters and added\n",
      "    'louvain', the cluster labels (adata.obs, categorical)\n",
      "Rand_index 0.7994129786006925\n",
      ">> Result: 0.7994129786006925\n",
      "... reading from cache file ./cache/input-brainCIDR-matrix.h5ad\n",
      "Loading dataset brainCIDR with 22085 genes and 420 cells\n",
      "regressing out ['total_counts']\n",
      "    sparse input is densified and may lead to high memory use\n"
     ]
    },
    {
     "name": "stderr",
     "output_type": "stream",
     "text": [
      "/home/mada/anaconda3/lib/python3.6/site-packages/statsmodels/genmod/families/family.py:176: RuntimeWarning: invalid value encountered in true_divide\n",
      "  return np.sum(resid_dev * freq_weights * var_weights / scale)\n"
     ]
    },
    {
     "name": "stdout",
     "output_type": "stream",
     "text": [
      "... reading from cache file ./cache/input-brainCIDR-matrix.h5ad\n",
      "Loading dataset brainCIDR with 22085 genes and 420 cells\n",
      "filtered out 7388 genes that are detected in less than 14.0 cells\n",
      "regressing out ['total_counts']\n",
      "    sparse input is densified and may lead to high memory use\n",
      "    finished (0:00:29.73)\n",
      "computing neighbors\n",
      "    using 'X_pca' with n_pcs = 46\n",
      "    finished (0:00:00.06) --> added to `.uns['neighbors']`\n",
      "    'distances', weighted adjacency matrix\n",
      "    'connectivities', weighted adjacency matrix\n",
      "computing UMAP\n",
      "    finished (0:00:00.27) --> added\n",
      "    'X_umap', UMAP coordinates (adata.obsm)\n",
      "running Louvain clustering\n",
      "    using the \"louvain\" package of Traag (2017)\n",
      "    finished (0:00:00.00) --> found 59 clusters and added\n",
      "    'louvain', the cluster labels (adata.obs, categorical)\n",
      "Rand_index 0.16742385848803593\n",
      ">> Result: 0.16742385848803593\n",
      "... reading from cache file ./cache/input-brainCIDR-matrix.h5ad\n",
      "Loading dataset brainCIDR with 22085 genes and 420 cells\n",
      "filtered out 5755 genes that are detected in less than 8.0 cells\n",
      "regressing out ['total_counts']\n",
      "    sparse input is densified and may lead to high memory use\n"
     ]
    }
   ],
   "source": [
    "\n",
    "def runSeurat(filename, space, max_evals = 2):\n",
    "    # Define function to optimise\n",
    "    def evaluateSeurat(args):\n",
    "        args['cluster_n_neighbors'] = int(args['cluster_n_neighbors'])\n",
    "        args['cluster_n_pcs'] = int(args['cluster_n_pcs'])\n",
    "\n",
    "        if args['bpreprocess_min_genes'] == False:\n",
    "            args['preprocess_min_genes'] = -1\n",
    "        if args['bpreprocess_min_cells'] == False:\n",
    "            args['preprocess_min_cells'] = -1\n",
    "        if args['bpreprocess_teta_total_features'] == False:\n",
    "            args['preprocess_teta_total_features'] = -1\n",
    "        if args['bpreprocess_filter_min_mean'] == False:\n",
    "            args['preprocess_filter_min_mean'] = -1\n",
    "        if args['bpreprocess_filter_min_disp'] == False:\n",
    "            args['preprocess_filter_min_disp'] = -1\n",
    "\n",
    "        if args['preprocess_teta_total_features'] is not None:\n",
    "            args['preprocess_teta_total_features'] = int(args['preprocess_teta_total_features'])\n",
    "        try:\n",
    "            resultDict = seurat_utils.run(args)\n",
    "        except:\n",
    "            return { 'status' : hyperopt.STATUS_FAIL}\n",
    "\n",
    "        print(f'>> Result: {resultDict[\"randIndex\"]}')\n",
    "        ret = {\n",
    "            'loss' : -resultDict['randIndex']\n",
    "            ,'status' : STATUS_OK\n",
    "            ,'eval_time' : time.time()        \n",
    "        }\n",
    "        return ret\n",
    "\n",
    "    trials = hyperopt_utils.getTrials(filename ,restart = False )\n",
    "    evals_per_epoch = 10\n",
    "    for e in range(len(trials), max_evals, evals_per_epoch):\n",
    "        best = fmin(evaluateSeurat\n",
    "                    ,space\n",
    "                    ,algo=tpe.suggest \n",
    "                    ,max_evals= e + evals_per_epoch\n",
    "                    ,trials=trials)\n",
    "\n",
    "        pickle.dump(trials, open(filename, 'wb'))\n",
    "    return trials\n",
    "\n",
    "trials = runSeurat(filename, space, max_evals = 20)"
   ]
  },
  {
   "cell_type": "code",
   "execution_count": null,
   "metadata": {
    "scrolled": false
   },
   "outputs": [],
   "source": [
    "df = hyperopt_utils.getResultsAsDf(trials, space)\n",
    "df.head()"
   ]
  },
  {
   "cell_type": "markdown",
   "metadata": {},
   "source": [
    "Best result: "
   ]
  },
  {
   "cell_type": "code",
   "execution_count": null,
   "metadata": {},
   "outputs": [],
   "source": [
    "df['result'].min()"
   ]
  },
  {
   "cell_type": "code",
   "execution_count": null,
   "metadata": {},
   "outputs": [],
   "source": []
  },
  {
   "cell_type": "code",
   "execution_count": null,
   "metadata": {},
   "outputs": [],
   "source": []
  },
  {
   "cell_type": "code",
   "execution_count": null,
   "metadata": {},
   "outputs": [],
   "source": []
  },
  {
   "cell_type": "code",
   "execution_count": null,
   "metadata": {},
   "outputs": [],
   "source": []
  },
  {
   "cell_type": "code",
   "execution_count": null,
   "metadata": {},
   "outputs": [],
   "source": []
  },
  {
   "cell_type": "code",
   "execution_count": null,
   "metadata": {},
   "outputs": [],
   "source": []
  }
 ],
 "metadata": {
  "anaconda-cloud": {},
  "hide_input": false,
  "kernelspec": {
   "display_name": "Python 3",
   "language": "python",
   "name": "python3"
  },
  "language_info": {
   "codemirror_mode": {
    "name": "ipython",
    "version": 3
   },
   "file_extension": ".py",
   "mimetype": "text/x-python",
   "name": "python",
   "nbconvert_exporter": "python",
   "pygments_lexer": "ipython3",
   "version": "3.6.5"
  },
  "toc": {
   "base_numbering": 1,
   "nav_menu": {
    "height": "135.88235473632812px",
    "width": "252.35293579101562px"
   },
   "number_sections": false,
   "sideBar": false,
   "skip_h1_title": false,
   "title_cell": "Table of Contents",
   "title_sidebar": "Contents",
   "toc_cell": false,
   "toc_position": {},
   "toc_section_display": "block",
   "toc_window_display": false
  }
 },
 "nbformat": 4,
 "nbformat_minor": 2
}
