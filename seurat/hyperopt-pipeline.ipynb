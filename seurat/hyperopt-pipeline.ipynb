{
 "cells": [
  {
   "cell_type": "markdown",
   "metadata": {},
   "source": [
    "# Clustering 3k PBMCs following a Seurat Tutorial"
   ]
  },
  {
   "cell_type": "markdown",
   "metadata": {},
   "source": [
    "This started out (July 2017) with a demonstration that Scanpy would allow to reproduce most of Seurat's ([Satija *et al.*, 2015](https://doi.org/10.1038/nbt.3192)) clustering tutorial ([link](http://satijalab.org/seurat/pbmc3k_tutorial.html)), which we gratefully acknowledge. In the meanwhile, we have added and removed several pieces.\n",
    "\n",
    "The data consists in *3k PBMCs from a Healthy Donor* and is freely available from 10x Genomics ([here](http://cf.10xgenomics.com/samples/cell-exp/1.1.0/pbmc3k/pbmc3k_filtered_gene_bc_matrices.tar.gz) from this [webpage](https://support.10xgenomics.com/single-cell-gene-expression/datasets/1.1.0/pbmc3k))."
   ]
  },
  {
   "cell_type": "code",
   "execution_count": 1,
   "metadata": {
    "ExecuteTime": {
     "end_time": "2018-12-15T22:16:04.619436Z",
     "start_time": "2018-12-15T22:16:02.779431Z"
    },
    "scrolled": false
   },
   "outputs": [
    {
     "name": "stdout",
     "output_type": "stream",
     "text": [
      "elbowAnalysis\n",
      "silhouetteAnalyis\n",
      "scanpy==1.3.3 anndata==0.6.13 numpy==1.15.4 scipy==1.1.0 pandas==0.23.4 scikit-learn==0.20.1 statsmodels==0.9.0 python-igraph==0.7.1 louvain==0.6.1 \n"
     ]
    }
   ],
   "source": [
    "import sys\n",
    "sys.path.append(\"..\") # this adds to path parent directory in order to import utils file\n",
    "import numpy as np\n",
    "import pandas as pd\n",
    "import scanpy.api as sc\n",
    "from scipy import sparse, io\n",
    "from collections import Counter\n",
    "import os.path\n",
    "from sklearn.metrics.cluster import adjusted_rand_score\n",
    "import matplotlib.pyplot as plt\n",
    "import pickle\n",
    "import os\n",
    "import datetime\n",
    "import hyperopt\n",
    "from hyperopt import fmin, tpe, hp, Trials, STATUS_OK\n",
    "import time\n",
    "# import utils\n",
    "import seurat_utils\n",
    "import hyperopt_utils\n",
    "import utils\n",
    "# plt.ion()\n",
    "# plt.show()\n",
    "# sc.settings.set_figure_params(dpi=80)\n",
    "sc.settings.verbosity = 0  # verbosity: errors (0), warnings (1), info (2), hints (3)\n",
    "# sc.logging.print_versions()\n"
   ]
  },
  {
   "cell_type": "code",
   "execution_count": 2,
   "metadata": {
    "ExecuteTime": {
     "end_time": "2018-12-15T22:16:04.659492Z",
     "start_time": "2018-12-15T22:16:04.643158Z"
    }
   },
   "outputs": [
    {
     "name": "stdout",
     "output_type": "stream",
     "text": [
      "scanpy==1.3.3 anndata==0.6.13 numpy==1.15.4 scipy==1.1.0 pandas==0.23.4 scikit-learn==0.20.1 statsmodels==0.9.0 python-igraph==0.7.1 louvain==0.6.1 \n",
      "elbowAnalysis\n",
      "silhouetteAnalyis\n"
     ]
    },
    {
     "data": {
      "text/plain": [
       "<module 'utils' from '../utils.py'>"
      ]
     },
     "execution_count": 2,
     "metadata": {},
     "output_type": "execute_result"
    }
   ],
   "source": [
    "%load_ext autoreload\n",
    "import importlib\n",
    "importlib.reload(seurat_utils)\n",
    "importlib.reload(hyperopt_utils)\n",
    "importlib.reload(utils)"
   ]
  },
  {
   "cell_type": "markdown",
   "metadata": {},
   "source": [
    "## Generic method for running bayesian hyperparm optimisation for all datasets"
   ]
  },
  {
   "cell_type": "code",
   "execution_count": 5,
   "metadata": {
    "ExecuteTime": {
     "end_time": "2018-12-15T22:16:34.839102Z",
     "start_time": "2018-12-15T22:16:34.792775Z"
    }
   },
   "outputs": [],
   "source": [
    "method = 'seurat'\n",
    "\n",
    "\n",
    "def runSeurat(trialsFile, resultsFile, space, max_evals = 2, restart = True):\n",
    "    # Define function to optimise\n",
    "    def evaluateSeurat(args):\n",
    "        args['cluster_n_neighbors'] = int(args['cluster_n_neighbors'])\n",
    "        args['cluster_n_pcs'] = int(args['cluster_n_pcs'])\n",
    "\n",
    "        if args['bpreprocess_min_genes'] == False:\n",
    "            args['preprocess_min_genes'] = -1\n",
    "        if args['bpreprocess_min_cells'] == False:\n",
    "            args['preprocess_min_cells'] = -1\n",
    "        if args['bpreprocess_teta_total_features'] == False:\n",
    "            args['preprocess_teta_total_features'] = -1\n",
    "        if args['bpreprocess_filter_min_mean'] == False:\n",
    "            args['preprocess_filter_min_mean'] = -1\n",
    "        if args['bpreprocess_filter_min_disp'] == False:\n",
    "            args['preprocess_filter_min_disp'] = -1\n",
    "\n",
    "        if args['preprocess_teta_total_features'] is not None:\n",
    "            args['preprocess_teta_total_features'] = int(args['preprocess_teta_total_features'])\n",
    "        try:\n",
    "            resultDict = seurat_utils.run(args)\n",
    "            if os.path.isfile(resultsFile):\n",
    "                results = pd.read_pickle(resultsFile)\n",
    "\n",
    "                newDf = pd.DataFrame.from_dict(resultDict, orient='index').T\n",
    "                results = results.append(newDf)\n",
    "\n",
    "            else:\n",
    "\n",
    "                results = pd.DataFrame.from_dict(resultDict, orient='index').T\n",
    "            results.to_pickle(resultsFile)\n",
    "        except:\n",
    "            return { 'status' : hyperopt.STATUS_FAIL}\n",
    "\n",
    "        print(f'>> Result: {resultDict[\"_rand_index\"]}')\n",
    "        ret = {\n",
    "            'loss' : -resultDict['_rand_index']\n",
    "            ,'status' : STATUS_OK\n",
    "            ,'eval_time' : time.time()        \n",
    "        }\n",
    "        return ret\n",
    "\n",
    "    trials = hyperopt_utils.getTrials(trialsFile ,restart = restart )\n",
    "    evals_per_epoch = 10\n",
    "    for e in range(len(trials), max_evals, evals_per_epoch):\n",
    "        best = fmin(evaluateSeurat\n",
    "                    ,space\n",
    "                    ,algo=tpe.suggest \n",
    "                    ,max_evals= e + evals_per_epoch\n",
    "                    ,trials=trials)\n",
    "        print('Index ', e)\n",
    "        pickle.dump(trials, open(trialsFile, 'wb'))\n",
    "    return trials\n"
   ]
  },
  {
   "cell_type": "markdown",
   "metadata": {},
   "source": [
    "# BrainCIDR\n",
    "\n",
    "Run it once with all default parameters to get the parameter range"
   ]
  },
  {
   "cell_type": "code",
   "execution_count": null,
   "metadata": {
    "ExecuteTime": {
     "end_time": "2018-12-15T12:02:01.793555Z",
     "start_time": "2018-12-15T12:01:51.790649Z"
    }
   },
   "outputs": [],
   "source": [
    "params = {}\n",
    "params['load_inputDataset'] = 'brainCIDR'\n",
    "params['preprocess_min_genes'] = 200\n",
    "params['preprocess_min_cells'] = 3\n",
    "# Define on the dataset\n",
    "params['preprocess_teta_total_features'] = 8000\n",
    "params['preprocess_normalize_per_cell'] = True\n",
    "params['preprocess_filter_min_mean'] = 0.0125\n",
    "params['preprocess_filter_max_mean']=3\n",
    "params['preprocess_filter_min_disp']=0.5\n",
    "params['preprocess_regress_out']='total_counts'\n",
    "params['preprocess_scale']=10\n",
    "\n",
    "params['cluster_n_neighbors'] = 10\n",
    "params['cluster_n_pcs'] = 40\n",
    "params['cluster_plot_pca'] = True\n",
    "\n",
    "params['evaluate_plot_results'] = True\n",
    "seurat_utils.run(params)"
   ]
  },
  {
   "cell_type": "code",
   "execution_count": null,
   "metadata": {
    "ExecuteTime": {
     "end_time": "2018-12-15T13:31:56.643500Z",
     "start_time": "2018-12-15T13:31:56.640278Z"
    }
   },
   "outputs": [],
   "source": []
  },
  {
   "cell_type": "markdown",
   "metadata": {},
   "source": [
    "### Hyperopt input"
   ]
  },
  {
   "cell_type": "code",
   "execution_count": null,
   "metadata": {
    "ExecuteTime": {
     "end_time": "2018-12-15T12:04:54.779515Z",
     "start_time": "2018-12-15T12:04:54.763509Z"
    }
   },
   "outputs": [],
   "source": [
    "dataset = 'brainCIDR'\n",
    "\n",
    "trialsFile = f'{dataset}_{method}_trials.pkl'\n",
    "resultsFile = f'{dataset}_{method}_results.pkl' \n",
    "space = {\n",
    "    'load_inputDataset' : dataset\n",
    "    ,'bpreprocess_min_genes' : hp.choice('bpreprocess_min_genes', [True,False])\n",
    "    ,'preprocess_min_genes' : hp.quniform('preprocess_min_genes', 100, 500, 10)\n",
    "    \n",
    "    ,'bpreprocess_min_cells' : hp.choice('bpreprocess_min_cells', [True,False])\n",
    "    ,'preprocess_min_cells' : hp.quniform('preprocess_min_cells', 1, 20, 1)\n",
    "    \n",
    "    ,'bpreprocess_teta_total_features' : hp.choice('bpreprocess_teta_total_features', [True,False])\n",
    "    ,'preprocess_teta_total_features' : hp.quniform('preprocess_teta_total_features', 5000, 15000, 1000)\n",
    "\n",
    "    ,'preprocess_normalize_per_cell' : hp.choice('l_preprocess_normalize_per_cell', \n",
    "                                                 [True, False])\n",
    "\n",
    "    ,'bpreprocess_filter_min_mean' : hp.choice('bpreprocess_filter_min_mean', [True,False])\n",
    "    ,'preprocess_filter_min_mean' : hp.uniform('preprocess_filter_min_mean', 0, 0.2) # 0.0125\n",
    "    ,'preprocess_filter_max_mean' : hp.uniform('preprocess_filter_max_mean', 0, 5)\n",
    "    \n",
    "    ,'bpreprocess_filter_min_disp' : hp.choice('bpreprocess_filter_min_disp', [True,False])\n",
    "    ,'preprocess_filter_min_disp' : hp.uniform('preprocess_filter_min_disp', 0, 1)# 0.5\n",
    "    \n",
    "    ,'preprocess_regress_out' : hp.choice('l_preprocess_regress_out', ['none', 'total_counts'])\n",
    "    ,'preprocess_scale' : hp.choice('l_preprocess_scale', [-1, 5, 10, 15, 20]) #10\n",
    "    ,'cluster_n_neighbors' : hp.quniform('cluster_n_neighbors', 1, 20,1) #10\n",
    "    ,'cluster_n_pcs' : hp.quniform('cluster_n_pcs', 20, 50, 1)  # 40\n",
    "    ,'cluster_plot_pca' : False\n",
    "    ,'preprocess_plot_preprocessing' : False\n",
    "    ,'evaluate_plot_results': False\n",
    "    ,'preprocess_verbosity' : 0\n",
    "}\n",
    "\n"
   ]
  },
  {
   "cell_type": "code",
   "execution_count": null,
   "metadata": {
    "ExecuteTime": {
     "end_time": "2018-12-15T13:31:56.607349Z",
     "start_time": "2018-12-15T12:06:25.255246Z"
    },
    "scrolled": true
   },
   "outputs": [],
   "source": [
    "trials = runSeurat(trialsFile, resultsFile, space, max_evals = 500);"
   ]
  },
  {
   "cell_type": "code",
   "execution_count": null,
   "metadata": {
    "ExecuteTime": {
     "end_time": "2018-12-15T13:33:30.108525Z",
     "start_time": "2018-12-15T13:33:30.093794Z"
    }
   },
   "outputs": [],
   "source": [
    "resultsDf = pd.read_pickle(resultsFile)\n",
    "display(resultsDf.sort_values(by='_rand_index', ascending = False).head(3))"
   ]
  },
  {
   "cell_type": "code",
   "execution_count": null,
   "metadata": {
    "ExecuteTime": {
     "end_time": "2018-12-15T13:34:00.274478Z",
     "start_time": "2018-12-15T13:33:59.647504Z"
    }
   },
   "outputs": [],
   "source": [
    "utils.plotCorrelation(resultsDf, name=dataset)"
   ]
  },
  {
   "cell_type": "code",
   "execution_count": null,
   "metadata": {},
   "outputs": [],
   "source": []
  },
  {
   "cell_type": "code",
   "execution_count": null,
   "metadata": {},
   "outputs": [],
   "source": []
  },
  {
   "cell_type": "markdown",
   "metadata": {},
   "source": [
    "# PancreaticIsletCIDR\n",
    "\n",
    "Run it once with all default parameters to get the parameter range"
   ]
  },
  {
   "cell_type": "code",
   "execution_count": null,
   "metadata": {},
   "outputs": [],
   "source": [
    "params = {}\n",
    "params['load_inputDataset'] = 'pancreaticIsletCIDR'\n",
    "params['preprocess_min_genes'] = 200\n",
    "params['preprocess_min_cells'] = 3\n",
    "# Define on the dataset\n",
    "params['preprocess_teta_total_features'] = -1\n",
    "params['preprocess_normalize_per_cell'] = True\n",
    "params['preprocess_filter_min_mean'] = 0.0125\n",
    "params['preprocess_filter_max_mean']=3\n",
    "params['preprocess_filter_min_disp']=0.5\n",
    "params['preprocess_regress_out']='total_counts'\n",
    "params['preprocess_scale']=10\n",
    "\n",
    "params['cluster_n_neighbors'] = 10\n",
    "params['cluster_n_pcs'] = 40\n",
    "params['cluster_plot_pca'] = True\n",
    "\n",
    "params['evaluate_plot_results'] = True\n",
    "seurat_utils.run(params);"
   ]
  },
  {
   "cell_type": "markdown",
   "metadata": {},
   "source": [
    "### Hyperopt input"
   ]
  },
  {
   "cell_type": "code",
   "execution_count": null,
   "metadata": {
    "ExecuteTime": {
     "end_time": "2018-12-15T13:35:38.401662Z",
     "start_time": "2018-12-15T13:35:38.379034Z"
    }
   },
   "outputs": [],
   "source": [
    "\n",
    "dataset = 'pancreaticIsletCIDR'\n",
    "\n",
    "trialsFile = f'{dataset}_{method}_trials.pkl'\n",
    "resultsFile = f'{dataset}_{method}_results.pkl'\n",
    "\n",
    "space = {\n",
    "    'load_inputDataset' : dataset\n",
    "    ,'bpreprocess_min_genes' : hp.choice('bpreprocess_min_genes', [True,False])\n",
    "    ,'preprocess_min_genes' : hp.quniform('preprocess_min_genes', 100, 500, 10)\n",
    "    \n",
    "    ,'bpreprocess_min_cells' : hp.choice('bpreprocess_min_cells', [True,False])\n",
    "    ,'preprocess_min_cells' : hp.quniform('preprocess_min_cells', 1, 20, 1)\n",
    "    \n",
    "    ,'bpreprocess_teta_total_features' : hp.choice('bpreprocess_teta_total_features', [True,False])\n",
    "    ,'preprocess_teta_total_features' : hp.quniform('preprocess_teta_total_features', 45000, 60000, 2000)\n",
    "\n",
    "    ,'preprocess_normalize_per_cell' : hp.choice('l_preprocess_normalize_per_cell', \n",
    "                                                 [True, False])\n",
    "\n",
    "    ,'bpreprocess_filter_min_mean' : hp.choice('bpreprocess_filter_min_mean', [True,False])\n",
    "    ,'preprocess_filter_min_mean' : hp.uniform('preprocess_filter_min_mean', 0, 0.2) # 0.0125\n",
    "    ,'preprocess_filter_max_mean' : hp.uniform('preprocess_filter_max_mean', 0, 5)\n",
    "    \n",
    "    ,'bpreprocess_filter_min_disp' : hp.choice('bpreprocess_filter_min_disp', [True,False])\n",
    "    ,'preprocess_filter_min_disp' : hp.uniform('preprocess_filter_min_disp', 0, 1)# 0.5\n",
    "    \n",
    "    ,'preprocess_regress_out' : hp.choice('l_preprocess_regress_out', ['none', 'total_counts'])\n",
    "    ,'preprocess_scale' : hp.choice('l_preprocess_scale', [-1, 5, 10, 15, 20]) #10\n",
    "    ,'cluster_n_neighbors' : hp.quniform('cluster_n_neighbors', 1, 20,1) #10\n",
    "    ,'cluster_n_pcs' : hp.quniform('cluster_n_pcs', 20, 50, 1)  # 40\n",
    "    ,'cluster_plot_pca' : False\n",
    "    ,'preprocess_plot_preprocessing' : False\n",
    "    ,'evaluate_plot_results': False\n",
    "    ,'preprocess_verbosity' : 0\n",
    "}\n"
   ]
  },
  {
   "cell_type": "code",
   "execution_count": null,
   "metadata": {
    "ExecuteTime": {
     "end_time": "2018-12-15T14:55:40.273813Z",
     "start_time": "2018-12-15T13:35:40.386500Z"
    },
    "scrolled": true
   },
   "outputs": [],
   "source": [
    "trials = runSeurat(trialsFile, resultsFile, space, max_evals = 500);"
   ]
  },
  {
   "cell_type": "code",
   "execution_count": null,
   "metadata": {},
   "outputs": [],
   "source": []
  },
  {
   "cell_type": "code",
   "execution_count": null,
   "metadata": {},
   "outputs": [],
   "source": []
  },
  {
   "cell_type": "markdown",
   "metadata": {},
   "source": [
    "# Deng\n",
    "\n",
    "Run it once with all default parameters to get the parameter range"
   ]
  },
  {
   "cell_type": "code",
   "execution_count": null,
   "metadata": {
    "ExecuteTime": {
     "end_time": "2018-12-15T15:06:44.762314Z",
     "start_time": "2018-12-15T15:06:41.572323Z"
    }
   },
   "outputs": [],
   "source": [
    "params = {}\n",
    "params['load_inputDataset'] = 'deng'\n",
    "params['preprocess_min_genes'] = 200\n",
    "params['preprocess_min_cells'] = 3\n",
    "# Define on the dataset\n",
    "params['preprocess_teta_total_features'] = -1\n",
    "params['preprocess_normalize_per_cell'] = True\n",
    "params['preprocess_filter_min_mean'] = 0.0125\n",
    "params['preprocess_filter_max_mean']=3\n",
    "params['preprocess_filter_min_disp']=0.5\n",
    "params['preprocess_regress_out']=None\n",
    "params['preprocess_scale']=10\n",
    "\n",
    "params['cluster_n_neighbors'] = 10\n",
    "params['cluster_n_pcs'] = 40\n",
    "params['cluster_plot_pca'] = False\n",
    "\n",
    "params['evaluate_plot_results'] = True\n",
    "seurat_utils.run(params)"
   ]
  },
  {
   "cell_type": "code",
   "execution_count": null,
   "metadata": {},
   "outputs": [],
   "source": []
  },
  {
   "cell_type": "markdown",
   "metadata": {},
   "source": [
    "### Hyperopt input"
   ]
  },
  {
   "cell_type": "code",
   "execution_count": null,
   "metadata": {
    "ExecuteTime": {
     "end_time": "2018-12-15T15:06:56.938460Z",
     "start_time": "2018-12-15T15:06:56.923826Z"
    }
   },
   "outputs": [],
   "source": [
    "dataset = 'deng'\n",
    "\n",
    "trialsFile = f'{dataset}_{method}_trials.pkl'\n",
    "resultsFile = f'{dataset}_{method}_results.pkl'\n",
    "\n",
    "space = {\n",
    "    'load_inputDataset' : dataset\n",
    "    ,'bpreprocess_min_genes' : hp.choice('bpreprocess_min_genes', [True,False])\n",
    "    ,'preprocess_min_genes' : hp.quniform('preprocess_min_genes', 100, 500, 10)\n",
    "    \n",
    "    ,'bpreprocess_min_cells' : hp.choice('bpreprocess_min_cells', [True,False])\n",
    "    ,'preprocess_min_cells' : hp.quniform('preprocess_min_cells', 1, 20, 1)\n",
    "    \n",
    "    ,'bpreprocess_teta_total_features' : hp.choice('bpreprocess_teta_total_features', [True,False])\n",
    "    ,'preprocess_teta_total_features' : hp.quniform('preprocess_teta_total_features', 10000, 15000, 500)\n",
    "\n",
    "    ,'preprocess_normalize_per_cell' : hp.choice('l_preprocess_normalize_per_cell', \n",
    "                                                 [True, False])\n",
    "\n",
    "    ,'bpreprocess_filter_min_mean' : hp.choice('bpreprocess_filter_min_mean', [True,False])\n",
    "    ,'preprocess_filter_min_mean' : hp.uniform('preprocess_filter_min_mean', 0, 0.2) # 0.0125\n",
    "    ,'preprocess_filter_max_mean' : hp.uniform('preprocess_filter_max_mean', 0, 5)\n",
    "    \n",
    "    ,'bpreprocess_filter_min_disp' : hp.choice('bpreprocess_filter_min_disp', [True,False])\n",
    "    ,'preprocess_filter_min_disp' : hp.uniform('preprocess_filter_min_disp', 0, 1)# 0.5\n",
    "    \n",
    "    ,'preprocess_regress_out' : hp.choice('l_preprocess_regress_out', ['none', 'total_counts'])\n",
    "    ,'preprocess_scale' : hp.choice('l_preprocess_scale', [-1, 5, 10, 15, 20]) #10\n",
    "    ,'cluster_n_neighbors' : hp.quniform('cluster_n_neighbors', 1, 20,1) #10\n",
    "    ,'cluster_n_pcs' : hp.quniform('cluster_n_pcs', 20, 50, 1)  # 40\n",
    "    ,'cluster_plot_pca' : False\n",
    "    ,'preprocess_plot_preprocessing' : False\n",
    "    ,'evaluate_plot_results': False\n",
    "    ,'preprocess_verbosity' : 0\n",
    "}\n",
    "\n"
   ]
  },
  {
   "cell_type": "code",
   "execution_count": null,
   "metadata": {
    "ExecuteTime": {
     "end_time": "2018-12-15T17:09:53.838726Z",
     "start_time": "2018-12-15T15:06:58.154688Z"
    },
    "scrolled": true
   },
   "outputs": [],
   "source": [
    "trials = runSeurat(trialsFile, resultsFile, space, max_evals = 500);"
   ]
  },
  {
   "cell_type": "code",
   "execution_count": null,
   "metadata": {
    "ExecuteTime": {
     "end_time": "2018-12-15T17:42:40.423306Z",
     "start_time": "2018-12-15T17:42:39.999126Z"
    }
   },
   "outputs": [],
   "source": [
    "resultsDf = pd.read_pickle(resultsFile)\n",
    "display(resultsDf.sort_values(by='_rand_index', ascending = False).head(3))\n",
    "utils.plotCorrelation(resultsDf, name=dataset)"
   ]
  },
  {
   "cell_type": "markdown",
   "metadata": {},
   "source": [
    "# sce10x_qc"
   ]
  },
  {
   "cell_type": "code",
   "execution_count": null,
   "metadata": {
    "ExecuteTime": {
     "end_time": "2018-12-15T18:54:44.960125Z",
     "start_time": "2018-12-15T18:54:32.940392Z"
    }
   },
   "outputs": [],
   "source": [
    "dataset = 'sce10x_qc'\n",
    "trialsFile = f'{dataset}_{method}_trials.pkl'\n",
    "resultsFile = f'{dataset}_{method}_results.pkl'\n",
    "\n",
    "params = {}\n",
    "params['load_inputDataset'] = dataset\n",
    "params['preprocess_min_genes'] = 200\n",
    "params['preprocess_min_cells'] = 3\n",
    "# Define on the dataset\n",
    "params['preprocess_teta_total_features'] = -1\n",
    "params['preprocess_normalize_per_cell'] = True\n",
    "params['preprocess_filter_min_mean'] = 0.0125\n",
    "params['preprocess_filter_max_mean']=3\n",
    "params['preprocess_filter_min_disp']=0.5\n",
    "params['preprocess_regress_out']='total_counts'\n",
    "params['preprocess_scale']=10\n",
    "\n",
    "params['cluster_n_neighbors'] = 10\n",
    "params['cluster_n_pcs'] = 40\n",
    "params['cluster_plot_pca'] = True\n",
    "\n",
    "params['evaluate_plot_results'] = True\n",
    "seurat_utils.run(params);"
   ]
  },
  {
   "cell_type": "code",
   "execution_count": null,
   "metadata": {},
   "outputs": [],
   "source": []
  },
  {
   "cell_type": "code",
   "execution_count": null,
   "metadata": {
    "ExecuteTime": {
     "end_time": "2018-12-15T19:47:01.292808Z",
     "start_time": "2018-12-15T18:54:45.004795Z"
    }
   },
   "outputs": [],
   "source": [
    "space = {\n",
    "    'load_inputDataset' : dataset\n",
    "    ,'bpreprocess_min_genes' : hp.choice('bpreprocess_min_genes', [True,False])\n",
    "    ,'preprocess_min_genes' : hp.quniform('preprocess_min_genes', 100, 500, 10)\n",
    "    \n",
    "    ,'bpreprocess_min_cells' : hp.choice('bpreprocess_min_cells', [True,False])\n",
    "    ,'preprocess_min_cells' : hp.quniform('preprocess_min_cells', 1, 20, 1)\n",
    "    \n",
    "    ,'bpreprocess_teta_total_features' : hp.choice('bpreprocess_teta_total_features', [True,False])\n",
    "    ,'preprocess_teta_total_features' : hp.quniform('preprocess_teta_total_features', 9000, 11500, 500)\n",
    "\n",
    "    ,'preprocess_normalize_per_cell' : hp.choice('l_preprocess_normalize_per_cell', \n",
    "                                                 [True, False])\n",
    "\n",
    "    ,'bpreprocess_filter_min_mean' : hp.choice('bpreprocess_filter_min_mean', [True,False])\n",
    "    ,'preprocess_filter_min_mean' : hp.uniform('preprocess_filter_min_mean', 0, 0.2) # 0.0125\n",
    "    ,'preprocess_filter_max_mean' : hp.uniform('preprocess_filter_max_mean', 0, 5)\n",
    "    \n",
    "    ,'bpreprocess_filter_min_disp' : hp.choice('bpreprocess_filter_min_disp', [True,False])\n",
    "    ,'preprocess_filter_min_disp' : hp.uniform('preprocess_filter_min_disp', 0, 1)# 0.5\n",
    "    \n",
    "    ,'preprocess_regress_out' : hp.choice('l_preprocess_regress_out', ['none', 'total_counts'])\n",
    "    ,'preprocess_scale' : hp.choice('l_preprocess_scale', [-1, 5, 10, 15, 20]) #10\n",
    "    ,'cluster_n_neighbors' : hp.quniform('cluster_n_neighbors', 1, 20,1) #10\n",
    "    ,'cluster_n_pcs' : hp.quniform('cluster_n_pcs', 20, 50, 1)  # 40\n",
    "    ,'cluster_plot_pca' : False\n",
    "    ,'preprocess_plot_preprocessing' : False\n",
    "    ,'evaluate_plot_results': False\n",
    "    ,'preprocess_verbosity' : 0\n",
    "}\n",
    "\n",
    "trials = runSeurat(trialsFile, resultsFile, space, max_evals = 500);"
   ]
  },
  {
   "cell_type": "code",
   "execution_count": null,
   "metadata": {
    "ExecuteTime": {
     "end_time": "2018-12-15T20:48:46.857536Z",
     "start_time": "2018-12-15T20:48:46.330627Z"
    }
   },
   "outputs": [],
   "source": [
    "resultsDf = pd.read_pickle(resultsFile)\n",
    "display(resultsDf.sort_values(by='_rand_index', ascending = False).head(3))\n",
    "utils.plotCorrelation(resultsDf, name=dataset)"
   ]
  },
  {
   "cell_type": "markdown",
   "metadata": {},
   "source": [
    "# sce2_qc"
   ]
  },
  {
   "cell_type": "code",
   "execution_count": null,
   "metadata": {
    "ExecuteTime": {
     "end_time": "2018-12-15T20:48:57.177127Z",
     "start_time": "2018-12-15T20:48:51.072439Z"
    }
   },
   "outputs": [],
   "source": [
    "dataset = 'sce2_qc'\n",
    "\n",
    "trialsFile = f'{dataset}_{method}_trials.pkl'\n",
    "resultsFile = f'{dataset}_{method}_results.pkl'\n",
    "\n",
    "params = {}\n",
    "params['load_inputDataset'] = dataset\n",
    "params['preprocess_min_genes'] = 200\n",
    "params['preprocess_min_cells'] = 3\n",
    "# Define on the dataset\n",
    "params['preprocess_teta_total_features'] = -1\n",
    "params['preprocess_normalize_per_cell'] = True\n",
    "params['preprocess_filter_min_mean'] = 0.0125\n",
    "params['preprocess_filter_max_mean']=3\n",
    "params['preprocess_filter_min_disp']=0.5\n",
    "params['preprocess_regress_out']='total_counts'\n",
    "params['preprocess_scale']=10\n",
    "\n",
    "params['cluster_n_neighbors'] = 10\n",
    "params['cluster_n_pcs'] = 40\n",
    "params['cluster_plot_pca'] = True\n",
    "\n",
    "params['evaluate_plot_results'] = True\n",
    "seurat_utils.run(params);"
   ]
  },
  {
   "cell_type": "code",
   "execution_count": null,
   "metadata": {
    "ExecuteTime": {
     "start_time": "2018-12-15T20:49:05.632Z"
    }
   },
   "outputs": [],
   "source": [
    "space = {\n",
    "    'load_inputDataset' : dataset\n",
    "    ,'bpreprocess_min_genes' : hp.choice('bpreprocess_min_genes', [True,False])\n",
    "    ,'preprocess_min_genes' : hp.quniform('preprocess_min_genes', 100, 500, 10)\n",
    "    \n",
    "    ,'bpreprocess_min_cells' : hp.choice('bpreprocess_min_cells', [True,False])\n",
    "    ,'preprocess_min_cells' : hp.quniform('preprocess_min_cells', 1, 20, 1)\n",
    "    \n",
    "    ,'bpreprocess_teta_total_features' : hp.choice('bpreprocess_teta_total_features', [True,False])\n",
    "    ,'preprocess_teta_total_features' : hp.quniform('preprocess_teta_total_features', 6000, 11000, 500)\n",
    "\n",
    "    ,'preprocess_normalize_per_cell' : hp.choice('l_preprocess_normalize_per_cell', \n",
    "                                                 [True, False])\n",
    "\n",
    "    ,'bpreprocess_filter_min_mean' : hp.choice('bpreprocess_filter_min_mean', [True,False])\n",
    "    ,'preprocess_filter_min_mean' : hp.uniform('preprocess_filter_min_mean', 0, 0.2) # 0.0125\n",
    "    ,'preprocess_filter_max_mean' : hp.uniform('preprocess_filter_max_mean', 0, 5)\n",
    "    \n",
    "    ,'bpreprocess_filter_min_disp' : hp.choice('bpreprocess_filter_min_disp', [True,False])\n",
    "    ,'preprocess_filter_min_disp' : hp.uniform('preprocess_filter_min_disp', 0, 1)# 0.5\n",
    "    \n",
    "    ,'preprocess_regress_out' : hp.choice('l_preprocess_regress_out', ['none', 'total_counts'])\n",
    "    ,'preprocess_scale' : hp.choice('l_preprocess_scale', [-1, 5, 10, 15, 20]) #10\n",
    "    ,'cluster_n_neighbors' : hp.quniform('cluster_n_neighbors', 1, 20,1) #10\n",
    "    ,'cluster_n_pcs' : hp.quniform('cluster_n_pcs', 20, 50, 1)  # 40\n",
    "    ,'cluster_plot_pca' : False\n",
    "    ,'preprocess_plot_preprocessing' : False\n",
    "    ,'evaluate_plot_results': False\n",
    "    ,'preprocess_verbosity' : 0\n",
    "}\n",
    "\n",
    "trials = runSeurat(trialsFile, resultsFile, space, max_evals = 500);"
   ]
  },
  {
   "cell_type": "code",
   "execution_count": null,
   "metadata": {
    "ExecuteTime": {
     "start_time": "2018-12-15T20:49:06.711Z"
    }
   },
   "outputs": [],
   "source": [
    "resultsDf = pd.read_pickle(resultsFile)\n",
    "display(resultsDf.sort_values(by='_rand_index', ascending = False).head(3))\n",
    "utils.plotCorrelation(resultsDf, name=dataset)"
   ]
  },
  {
   "cell_type": "markdown",
   "metadata": {},
   "source": [
    "# sce8_qc"
   ]
  },
  {
   "cell_type": "code",
   "execution_count": 6,
   "metadata": {
    "ExecuteTime": {
     "end_time": "2018-12-15T22:16:50.464449Z",
     "start_time": "2018-12-15T22:16:39.709028Z"
    }
   },
   "outputs": [
    {
     "name": "stdout",
     "output_type": "stream",
     "text": [
      "... reading from cache file ./cache/input-cellBench-sce8_qc-matrix.h5ad\n",
      "Loading dataset sce8_qc with 15571 genes and 296 cells\n"
     ]
    },
    {
     "data": {
      "image/png": "[encoded data removed]",
      "text/plain": [
       "<Figure size 327.28x320 with 1 Axes>"
      ]
     },
     "metadata": {
      "image/png": {
       "height": 306,
       "width": 319
      }
     },
     "output_type": "display_data"
    },
    {
     "name": "stdout",
     "output_type": "stream",
     "text": [
      "Filtering Counter({False: 11500, True: 4071})\n"
     ]
    },
    {
     "data": {
      "image/png": "[encoded data removed]",
      "text/plain": [
       "<Figure size 640x320 with 2 Axes>"
      ]
     },
     "metadata": {
      "image/png": {
       "height": 325,
       "width": 566
      }
     },
     "output_type": "display_data"
    },
    {
     "name": "stdout",
     "output_type": "stream",
     "text": [
      "Keeping 4071 genes\n",
      "regressing out ['total_counts']\n",
      "    sparse input is densified and may lead to high memory use\n",
      "    finished (0:00:04.42)\n"
     ]
    },
    {
     "data": {
      "image/png": "[encoded data removed]",
      "text/plain": [
       "<Figure size 320x320 with 1 Axes>"
      ]
     },
     "metadata": {
      "image/png": {
       "height": 279,
       "width": 286
      }
     },
     "output_type": "display_data"
    },
    {
     "data": {
      "image/png": "[encoded data removed]",
      "text/plain": [
       "<Figure size 320x320 with 1 Axes>"
      ]
     },
     "metadata": {
      "image/png": {
       "height": 321,
       "width": 302
      }
     },
     "output_type": "display_data"
    },
    {
     "name": "stdout",
     "output_type": "stream",
     "text": [
      "computing neighbors\n",
      "    using 'X_pca' with n_pcs = 40\n",
      "    finished (0:00:01.86) --> added to `.uns['neighbors']`\n",
      "    'distances', weighted adjacency matrix\n",
      "    'connectivities', weighted adjacency matrix\n",
      "computing UMAP\n",
      "    finished (0:00:01.08) --> added\n",
      "    'X_umap', UMAP coordinates (adata.obsm)\n",
      "running Louvain clustering\n",
      "    using the \"louvain\" package of Traag (2017)\n",
      "    finished (0:00:00.00) --> found 9 clusters and added\n",
      "    'louvain', the cluster labels (adata.obs, categorical)\n"
     ]
    },
    {
     "name": "stderr",
     "output_type": "stream",
     "text": [
      "/opt/anaconda3/envs/astrohack/lib/python3.6/site-packages/sklearn/metrics/cluster/supervised.py:732: FutureWarning: The behavior of AMI will change in version 0.22. To match the behavior of 'v_measure_score', AMI will use average_method='arithmetic' by default.\n",
      "  FutureWarning)\n",
      "/opt/anaconda3/envs/astrohack/lib/python3.6/site-packages/sklearn/metrics/cluster/unsupervised.py:342: RuntimeWarning: divide by zero encountered in true_divide\n",
      "  score = (intra_dists[:, None] + intra_dists) / centroid_distances\n"
     ]
    }
   ],
   "source": [
    "dataset = 'sce8_qc'\n",
    "\n",
    "trialsFile = f'{dataset}_{method}_trials.pkl'\n",
    "resultsFile = f'{dataset}_{method}_results.pkl'\n",
    "\n",
    "params = {}\n",
    "params['load_inputDataset'] = dataset\n",
    "params['preprocess_min_genes'] = 200\n",
    "params['preprocess_min_cells'] = 3\n",
    "# Define on the dataset\n",
    "params['preprocess_teta_total_features'] = -1\n",
    "params['preprocess_normalize_per_cell'] = True\n",
    "params['preprocess_filter_min_mean'] = 0.0125\n",
    "params['preprocess_filter_max_mean']=3\n",
    "params['preprocess_filter_min_disp']=0.5\n",
    "params['preprocess_regress_out']='total_counts'\n",
    "params['preprocess_scale']=10\n",
    "\n",
    "params['cluster_n_neighbors'] = 10\n",
    "params['cluster_n_pcs'] = 40\n",
    "params['cluster_plot_pca'] = True\n",
    "\n",
    "params['evaluate_plot_results'] = True\n",
    "seurat_utils.run(params);"
   ]
  },
  {
   "cell_type": "code",
   "execution_count": null,
   "metadata": {
    "ExecuteTime": {
     "start_time": "2018-12-15T22:16:41.342Z"
    }
   },
   "outputs": [
    {
     "name": "stdout",
     "output_type": "stream",
     "text": [
      "Creating new trials...\n",
      "... reading from cache file ./cache/input-cellBench-sce8_qc-matrix.h5ad\n",
      "Loading dataset sce8_qc with 15571 genes and 296 cells\n",
      "computing neighbors\n",
      "    using 'X_pca' with n_pcs = 40\n",
      "    finished (0:00:00.05) --> added to `.uns['neighbors']`\n",
      "    'distances', weighted adjacency matrix\n",
      "    'connectivities', weighted adjacency matrix\n",
      "computing UMAP\n",
      "    finished (0:00:00.35) --> added\n",
      "    'X_umap', UMAP coordinates (adata.obsm)\n",
      "running Louvain clustering\n",
      "    using the \"louvain\" package of Traag (2017)\n",
      "    finished (0:00:00.00) --> found 10 clusters and added\n",
      "    'louvain', the cluster labels (adata.obs, categorical)\n",
      ">> Result: 0.06713755832528419\n",
      "... reading from cache file ./cache/input-cellBench-sce8_qc-matrix.h5ad\n"
     ]
    },
    {
     "name": "stderr",
     "output_type": "stream",
     "text": [
      "/opt/anaconda3/envs/astrohack/lib/python3.6/site-packages/sklearn/metrics/cluster/supervised.py:732: FutureWarning: The behavior of AMI will change in version 0.22. To match the behavior of 'v_measure_score', AMI will use average_method='arithmetic' by default.\n",
      "  FutureWarning)\n",
      "/opt/anaconda3/envs/astrohack/lib/python3.6/site-packages/sklearn/metrics/cluster/unsupervised.py:342: RuntimeWarning: divide by zero encountered in true_divide\n",
      "  score = (intra_dists[:, None] + intra_dists) / centroid_distances\n"
     ]
    },
    {
     "name": "stdout",
     "output_type": "stream",
     "text": [
      "Loading dataset sce8_qc with 15571 genes and 296 cells\n",
      "computing neighbors\n",
      "    using 'X_pca' with n_pcs = 28\n",
      "    finished (0:00:00.03) --> added to `.uns['neighbors']`\n",
      "    'distances', weighted adjacency matrix\n",
      "    'connectivities', weighted adjacency matrix\n",
      "computing UMAP\n",
      "    finished (0:00:00.18) --> added\n",
      "    'X_umap', UMAP coordinates (adata.obsm)\n",
      "running Louvain clustering\n",
      "    using the \"louvain\" package of Traag (2017)\n",
      "    finished (0:00:00.00) --> found 19 clusters and added\n",
      "    'louvain', the cluster labels (adata.obs, categorical)\n",
      ">> Result: 0.09512895784277192\n",
      "... reading from cache file ./cache/input-cellBench-sce8_qc-matrix.h5ad\n"
     ]
    },
    {
     "name": "stderr",
     "output_type": "stream",
     "text": [
      "/opt/anaconda3/envs/astrohack/lib/python3.6/site-packages/sklearn/metrics/cluster/supervised.py:732: FutureWarning: The behavior of AMI will change in version 0.22. To match the behavior of 'v_measure_score', AMI will use average_method='arithmetic' by default.\n",
      "  FutureWarning)\n",
      "/opt/anaconda3/envs/astrohack/lib/python3.6/site-packages/sklearn/metrics/cluster/unsupervised.py:342: RuntimeWarning: divide by zero encountered in true_divide\n",
      "  score = (intra_dists[:, None] + intra_dists) / centroid_distances\n"
     ]
    },
    {
     "name": "stdout",
     "output_type": "stream",
     "text": [
      "Loading dataset sce8_qc with 15571 genes and 296 cells\n",
      "regressing out ['total_counts']\n",
      "    sparse input is densified and may lead to high memory use\n",
      "    finished (0:00:16.75)\n",
      "computing neighbors\n",
      "    using 'X_pca' with n_pcs = 22\n",
      "    finished (0:00:00.06) --> added to `.uns['neighbors']`\n",
      "    'distances', weighted adjacency matrix\n",
      "    'connectivities', weighted adjacency matrix\n",
      "computing UMAP\n",
      "    finished (0:00:00.40) --> added\n",
      "    'X_umap', UMAP coordinates (adata.obsm)\n",
      "running Louvain clustering\n",
      "    using the \"louvain\" package of Traag (2017)\n",
      "    finished (0:00:00.00) --> found 8 clusters and added\n",
      "    'louvain', the cluster labels (adata.obs, categorical)\n",
      ">> Result: 0.07949074545419767\n",
      "... reading from cache file ./cache/input-cellBench-sce8_qc-matrix.h5ad\n"
     ]
    },
    {
     "name": "stderr",
     "output_type": "stream",
     "text": [
      "/opt/anaconda3/envs/astrohack/lib/python3.6/site-packages/sklearn/metrics/cluster/supervised.py:732: FutureWarning: The behavior of AMI will change in version 0.22. To match the behavior of 'v_measure_score', AMI will use average_method='arithmetic' by default.\n",
      "  FutureWarning)\n",
      "/opt/anaconda3/envs/astrohack/lib/python3.6/site-packages/sklearn/metrics/cluster/unsupervised.py:342: RuntimeWarning: divide by zero encountered in true_divide\n",
      "  score = (intra_dists[:, None] + intra_dists) / centroid_distances\n"
     ]
    },
    {
     "name": "stdout",
     "output_type": "stream",
     "text": [
      "Loading dataset sce8_qc with 15571 genes and 296 cells\n",
      "regressing out ['total_counts']\n",
      "    sparse input is densified and may lead to high memory use\n",
      "    finished (0:00:02.60)\n",
      "computing neighbors\n",
      "    using 'X_pca' with n_pcs = 37\n",
      "    finished (0:00:00.08) --> added to `.uns['neighbors']`\n",
      "    'distances', weighted adjacency matrix\n",
      "    'connectivities', weighted adjacency matrix\n",
      "computing UMAP\n",
      "    finished (0:00:00.49) --> added\n",
      "    'X_umap', UMAP coordinates (adata.obsm)\n",
      "running Louvain clustering\n",
      "    using the \"louvain\" package of Traag (2017)\n",
      "    finished (0:00:00.00) --> found 5 clusters and added\n",
      "    'louvain', the cluster labels (adata.obs, categorical)\n",
      ">> Result: 0.03705199027500988\n",
      "... reading from cache file ./cache/input-cellBench-sce8_qc-matrix.h5ad\n"
     ]
    },
    {
     "name": "stderr",
     "output_type": "stream",
     "text": [
      "/opt/anaconda3/envs/astrohack/lib/python3.6/site-packages/sklearn/metrics/cluster/supervised.py:732: FutureWarning: The behavior of AMI will change in version 0.22. To match the behavior of 'v_measure_score', AMI will use average_method='arithmetic' by default.\n",
      "  FutureWarning)\n",
      "/opt/anaconda3/envs/astrohack/lib/python3.6/site-packages/sklearn/metrics/cluster/unsupervised.py:342: RuntimeWarning: divide by zero encountered in true_divide\n",
      "  score = (intra_dists[:, None] + intra_dists) / centroid_distances\n"
     ]
    },
    {
     "name": "stdout",
     "output_type": "stream",
     "text": [
      "Loading dataset sce8_qc with 15571 genes and 296 cells\n",
      "regressing out ['total_counts']\n",
      "    sparse input is densified and may lead to high memory use\n",
      "    finished (0:00:17.40)\n",
      "computing neighbors\n",
      "    using 'X_pca' with n_pcs = 45\n",
      "    finished (0:00:00.08) --> added to `.uns['neighbors']`\n",
      "    'distances', weighted adjacency matrix\n",
      "    'connectivities', weighted adjacency matrix\n",
      "computing UMAP\n",
      "    finished (0:00:00.56) --> added\n",
      "    'X_umap', UMAP coordinates (adata.obsm)\n",
      "running Louvain clustering\n",
      "    using the \"louvain\" package of Traag (2017)\n",
      "    finished (0:00:00.01) --> found 5 clusters and added\n",
      "    'louvain', the cluster labels (adata.obs, categorical)\n",
      ">> Result: 0.38773675932977025\n",
      "... reading from cache file ./cache/input-cellBench-sce8_qc-matrix.h5ad\n"
     ]
    },
    {
     "name": "stderr",
     "output_type": "stream",
     "text": [
      "/opt/anaconda3/envs/astrohack/lib/python3.6/site-packages/sklearn/metrics/cluster/supervised.py:732: FutureWarning: The behavior of AMI will change in version 0.22. To match the behavior of 'v_measure_score', AMI will use average_method='arithmetic' by default.\n",
      "  FutureWarning)\n",
      "/opt/anaconda3/envs/astrohack/lib/python3.6/site-packages/sklearn/metrics/cluster/unsupervised.py:342: RuntimeWarning: divide by zero encountered in true_divide\n",
      "  score = (intra_dists[:, None] + intra_dists) / centroid_distances\n"
     ]
    },
    {
     "name": "stdout",
     "output_type": "stream",
     "text": [
      "Loading dataset sce8_qc with 15571 genes and 296 cells\n",
      "computing neighbors\n",
      "    using 'X_pca' with n_pcs = 22\n",
      "    finished (0:00:00.04) --> added to `.uns['neighbors']`\n",
      "    'distances', weighted adjacency matrix\n",
      "    'connectivities', weighted adjacency matrix\n",
      "computing UMAP\n",
      "    finished (0:00:00.33) --> added\n",
      "    'X_umap', UMAP coordinates (adata.obsm)\n",
      "running Louvain clustering\n",
      "    using the \"louvain\" package of Traag (2017)\n",
      "    finished (0:00:00.00) --> found 11 clusters and added\n",
      "    'louvain', the cluster labels (adata.obs, categorical)\n",
      ">> Result: 0.07146700212801949\n",
      "... reading from cache file ./cache/input-cellBench-sce8_qc-matrix.h5ad\n"
     ]
    },
    {
     "name": "stderr",
     "output_type": "stream",
     "text": [
      "/opt/anaconda3/envs/astrohack/lib/python3.6/site-packages/sklearn/metrics/cluster/supervised.py:732: FutureWarning: The behavior of AMI will change in version 0.22. To match the behavior of 'v_measure_score', AMI will use average_method='arithmetic' by default.\n",
      "  FutureWarning)\n",
      "/opt/anaconda3/envs/astrohack/lib/python3.6/site-packages/sklearn/metrics/cluster/unsupervised.py:342: RuntimeWarning: divide by zero encountered in true_divide\n",
      "  score = (intra_dists[:, None] + intra_dists) / centroid_distances\n"
     ]
    },
    {
     "name": "stdout",
     "output_type": "stream",
     "text": [
      "Loading dataset sce8_qc with 15571 genes and 296 cells\n",
      "regressing out ['total_counts']\n",
      "    sparse input is densified and may lead to high memory use\n",
      "    finished (0:00:16.63)\n",
      "computing neighbors\n",
      "    using 'X_pca' with n_pcs = 43\n",
      "    finished (0:00:00.06) --> added to `.uns['neighbors']`\n",
      "    'distances', weighted adjacency matrix\n",
      "    'connectivities', weighted adjacency matrix\n",
      "computing UMAP\n",
      "    finished (0:00:00.40) --> added\n",
      "    'X_umap', UMAP coordinates (adata.obsm)\n",
      "running Louvain clustering\n",
      "    using the \"louvain\" package of Traag (2017)\n",
      "    finished (0:00:00.00) --> found 8 clusters and added\n",
      "    'louvain', the cluster labels (adata.obs, categorical)\n",
      ">> Result: 0.5295129488685464\n",
      "... reading from cache file ./cache/input-cellBench-sce8_qc-matrix.h5ad\n"
     ]
    },
    {
     "name": "stderr",
     "output_type": "stream",
     "text": [
      "/opt/anaconda3/envs/astrohack/lib/python3.6/site-packages/sklearn/metrics/cluster/supervised.py:732: FutureWarning: The behavior of AMI will change in version 0.22. To match the behavior of 'v_measure_score', AMI will use average_method='arithmetic' by default.\n",
      "  FutureWarning)\n",
      "/opt/anaconda3/envs/astrohack/lib/python3.6/site-packages/sklearn/metrics/cluster/unsupervised.py:342: RuntimeWarning: divide by zero encountered in true_divide\n",
      "  score = (intra_dists[:, None] + intra_dists) / centroid_distances\n"
     ]
    },
    {
     "name": "stdout",
     "output_type": "stream",
     "text": [
      "Loading dataset sce8_qc with 15571 genes and 296 cells\n",
      "regressing out ['total_counts']\n",
      "    sparse input is densified and may lead to high memory use\n",
      "    finished (0:00:16.81)\n",
      "computing neighbors\n",
      "    using 'X_pca' with n_pcs = 38\n",
      "    finished (0:00:00.07) --> added to `.uns['neighbors']`\n",
      "    'distances', weighted adjacency matrix\n",
      "    'connectivities', weighted adjacency matrix\n",
      "computing UMAP\n",
      "    finished (0:00:00.53) --> added\n",
      "    'X_umap', UMAP coordinates (adata.obsm)\n",
      "running Louvain clustering\n",
      "    using the \"louvain\" package of Traag (2017)\n",
      "    finished (0:00:00.00) --> found 6 clusters and added\n",
      "    'louvain', the cluster labels (adata.obs, categorical)\n",
      ">> Result: 0.4924635128353041\n",
      "... reading from cache file ./cache/input-cellBench-sce8_qc-matrix.h5ad\n"
     ]
    },
    {
     "name": "stderr",
     "output_type": "stream",
     "text": [
      "/opt/anaconda3/envs/astrohack/lib/python3.6/site-packages/sklearn/metrics/cluster/supervised.py:732: FutureWarning: The behavior of AMI will change in version 0.22. To match the behavior of 'v_measure_score', AMI will use average_method='arithmetic' by default.\n",
      "  FutureWarning)\n",
      "/opt/anaconda3/envs/astrohack/lib/python3.6/site-packages/sklearn/metrics/cluster/unsupervised.py:342: RuntimeWarning: divide by zero encountered in true_divide\n",
      "  score = (intra_dists[:, None] + intra_dists) / centroid_distances\n"
     ]
    },
    {
     "name": "stdout",
     "output_type": "stream",
     "text": [
      "Loading dataset sce8_qc with 15571 genes and 296 cells\n",
      "regressing out ['total_counts']\n",
      "    sparse input is densified and may lead to high memory use\n",
      "    finished (0:00:16.69)\n",
      "computing neighbors\n",
      "    using 'X_pca' with n_pcs = 36\n",
      "    finished (0:00:00.08) --> added to `.uns['neighbors']`\n",
      "    'distances', weighted adjacency matrix\n",
      "    'connectivities', weighted adjacency matrix\n",
      "computing UMAP\n",
      "    finished (0:00:00.50) --> added\n",
      "    'X_umap', UMAP coordinates (adata.obsm)\n",
      "running Louvain clustering\n",
      "    using the \"louvain\" package of Traag (2017)\n",
      "    finished (0:00:00.01) --> found 5 clusters and added\n",
      "    'louvain', the cluster labels (adata.obs, categorical)\n",
      ">> Result: 0.03016937589651892\n",
      "... reading from cache file ./cache/input-cellBench-sce8_qc-matrix.h5ad\n"
     ]
    },
    {
     "name": "stderr",
     "output_type": "stream",
     "text": [
      "/opt/anaconda3/envs/astrohack/lib/python3.6/site-packages/sklearn/metrics/cluster/supervised.py:732: FutureWarning: The behavior of AMI will change in version 0.22. To match the behavior of 'v_measure_score', AMI will use average_method='arithmetic' by default.\n",
      "  FutureWarning)\n",
      "/opt/anaconda3/envs/astrohack/lib/python3.6/site-packages/sklearn/metrics/cluster/unsupervised.py:342: RuntimeWarning: divide by zero encountered in true_divide\n",
      "  score = (intra_dists[:, None] + intra_dists) / centroid_distances\n"
     ]
    },
    {
     "name": "stdout",
     "output_type": "stream",
     "text": [
      "Loading dataset sce8_qc with 15571 genes and 296 cells\n",
      "filtered out 1100 genes that are detected in less than 13.0 cells\n",
      "computing neighbors\n",
      "    using 'X_pca' with n_pcs = 42\n",
      "    finished (0:00:00.06) --> added to `.uns['neighbors']`\n",
      "    'distances', weighted adjacency matrix\n",
      "    'connectivities', weighted adjacency matrix\n",
      "computing UMAP\n",
      "    finished (0:00:00.42) --> added\n",
      "    'X_umap', UMAP coordinates (adata.obsm)\n",
      "running Louvain clustering\n",
      "    using the \"louvain\" package of Traag (2017)\n",
      "    finished (0:00:00.00) --> found 8 clusters and added\n",
      "    'louvain', the cluster labels (adata.obs, categorical)\n",
      ">> Result: 0.7526525327709738\n",
      "Index  0\n",
      "... reading from cache file ./cache/input-cellBench-sce8_qc-matrix.h5ad\n"
     ]
    },
    {
     "name": "stderr",
     "output_type": "stream",
     "text": [
      "/opt/anaconda3/envs/astrohack/lib/python3.6/site-packages/sklearn/metrics/cluster/supervised.py:732: FutureWarning: The behavior of AMI will change in version 0.22. To match the behavior of 'v_measure_score', AMI will use average_method='arithmetic' by default.\n",
      "  FutureWarning)\n",
      "/opt/anaconda3/envs/astrohack/lib/python3.6/site-packages/sklearn/metrics/cluster/unsupervised.py:342: RuntimeWarning: divide by zero encountered in true_divide\n",
      "  score = (intra_dists[:, None] + intra_dists) / centroid_distances\n"
     ]
    },
    {
     "name": "stdout",
     "output_type": "stream",
     "text": [
      "Loading dataset sce8_qc with 15571 genes and 296 cells\n",
      "computing neighbors\n",
      "    using 'X_pca' with n_pcs = 34\n",
      "    finished (0:00:00.04) --> added to `.uns['neighbors']`\n",
      "    'distances', weighted adjacency matrix\n",
      "    'connectivities', weighted adjacency matrix\n",
      "computing UMAP\n",
      "    finished (0:00:00.31) --> added\n",
      "    'X_umap', UMAP coordinates (adata.obsm)\n",
      "running Louvain clustering\n",
      "    using the \"louvain\" package of Traag (2017)\n",
      "    finished (0:00:00.00) --> found 11 clusters and added\n",
      "    'louvain', the cluster labels (adata.obs, categorical)\n",
      ">> Result: 0.0682906624857144\n",
      "... reading from cache file ./cache/input-cellBench-sce8_qc-matrix.h5ad\n"
     ]
    },
    {
     "name": "stderr",
     "output_type": "stream",
     "text": [
      "/opt/anaconda3/envs/astrohack/lib/python3.6/site-packages/sklearn/metrics/cluster/supervised.py:732: FutureWarning: The behavior of AMI will change in version 0.22. To match the behavior of 'v_measure_score', AMI will use average_method='arithmetic' by default.\n",
      "  FutureWarning)\n",
      "/opt/anaconda3/envs/astrohack/lib/python3.6/site-packages/sklearn/metrics/cluster/unsupervised.py:342: RuntimeWarning: divide by zero encountered in true_divide\n",
      "  score = (intra_dists[:, None] + intra_dists) / centroid_distances\n"
     ]
    },
    {
     "name": "stdout",
     "output_type": "stream",
     "text": [
      "Loading dataset sce8_qc with 15571 genes and 296 cells\n",
      "regressing out ['total_counts']\n",
      "    sparse input is densified and may lead to high memory use\n",
      "    finished (0:00:16.71)\n",
      "computing neighbors\n",
      "    using 'X_pca' with n_pcs = 30\n",
      "    finished (0:00:00.04) --> added to `.uns['neighbors']`\n",
      "    'distances', weighted adjacency matrix\n",
      "    'connectivities', weighted adjacency matrix\n",
      "computing UMAP\n",
      "    finished (0:00:00.26) --> added\n",
      "    'X_umap', UMAP coordinates (adata.obsm)\n",
      "running Louvain clustering\n",
      "    using the \"louvain\" package of Traag (2017)\n",
      "    finished (0:00:00.00) --> found 9 clusters and added\n",
      "    'louvain', the cluster labels (adata.obs, categorical)\n",
      ">> Result: 0.7496082803883133\n",
      "... reading from cache file ./cache/input-cellBench-sce8_qc-matrix.h5ad\n"
     ]
    },
    {
     "name": "stderr",
     "output_type": "stream",
     "text": [
      "/opt/anaconda3/envs/astrohack/lib/python3.6/site-packages/sklearn/metrics/cluster/supervised.py:732: FutureWarning: The behavior of AMI will change in version 0.22. To match the behavior of 'v_measure_score', AMI will use average_method='arithmetic' by default.\n",
      "  FutureWarning)\n",
      "/opt/anaconda3/envs/astrohack/lib/python3.6/site-packages/sklearn/metrics/cluster/unsupervised.py:342: RuntimeWarning: divide by zero encountered in true_divide\n",
      "  score = (intra_dists[:, None] + intra_dists) / centroid_distances\n"
     ]
    },
    {
     "name": "stdout",
     "output_type": "stream",
     "text": [
      "Loading dataset sce8_qc with 15571 genes and 296 cells\n",
      "regressing out ['total_counts']\n",
      "    sparse input is densified and may lead to high memory use\n",
      "    finished (0:00:16.91)\n",
      "computing neighbors\n",
      "    using 'X_pca' with n_pcs = 45\n",
      "    finished (0:00:00.07) --> added to `.uns['neighbors']`\n",
      "    'distances', weighted adjacency matrix\n",
      "    'connectivities', weighted adjacency matrix\n",
      "computing UMAP\n",
      "    finished (0:00:00.42) --> added\n",
      "    'X_umap', UMAP coordinates (adata.obsm)\n",
      "running Louvain clustering\n",
      "    using the \"louvain\" package of Traag (2017)\n",
      "    finished (0:00:00.00) --> found 7 clusters and added\n",
      "    'louvain', the cluster labels (adata.obs, categorical)\n",
      ">> Result: 0.06483064500669672\n",
      "... reading from cache file ./cache/input-cellBench-sce8_qc-matrix.h5ad\n"
     ]
    },
    {
     "name": "stderr",
     "output_type": "stream",
     "text": [
      "/opt/anaconda3/envs/astrohack/lib/python3.6/site-packages/sklearn/metrics/cluster/supervised.py:732: FutureWarning: The behavior of AMI will change in version 0.22. To match the behavior of 'v_measure_score', AMI will use average_method='arithmetic' by default.\n",
      "  FutureWarning)\n",
      "/opt/anaconda3/envs/astrohack/lib/python3.6/site-packages/sklearn/metrics/cluster/unsupervised.py:342: RuntimeWarning: divide by zero encountered in true_divide\n",
      "  score = (intra_dists[:, None] + intra_dists) / centroid_distances\n"
     ]
    },
    {
     "name": "stdout",
     "output_type": "stream",
     "text": [
      "Loading dataset sce8_qc with 15571 genes and 296 cells\n",
      "computing neighbors\n",
      "    using 'X_pca' with n_pcs = 45\n",
      "    finished (0:00:00.03) --> added to `.uns['neighbors']`\n",
      "    'distances', weighted adjacency matrix\n",
      "    'connectivities', weighted adjacency matrix\n",
      "computing UMAP\n",
      "    finished (0:00:00.20) --> added\n",
      "    'X_umap', UMAP coordinates (adata.obsm)\n",
      "running Louvain clustering\n",
      "    using the \"louvain\" package of Traag (2017)\n",
      "    finished (0:00:00.00) --> found 17 clusters and added\n",
      "    'louvain', the cluster labels (adata.obs, categorical)\n",
      ">> Result: 0.25617229993853563\n",
      "... reading from cache file ./cache/input-cellBench-sce8_qc-matrix.h5ad\n"
     ]
    },
    {
     "name": "stderr",
     "output_type": "stream",
     "text": [
      "/opt/anaconda3/envs/astrohack/lib/python3.6/site-packages/sklearn/metrics/cluster/supervised.py:732: FutureWarning: The behavior of AMI will change in version 0.22. To match the behavior of 'v_measure_score', AMI will use average_method='arithmetic' by default.\n",
      "  FutureWarning)\n",
      "/opt/anaconda3/envs/astrohack/lib/python3.6/site-packages/sklearn/metrics/cluster/unsupervised.py:342: RuntimeWarning: divide by zero encountered in true_divide\n",
      "  score = (intra_dists[:, None] + intra_dists) / centroid_distances\n"
     ]
    },
    {
     "name": "stdout",
     "output_type": "stream",
     "text": [
      "Loading dataset sce8_qc with 15571 genes and 296 cells\n",
      "regressing out ['total_counts']\n",
      "    sparse input is densified and may lead to high memory use\n",
      "    finished (0:00:02.23)\n",
      "computing neighbors\n",
      "    using 'X_pca' with n_pcs = 30\n",
      "    finished (0:00:00.07) --> added to `.uns['neighbors']`\n",
      "    'distances', weighted adjacency matrix\n",
      "    'connectivities', weighted adjacency matrix\n",
      "computing UMAP\n",
      "    finished (0:00:00.49) --> added\n",
      "    'X_umap', UMAP coordinates (adata.obsm)\n",
      "running Louvain clustering\n",
      "    using the \"louvain\" package of Traag (2017)\n",
      "    finished (0:00:00.01) --> found 5 clusters and added\n",
      "    'louvain', the cluster labels (adata.obs, categorical)\n",
      ">> Result: 0.03705199027500988\n",
      "... reading from cache file ./cache/input-cellBench-sce8_qc-matrix.h5ad\n"
     ]
    },
    {
     "name": "stderr",
     "output_type": "stream",
     "text": [
      "/opt/anaconda3/envs/astrohack/lib/python3.6/site-packages/sklearn/metrics/cluster/supervised.py:732: FutureWarning: The behavior of AMI will change in version 0.22. To match the behavior of 'v_measure_score', AMI will use average_method='arithmetic' by default.\n",
      "  FutureWarning)\n",
      "/opt/anaconda3/envs/astrohack/lib/python3.6/site-packages/sklearn/metrics/cluster/unsupervised.py:342: RuntimeWarning: divide by zero encountered in true_divide\n",
      "  score = (intra_dists[:, None] + intra_dists) / centroid_distances\n"
     ]
    },
    {
     "name": "stdout",
     "output_type": "stream",
     "text": [
      "Loading dataset sce8_qc with 15571 genes and 296 cells\n",
      "regressing out ['total_counts']\n",
      "    sparse input is densified and may lead to high memory use\n",
      "    finished (0:00:17.15)\n",
      "computing neighbors\n",
      "    using 'X_pca' with n_pcs = 50\n",
      "    finished (0:00:00.07) --> added to `.uns['neighbors']`\n",
      "    'distances', weighted adjacency matrix\n",
      "    'connectivities', weighted adjacency matrix\n",
      "computing UMAP\n",
      "    finished (0:00:00.41) --> added\n",
      "    'X_umap', UMAP coordinates (adata.obsm)\n",
      "running Louvain clustering\n",
      "    using the \"louvain\" package of Traag (2017)\n",
      "    finished (0:00:00.00) --> found 8 clusters and added\n",
      "    'louvain', the cluster labels (adata.obs, categorical)\n",
      ">> Result: 0.06339557576206205\n",
      "... reading from cache file ./cache/input-cellBench-sce8_qc-matrix.h5ad\n"
     ]
    },
    {
     "name": "stderr",
     "output_type": "stream",
     "text": [
      "/opt/anaconda3/envs/astrohack/lib/python3.6/site-packages/sklearn/metrics/cluster/supervised.py:732: FutureWarning: The behavior of AMI will change in version 0.22. To match the behavior of 'v_measure_score', AMI will use average_method='arithmetic' by default.\n",
      "  FutureWarning)\n",
      "/opt/anaconda3/envs/astrohack/lib/python3.6/site-packages/sklearn/metrics/cluster/unsupervised.py:342: RuntimeWarning: divide by zero encountered in true_divide\n",
      "  score = (intra_dists[:, None] + intra_dists) / centroid_distances\n"
     ]
    },
    {
     "name": "stdout",
     "output_type": "stream",
     "text": [
      "Loading dataset sce8_qc with 15571 genes and 296 cells\n",
      "computing neighbors\n",
      "    using 'X_pca' with n_pcs = 29\n",
      "    finished (0:00:00.04) --> added to `.uns['neighbors']`\n",
      "    'distances', weighted adjacency matrix\n",
      "    'connectivities', weighted adjacency matrix\n",
      "computing UMAP\n",
      "    finished (0:00:00.22) --> added\n",
      "    'X_umap', UMAP coordinates (adata.obsm)\n",
      "running Louvain clustering\n",
      "    using the \"louvain\" package of Traag (2017)\n",
      "    finished (0:00:00.00) --> found 16 clusters and added\n",
      "    'louvain', the cluster labels (adata.obs, categorical)\n",
      ">> Result: 0.09469794322881496\n",
      "... reading from cache file ./cache/input-cellBench-sce8_qc-matrix.h5ad\n"
     ]
    },
    {
     "name": "stderr",
     "output_type": "stream",
     "text": [
      "/opt/anaconda3/envs/astrohack/lib/python3.6/site-packages/sklearn/metrics/cluster/supervised.py:732: FutureWarning: The behavior of AMI will change in version 0.22. To match the behavior of 'v_measure_score', AMI will use average_method='arithmetic' by default.\n",
      "  FutureWarning)\n",
      "/opt/anaconda3/envs/astrohack/lib/python3.6/site-packages/sklearn/metrics/cluster/unsupervised.py:342: RuntimeWarning: divide by zero encountered in true_divide\n",
      "  score = (intra_dists[:, None] + intra_dists) / centroid_distances\n"
     ]
    },
    {
     "name": "stdout",
     "output_type": "stream",
     "text": [
      "Loading dataset sce8_qc with 15571 genes and 296 cells\n",
      "regressing out ['total_counts']\n",
      "    sparse input is densified and may lead to high memory use\n",
      "    finished (0:00:16.80)\n",
      "computing neighbors\n",
      "    using 'X_pca' with n_pcs = 24\n",
      "    finished (0:00:00.07) --> added to `.uns['neighbors']`\n",
      "    'distances', weighted adjacency matrix\n",
      "    'connectivities', weighted adjacency matrix\n",
      "computing UMAP\n",
      "    finished (0:00:00.44) --> added\n",
      "    'X_umap', UMAP coordinates (adata.obsm)\n",
      "running Louvain clustering\n",
      "    using the \"louvain\" package of Traag (2017)\n",
      "    finished (0:00:00.00) --> found 8 clusters and added\n",
      "    'louvain', the cluster labels (adata.obs, categorical)\n",
      ">> Result: 0.06748087758442461\n",
      "... reading from cache file ./cache/input-cellBench-sce8_qc-matrix.h5ad\n"
     ]
    },
    {
     "name": "stderr",
     "output_type": "stream",
     "text": [
      "/opt/anaconda3/envs/astrohack/lib/python3.6/site-packages/sklearn/metrics/cluster/supervised.py:732: FutureWarning: The behavior of AMI will change in version 0.22. To match the behavior of 'v_measure_score', AMI will use average_method='arithmetic' by default.\n",
      "  FutureWarning)\n",
      "/opt/anaconda3/envs/astrohack/lib/python3.6/site-packages/sklearn/metrics/cluster/unsupervised.py:342: RuntimeWarning: divide by zero encountered in true_divide\n",
      "  score = (intra_dists[:, None] + intra_dists) / centroid_distances\n"
     ]
    },
    {
     "name": "stdout",
     "output_type": "stream",
     "text": [
      "Loading dataset sce8_qc with 15571 genes and 296 cells\n",
      "filtered out 987 genes that are detected in less than 12.0 cells\n",
      "computing neighbors\n",
      "    using 'X_pca' with n_pcs = 42\n",
      "    finished (0:00:00.05) --> added to `.uns['neighbors']`\n",
      "    'distances', weighted adjacency matrix\n",
      "    'connectivities', weighted adjacency matrix\n",
      "computing UMAP\n",
      "    finished (0:00:00.22) --> added\n",
      "    'X_umap', UMAP coordinates (adata.obsm)\n",
      "running Louvain clustering\n",
      "    using the \"louvain\" package of Traag (2017)\n",
      "    finished (0:00:00.00) --> found 16 clusters and added\n",
      "    'louvain', the cluster labels (adata.obs, categorical)\n",
      ">> Result: 0.09717623569877393\n",
      "... reading from cache file ./cache/input-cellBench-sce8_qc-matrix.h5ad\n"
     ]
    },
    {
     "name": "stderr",
     "output_type": "stream",
     "text": [
      "/opt/anaconda3/envs/astrohack/lib/python3.6/site-packages/sklearn/metrics/cluster/supervised.py:732: FutureWarning: The behavior of AMI will change in version 0.22. To match the behavior of 'v_measure_score', AMI will use average_method='arithmetic' by default.\n",
      "  FutureWarning)\n",
      "/opt/anaconda3/envs/astrohack/lib/python3.6/site-packages/sklearn/metrics/cluster/unsupervised.py:342: RuntimeWarning: divide by zero encountered in true_divide\n",
      "  score = (intra_dists[:, None] + intra_dists) / centroid_distances\n"
     ]
    },
    {
     "name": "stdout",
     "output_type": "stream",
     "text": [
      "Loading dataset sce8_qc with 15571 genes and 296 cells\n"
     ]
    },
    {
     "name": "stderr",
     "output_type": "stream",
     "text": [
      "/opt/anaconda3/envs/astrohack/lib/python3.6/site-packages/scanpy/preprocessing/simple.py:1000: RuntimeWarning: invalid value encountered in true_divide\n",
      "  X /= scale\n",
      "/opt/anaconda3/envs/astrohack/lib/python3.6/site-packages/scanpy/preprocessing/simple.py:788: RuntimeWarning: invalid value encountered in greater\n",
      "  if max_value is not None: X[X > max_value] = max_value\n"
     ]
    },
    {
     "name": "stdout",
     "output_type": "stream",
     "text": [
      "computing neighbors\n",
      "    using 'X_pca' with n_pcs = 33\n",
      "    finished (0:00:00.06) --> added to `.uns['neighbors']`\n",
      "    'distances', weighted adjacency matrix\n",
      "    'connectivities', weighted adjacency matrix\n",
      "computing UMAP\n",
      "    finished (0:00:00.34) --> added\n",
      "    'X_umap', UMAP coordinates (adata.obsm)\n",
      "running Louvain clustering\n",
      "    using the \"louvain\" package of Traag (2017)\n",
      "    finished (0:00:00.00) --> found 11 clusters and added\n",
      "    'louvain', the cluster labels (adata.obs, categorical)\n",
      ">> Result: 0.06627354686841877\n",
      "Index  10\n"
     ]
    },
    {
     "name": "stderr",
     "output_type": "stream",
     "text": [
      "/opt/anaconda3/envs/astrohack/lib/python3.6/site-packages/sklearn/metrics/cluster/supervised.py:732: FutureWarning: The behavior of AMI will change in version 0.22. To match the behavior of 'v_measure_score', AMI will use average_method='arithmetic' by default.\n",
      "  FutureWarning)\n",
      "/opt/anaconda3/envs/astrohack/lib/python3.6/site-packages/sklearn/metrics/cluster/unsupervised.py:342: RuntimeWarning: divide by zero encountered in true_divide\n",
      "  score = (intra_dists[:, None] + intra_dists) / centroid_distances\n"
     ]
    },
    {
     "name": "stdout",
     "output_type": "stream",
     "text": [
      "... reading from cache file ./cache/input-cellBench-sce8_qc-matrix.h5ad\n",
      "Loading dataset sce8_qc with 15571 genes and 296 cells\n",
      "filtered out 401 genes that are detected in less than 8.0 cells\n",
      "computing neighbors\n",
      "    using 'X_pca' with n_pcs = 50\n",
      "    finished (0:00:00.03) --> added to `.uns['neighbors']`\n",
      "    'distances', weighted adjacency matrix\n",
      "    'connectivities', weighted adjacency matrix\n",
      "computing UMAP\n",
      "... reading from cache file ./cache/input-cellBench-sce8_qc-matrix.h5ad\n"
     ]
    },
    {
     "name": "stderr",
     "output_type": "stream",
     "text": [
      "/opt/anaconda3/envs/astrohack/lib/python3.6/site-packages/scanpy/neighbors/umap/umap_.py:864: RuntimeWarning: divide by zero encountered in true_divide\n",
      "  D = scipy.sparse.spdiags(1.0 / np.sqrt(diag_data), 0, graph.shape[0],\n",
      "/opt/anaconda3/envs/astrohack/lib/python3.6/site-packages/scipy/sparse/linalg/eigen/arpack/arpack.py:1556: RuntimeWarning: k >= N for N * N square matrix. Attempting to use scipy.linalg.eigh instead.\n",
      "  RuntimeWarning)\n"
     ]
    },
    {
     "name": "stdout",
     "output_type": "stream",
     "text": [
      "Loading dataset sce8_qc with 15571 genes and 296 cells\n",
      "filtered out 214 genes that are detected in less than 7.0 cells\n",
      "computing neighbors\n",
      "    using 'X_pca' with n_pcs = 25\n",
      "    finished (0:00:00.04) --> added to `.uns['neighbors']`\n",
      "    'distances', weighted adjacency matrix\n",
      "    'connectivities', weighted adjacency matrix\n",
      "computing UMAP\n",
      "    finished (0:00:00.32) --> added\n",
      "    'X_umap', UMAP coordinates (adata.obsm)\n",
      "running Louvain clustering\n",
      "    using the \"louvain\" package of Traag (2017)\n",
      "    finished (0:00:00.00) --> found 10 clusters and added\n",
      "    'louvain', the cluster labels (adata.obs, categorical)\n",
      ">> Result: 0.6777158987578583\n",
      "... reading from cache file ./cache/input-cellBench-sce8_qc-matrix.h5ad\n"
     ]
    },
    {
     "name": "stderr",
     "output_type": "stream",
     "text": [
      "/opt/anaconda3/envs/astrohack/lib/python3.6/site-packages/sklearn/metrics/cluster/supervised.py:732: FutureWarning: The behavior of AMI will change in version 0.22. To match the behavior of 'v_measure_score', AMI will use average_method='arithmetic' by default.\n",
      "  FutureWarning)\n",
      "/opt/anaconda3/envs/astrohack/lib/python3.6/site-packages/sklearn/metrics/cluster/unsupervised.py:342: RuntimeWarning: divide by zero encountered in true_divide\n",
      "  score = (intra_dists[:, None] + intra_dists) / centroid_distances\n"
     ]
    },
    {
     "name": "stdout",
     "output_type": "stream",
     "text": [
      "Loading dataset sce8_qc with 15571 genes and 296 cells\n",
      "computing neighbors\n",
      "    using 'X_pca' with n_pcs = 33\n",
      "    finished (0:00:00.03) --> added to `.uns['neighbors']`\n",
      "    'distances', weighted adjacency matrix\n",
      "    'connectivities', weighted adjacency matrix\n",
      "computing UMAP\n",
      "... reading from cache file ./cache/input-cellBench-sce8_qc-matrix.h5ad\n"
     ]
    },
    {
     "name": "stderr",
     "output_type": "stream",
     "text": [
      "/opt/anaconda3/envs/astrohack/lib/python3.6/site-packages/scanpy/neighbors/umap/umap_.py:864: RuntimeWarning: divide by zero encountered in true_divide\n",
      "  D = scipy.sparse.spdiags(1.0 / np.sqrt(diag_data), 0, graph.shape[0],\n",
      "/opt/anaconda3/envs/astrohack/lib/python3.6/site-packages/scipy/sparse/linalg/eigen/arpack/arpack.py:1556: RuntimeWarning: k >= N for N * N square matrix. Attempting to use scipy.linalg.eigh instead.\n",
      "  RuntimeWarning)\n"
     ]
    },
    {
     "name": "stdout",
     "output_type": "stream",
     "text": [
      "Loading dataset sce8_qc with 15571 genes and 296 cells\n",
      "filtered out 1790 genes that are detected in less than 20.0 cells\n",
      "regressing out ['total_counts']\n",
      "    sparse input is densified and may lead to high memory use\n",
      "    finished (0:00:14.68)\n",
      "computing neighbors\n",
      "    using 'X_pca' with n_pcs = 40\n",
      "    finished (0:00:00.05) --> added to `.uns['neighbors']`\n",
      "    'distances', weighted adjacency matrix\n",
      "    'connectivities', weighted adjacency matrix\n",
      "computing UMAP\n",
      "    finished (0:00:00.35) --> added\n",
      "    'X_umap', UMAP coordinates (adata.obsm)\n",
      "running Louvain clustering\n",
      "    using the \"louvain\" package of Traag (2017)\n",
      "    finished (0:00:00.00) --> found 8 clusters and added\n",
      "    'louvain', the cluster labels (adata.obs, categorical)\n",
      ">> Result: 0.7667136977671424\n",
      "... reading from cache file ./cache/input-cellBench-sce8_qc-matrix.h5ad\n"
     ]
    },
    {
     "name": "stderr",
     "output_type": "stream",
     "text": [
      "/opt/anaconda3/envs/astrohack/lib/python3.6/site-packages/sklearn/metrics/cluster/supervised.py:732: FutureWarning: The behavior of AMI will change in version 0.22. To match the behavior of 'v_measure_score', AMI will use average_method='arithmetic' by default.\n",
      "  FutureWarning)\n",
      "/opt/anaconda3/envs/astrohack/lib/python3.6/site-packages/sklearn/metrics/cluster/unsupervised.py:342: RuntimeWarning: divide by zero encountered in true_divide\n",
      "  score = (intra_dists[:, None] + intra_dists) / centroid_distances\n"
     ]
    },
    {
     "name": "stdout",
     "output_type": "stream",
     "text": [
      "Loading dataset sce8_qc with 15571 genes and 296 cells\n",
      "filtered out 1790 genes that are detected in less than 20.0 cells\n",
      "computing neighbors\n",
      "    using 'X_pca' with n_pcs = 48\n",
      "    finished (0:00:00.06) --> added to `.uns['neighbors']`\n",
      "    'distances', weighted adjacency matrix\n",
      "    'connectivities', weighted adjacency matrix\n",
      "computing UMAP\n",
      "    finished (0:00:00.44) --> added\n",
      "    'X_umap', UMAP coordinates (adata.obsm)\n",
      "running Louvain clustering\n",
      "    using the \"louvain\" package of Traag (2017)\n",
      "    finished (0:00:00.00) --> found 7 clusters and added\n",
      "    'louvain', the cluster labels (adata.obs, categorical)\n",
      ">> Result: 0.736775365088895\n",
      "... reading from cache file ./cache/input-cellBench-sce8_qc-matrix.h5ad\n"
     ]
    },
    {
     "name": "stderr",
     "output_type": "stream",
     "text": [
      "/opt/anaconda3/envs/astrohack/lib/python3.6/site-packages/sklearn/metrics/cluster/supervised.py:732: FutureWarning: The behavior of AMI will change in version 0.22. To match the behavior of 'v_measure_score', AMI will use average_method='arithmetic' by default.\n",
      "  FutureWarning)\n",
      "/opt/anaconda3/envs/astrohack/lib/python3.6/site-packages/sklearn/metrics/cluster/unsupervised.py:342: RuntimeWarning: divide by zero encountered in true_divide\n",
      "  score = (intra_dists[:, None] + intra_dists) / centroid_distances\n"
     ]
    },
    {
     "name": "stdout",
     "output_type": "stream",
     "text": [
      "Loading dataset sce8_qc with 15571 genes and 296 cells\n",
      "filtered out 1790 genes that are detected in less than 20.0 cells\n",
      "regressing out ['total_counts']\n",
      "    sparse input is densified and may lead to high memory use\n",
      "    finished (0:00:14.75)\n",
      "computing neighbors\n",
      "    using 'X_pca' with n_pcs = 39\n",
      "    finished (0:00:00.06) --> added to `.uns['neighbors']`\n",
      "    'distances', weighted adjacency matrix\n",
      "    'connectivities', weighted adjacency matrix\n",
      "computing UMAP\n",
      "    finished (0:00:00.34) --> added\n",
      "    'X_umap', UMAP coordinates (adata.obsm)\n",
      "running Louvain clustering\n",
      "    using the \"louvain\" package of Traag (2017)\n",
      "    finished (0:00:00.00) --> found 7 clusters and added\n",
      "    'louvain', the cluster labels (adata.obs, categorical)\n",
      ">> Result: 0.7834498808858655\n",
      "... reading from cache file ./cache/input-cellBench-sce8_qc-matrix.h5ad\n"
     ]
    },
    {
     "name": "stderr",
     "output_type": "stream",
     "text": [
      "/opt/anaconda3/envs/astrohack/lib/python3.6/site-packages/sklearn/metrics/cluster/supervised.py:732: FutureWarning: The behavior of AMI will change in version 0.22. To match the behavior of 'v_measure_score', AMI will use average_method='arithmetic' by default.\n",
      "  FutureWarning)\n",
      "/opt/anaconda3/envs/astrohack/lib/python3.6/site-packages/sklearn/metrics/cluster/unsupervised.py:342: RuntimeWarning: divide by zero encountered in true_divide\n",
      "  score = (intra_dists[:, None] + intra_dists) / centroid_distances\n"
     ]
    },
    {
     "name": "stdout",
     "output_type": "stream",
     "text": [
      "Loading dataset sce8_qc with 15571 genes and 296 cells\n",
      "filtered out 1705 genes that are detected in less than 19.0 cells\n",
      "regressing out ['total_counts']\n",
      "    sparse input is densified and may lead to high memory use\n",
      "    finished (0:00:14.93)\n",
      "computing neighbors\n",
      "    using 'X_pca' with n_pcs = 39\n",
      "    finished (0:00:00.06) --> added to `.uns['neighbors']`\n",
      "    'distances', weighted adjacency matrix\n",
      "    'connectivities', weighted adjacency matrix\n",
      "computing UMAP\n",
      "    finished (0:00:00.34) --> added\n",
      "    'X_umap', UMAP coordinates (adata.obsm)\n",
      "running Louvain clustering\n",
      "    using the \"louvain\" package of Traag (2017)\n",
      "    finished (0:00:00.00) --> found 8 clusters and added\n",
      "    'louvain', the cluster labels (adata.obs, categorical)\n",
      ">> Result: 0.7813113720420172\n",
      "... reading from cache file ./cache/input-cellBench-sce8_qc-matrix.h5ad\n"
     ]
    },
    {
     "name": "stderr",
     "output_type": "stream",
     "text": [
      "/opt/anaconda3/envs/astrohack/lib/python3.6/site-packages/sklearn/metrics/cluster/supervised.py:732: FutureWarning: The behavior of AMI will change in version 0.22. To match the behavior of 'v_measure_score', AMI will use average_method='arithmetic' by default.\n",
      "  FutureWarning)\n",
      "/opt/anaconda3/envs/astrohack/lib/python3.6/site-packages/sklearn/metrics/cluster/unsupervised.py:342: RuntimeWarning: divide by zero encountered in true_divide\n",
      "  score = (intra_dists[:, None] + intra_dists) / centroid_distances\n"
     ]
    },
    {
     "name": "stdout",
     "output_type": "stream",
     "text": [
      "Loading dataset sce8_qc with 15571 genes and 296 cells\n",
      "filtered out 1597 genes that are detected in less than 18.0 cells\n",
      "regressing out ['total_counts']\n",
      "    sparse input is densified and may lead to high memory use\n",
      "    finished (0:00:16.79)\n",
      "computing neighbors\n",
      "    using 'X_pca' with n_pcs = 39\n",
      "    finished (0:00:00.06) --> added to `.uns['neighbors']`\n",
      "    'distances', weighted adjacency matrix\n",
      "    'connectivities', weighted adjacency matrix\n",
      "computing UMAP\n",
      "    finished (0:00:00.34) --> added\n",
      "    'X_umap', UMAP coordinates (adata.obsm)\n",
      "running Louvain clustering\n",
      "    using the \"louvain\" package of Traag (2017)\n",
      "    finished (0:00:00.00) --> found 7 clusters and added\n",
      "    'louvain', the cluster labels (adata.obs, categorical)\n",
      ">> Result: 0.772204302329528\n",
      "... reading from cache file ./cache/input-cellBench-sce8_qc-matrix.h5ad\n"
     ]
    },
    {
     "name": "stderr",
     "output_type": "stream",
     "text": [
      "/opt/anaconda3/envs/astrohack/lib/python3.6/site-packages/sklearn/metrics/cluster/supervised.py:732: FutureWarning: The behavior of AMI will change in version 0.22. To match the behavior of 'v_measure_score', AMI will use average_method='arithmetic' by default.\n",
      "  FutureWarning)\n",
      "/opt/anaconda3/envs/astrohack/lib/python3.6/site-packages/sklearn/metrics/cluster/unsupervised.py:342: RuntimeWarning: divide by zero encountered in true_divide\n",
      "  score = (intra_dists[:, None] + intra_dists) / centroid_distances\n"
     ]
    },
    {
     "name": "stdout",
     "output_type": "stream",
     "text": [
      "Loading dataset sce8_qc with 15571 genes and 296 cells\n",
      "filtered out 1705 genes that are detected in less than 19.0 cells\n",
      "regressing out ['total_counts']\n",
      "    sparse input is densified and may lead to high memory use\n",
      "    finished (0:00:14.71)\n",
      "computing neighbors\n",
      "    using 'X_pca' with n_pcs = 35\n",
      "    finished (0:00:00.04) --> added to `.uns['neighbors']`\n",
      "    'distances', weighted adjacency matrix\n",
      "    'connectivities', weighted adjacency matrix\n",
      "computing UMAP\n",
      "    finished (0:00:00.13) --> added\n",
      "    'X_umap', UMAP coordinates (adata.obsm)\n",
      "running Louvain clustering\n",
      "    using the \"louvain\" package of Traag (2017)\n",
      "    finished (0:00:00.00) --> found 31 clusters and added\n",
      "    'louvain', the cluster labels (adata.obs, categorical)\n"
     ]
    },
    {
     "name": "stderr",
     "output_type": "stream",
     "text": [
      "/opt/anaconda3/envs/astrohack/lib/python3.6/site-packages/sklearn/metrics/cluster/supervised.py:732: FutureWarning: The behavior of AMI will change in version 0.22. To match the behavior of 'v_measure_score', AMI will use average_method='arithmetic' by default.\n",
      "  FutureWarning)\n",
      "/opt/anaconda3/envs/astrohack/lib/python3.6/site-packages/sklearn/metrics/cluster/unsupervised.py:342: RuntimeWarning: divide by zero encountered in true_divide\n",
      "  score = (intra_dists[:, None] + intra_dists) / centroid_distances\n"
     ]
    },
    {
     "name": "stdout",
     "output_type": "stream",
     "text": [
      ">> Result: 0.329379258758879\n",
      "... reading from cache file ./cache/input-cellBench-sce8_qc-matrix.h5ad\n",
      "Loading dataset sce8_qc with 15571 genes and 296 cells\n",
      "regressing out ['total_counts']\n",
      "    sparse input is densified and may lead to high memory use\n",
      "    finished (0:00:16.95)\n",
      "computing neighbors\n",
      "    using 'X_pca' with n_pcs = 48\n",
      "    finished (0:00:00.05) --> added to `.uns['neighbors']`\n",
      "    'distances', weighted adjacency matrix\n",
      "    'connectivities', weighted adjacency matrix\n",
      "computing UMAP\n",
      "    finished (0:00:00.31) --> added\n",
      "    'X_umap', UMAP coordinates (adata.obsm)\n",
      "running Louvain clustering\n",
      "    using the \"louvain\" package of Traag (2017)\n",
      "    finished (0:00:00.00) --> found 8 clusters and added\n",
      "    'louvain', the cluster labels (adata.obs, categorical)\n",
      ">> Result: 0.7413506992878738\n",
      "Index  20\n",
      "... reading from cache file ./cache/input-cellBench-sce8_qc-matrix.h5ad\n"
     ]
    },
    {
     "name": "stderr",
     "output_type": "stream",
     "text": [
      "/opt/anaconda3/envs/astrohack/lib/python3.6/site-packages/sklearn/metrics/cluster/supervised.py:732: FutureWarning: The behavior of AMI will change in version 0.22. To match the behavior of 'v_measure_score', AMI will use average_method='arithmetic' by default.\n",
      "  FutureWarning)\n",
      "/opt/anaconda3/envs/astrohack/lib/python3.6/site-packages/sklearn/metrics/cluster/unsupervised.py:342: RuntimeWarning: divide by zero encountered in true_divide\n",
      "  score = (intra_dists[:, None] + intra_dists) / centroid_distances\n"
     ]
    },
    {
     "name": "stdout",
     "output_type": "stream",
     "text": [
      "Loading dataset sce8_qc with 15571 genes and 296 cells\n",
      "filtered out 1705 genes that are detected in less than 19.0 cells\n",
      "regressing out ['total_counts']\n",
      "    sparse input is densified and may lead to high memory use\n",
      "    finished (0:00:05.79)\n",
      "computing neighbors\n",
      "    using 'X_pca' with n_pcs = 41\n",
      "    finished (0:00:00.06) --> added to `.uns['neighbors']`\n",
      "    'distances', weighted adjacency matrix\n",
      "    'connectivities', weighted adjacency matrix\n",
      "computing UMAP\n",
      "    finished (0:00:00.33) --> added\n",
      "    'X_umap', UMAP coordinates (adata.obsm)\n",
      "running Louvain clustering\n",
      "    using the \"louvain\" package of Traag (2017)\n",
      "    finished (0:00:00.00) --> found 10 clusters and added\n",
      "    'louvain', the cluster labels (adata.obs, categorical)\n",
      ">> Result: 0.25296492169092705\n",
      "... reading from cache file ./cache/input-cellBench-sce8_qc-matrix.h5ad\n"
     ]
    },
    {
     "name": "stderr",
     "output_type": "stream",
     "text": [
      "/opt/anaconda3/envs/astrohack/lib/python3.6/site-packages/sklearn/metrics/cluster/supervised.py:732: FutureWarning: The behavior of AMI will change in version 0.22. To match the behavior of 'v_measure_score', AMI will use average_method='arithmetic' by default.\n",
      "  FutureWarning)\n",
      "/opt/anaconda3/envs/astrohack/lib/python3.6/site-packages/sklearn/metrics/cluster/unsupervised.py:342: RuntimeWarning: divide by zero encountered in true_divide\n",
      "  score = (intra_dists[:, None] + intra_dists) / centroid_distances\n"
     ]
    },
    {
     "name": "stdout",
     "output_type": "stream",
     "text": [
      "Loading dataset sce8_qc with 15571 genes and 296 cells\n",
      "filtered out 1206 genes that are detected in less than 14.0 cells\n",
      "regressing out ['total_counts']\n",
      "    sparse input is densified and may lead to high memory use\n",
      "    finished (0:00:15.41)\n",
      "computing neighbors\n",
      "    using 'X_pca' with n_pcs = 32\n",
      "    finished (0:00:00.07) --> added to `.uns['neighbors']`\n",
      "    'distances', weighted adjacency matrix\n",
      "    'connectivities', weighted adjacency matrix\n",
      "computing UMAP\n",
      "    finished (0:00:00.46) --> added\n",
      "    'X_umap', UMAP coordinates (adata.obsm)\n",
      "running Louvain clustering\n",
      "    using the \"louvain\" package of Traag (2017)\n",
      "    finished (0:00:00.00) --> found 7 clusters and added\n",
      "    'louvain', the cluster labels (adata.obs, categorical)\n",
      ">> Result: 0.7896483639262627\n",
      "... reading from cache file ./cache/input-cellBench-sce8_qc-matrix.h5ad\n"
     ]
    },
    {
     "name": "stderr",
     "output_type": "stream",
     "text": [
      "/opt/anaconda3/envs/astrohack/lib/python3.6/site-packages/sklearn/metrics/cluster/supervised.py:732: FutureWarning: The behavior of AMI will change in version 0.22. To match the behavior of 'v_measure_score', AMI will use average_method='arithmetic' by default.\n",
      "  FutureWarning)\n",
      "/opt/anaconda3/envs/astrohack/lib/python3.6/site-packages/sklearn/metrics/cluster/unsupervised.py:342: RuntimeWarning: divide by zero encountered in true_divide\n",
      "  score = (intra_dists[:, None] + intra_dists) / centroid_distances\n"
     ]
    },
    {
     "name": "stdout",
     "output_type": "stream",
     "text": [
      "Loading dataset sce8_qc with 15571 genes and 296 cells\n",
      "filtered out 1206 genes that are detected in less than 14.0 cells\n",
      "regressing out ['total_counts']\n",
      "    sparse input is densified and may lead to high memory use\n",
      "    finished (0:00:15.61)\n",
      "computing neighbors\n",
      "    using 'X_pca' with n_pcs = 27\n",
      "    finished (0:00:00.07) --> added to `.uns['neighbors']`\n",
      "    'distances', weighted adjacency matrix\n",
      "    'connectivities', weighted adjacency matrix\n",
      "computing UMAP\n",
      "    finished (0:00:00.45) --> added\n",
      "    'X_umap', UMAP coordinates (adata.obsm)\n",
      "running Louvain clustering\n",
      "    using the \"louvain\" package of Traag (2017)\n",
      "    finished (0:00:00.00) --> found 8 clusters and added\n",
      "    'louvain', the cluster labels (adata.obs, categorical)\n",
      ">> Result: 0.7955014337042625\n",
      "... reading from cache file ./cache/input-cellBench-sce8_qc-matrix.h5ad\n"
     ]
    },
    {
     "name": "stderr",
     "output_type": "stream",
     "text": [
      "/opt/anaconda3/envs/astrohack/lib/python3.6/site-packages/sklearn/metrics/cluster/supervised.py:732: FutureWarning: The behavior of AMI will change in version 0.22. To match the behavior of 'v_measure_score', AMI will use average_method='arithmetic' by default.\n",
      "  FutureWarning)\n",
      "/opt/anaconda3/envs/astrohack/lib/python3.6/site-packages/sklearn/metrics/cluster/unsupervised.py:342: RuntimeWarning: divide by zero encountered in true_divide\n",
      "  score = (intra_dists[:, None] + intra_dists) / centroid_distances\n"
     ]
    },
    {
     "name": "stdout",
     "output_type": "stream",
     "text": [
      "Loading dataset sce8_qc with 15571 genes and 296 cells\n",
      "filtered out 769 genes that are detected in less than 10.0 cells\n",
      "regressing out ['total_counts']\n",
      "    sparse input is densified and may lead to high memory use\n",
      "    finished (0:00:15.74)\n",
      "computing neighbors\n",
      "    using 'X_pca' with n_pcs = 27\n",
      "    finished (0:00:00.07) --> added to `.uns['neighbors']`\n",
      "    'distances', weighted adjacency matrix\n",
      "    'connectivities', weighted adjacency matrix\n",
      "computing UMAP\n",
      "    finished (0:00:00.52) --> added\n",
      "    'X_umap', UMAP coordinates (adata.obsm)\n",
      "running Louvain clustering\n",
      "    using the \"louvain\" package of Traag (2017)\n",
      "    finished (0:00:00.00) --> found 6 clusters and added\n",
      "    'louvain', the cluster labels (adata.obs, categorical)\n",
      ">> Result: 0.7636407012620211\n",
      "... reading from cache file ./cache/input-cellBench-sce8_qc-matrix.h5ad\n"
     ]
    },
    {
     "name": "stderr",
     "output_type": "stream",
     "text": [
      "/opt/anaconda3/envs/astrohack/lib/python3.6/site-packages/sklearn/metrics/cluster/supervised.py:732: FutureWarning: The behavior of AMI will change in version 0.22. To match the behavior of 'v_measure_score', AMI will use average_method='arithmetic' by default.\n",
      "  FutureWarning)\n",
      "/opt/anaconda3/envs/astrohack/lib/python3.6/site-packages/sklearn/metrics/cluster/unsupervised.py:342: RuntimeWarning: divide by zero encountered in true_divide\n",
      "  score = (intra_dists[:, None] + intra_dists) / centroid_distances\n"
     ]
    },
    {
     "name": "stdout",
     "output_type": "stream",
     "text": [
      "Loading dataset sce8_qc with 15571 genes and 296 cells\n",
      "filtered out 1206 genes that are detected in less than 14.0 cells\n",
      "regressing out ['total_counts']\n",
      "    sparse input is densified and may lead to high memory use\n",
      "    finished (0:00:09.82)\n",
      "computing neighbors\n",
      "    using 'X_pca' with n_pcs = 21\n",
      "    finished (0:00:00.07) --> added to `.uns['neighbors']`\n",
      "    'distances', weighted adjacency matrix\n",
      "    'connectivities', weighted adjacency matrix\n",
      "computing UMAP\n",
      "    finished (0:00:00.40) --> added\n",
      "    'X_umap', UMAP coordinates (adata.obsm)\n",
      "running Louvain clustering\n",
      "    using the \"louvain\" package of Traag (2017)\n",
      "    finished (0:00:00.00) --> found 8 clusters and added\n",
      "    'louvain', the cluster labels (adata.obs, categorical)\n",
      ">> Result: 0.2221835635140679\n",
      "... reading from cache file ./cache/input-cellBench-sce8_qc-matrix.h5ad\n"
     ]
    },
    {
     "name": "stderr",
     "output_type": "stream",
     "text": [
      "/opt/anaconda3/envs/astrohack/lib/python3.6/site-packages/sklearn/metrics/cluster/supervised.py:732: FutureWarning: The behavior of AMI will change in version 0.22. To match the behavior of 'v_measure_score', AMI will use average_method='arithmetic' by default.\n",
      "  FutureWarning)\n",
      "/opt/anaconda3/envs/astrohack/lib/python3.6/site-packages/sklearn/metrics/cluster/unsupervised.py:342: RuntimeWarning: divide by zero encountered in true_divide\n",
      "  score = (intra_dists[:, None] + intra_dists) / centroid_distances\n"
     ]
    },
    {
     "name": "stdout",
     "output_type": "stream",
     "text": [
      "Loading dataset sce8_qc with 15571 genes and 296 cells\n",
      "filtered out 769 genes that are detected in less than 10.0 cells\n",
      "regressing out ['total_counts']\n",
      "    sparse input is densified and may lead to high memory use\n",
      "    finished (0:00:16.00)\n",
      "computing neighbors\n",
      "    using 'X_pca' with n_pcs = 26\n",
      "    finished (0:00:00.08) --> added to `.uns['neighbors']`\n",
      "    'distances', weighted adjacency matrix\n",
      "    'connectivities', weighted adjacency matrix\n",
      "computing UMAP\n",
      "    finished (0:00:00.52) --> added\n",
      "    'X_umap', UMAP coordinates (adata.obsm)\n",
      "running Louvain clustering\n",
      "    using the \"louvain\" package of Traag (2017)\n",
      "    finished (0:00:00.00) --> found 6 clusters and added\n",
      "    'louvain', the cluster labels (adata.obs, categorical)\n",
      ">> Result: 0.7636407012620211\n",
      "... reading from cache file ./cache/input-cellBench-sce8_qc-matrix.h5ad\n"
     ]
    },
    {
     "name": "stderr",
     "output_type": "stream",
     "text": [
      "/opt/anaconda3/envs/astrohack/lib/python3.6/site-packages/sklearn/metrics/cluster/supervised.py:732: FutureWarning: The behavior of AMI will change in version 0.22. To match the behavior of 'v_measure_score', AMI will use average_method='arithmetic' by default.\n",
      "  FutureWarning)\n",
      "/opt/anaconda3/envs/astrohack/lib/python3.6/site-packages/sklearn/metrics/cluster/unsupervised.py:342: RuntimeWarning: divide by zero encountered in true_divide\n",
      "  score = (intra_dists[:, None] + intra_dists) / centroid_distances\n"
     ]
    },
    {
     "name": "stdout",
     "output_type": "stream",
     "text": [
      "Loading dataset sce8_qc with 15571 genes and 296 cells\n",
      "filtered out 1100 genes that are detected in less than 13.0 cells\n",
      "regressing out ['total_counts']\n",
      "    sparse input is densified and may lead to high memory use\n",
      "    finished (0:00:15.63)\n",
      "computing neighbors\n",
      "    using 'X_pca' with n_pcs = 31\n",
      "    finished (0:00:00.06) --> added to `.uns['neighbors']`\n",
      "    'distances', weighted adjacency matrix\n",
      "    'connectivities', weighted adjacency matrix\n",
      "computing UMAP\n",
      "    finished (0:00:00.45) --> added\n",
      "    'X_umap', UMAP coordinates (adata.obsm)\n",
      "running Louvain clustering\n",
      "    using the \"louvain\" package of Traag (2017)\n",
      "    finished (0:00:00.00) --> found 7 clusters and added\n",
      "    'louvain', the cluster labels (adata.obs, categorical)\n",
      ">> Result: 0.7972269378094113\n",
      "... reading from cache file ./cache/input-cellBench-sce8_qc-matrix.h5ad\n"
     ]
    },
    {
     "name": "stderr",
     "output_type": "stream",
     "text": [
      "/opt/anaconda3/envs/astrohack/lib/python3.6/site-packages/sklearn/metrics/cluster/supervised.py:732: FutureWarning: The behavior of AMI will change in version 0.22. To match the behavior of 'v_measure_score', AMI will use average_method='arithmetic' by default.\n",
      "  FutureWarning)\n",
      "/opt/anaconda3/envs/astrohack/lib/python3.6/site-packages/sklearn/metrics/cluster/unsupervised.py:342: RuntimeWarning: divide by zero encountered in true_divide\n",
      "  score = (intra_dists[:, None] + intra_dists) / centroid_distances\n"
     ]
    },
    {
     "name": "stdout",
     "output_type": "stream",
     "text": [
      "Loading dataset sce8_qc with 15571 genes and 296 cells\n",
      "filtered out 884 genes that are detected in less than 11.0 cells\n",
      "regressing out ['total_counts']\n",
      "    sparse input is densified and may lead to high memory use\n",
      "    finished (0:00:13.54)\n",
      "computing neighbors\n",
      "    using 'X_pca' with n_pcs = 20\n",
      "    finished (0:00:00.07) --> added to `.uns['neighbors']`\n",
      "    'distances', weighted adjacency matrix\n",
      "    'connectivities', weighted adjacency matrix\n",
      "computing UMAP\n",
      "    finished (0:00:00.45) --> added\n",
      "    'X_umap', UMAP coordinates (adata.obsm)\n",
      "running Louvain clustering\n",
      "    using the \"louvain\" package of Traag (2017)\n",
      "    finished (0:00:00.00) --> found 7 clusters and added\n",
      "    'louvain', the cluster labels (adata.obs, categorical)\n",
      ">> Result: 0.053370782586050845\n",
      "... reading from cache file ./cache/input-cellBench-sce8_qc-matrix.h5ad\n"
     ]
    },
    {
     "name": "stderr",
     "output_type": "stream",
     "text": [
      "/opt/anaconda3/envs/astrohack/lib/python3.6/site-packages/sklearn/metrics/cluster/supervised.py:732: FutureWarning: The behavior of AMI will change in version 0.22. To match the behavior of 'v_measure_score', AMI will use average_method='arithmetic' by default.\n",
      "  FutureWarning)\n",
      "/opt/anaconda3/envs/astrohack/lib/python3.6/site-packages/sklearn/metrics/cluster/unsupervised.py:342: RuntimeWarning: divide by zero encountered in true_divide\n",
      "  score = (intra_dists[:, None] + intra_dists) / centroid_distances\n"
     ]
    },
    {
     "name": "stdout",
     "output_type": "stream",
     "text": [
      "Loading dataset sce8_qc with 15571 genes and 296 cells\n",
      "filtered out 583 genes that are detected in less than 9.0 cells\n",
      "regressing out ['total_counts']\n",
      "    sparse input is densified and may lead to high memory use\n",
      "    finished (0:00:16.15)\n",
      "computing neighbors\n",
      "    using 'X_pca' with n_pcs = 24\n",
      "    finished (0:00:00.07) --> added to `.uns['neighbors']`\n",
      "    'distances', weighted adjacency matrix\n",
      "    'connectivities', weighted adjacency matrix\n",
      "computing UMAP\n",
      "    finished (0:00:00.47) --> added\n",
      "    'X_umap', UMAP coordinates (adata.obsm)\n",
      "running Louvain clustering\n",
      "    using the \"louvain\" package of Traag (2017)\n",
      "    finished (0:00:00.00) --> found 7 clusters and added\n",
      "    'louvain', the cluster labels (adata.obs, categorical)\n",
      ">> Result: 0.8250574080014679\n",
      "... reading from cache file ./cache/input-cellBench-sce8_qc-matrix.h5ad\n"
     ]
    },
    {
     "name": "stderr",
     "output_type": "stream",
     "text": [
      "/opt/anaconda3/envs/astrohack/lib/python3.6/site-packages/sklearn/metrics/cluster/supervised.py:732: FutureWarning: The behavior of AMI will change in version 0.22. To match the behavior of 'v_measure_score', AMI will use average_method='arithmetic' by default.\n",
      "  FutureWarning)\n",
      "/opt/anaconda3/envs/astrohack/lib/python3.6/site-packages/sklearn/metrics/cluster/unsupervised.py:342: RuntimeWarning: divide by zero encountered in true_divide\n",
      "  score = (intra_dists[:, None] + intra_dists) / centroid_distances\n"
     ]
    },
    {
     "name": "stdout",
     "output_type": "stream",
     "text": [
      "Loading dataset sce8_qc with 15571 genes and 296 cells\n",
      "filtered out 583 genes that are detected in less than 9.0 cells\n",
      "regressing out ['total_counts']\n",
      "    sparse input is densified and may lead to high memory use\n",
      "    finished (0:00:16.11)\n",
      "computing neighbors\n",
      "    using 'X_pca' with n_pcs = 22\n",
      "    finished (0:00:00.07) --> added to `.uns['neighbors']`\n",
      "    'distances', weighted adjacency matrix\n",
      "    'connectivities', weighted adjacency matrix\n",
      "computing UMAP\n",
      "    finished (0:00:00.45) --> added\n",
      "    'X_umap', UMAP coordinates (adata.obsm)\n",
      "running Louvain clustering\n",
      "    using the \"louvain\" package of Traag (2017)\n",
      "    finished (0:00:00.00) --> found 8 clusters and added\n",
      "    'louvain', the cluster labels (adata.obs, categorical)\n",
      ">> Result: 0.5165513276484727\n",
      "Index  30\n"
     ]
    },
    {
     "name": "stderr",
     "output_type": "stream",
     "text": [
      "/opt/anaconda3/envs/astrohack/lib/python3.6/site-packages/sklearn/metrics/cluster/supervised.py:732: FutureWarning: The behavior of AMI will change in version 0.22. To match the behavior of 'v_measure_score', AMI will use average_method='arithmetic' by default.\n",
      "  FutureWarning)\n",
      "/opt/anaconda3/envs/astrohack/lib/python3.6/site-packages/sklearn/metrics/cluster/unsupervised.py:342: RuntimeWarning: divide by zero encountered in true_divide\n",
      "  score = (intra_dists[:, None] + intra_dists) / centroid_distances\n"
     ]
    },
    {
     "name": "stdout",
     "output_type": "stream",
     "text": [
      "... reading from cache file ./cache/input-cellBench-sce8_qc-matrix.h5ad\n",
      "Loading dataset sce8_qc with 15571 genes and 296 cells\n",
      "filtered out 401 genes that are detected in less than 8.0 cells\n",
      "regressing out ['total_counts']\n",
      "    sparse input is densified and may lead to high memory use\n",
      "    finished (0:00:16.36)\n",
      "computing neighbors\n",
      "    using 'X_pca' with n_pcs = 24\n",
      "    finished (0:00:00.07) --> added to `.uns['neighbors']`\n",
      "    'distances', weighted adjacency matrix\n",
      "    'connectivities', weighted adjacency matrix\n",
      "computing UMAP\n",
      "    finished (0:00:00.50) --> added\n",
      "    'X_umap', UMAP coordinates (adata.obsm)\n",
      "running Louvain clustering\n",
      "    using the \"louvain\" package of Traag (2017)\n",
      "    finished (0:00:00.00) --> found 6 clusters and added\n",
      "    'louvain', the cluster labels (adata.obs, categorical)\n",
      ">> Result: 0.7725736036815741\n",
      "... reading from cache file ./cache/input-cellBench-sce8_qc-matrix.h5ad\n"
     ]
    },
    {
     "name": "stderr",
     "output_type": "stream",
     "text": [
      "/opt/anaconda3/envs/astrohack/lib/python3.6/site-packages/sklearn/metrics/cluster/supervised.py:732: FutureWarning: The behavior of AMI will change in version 0.22. To match the behavior of 'v_measure_score', AMI will use average_method='arithmetic' by default.\n",
      "  FutureWarning)\n",
      "/opt/anaconda3/envs/astrohack/lib/python3.6/site-packages/sklearn/metrics/cluster/unsupervised.py:342: RuntimeWarning: divide by zero encountered in true_divide\n",
      "  score = (intra_dists[:, None] + intra_dists) / centroid_distances\n"
     ]
    },
    {
     "name": "stdout",
     "output_type": "stream",
     "text": [
      "Loading dataset sce8_qc with 15571 genes and 296 cells\n",
      "filtered out 987 genes that are detected in less than 12.0 cells\n",
      "regressing out ['total_counts']\n",
      "    sparse input is densified and may lead to high memory use\n",
      "    finished (0:00:13.36)\n",
      "computing neighbors\n",
      "    using 'X_pca' with n_pcs = 30\n",
      "    finished (0:00:00.06) --> added to `.uns['neighbors']`\n",
      "    'distances', weighted adjacency matrix\n",
      "    'connectivities', weighted adjacency matrix\n",
      "computing UMAP\n",
      "    finished (0:00:00.37) --> added\n",
      "    'X_umap', UMAP coordinates (adata.obsm)\n",
      "running Louvain clustering\n",
      "    using the \"louvain\" package of Traag (2017)\n",
      "    finished (0:00:00.00) --> found 8 clusters and added\n",
      "    'louvain', the cluster labels (adata.obs, categorical)\n",
      ">> Result: 0.043435977461171546\n",
      "... reading from cache file ./cache/input-cellBench-sce8_qc-matrix.h5ad\n"
     ]
    },
    {
     "name": "stderr",
     "output_type": "stream",
     "text": [
      "/opt/anaconda3/envs/astrohack/lib/python3.6/site-packages/sklearn/metrics/cluster/supervised.py:732: FutureWarning: The behavior of AMI will change in version 0.22. To match the behavior of 'v_measure_score', AMI will use average_method='arithmetic' by default.\n",
      "  FutureWarning)\n",
      "/opt/anaconda3/envs/astrohack/lib/python3.6/site-packages/sklearn/metrics/cluster/unsupervised.py:342: RuntimeWarning: divide by zero encountered in true_divide\n",
      "  score = (intra_dists[:, None] + intra_dists) / centroid_distances\n"
     ]
    },
    {
     "name": "stdout",
     "output_type": "stream",
     "text": [
      "Loading dataset sce8_qc with 15571 genes and 296 cells\n",
      "filtered out 214 genes that are detected in less than 7.0 cells\n",
      "regressing out ['total_counts']\n",
      "    sparse input is densified and may lead to high memory use\n",
      "    finished (0:00:16.50)\n",
      "computing neighbors\n",
      "    using 'X_pca' with n_pcs = 37\n",
      "    finished (0:00:00.07) --> added to `.uns['neighbors']`\n",
      "    'distances', weighted adjacency matrix\n",
      "    'connectivities', weighted adjacency matrix\n",
      "computing UMAP\n",
      "    finished (0:00:00.48) --> added\n",
      "    'X_umap', UMAP coordinates (adata.obsm)\n",
      "running Louvain clustering\n",
      "    using the \"louvain\" package of Traag (2017)\n",
      "    finished (0:00:00.00) --> found 7 clusters and added\n",
      "    'louvain', the cluster labels (adata.obs, categorical)\n",
      ">> Result: 0.8073205075394232\n",
      "... reading from cache file ./cache/input-cellBench-sce8_qc-matrix.h5ad\n"
     ]
    },
    {
     "name": "stderr",
     "output_type": "stream",
     "text": [
      "/opt/anaconda3/envs/astrohack/lib/python3.6/site-packages/sklearn/metrics/cluster/supervised.py:732: FutureWarning: The behavior of AMI will change in version 0.22. To match the behavior of 'v_measure_score', AMI will use average_method='arithmetic' by default.\n",
      "  FutureWarning)\n",
      "/opt/anaconda3/envs/astrohack/lib/python3.6/site-packages/sklearn/metrics/cluster/unsupervised.py:342: RuntimeWarning: divide by zero encountered in true_divide\n",
      "  score = (intra_dists[:, None] + intra_dists) / centroid_distances\n"
     ]
    },
    {
     "name": "stdout",
     "output_type": "stream",
     "text": [
      "Loading dataset sce8_qc with 15571 genes and 296 cells\n",
      "regressing out ['total_counts']\n",
      "    sparse input is densified and may lead to high memory use\n",
      "    finished (0:00:16.51)\n",
      "computing neighbors\n",
      "    using 'X_pca' with n_pcs = 36\n",
      "    finished (0:00:00.07) --> added to `.uns['neighbors']`\n",
      "    'distances', weighted adjacency matrix\n",
      "    'connectivities', weighted adjacency matrix\n",
      "computing UMAP\n",
      "    finished (0:00:00.49) --> added\n",
      "    'X_umap', UMAP coordinates (adata.obsm)\n",
      "running Louvain clustering\n",
      "    using the \"louvain\" package of Traag (2017)\n",
      "    finished (0:00:00.01) --> found 6 clusters and added\n",
      "    'louvain', the cluster labels (adata.obs, categorical)\n",
      ">> Result: 0.05487002160096946\n"
     ]
    },
    {
     "name": "stderr",
     "output_type": "stream",
     "text": [
      "/opt/anaconda3/envs/astrohack/lib/python3.6/site-packages/sklearn/metrics/cluster/supervised.py:732: FutureWarning: The behavior of AMI will change in version 0.22. To match the behavior of 'v_measure_score', AMI will use average_method='arithmetic' by default.\n",
      "  FutureWarning)\n",
      "/opt/anaconda3/envs/astrohack/lib/python3.6/site-packages/sklearn/metrics/cluster/unsupervised.py:342: RuntimeWarning: divide by zero encountered in true_divide\n",
      "  score = (intra_dists[:, None] + intra_dists) / centroid_distances\n"
     ]
    },
    {
     "name": "stdout",
     "output_type": "stream",
     "text": [
      "... reading from cache file ./cache/input-cellBench-sce8_qc-matrix.h5ad\n",
      "Loading dataset sce8_qc with 15571 genes and 296 cells\n",
      "filtered out 214 genes that are detected in less than 7.0 cells\n",
      "regressing out ['total_counts']\n",
      "    sparse input is densified and may lead to high memory use\n",
      "    finished (0:00:10.26)\n",
      "computing neighbors\n",
      "    using 'X_pca' with n_pcs = 44\n",
      "    finished (0:00:00.07) --> added to `.uns['neighbors']`\n",
      "    'distances', weighted adjacency matrix\n",
      "    'connectivities', weighted adjacency matrix\n",
      "computing UMAP\n",
      "    finished (0:00:00.57) --> added\n",
      "    'X_umap', UMAP coordinates (adata.obsm)\n",
      "running Louvain clustering\n",
      "    using the \"louvain\" package of Traag (2017)\n",
      "    finished (0:00:00.01) --> found 6 clusters and added\n",
      "    'louvain', the cluster labels (adata.obs, categorical)\n",
      ">> Result: 0.1881525592798934\n"
     ]
    },
    {
     "name": "stderr",
     "output_type": "stream",
     "text": [
      "/opt/anaconda3/envs/astrohack/lib/python3.6/site-packages/sklearn/metrics/cluster/supervised.py:732: FutureWarning: The behavior of AMI will change in version 0.22. To match the behavior of 'v_measure_score', AMI will use average_method='arithmetic' by default.\n",
      "  FutureWarning)\n",
      "/opt/anaconda3/envs/astrohack/lib/python3.6/site-packages/sklearn/metrics/cluster/unsupervised.py:342: RuntimeWarning: divide by zero encountered in true_divide\n",
      "  score = (intra_dists[:, None] + intra_dists) / centroid_distances\n"
     ]
    },
    {
     "name": "stdout",
     "output_type": "stream",
     "text": [
      "... reading from cache file ./cache/input-cellBench-sce8_qc-matrix.h5ad\n",
      "Loading dataset sce8_qc with 15571 genes and 296 cells\n",
      "regressing out ['total_counts']\n",
      "    sparse input is densified and may lead to high memory use\n",
      "    finished (0:00:16.85)\n",
      "computing neighbors\n",
      "    using 'X_pca' with n_pcs = 37\n",
      "    finished (0:00:00.07) --> added to `.uns['neighbors']`\n",
      "    'distances', weighted adjacency matrix\n",
      "    'connectivities', weighted adjacency matrix\n",
      "computing UMAP\n",
      "    finished (0:00:00.48) --> added\n",
      "    'X_umap', UMAP coordinates (adata.obsm)\n",
      "running Louvain clustering\n",
      "    using the \"louvain\" package of Traag (2017)\n",
      "    finished (0:00:00.00) --> found 7 clusters and added\n",
      "    'louvain', the cluster labels (adata.obs, categorical)\n",
      ">> Result: 0.7945781963160752\n"
     ]
    },
    {
     "name": "stderr",
     "output_type": "stream",
     "text": [
      "/opt/anaconda3/envs/astrohack/lib/python3.6/site-packages/sklearn/metrics/cluster/supervised.py:732: FutureWarning: The behavior of AMI will change in version 0.22. To match the behavior of 'v_measure_score', AMI will use average_method='arithmetic' by default.\n",
      "  FutureWarning)\n",
      "/opt/anaconda3/envs/astrohack/lib/python3.6/site-packages/sklearn/metrics/cluster/unsupervised.py:342: RuntimeWarning: divide by zero encountered in true_divide\n",
      "  score = (intra_dists[:, None] + intra_dists) / centroid_distances\n"
     ]
    },
    {
     "name": "stdout",
     "output_type": "stream",
     "text": [
      "... reading from cache file ./cache/input-cellBench-sce8_qc-matrix.h5ad\n",
      "Loading dataset sce8_qc with 15571 genes and 296 cells\n",
      "regressing out ['total_counts']\n",
      "    sparse input is densified and may lead to high memory use\n",
      "    finished (0:00:16.66)\n",
      "computing neighbors\n",
      "    using 'X_pca' with n_pcs = 47\n",
      "    finished (0:00:00.06) --> added to `.uns['neighbors']`\n",
      "    'distances', weighted adjacency matrix\n",
      "    'connectivities', weighted adjacency matrix\n",
      "computing UMAP\n",
      "    finished (0:00:00.43) --> added\n",
      "    'X_umap', UMAP coordinates (adata.obsm)\n",
      "running Louvain clustering\n",
      "    using the \"louvain\" package of Traag (2017)\n",
      "    finished (0:00:00.00) --> found 8 clusters and added\n",
      "    'louvain', the cluster labels (adata.obs, categorical)\n",
      ">> Result: 0.07111641720795929\n",
      "... reading from cache file ./cache/input-cellBench-sce8_qc-matrix.h5ad\n"
     ]
    },
    {
     "name": "stderr",
     "output_type": "stream",
     "text": [
      "/opt/anaconda3/envs/astrohack/lib/python3.6/site-packages/sklearn/metrics/cluster/supervised.py:732: FutureWarning: The behavior of AMI will change in version 0.22. To match the behavior of 'v_measure_score', AMI will use average_method='arithmetic' by default.\n",
      "  FutureWarning)\n",
      "/opt/anaconda3/envs/astrohack/lib/python3.6/site-packages/sklearn/metrics/cluster/unsupervised.py:342: RuntimeWarning: divide by zero encountered in true_divide\n",
      "  score = (intra_dists[:, None] + intra_dists) / centroid_distances\n"
     ]
    },
    {
     "name": "stdout",
     "output_type": "stream",
     "text": [
      "Loading dataset sce8_qc with 15571 genes and 296 cells\n",
      "filtered out 583 genes that are detected in less than 9.0 cells\n",
      "regressing out ['total_counts']\n",
      "    sparse input is densified and may lead to high memory use\n",
      "    finished (0:00:16.04)\n",
      "computing neighbors\n",
      "    using 'X_pca' with n_pcs = 35\n",
      "    finished (0:00:00.08) --> added to `.uns['neighbors']`\n",
      "    'distances', weighted adjacency matrix\n",
      "    'connectivities', weighted adjacency matrix\n",
      "computing UMAP\n",
      "    finished (0:00:00.51) --> added\n",
      "    'X_umap', UMAP coordinates (adata.obsm)\n",
      "running Louvain clustering\n",
      "    using the \"louvain\" package of Traag (2017)\n",
      "    finished (0:00:00.00) --> found 6 clusters and added\n",
      "    'louvain', the cluster labels (adata.obs, categorical)\n",
      ">> Result: 0.7674660291718771\n",
      "... reading from cache file ./cache/input-cellBench-sce8_qc-matrix.h5ad\n"
     ]
    },
    {
     "name": "stderr",
     "output_type": "stream",
     "text": [
      "/opt/anaconda3/envs/astrohack/lib/python3.6/site-packages/sklearn/metrics/cluster/supervised.py:732: FutureWarning: The behavior of AMI will change in version 0.22. To match the behavior of 'v_measure_score', AMI will use average_method='arithmetic' by default.\n",
      "  FutureWarning)\n",
      "/opt/anaconda3/envs/astrohack/lib/python3.6/site-packages/sklearn/metrics/cluster/unsupervised.py:342: RuntimeWarning: divide by zero encountered in true_divide\n",
      "  score = (intra_dists[:, None] + intra_dists) / centroid_distances\n"
     ]
    },
    {
     "name": "stdout",
     "output_type": "stream",
     "text": [
      "Loading dataset sce8_qc with 15571 genes and 296 cells\n",
      "regressing out ['total_counts']\n",
      "    sparse input is densified and may lead to high memory use\n",
      "    finished (0:00:03.60)\n",
      "computing neighbors\n",
      "    using 'X_pca' with n_pcs = 28\n",
      "    finished (0:00:00.08) --> added to `.uns['neighbors']`\n",
      "    'distances', weighted adjacency matrix\n",
      "    'connectivities', weighted adjacency matrix\n",
      "computing UMAP\n",
      "    finished (0:00:00.48) --> added\n",
      "    'X_umap', UMAP coordinates (adata.obsm)\n",
      "running Louvain clustering\n",
      "    using the \"louvain\" package of Traag (2017)\n",
      "    finished (0:00:00.00) --> found 6 clusters and added\n",
      "    'louvain', the cluster labels (adata.obs, categorical)\n",
      ">> Result: 0.043194648762794094\n",
      "... reading from cache file ./cache/input-cellBench-sce8_qc-matrix.h5ad\n"
     ]
    },
    {
     "name": "stderr",
     "output_type": "stream",
     "text": [
      "/opt/anaconda3/envs/astrohack/lib/python3.6/site-packages/sklearn/metrics/cluster/supervised.py:732: FutureWarning: The behavior of AMI will change in version 0.22. To match the behavior of 'v_measure_score', AMI will use average_method='arithmetic' by default.\n",
      "  FutureWarning)\n",
      "/opt/anaconda3/envs/astrohack/lib/python3.6/site-packages/sklearn/metrics/cluster/unsupervised.py:342: RuntimeWarning: divide by zero encountered in true_divide\n",
      "  score = (intra_dists[:, None] + intra_dists) / centroid_distances\n"
     ]
    },
    {
     "name": "stdout",
     "output_type": "stream",
     "text": [
      "Loading dataset sce8_qc with 15571 genes and 296 cells\n",
      "computing neighbors\n",
      "    using 'X_pca' with n_pcs = 37\n",
      "    finished (0:00:00.07) --> added to `.uns['neighbors']`\n",
      "    'distances', weighted adjacency matrix\n",
      "    'connectivities', weighted adjacency matrix\n",
      "computing UMAP\n",
      "    finished (0:00:00.43) --> added\n",
      "    'X_umap', UMAP coordinates (adata.obsm)\n",
      "running Louvain clustering\n",
      "    using the \"louvain\" package of Traag (2017)\n",
      "    finished (0:00:00.00) --> found 7 clusters and added\n",
      "    'louvain', the cluster labels (adata.obs, categorical)\n",
      ">> Result: 0.18749996514614073\n",
      "Index  40\n",
      "... reading from cache file ./cache/input-cellBench-sce8_qc-matrix.h5ad\n"
     ]
    },
    {
     "name": "stderr",
     "output_type": "stream",
     "text": [
      "/opt/anaconda3/envs/astrohack/lib/python3.6/site-packages/sklearn/metrics/cluster/supervised.py:732: FutureWarning: The behavior of AMI will change in version 0.22. To match the behavior of 'v_measure_score', AMI will use average_method='arithmetic' by default.\n",
      "  FutureWarning)\n",
      "/opt/anaconda3/envs/astrohack/lib/python3.6/site-packages/sklearn/metrics/cluster/unsupervised.py:342: RuntimeWarning: divide by zero encountered in true_divide\n",
      "  score = (intra_dists[:, None] + intra_dists) / centroid_distances\n"
     ]
    },
    {
     "name": "stdout",
     "output_type": "stream",
     "text": [
      "Loading dataset sce8_qc with 15571 genes and 296 cells\n",
      "filtered out 401 genes that are detected in less than 8.0 cells\n",
      "regressing out ['total_counts']\n",
      "    sparse input is densified and may lead to high memory use\n",
      "    finished (0:00:16.18)\n",
      "computing neighbors\n",
      "    using 'X_pca' with n_pcs = 33\n",
      "    finished (0:00:00.08) --> added to `.uns['neighbors']`\n",
      "    'distances', weighted adjacency matrix\n",
      "    'connectivities', weighted adjacency matrix\n",
      "computing UMAP\n",
      "    finished (0:00:00.43) --> added\n",
      "    'X_umap', UMAP coordinates (adata.obsm)\n",
      "running Louvain clustering\n",
      "    using the \"louvain\" package of Traag (2017)\n",
      "    finished (0:00:00.00) --> found 7 clusters and added\n",
      "    'louvain', the cluster labels (adata.obs, categorical)\n",
      ">> Result: 0.06017609068831496\n",
      "... reading from cache file ./cache/input-cellBench-sce8_qc-matrix.h5ad\n"
     ]
    },
    {
     "name": "stderr",
     "output_type": "stream",
     "text": [
      "/opt/anaconda3/envs/astrohack/lib/python3.6/site-packages/sklearn/metrics/cluster/supervised.py:732: FutureWarning: The behavior of AMI will change in version 0.22. To match the behavior of 'v_measure_score', AMI will use average_method='arithmetic' by default.\n",
      "  FutureWarning)\n",
      "/opt/anaconda3/envs/astrohack/lib/python3.6/site-packages/sklearn/metrics/cluster/unsupervised.py:342: RuntimeWarning: divide by zero encountered in true_divide\n",
      "  score = (intra_dists[:, None] + intra_dists) / centroid_distances\n"
     ]
    },
    {
     "name": "stdout",
     "output_type": "stream",
     "text": [
      "Loading dataset sce8_qc with 15571 genes and 296 cells\n",
      "computing neighbors\n",
      "    using 'X_pca' with n_pcs = 43\n",
      "    finished (0:00:00.06) --> added to `.uns['neighbors']`\n",
      "    'distances', weighted adjacency matrix\n",
      "    'connectivities', weighted adjacency matrix\n",
      "computing UMAP\n",
      "    finished (0:00:00.42) --> added\n",
      "    'X_umap', UMAP coordinates (adata.obsm)\n",
      "running Louvain clustering\n",
      "    using the \"louvain\" package of Traag (2017)\n",
      "    finished (0:00:00.00) --> found 7 clusters and added\n",
      "    'louvain', the cluster labels (adata.obs, categorical)\n",
      ">> Result: 0.7438476408186195\n",
      "... reading from cache file ./cache/input-cellBench-sce8_qc-matrix.h5ad\n"
     ]
    },
    {
     "name": "stderr",
     "output_type": "stream",
     "text": [
      "/opt/anaconda3/envs/astrohack/lib/python3.6/site-packages/sklearn/metrics/cluster/supervised.py:732: FutureWarning: The behavior of AMI will change in version 0.22. To match the behavior of 'v_measure_score', AMI will use average_method='arithmetic' by default.\n",
      "  FutureWarning)\n",
      "/opt/anaconda3/envs/astrohack/lib/python3.6/site-packages/sklearn/metrics/cluster/unsupervised.py:342: RuntimeWarning: divide by zero encountered in true_divide\n",
      "  score = (intra_dists[:, None] + intra_dists) / centroid_distances\n"
     ]
    },
    {
     "name": "stdout",
     "output_type": "stream",
     "text": [
      "Loading dataset sce8_qc with 15571 genes and 296 cells\n",
      "regressing out ['total_counts']\n",
      "    sparse input is densified and may lead to high memory use\n",
      "    finished (0:00:13.17)\n",
      "computing neighbors\n",
      "    using 'X_pca' with n_pcs = 23\n",
      "    finished (0:00:00.08) --> added to `.uns['neighbors']`\n",
      "    'distances', weighted adjacency matrix\n",
      "    'connectivities', weighted adjacency matrix\n",
      "computing UMAP\n",
      "    finished (0:00:00.52) --> added\n",
      "    'X_umap', UMAP coordinates (adata.obsm)\n",
      "running Louvain clustering\n",
      "    using the \"louvain\" package of Traag (2017)\n",
      "    finished (0:00:00.01) --> found 6 clusters and added\n",
      "    'louvain', the cluster labels (adata.obs, categorical)\n",
      ">> Result: 0.2201759743728413\n",
      "... reading from cache file ./cache/input-cellBench-sce8_qc-matrix.h5ad\n"
     ]
    },
    {
     "name": "stderr",
     "output_type": "stream",
     "text": [
      "/opt/anaconda3/envs/astrohack/lib/python3.6/site-packages/sklearn/metrics/cluster/supervised.py:732: FutureWarning: The behavior of AMI will change in version 0.22. To match the behavior of 'v_measure_score', AMI will use average_method='arithmetic' by default.\n",
      "  FutureWarning)\n",
      "/opt/anaconda3/envs/astrohack/lib/python3.6/site-packages/sklearn/metrics/cluster/unsupervised.py:342: RuntimeWarning: divide by zero encountered in true_divide\n",
      "  score = (intra_dists[:, None] + intra_dists) / centroid_distances\n"
     ]
    },
    {
     "name": "stdout",
     "output_type": "stream",
     "text": [
      "Loading dataset sce8_qc with 15571 genes and 296 cells\n",
      "regressing out ['total_counts']\n",
      "    sparse input is densified and may lead to high memory use\n",
      "    finished (0:00:16.71)\n",
      "computing neighbors\n",
      "    using 'X_pca' with n_pcs = 41\n",
      "    finished (0:00:00.07) --> added to `.uns['neighbors']`\n",
      "    'distances', weighted adjacency matrix\n",
      "    'connectivities', weighted adjacency matrix\n",
      "computing UMAP\n",
      "    finished (0:00:00.41) --> added\n",
      "    'X_umap', UMAP coordinates (adata.obsm)\n",
      "running Louvain clustering\n",
      "    using the \"louvain\" package of Traag (2017)\n",
      "    finished (0:00:00.00) --> found 8 clusters and added\n",
      "    'louvain', the cluster labels (adata.obs, categorical)\n",
      ">> Result: 0.06310420039812699\n"
     ]
    },
    {
     "name": "stderr",
     "output_type": "stream",
     "text": [
      "/opt/anaconda3/envs/astrohack/lib/python3.6/site-packages/sklearn/metrics/cluster/supervised.py:732: FutureWarning: The behavior of AMI will change in version 0.22. To match the behavior of 'v_measure_score', AMI will use average_method='arithmetic' by default.\n",
      "  FutureWarning)\n",
      "/opt/anaconda3/envs/astrohack/lib/python3.6/site-packages/sklearn/metrics/cluster/unsupervised.py:342: RuntimeWarning: divide by zero encountered in true_divide\n",
      "  score = (intra_dists[:, None] + intra_dists) / centroid_distances\n"
     ]
    },
    {
     "name": "stdout",
     "output_type": "stream",
     "text": [
      "... reading from cache file ./cache/input-cellBench-sce8_qc-matrix.h5ad\n",
      "Loading dataset sce8_qc with 15571 genes and 296 cells\n",
      "computing neighbors\n",
      "    using 'X_pca' with n_pcs = 34\n",
      "    finished (0:00:00.05) --> added to `.uns['neighbors']`\n",
      "    'distances', weighted adjacency matrix\n",
      "    'connectivities', weighted adjacency matrix\n",
      "computing UMAP\n",
      "    finished (0:00:00.38) --> added\n",
      "    'X_umap', UMAP coordinates (adata.obsm)\n",
      "running Louvain clustering\n",
      "    using the \"louvain\" package of Traag (2017)\n",
      "    finished (0:00:00.00) --> found 10 clusters and added\n",
      "    'louvain', the cluster labels (adata.obs, categorical)\n",
      ">> Result: 0.6678205542457049\n",
      "... reading from cache file ./cache/input-cellBench-sce8_qc-matrix.h5ad\n"
     ]
    },
    {
     "name": "stderr",
     "output_type": "stream",
     "text": [
      "/opt/anaconda3/envs/astrohack/lib/python3.6/site-packages/sklearn/metrics/cluster/supervised.py:732: FutureWarning: The behavior of AMI will change in version 0.22. To match the behavior of 'v_measure_score', AMI will use average_method='arithmetic' by default.\n",
      "  FutureWarning)\n",
      "/opt/anaconda3/envs/astrohack/lib/python3.6/site-packages/sklearn/metrics/cluster/unsupervised.py:342: RuntimeWarning: divide by zero encountered in true_divide\n",
      "  score = (intra_dists[:, None] + intra_dists) / centroid_distances\n"
     ]
    },
    {
     "name": "stdout",
     "output_type": "stream",
     "text": [
      "Loading dataset sce8_qc with 15571 genes and 296 cells\n",
      "filtered out 214 genes that are detected in less than 7.0 cells\n",
      "regressing out ['total_counts']\n",
      "    sparse input is densified and may lead to high memory use\n",
      "    finished (0:00:16.64)\n",
      "computing neighbors\n",
      "    using 'X_pca' with n_pcs = 31\n",
      "    finished (0:00:00.07) --> added to `.uns['neighbors']`\n",
      "    'distances', weighted adjacency matrix\n",
      "    'connectivities', weighted adjacency matrix\n",
      "computing UMAP\n",
      "    finished (0:00:00.50) --> added\n",
      "    'X_umap', UMAP coordinates (adata.obsm)\n",
      "running Louvain clustering\n",
      "    using the \"louvain\" package of Traag (2017)\n",
      "    finished (0:00:00.00) --> found 6 clusters and added\n",
      "    'louvain', the cluster labels (adata.obs, categorical)\n",
      ">> Result: 0.7565067639618095\n",
      "... reading from cache file ./cache/input-cellBench-sce8_qc-matrix.h5ad\n"
     ]
    },
    {
     "name": "stderr",
     "output_type": "stream",
     "text": [
      "/opt/anaconda3/envs/astrohack/lib/python3.6/site-packages/sklearn/metrics/cluster/supervised.py:732: FutureWarning: The behavior of AMI will change in version 0.22. To match the behavior of 'v_measure_score', AMI will use average_method='arithmetic' by default.\n",
      "  FutureWarning)\n",
      "/opt/anaconda3/envs/astrohack/lib/python3.6/site-packages/sklearn/metrics/cluster/unsupervised.py:342: RuntimeWarning: divide by zero encountered in true_divide\n",
      "  score = (intra_dists[:, None] + intra_dists) / centroid_distances\n"
     ]
    },
    {
     "name": "stdout",
     "output_type": "stream",
     "text": [
      "Loading dataset sce8_qc with 15571 genes and 296 cells\n",
      "regressing out ['total_counts']\n",
      "    sparse input is densified and may lead to high memory use\n",
      "    finished (0:00:02.83)\n",
      "computing neighbors\n",
      "    using 'X_pca' with n_pcs = 29\n",
      "    finished (0:00:00.06) --> added to `.uns['neighbors']`\n",
      "    'distances', weighted adjacency matrix\n",
      "    'connectivities', weighted adjacency matrix\n",
      "computing UMAP\n",
      "    finished (0:00:00.44) --> added\n",
      "    'X_umap', UMAP coordinates (adata.obsm)\n",
      "running Louvain clustering\n",
      "    using the \"louvain\" package of Traag (2017)\n",
      "    finished (0:00:00.00) --> found 8 clusters and added\n",
      "    'louvain', the cluster labels (adata.obs, categorical)\n",
      ">> Result: 0.22254436008118908\n",
      "... reading from cache file ./cache/input-cellBench-sce8_qc-matrix.h5ad\n"
     ]
    },
    {
     "name": "stderr",
     "output_type": "stream",
     "text": [
      "/opt/anaconda3/envs/astrohack/lib/python3.6/site-packages/sklearn/metrics/cluster/supervised.py:732: FutureWarning: The behavior of AMI will change in version 0.22. To match the behavior of 'v_measure_score', AMI will use average_method='arithmetic' by default.\n",
      "  FutureWarning)\n",
      "/opt/anaconda3/envs/astrohack/lib/python3.6/site-packages/sklearn/metrics/cluster/unsupervised.py:342: RuntimeWarning: divide by zero encountered in true_divide\n",
      "  score = (intra_dists[:, None] + intra_dists) / centroid_distances\n"
     ]
    },
    {
     "name": "stdout",
     "output_type": "stream",
     "text": [
      "Loading dataset sce8_qc with 15571 genes and 296 cells\n",
      "filtered out 769 genes that are detected in less than 10.0 cells\n",
      "computing neighbors\n",
      "    using 'X_pca' with n_pcs = 46\n",
      "    finished (0:00:00.08) --> added to `.uns['neighbors']`\n",
      "    'distances', weighted adjacency matrix\n",
      "    'connectivities', weighted adjacency matrix\n",
      "computing UMAP\n",
      "    finished (0:00:00.49) --> added\n",
      "    'X_umap', UMAP coordinates (adata.obsm)\n",
      "running Louvain clustering\n",
      "    using the \"louvain\" package of Traag (2017)\n",
      "    finished (0:00:00.00) --> found 5 clusters and added\n",
      "    'louvain', the cluster labels (adata.obs, categorical)\n",
      ">> Result: 0.02958371421123761\n",
      "... reading from cache file ./cache/input-cellBench-sce8_qc-matrix.h5ad\n"
     ]
    },
    {
     "name": "stderr",
     "output_type": "stream",
     "text": [
      "/opt/anaconda3/envs/astrohack/lib/python3.6/site-packages/sklearn/metrics/cluster/supervised.py:732: FutureWarning: The behavior of AMI will change in version 0.22. To match the behavior of 'v_measure_score', AMI will use average_method='arithmetic' by default.\n",
      "  FutureWarning)\n",
      "/opt/anaconda3/envs/astrohack/lib/python3.6/site-packages/sklearn/metrics/cluster/unsupervised.py:342: RuntimeWarning: divide by zero encountered in true_divide\n",
      "  score = (intra_dists[:, None] + intra_dists) / centroid_distances\n"
     ]
    },
    {
     "name": "stdout",
     "output_type": "stream",
     "text": [
      "Loading dataset sce8_qc with 15571 genes and 296 cells\n",
      "filtered out 987 genes that are detected in less than 12.0 cells\n",
      "regressing out ['total_counts']\n",
      "    sparse input is densified and may lead to high memory use\n",
      "    finished (0:00:15.61)\n",
      "computing neighbors\n",
      "    using 'X_pca' with n_pcs = 36\n",
      "    finished (0:00:00.06) --> added to `.uns['neighbors']`\n",
      "    'distances', weighted adjacency matrix\n",
      "    'connectivities', weighted adjacency matrix\n",
      "computing UMAP\n",
      "    finished (0:00:00.41) --> added\n",
      "    'X_umap', UMAP coordinates (adata.obsm)\n",
      "running Louvain clustering\n",
      "    using the \"louvain\" package of Traag (2017)\n",
      "    finished (0:00:00.00) --> found 7 clusters and added\n",
      "    'louvain', the cluster labels (adata.obs, categorical)\n",
      ">> Result: 0.8282051402729587\n",
      "... reading from cache file ./cache/input-cellBench-sce8_qc-matrix.h5ad\n"
     ]
    },
    {
     "name": "stderr",
     "output_type": "stream",
     "text": [
      "/opt/anaconda3/envs/astrohack/lib/python3.6/site-packages/sklearn/metrics/cluster/supervised.py:732: FutureWarning: The behavior of AMI will change in version 0.22. To match the behavior of 'v_measure_score', AMI will use average_method='arithmetic' by default.\n",
      "  FutureWarning)\n",
      "/opt/anaconda3/envs/astrohack/lib/python3.6/site-packages/sklearn/metrics/cluster/unsupervised.py:342: RuntimeWarning: divide by zero encountered in true_divide\n",
      "  score = (intra_dists[:, None] + intra_dists) / centroid_distances\n"
     ]
    },
    {
     "name": "stdout",
     "output_type": "stream",
     "text": [
      "Loading dataset sce8_qc with 15571 genes and 296 cells\n",
      "filtered out 1411 genes that are detected in less than 16.0 cells\n",
      "regressing out ['total_counts']\n",
      "    sparse input is densified and may lead to high memory use\n",
      "    finished (0:00:15.01)\n",
      "computing neighbors\n",
      "    using 'X_pca' with n_pcs = 20\n",
      "    finished (0:00:00.07) --> added to `.uns['neighbors']`\n",
      "    'distances', weighted adjacency matrix\n",
      "    'connectivities', weighted adjacency matrix\n",
      "computing UMAP\n",
      "    finished (0:00:00.42) --> added\n",
      "    'X_umap', UMAP coordinates (adata.obsm)\n",
      "running Louvain clustering\n",
      "    using the \"louvain\" package of Traag (2017)\n",
      "    finished (0:00:00.00) --> found 8 clusters and added\n",
      "    'louvain', the cluster labels (adata.obs, categorical)\n",
      ">> Result: 0.8163129881563972\n",
      "Index  50\n"
     ]
    },
    {
     "name": "stderr",
     "output_type": "stream",
     "text": [
      "/opt/anaconda3/envs/astrohack/lib/python3.6/site-packages/sklearn/metrics/cluster/supervised.py:732: FutureWarning: The behavior of AMI will change in version 0.22. To match the behavior of 'v_measure_score', AMI will use average_method='arithmetic' by default.\n",
      "  FutureWarning)\n",
      "/opt/anaconda3/envs/astrohack/lib/python3.6/site-packages/sklearn/metrics/cluster/unsupervised.py:342: RuntimeWarning: divide by zero encountered in true_divide\n",
      "  score = (intra_dists[:, None] + intra_dists) / centroid_distances\n"
     ]
    },
    {
     "name": "stdout",
     "output_type": "stream",
     "text": [
      "... reading from cache file ./cache/input-cellBench-sce8_qc-matrix.h5ad\n",
      "Loading dataset sce8_qc with 15571 genes and 296 cells\n",
      "computing neighbors\n",
      "    using 'X_pca' with n_pcs = 24\n",
      "    finished (0:00:00.06) --> added to `.uns['neighbors']`\n",
      "    'distances', weighted adjacency matrix\n",
      "    'connectivities', weighted adjacency matrix\n",
      "computing UMAP\n",
      "    finished (0:00:00.35) --> added\n",
      "    'X_umap', UMAP coordinates (adata.obsm)\n",
      "running Louvain clustering\n",
      "    using the \"louvain\" package of Traag (2017)\n",
      "    finished (0:00:00.00) --> found 10 clusters and added\n",
      "    'louvain', the cluster labels (adata.obs, categorical)\n",
      ">> Result: 0.06702793707796925\n",
      "... reading from cache file ./cache/input-cellBench-sce8_qc-matrix.h5ad\n"
     ]
    },
    {
     "name": "stderr",
     "output_type": "stream",
     "text": [
      "/opt/anaconda3/envs/astrohack/lib/python3.6/site-packages/sklearn/metrics/cluster/supervised.py:732: FutureWarning: The behavior of AMI will change in version 0.22. To match the behavior of 'v_measure_score', AMI will use average_method='arithmetic' by default.\n",
      "  FutureWarning)\n",
      "/opt/anaconda3/envs/astrohack/lib/python3.6/site-packages/sklearn/metrics/cluster/unsupervised.py:342: RuntimeWarning: divide by zero encountered in true_divide\n",
      "  score = (intra_dists[:, None] + intra_dists) / centroid_distances\n"
     ]
    },
    {
     "name": "stdout",
     "output_type": "stream",
     "text": [
      "Loading dataset sce8_qc with 15571 genes and 296 cells\n",
      "filtered out 1301 genes that are detected in less than 15.0 cells\n",
      "regressing out ['total_counts']\n",
      "    sparse input is densified and may lead to high memory use\n",
      "    finished (0:00:11.82)\n",
      "computing neighbors\n",
      "    using 'X_pca' with n_pcs = 38\n",
      "    finished (0:00:00.06) --> added to `.uns['neighbors']`\n",
      "    'distances', weighted adjacency matrix\n",
      "    'connectivities', weighted adjacency matrix\n",
      "computing UMAP\n",
      "    finished (0:00:00.33) --> added\n",
      "    'X_umap', UMAP coordinates (adata.obsm)\n",
      "running Louvain clustering\n",
      "    using the \"louvain\" package of Traag (2017)\n",
      "    finished (0:00:00.00) --> found 10 clusters and added\n",
      "    'louvain', the cluster labels (adata.obs, categorical)\n",
      ">> Result: 0.2577114628441257\n",
      "... reading from cache file ./cache/input-cellBench-sce8_qc-matrix.h5ad\n"
     ]
    },
    {
     "name": "stderr",
     "output_type": "stream",
     "text": [
      "/opt/anaconda3/envs/astrohack/lib/python3.6/site-packages/sklearn/metrics/cluster/supervised.py:732: FutureWarning: The behavior of AMI will change in version 0.22. To match the behavior of 'v_measure_score', AMI will use average_method='arithmetic' by default.\n",
      "  FutureWarning)\n",
      "/opt/anaconda3/envs/astrohack/lib/python3.6/site-packages/sklearn/metrics/cluster/unsupervised.py:342: RuntimeWarning: divide by zero encountered in true_divide\n",
      "  score = (intra_dists[:, None] + intra_dists) / centroid_distances\n"
     ]
    },
    {
     "name": "stdout",
     "output_type": "stream",
     "text": [
      "Loading dataset sce8_qc with 15571 genes and 296 cells\n",
      "filtered out 987 genes that are detected in less than 12.0 cells\n",
      "regressing out ['total_counts']\n",
      "    sparse input is densified and may lead to high memory use\n",
      "    finished (0:00:15.64)\n",
      "computing neighbors\n",
      "    using 'X_pca' with n_pcs = 34\n",
      "    finished (0:00:00.06) --> added to `.uns['neighbors']`\n",
      "    'distances', weighted adjacency matrix\n",
      "    'connectivities', weighted adjacency matrix\n",
      "computing UMAP\n",
      "    finished (0:00:00.40) --> added\n",
      "    'X_umap', UMAP coordinates (adata.obsm)\n",
      "running Louvain clustering\n",
      "    using the \"louvain\" package of Traag (2017)\n",
      "    finished (0:00:00.00) --> found 7 clusters and added\n",
      "    'louvain', the cluster labels (adata.obs, categorical)\n",
      ">> Result: 0.6149525836122727\n",
      "... reading from cache file ./cache/input-cellBench-sce8_qc-matrix.h5ad\n"
     ]
    },
    {
     "name": "stderr",
     "output_type": "stream",
     "text": [
      "/opt/anaconda3/envs/astrohack/lib/python3.6/site-packages/sklearn/metrics/cluster/supervised.py:732: FutureWarning: The behavior of AMI will change in version 0.22. To match the behavior of 'v_measure_score', AMI will use average_method='arithmetic' by default.\n",
      "  FutureWarning)\n",
      "/opt/anaconda3/envs/astrohack/lib/python3.6/site-packages/sklearn/metrics/cluster/unsupervised.py:342: RuntimeWarning: divide by zero encountered in true_divide\n",
      "  score = (intra_dists[:, None] + intra_dists) / centroid_distances\n"
     ]
    },
    {
     "name": "stdout",
     "output_type": "stream",
     "text": [
      "Loading dataset sce8_qc with 15571 genes and 296 cells\n",
      "computing neighbors\n",
      "    using 'X_pca' with n_pcs = 26\n",
      "    finished (0:00:00.05) --> added to `.uns['neighbors']`\n",
      "    'distances', weighted adjacency matrix\n",
      "    'connectivities', weighted adjacency matrix\n",
      "computing UMAP\n",
      "    finished (0:00:00.33) --> added\n",
      "    'X_umap', UMAP coordinates (adata.obsm)\n",
      "running Louvain clustering\n",
      "    using the \"louvain\" package of Traag (2017)\n",
      "    finished (0:00:00.00) --> found 11 clusters and added\n",
      "    'louvain', the cluster labels (adata.obs, categorical)\n",
      ">> Result: 0.6306652823800383\n",
      "... reading from cache file ./cache/input-cellBench-sce8_qc-matrix.h5ad\n"
     ]
    },
    {
     "name": "stderr",
     "output_type": "stream",
     "text": [
      "/opt/anaconda3/envs/astrohack/lib/python3.6/site-packages/sklearn/metrics/cluster/supervised.py:732: FutureWarning: The behavior of AMI will change in version 0.22. To match the behavior of 'v_measure_score', AMI will use average_method='arithmetic' by default.\n",
      "  FutureWarning)\n",
      "/opt/anaconda3/envs/astrohack/lib/python3.6/site-packages/sklearn/metrics/cluster/unsupervised.py:342: RuntimeWarning: divide by zero encountered in true_divide\n",
      "  score = (intra_dists[:, None] + intra_dists) / centroid_distances\n"
     ]
    },
    {
     "name": "stdout",
     "output_type": "stream",
     "text": [
      "Loading dataset sce8_qc with 15571 genes and 296 cells\n",
      "filtered out 583 genes that are detected in less than 9.0 cells\n",
      "regressing out ['total_counts']\n",
      "    sparse input is densified and may lead to high memory use\n",
      "    finished (0:00:16.10)\n",
      "computing neighbors\n",
      "    using 'X_pca' with n_pcs = 29\n",
      "    finished (0:00:00.07) --> added to `.uns['neighbors']`\n",
      "    'distances', weighted adjacency matrix\n",
      "    'connectivities', weighted adjacency matrix\n",
      "computing UMAP\n",
      "    finished (0:00:00.46) --> added\n",
      "    'X_umap', UMAP coordinates (adata.obsm)\n",
      "running Louvain clustering\n",
      "    using the \"louvain\" package of Traag (2017)\n",
      "    finished (0:00:00.00) --> found 7 clusters and added\n",
      "    'louvain', the cluster labels (adata.obs, categorical)\n",
      ">> Result: 0.8281478823000985\n",
      "... reading from cache file ./cache/input-cellBench-sce8_qc-matrix.h5ad\n"
     ]
    },
    {
     "name": "stderr",
     "output_type": "stream",
     "text": [
      "/opt/anaconda3/envs/astrohack/lib/python3.6/site-packages/sklearn/metrics/cluster/supervised.py:732: FutureWarning: The behavior of AMI will change in version 0.22. To match the behavior of 'v_measure_score', AMI will use average_method='arithmetic' by default.\n",
      "  FutureWarning)\n",
      "/opt/anaconda3/envs/astrohack/lib/python3.6/site-packages/sklearn/metrics/cluster/unsupervised.py:342: RuntimeWarning: divide by zero encountered in true_divide\n",
      "  score = (intra_dists[:, None] + intra_dists) / centroid_distances\n"
     ]
    },
    {
     "name": "stdout",
     "output_type": "stream",
     "text": [
      "Loading dataset sce8_qc with 15571 genes and 296 cells\n",
      "filtered out 769 genes that are detected in less than 10.0 cells\n",
      "regressing out ['total_counts']\n",
      "    sparse input is densified and may lead to high memory use\n",
      "    finished (0:00:15.69)\n",
      "computing neighbors\n",
      "    using 'X_pca' with n_pcs = 29\n",
      "    finished (0:00:00.05) --> added to `.uns['neighbors']`\n",
      "    'distances', weighted adjacency matrix\n",
      "    'connectivities', weighted adjacency matrix\n",
      "computing UMAP\n",
      "    finished (0:00:00.47) --> added\n",
      "    'X_umap', UMAP coordinates (adata.obsm)\n",
      "running Louvain clustering\n",
      "    using the \"louvain\" package of Traag (2017)\n",
      "    finished (0:00:00.00) --> found 7 clusters and added\n",
      "    'louvain', the cluster labels (adata.obs, categorical)\n",
      ">> Result: 0.8281478823000985\n",
      "... reading from cache file ./cache/input-cellBench-sce8_qc-matrix.h5ad\n"
     ]
    },
    {
     "name": "stderr",
     "output_type": "stream",
     "text": [
      "/opt/anaconda3/envs/astrohack/lib/python3.6/site-packages/sklearn/metrics/cluster/supervised.py:732: FutureWarning: The behavior of AMI will change in version 0.22. To match the behavior of 'v_measure_score', AMI will use average_method='arithmetic' by default.\n",
      "  FutureWarning)\n",
      "/opt/anaconda3/envs/astrohack/lib/python3.6/site-packages/sklearn/metrics/cluster/unsupervised.py:342: RuntimeWarning: divide by zero encountered in true_divide\n",
      "  score = (intra_dists[:, None] + intra_dists) / centroid_distances\n"
     ]
    },
    {
     "name": "stdout",
     "output_type": "stream",
     "text": [
      "Loading dataset sce8_qc with 15571 genes and 296 cells\n",
      "filtered out 884 genes that are detected in less than 11.0 cells\n",
      "regressing out ['total_counts']\n",
      "    sparse input is densified and may lead to high memory use\n",
      "    finished (0:00:17.15)\n",
      "computing neighbors\n",
      "    using 'X_pca' with n_pcs = 32\n",
      "    finished (0:00:00.05) --> added to `.uns['neighbors']`\n",
      "    'distances', weighted adjacency matrix\n",
      "    'connectivities', weighted adjacency matrix\n",
      "computing UMAP\n",
      "    finished (0:00:00.46) --> added\n",
      "    'X_umap', UMAP coordinates (adata.obsm)\n",
      "running Louvain clustering\n",
      "    using the \"louvain\" package of Traag (2017)\n",
      "    finished (0:00:00.00) --> found 7 clusters and added\n",
      "    'louvain', the cluster labels (adata.obs, categorical)\n",
      ">> Result: 0.8281478823000985\n",
      "... reading from cache file ./cache/input-cellBench-sce8_qc-matrix.h5ad\n"
     ]
    },
    {
     "name": "stderr",
     "output_type": "stream",
     "text": [
      "/opt/anaconda3/envs/astrohack/lib/python3.6/site-packages/sklearn/metrics/cluster/supervised.py:732: FutureWarning: The behavior of AMI will change in version 0.22. To match the behavior of 'v_measure_score', AMI will use average_method='arithmetic' by default.\n",
      "  FutureWarning)\n",
      "/opt/anaconda3/envs/astrohack/lib/python3.6/site-packages/sklearn/metrics/cluster/unsupervised.py:342: RuntimeWarning: divide by zero encountered in true_divide\n",
      "  score = (intra_dists[:, None] + intra_dists) / centroid_distances\n"
     ]
    },
    {
     "name": "stdout",
     "output_type": "stream",
     "text": [
      "Loading dataset sce8_qc with 15571 genes and 296 cells\n",
      "filtered out 1100 genes that are detected in less than 13.0 cells\n",
      "regressing out ['total_counts']\n",
      "    sparse input is densified and may lead to high memory use\n",
      "    finished (0:00:15.77)\n",
      "computing neighbors\n",
      "    using 'X_pca' with n_pcs = 32\n",
      "    finished (0:00:00.07) --> added to `.uns['neighbors']`\n",
      "    'distances', weighted adjacency matrix\n",
      "    'connectivities', weighted adjacency matrix\n",
      "computing UMAP\n",
      "    finished (0:00:00.43) --> added\n",
      "    'X_umap', UMAP coordinates (adata.obsm)\n",
      "running Louvain clustering\n",
      "    using the \"louvain\" package of Traag (2017)\n",
      "    finished (0:00:00.00) --> found 7 clusters and added\n",
      "    'louvain', the cluster labels (adata.obs, categorical)\n",
      ">> Result: 0.8281478823000985\n",
      "... reading from cache file ./cache/input-cellBench-sce8_qc-matrix.h5ad\n"
     ]
    },
    {
     "name": "stderr",
     "output_type": "stream",
     "text": [
      "/opt/anaconda3/envs/astrohack/lib/python3.6/site-packages/sklearn/metrics/cluster/supervised.py:732: FutureWarning: The behavior of AMI will change in version 0.22. To match the behavior of 'v_measure_score', AMI will use average_method='arithmetic' by default.\n",
      "  FutureWarning)\n",
      "/opt/anaconda3/envs/astrohack/lib/python3.6/site-packages/sklearn/metrics/cluster/unsupervised.py:342: RuntimeWarning: divide by zero encountered in true_divide\n",
      "  score = (intra_dists[:, None] + intra_dists) / centroid_distances\n"
     ]
    },
    {
     "name": "stdout",
     "output_type": "stream",
     "text": [
      "Loading dataset sce8_qc with 15571 genes and 296 cells\n",
      "filtered out 1100 genes that are detected in less than 13.0 cells\n",
      "regressing out ['total_counts']\n",
      "    sparse input is densified and may lead to high memory use\n",
      "    finished (0:00:15.41)\n",
      "computing neighbors\n",
      "    using 'X_pca' with n_pcs = 36\n",
      "    finished (0:00:00.06) --> added to `.uns['neighbors']`\n",
      "    'distances', weighted adjacency matrix\n",
      "    'connectivities', weighted adjacency matrix\n",
      "computing UMAP\n",
      "    finished (0:00:00.38) --> added\n",
      "    'X_umap', UMAP coordinates (adata.obsm)\n",
      "running Louvain clustering\n",
      "    using the \"louvain\" package of Traag (2017)\n",
      "    finished (0:00:00.00) --> found 7 clusters and added\n",
      "    'louvain', the cluster labels (adata.obs, categorical)\n",
      ">> Result: 0.8329849629875238\n",
      "... reading from cache file ./cache/input-cellBench-sce8_qc-matrix.h5ad\n"
     ]
    },
    {
     "name": "stderr",
     "output_type": "stream",
     "text": [
      "/opt/anaconda3/envs/astrohack/lib/python3.6/site-packages/sklearn/metrics/cluster/supervised.py:732: FutureWarning: The behavior of AMI will change in version 0.22. To match the behavior of 'v_measure_score', AMI will use average_method='arithmetic' by default.\n",
      "  FutureWarning)\n",
      "/opt/anaconda3/envs/astrohack/lib/python3.6/site-packages/sklearn/metrics/cluster/unsupervised.py:342: RuntimeWarning: divide by zero encountered in true_divide\n",
      "  score = (intra_dists[:, None] + intra_dists) / centroid_distances\n"
     ]
    },
    {
     "name": "stdout",
     "output_type": "stream",
     "text": [
      "Loading dataset sce8_qc with 15571 genes and 296 cells\n",
      "filtered out 1523 genes that are detected in less than 17.0 cells\n",
      "regressing out ['total_counts']\n",
      "    sparse input is densified and may lead to high memory use\n",
      "    finished (0:00:14.97)\n",
      "computing neighbors\n",
      "    using 'X_pca' with n_pcs = 36\n",
      "    finished (0:00:00.05) --> added to `.uns['neighbors']`\n",
      "    'distances', weighted adjacency matrix\n",
      "    'connectivities', weighted adjacency matrix\n",
      "computing UMAP\n",
      "    finished (0:00:00.30) --> added\n",
      "    'X_umap', UMAP coordinates (adata.obsm)\n",
      "running Louvain clustering\n",
      "    using the \"louvain\" package of Traag (2017)\n",
      "    finished (0:00:00.00) --> found 8 clusters and added\n",
      "    'louvain', the cluster labels (adata.obs, categorical)\n",
      ">> Result: 0.7770646979392521\n",
      "Index  60\n",
      "... reading from cache file ./cache/input-cellBench-sce8_qc-matrix.h5ad\n"
     ]
    },
    {
     "name": "stderr",
     "output_type": "stream",
     "text": [
      "/opt/anaconda3/envs/astrohack/lib/python3.6/site-packages/sklearn/metrics/cluster/supervised.py:732: FutureWarning: The behavior of AMI will change in version 0.22. To match the behavior of 'v_measure_score', AMI will use average_method='arithmetic' by default.\n",
      "  FutureWarning)\n",
      "/opt/anaconda3/envs/astrohack/lib/python3.6/site-packages/sklearn/metrics/cluster/unsupervised.py:342: RuntimeWarning: divide by zero encountered in true_divide\n",
      "  score = (intra_dists[:, None] + intra_dists) / centroid_distances\n"
     ]
    },
    {
     "name": "stdout",
     "output_type": "stream",
     "text": [
      "Loading dataset sce8_qc with 15571 genes and 296 cells\n",
      "filtered out 1301 genes that are detected in less than 15.0 cells\n",
      "regressing out ['total_counts']\n",
      "    sparse input is densified and may lead to high memory use\n",
      "    finished (0:00:15.15)\n",
      "computing neighbors\n",
      "    using 'X_pca' with n_pcs = 38\n",
      "    finished (0:00:00.06) --> added to `.uns['neighbors']`\n",
      "    'distances', weighted adjacency matrix\n",
      "    'connectivities', weighted adjacency matrix\n",
      "computing UMAP\n",
      "    finished (0:00:00.39) --> added\n",
      "    'X_umap', UMAP coordinates (adata.obsm)\n",
      "running Louvain clustering\n",
      "    using the \"louvain\" package of Traag (2017)\n",
      "    finished (0:00:00.00) --> found 8 clusters and added\n",
      "    'louvain', the cluster labels (adata.obs, categorical)\n",
      ">> Result: 0.8136549307874605\n",
      "... reading from cache file ./cache/input-cellBench-sce8_qc-matrix.h5ad\n"
     ]
    },
    {
     "name": "stderr",
     "output_type": "stream",
     "text": [
      "/opt/anaconda3/envs/astrohack/lib/python3.6/site-packages/sklearn/metrics/cluster/supervised.py:732: FutureWarning: The behavior of AMI will change in version 0.22. To match the behavior of 'v_measure_score', AMI will use average_method='arithmetic' by default.\n",
      "  FutureWarning)\n",
      "/opt/anaconda3/envs/astrohack/lib/python3.6/site-packages/sklearn/metrics/cluster/unsupervised.py:342: RuntimeWarning: divide by zero encountered in true_divide\n",
      "  score = (intra_dists[:, None] + intra_dists) / centroid_distances\n"
     ]
    },
    {
     "name": "stdout",
     "output_type": "stream",
     "text": [
      "Loading dataset sce8_qc with 15571 genes and 296 cells\n",
      "filtered out 1206 genes that are detected in less than 14.0 cells\n",
      "regressing out ['total_counts']\n",
      "    sparse input is densified and may lead to high memory use\n",
      "    finished (0:00:15.29)\n",
      "computing neighbors\n",
      "    using 'X_pca' with n_pcs = 32\n",
      "    finished (0:00:00.04) --> added to `.uns['neighbors']`\n",
      "    'distances', weighted adjacency matrix\n",
      "    'connectivities', weighted adjacency matrix\n",
      "computing UMAP\n",
      "    finished (0:00:00.21) --> added\n",
      "    'X_umap', UMAP coordinates (adata.obsm)\n",
      "running Louvain clustering\n",
      "    using the \"louvain\" package of Traag (2017)\n",
      "    finished (0:00:00.00) --> found 10 clusters and added\n",
      "    'louvain', the cluster labels (adata.obs, categorical)\n",
      ">> Result: 0.7010261983702127\n",
      "... reading from cache file ./cache/input-cellBench-sce8_qc-matrix.h5ad\n"
     ]
    },
    {
     "name": "stderr",
     "output_type": "stream",
     "text": [
      "/opt/anaconda3/envs/astrohack/lib/python3.6/site-packages/sklearn/metrics/cluster/supervised.py:732: FutureWarning: The behavior of AMI will change in version 0.22. To match the behavior of 'v_measure_score', AMI will use average_method='arithmetic' by default.\n",
      "  FutureWarning)\n",
      "/opt/anaconda3/envs/astrohack/lib/python3.6/site-packages/sklearn/metrics/cluster/unsupervised.py:342: RuntimeWarning: divide by zero encountered in true_divide\n",
      "  score = (intra_dists[:, None] + intra_dists) / centroid_distances\n"
     ]
    },
    {
     "name": "stdout",
     "output_type": "stream",
     "text": [
      "Loading dataset sce8_qc with 15571 genes and 296 cells\n",
      "filtered out 1100 genes that are detected in less than 13.0 cells\n",
      "regressing out ['total_counts']\n",
      "    sparse input is densified and may lead to high memory use\n",
      "    finished (0:00:15.97)\n",
      "computing neighbors\n",
      "    using 'X_pca' with n_pcs = 40\n",
      "    finished (0:00:00.05) --> added to `.uns['neighbors']`\n",
      "    'distances', weighted adjacency matrix\n",
      "    'connectivities', weighted adjacency matrix\n",
      "computing UMAP\n",
      "    finished (0:00:00.36) --> added\n",
      "    'X_umap', UMAP coordinates (adata.obsm)\n",
      "running Louvain clustering\n",
      "    using the \"louvain\" package of Traag (2017)\n",
      "    finished (0:00:00.00) --> found 8 clusters and added\n",
      "    'louvain', the cluster labels (adata.obs, categorical)\n",
      ">> Result: 0.8023969847923275\n",
      "... reading from cache file ./cache/input-cellBench-sce8_qc-matrix.h5ad\n"
     ]
    },
    {
     "name": "stderr",
     "output_type": "stream",
     "text": [
      "/opt/anaconda3/envs/astrohack/lib/python3.6/site-packages/sklearn/metrics/cluster/supervised.py:732: FutureWarning: The behavior of AMI will change in version 0.22. To match the behavior of 'v_measure_score', AMI will use average_method='arithmetic' by default.\n",
      "  FutureWarning)\n",
      "/opt/anaconda3/envs/astrohack/lib/python3.6/site-packages/sklearn/metrics/cluster/unsupervised.py:342: RuntimeWarning: divide by zero encountered in true_divide\n",
      "  score = (intra_dists[:, None] + intra_dists) / centroid_distances\n"
     ]
    },
    {
     "name": "stdout",
     "output_type": "stream",
     "text": [
      "Loading dataset sce8_qc with 15571 genes and 296 cells\n",
      "filtered out 1523 genes that are detected in less than 17.0 cells\n",
      "regressing out ['total_counts']\n",
      "    sparse input is densified and may lead to high memory use\n",
      "    finished (0:00:15.36)\n",
      "computing neighbors\n",
      "    using 'X_pca' with n_pcs = 41\n",
      "    finished (0:00:00.06) --> added to `.uns['neighbors']`\n",
      "    'distances', weighted adjacency matrix\n",
      "    'connectivities', weighted adjacency matrix\n",
      "computing UMAP\n",
      "    finished (0:00:00.41) --> added\n",
      "    'X_umap', UMAP coordinates (adata.obsm)\n",
      "running Louvain clustering\n",
      "    using the \"louvain\" package of Traag (2017)\n",
      "    finished (0:00:00.00) --> found 8 clusters and added\n",
      "    'louvain', the cluster labels (adata.obs, categorical)\n",
      ">> Result: 0.805003100886804\n",
      "... reading from cache file ./cache/input-cellBench-sce8_qc-matrix.h5ad\n"
     ]
    },
    {
     "name": "stderr",
     "output_type": "stream",
     "text": [
      "/opt/anaconda3/envs/astrohack/lib/python3.6/site-packages/sklearn/metrics/cluster/supervised.py:732: FutureWarning: The behavior of AMI will change in version 0.22. To match the behavior of 'v_measure_score', AMI will use average_method='arithmetic' by default.\n",
      "  FutureWarning)\n",
      "/opt/anaconda3/envs/astrohack/lib/python3.6/site-packages/sklearn/metrics/cluster/unsupervised.py:342: RuntimeWarning: divide by zero encountered in true_divide\n",
      "  score = (intra_dists[:, None] + intra_dists) / centroid_distances\n"
     ]
    },
    {
     "name": "stdout",
     "output_type": "stream",
     "text": [
      "Loading dataset sce8_qc with 15571 genes and 296 cells\n",
      "filtered out 1597 genes that are detected in less than 18.0 cells\n",
      "regressing out ['total_counts']\n",
      "    sparse input is densified and may lead to high memory use\n",
      "    finished (0:00:14.98)\n",
      "computing neighbors\n",
      "    using 'X_pca' with n_pcs = 36\n",
      "    finished (0:00:00.07) --> added to `.uns['neighbors']`\n",
      "    'distances', weighted adjacency matrix\n",
      "    'connectivities', weighted adjacency matrix\n",
      "computing UMAP\n",
      "    finished (0:00:00.43) --> added\n",
      "    'X_umap', UMAP coordinates (adata.obsm)\n",
      "running Louvain clustering\n",
      "    using the \"louvain\" package of Traag (2017)\n",
      "    finished (0:00:00.00) --> found 7 clusters and added\n",
      "    'louvain', the cluster labels (adata.obs, categorical)\n",
      ">> Result: 0.8382190750457329\n",
      "... reading from cache file ./cache/input-cellBench-sce8_qc-matrix.h5ad\n"
     ]
    },
    {
     "name": "stderr",
     "output_type": "stream",
     "text": [
      "/opt/anaconda3/envs/astrohack/lib/python3.6/site-packages/sklearn/metrics/cluster/supervised.py:732: FutureWarning: The behavior of AMI will change in version 0.22. To match the behavior of 'v_measure_score', AMI will use average_method='arithmetic' by default.\n",
      "  FutureWarning)\n",
      "/opt/anaconda3/envs/astrohack/lib/python3.6/site-packages/sklearn/metrics/cluster/unsupervised.py:342: RuntimeWarning: divide by zero encountered in true_divide\n",
      "  score = (intra_dists[:, None] + intra_dists) / centroid_distances\n"
     ]
    },
    {
     "name": "stdout",
     "output_type": "stream",
     "text": [
      "Loading dataset sce8_qc with 15571 genes and 296 cells\n",
      "filtered out 1597 genes that are detected in less than 18.0 cells\n",
      "regressing out ['total_counts']\n",
      "    sparse input is densified and may lead to high memory use\n",
      "    finished (0:00:16.58)\n",
      "computing neighbors\n",
      "    using 'X_pca' with n_pcs = 39\n",
      "    finished (0:00:00.05) --> added to `.uns['neighbors']`\n",
      "    'distances', weighted adjacency matrix\n",
      "    'connectivities', weighted adjacency matrix\n",
      "computing UMAP\n",
      "    finished (0:00:00.26) --> added\n",
      "    'X_umap', UMAP coordinates (adata.obsm)\n",
      "running Louvain clustering\n",
      "    using the \"louvain\" package of Traag (2017)\n",
      "    finished (0:00:00.00) --> found 8 clusters and added\n",
      "    'louvain', the cluster labels (adata.obs, categorical)\n",
      ">> Result: 0.8016077109809313\n",
      "... reading from cache file ./cache/input-cellBench-sce8_qc-matrix.h5ad\n"
     ]
    },
    {
     "name": "stderr",
     "output_type": "stream",
     "text": [
      "/opt/anaconda3/envs/astrohack/lib/python3.6/site-packages/sklearn/metrics/cluster/supervised.py:732: FutureWarning: The behavior of AMI will change in version 0.22. To match the behavior of 'v_measure_score', AMI will use average_method='arithmetic' by default.\n",
      "  FutureWarning)\n",
      "/opt/anaconda3/envs/astrohack/lib/python3.6/site-packages/sklearn/metrics/cluster/unsupervised.py:342: RuntimeWarning: divide by zero encountered in true_divide\n",
      "  score = (intra_dists[:, None] + intra_dists) / centroid_distances\n"
     ]
    },
    {
     "name": "stdout",
     "output_type": "stream",
     "text": [
      "Loading dataset sce8_qc with 15571 genes and 296 cells\n",
      "filtered out 1411 genes that are detected in less than 16.0 cells\n",
      "regressing out ['total_counts']\n",
      "    sparse input is densified and may lead to high memory use\n",
      "    finished (0:00:16.69)\n",
      "computing neighbors\n",
      "    using 'X_pca' with n_pcs = 42\n",
      "    finished (0:00:00.06) --> added to `.uns['neighbors']`\n",
      "    'distances', weighted adjacency matrix\n",
      "    'connectivities', weighted adjacency matrix\n",
      "computing UMAP\n",
      "    finished (0:00:00.39) --> added\n",
      "    'X_umap', UMAP coordinates (adata.obsm)\n",
      "running Louvain clustering\n",
      "    using the \"louvain\" package of Traag (2017)\n",
      "    finished (0:00:00.00) --> found 8 clusters and added\n",
      "    'louvain', the cluster labels (adata.obs, categorical)\n",
      ">> Result: 0.8114224409246952\n"
     ]
    },
    {
     "name": "stderr",
     "output_type": "stream",
     "text": [
      "/opt/anaconda3/envs/astrohack/lib/python3.6/site-packages/sklearn/metrics/cluster/supervised.py:732: FutureWarning: The behavior of AMI will change in version 0.22. To match the behavior of 'v_measure_score', AMI will use average_method='arithmetic' by default.\n",
      "  FutureWarning)\n",
      "/opt/anaconda3/envs/astrohack/lib/python3.6/site-packages/sklearn/metrics/cluster/unsupervised.py:342: RuntimeWarning: divide by zero encountered in true_divide\n",
      "  score = (intra_dists[:, None] + intra_dists) / centroid_distances\n"
     ]
    },
    {
     "name": "stdout",
     "output_type": "stream",
     "text": [
      "... reading from cache file ./cache/input-cellBench-sce8_qc-matrix.h5ad\n",
      "Loading dataset sce8_qc with 15571 genes and 296 cells\n",
      "filtered out 1705 genes that are detected in less than 19.0 cells\n",
      "regressing out ['total_counts']\n",
      "    sparse input is densified and may lead to high memory use\n",
      "    finished (0:00:04.71)\n",
      "computing neighbors\n",
      "    using 'X_pca' with n_pcs = 35\n",
      "    finished (0:00:00.06) --> added to `.uns['neighbors']`\n",
      "    'distances', weighted adjacency matrix\n",
      "    'connectivities', weighted adjacency matrix\n",
      "computing UMAP\n",
      "    finished (0:00:00.27) --> added\n",
      "    'X_umap', UMAP coordinates (adata.obsm)\n",
      "running Louvain clustering\n",
      "    using the \"louvain\" package of Traag (2017)\n",
      "    finished (0:00:00.00) --> found 12 clusters and added\n",
      "    'louvain', the cluster labels (adata.obs, categorical)\n",
      ">> Result: 0.22278753580462726\n",
      "... reading from cache file ./cache/input-cellBench-sce8_qc-matrix.h5ad\n"
     ]
    },
    {
     "name": "stderr",
     "output_type": "stream",
     "text": [
      "/opt/anaconda3/envs/astrohack/lib/python3.6/site-packages/sklearn/metrics/cluster/supervised.py:732: FutureWarning: The behavior of AMI will change in version 0.22. To match the behavior of 'v_measure_score', AMI will use average_method='arithmetic' by default.\n",
      "  FutureWarning)\n",
      "/opt/anaconda3/envs/astrohack/lib/python3.6/site-packages/sklearn/metrics/cluster/unsupervised.py:342: RuntimeWarning: divide by zero encountered in true_divide\n",
      "  score = (intra_dists[:, None] + intra_dists) / centroid_distances\n"
     ]
    },
    {
     "name": "stdout",
     "output_type": "stream",
     "text": [
      "Loading dataset sce8_qc with 15571 genes and 296 cells\n",
      "filtered out 987 genes that are detected in less than 12.0 cells\n",
      "regressing out ['total_counts']\n",
      "    sparse input is densified and may lead to high memory use\n",
      "    finished (0:00:15.45)\n",
      "computing neighbors\n",
      "    using 'X_pca' with n_pcs = 38\n",
      "    finished (0:00:00.03) --> added to `.uns['neighbors']`\n",
      "    'distances', weighted adjacency matrix\n",
      "    'connectivities', weighted adjacency matrix\n",
      "computing UMAP\n",
      "    finished (0:00:00.11) --> added\n",
      "    'X_umap', UMAP coordinates (adata.obsm)\n",
      "running Louvain clustering\n",
      "    using the \"louvain\" package of Traag (2017)\n",
      "    finished (0:00:00.00) --> found 75 clusters and added\n",
      "    'louvain', the cluster labels (adata.obs, categorical)\n"
     ]
    },
    {
     "name": "stderr",
     "output_type": "stream",
     "text": [
      "/opt/anaconda3/envs/astrohack/lib/python3.6/site-packages/sklearn/metrics/cluster/supervised.py:732: FutureWarning: The behavior of AMI will change in version 0.22. To match the behavior of 'v_measure_score', AMI will use average_method='arithmetic' by default.\n",
      "  FutureWarning)\n",
      "/opt/anaconda3/envs/astrohack/lib/python3.6/site-packages/sklearn/metrics/cluster/unsupervised.py:342: RuntimeWarning: divide by zero encountered in true_divide\n",
      "  score = (intra_dists[:, None] + intra_dists) / centroid_distances\n"
     ]
    },
    {
     "name": "stdout",
     "output_type": "stream",
     "text": [
      ">> Result: 0.06812414855629069\n",
      "... reading from cache file ./cache/input-cellBench-sce8_qc-matrix.h5ad\n",
      "Loading dataset sce8_qc with 15571 genes and 296 cells\n",
      "filtered out 1301 genes that are detected in less than 15.0 cells\n",
      "regressing out ['total_counts']\n",
      "    sparse input is densified and may lead to high memory use\n",
      "    finished (0:00:15.36)\n",
      "computing neighbors\n",
      "    using 'X_pca' with n_pcs = 36\n",
      "    finished (0:00:00.05) --> added to `.uns['neighbors']`\n",
      "    'distances', weighted adjacency matrix\n",
      "    'connectivities', weighted adjacency matrix\n",
      "computing UMAP\n",
      "    finished (0:00:00.42) --> added\n",
      "    'X_umap', UMAP coordinates (adata.obsm)\n",
      "running Louvain clustering\n",
      "    using the \"louvain\" package of Traag (2017)\n",
      "    finished (0:00:00.00) --> found 8 clusters and added\n",
      "    'louvain', the cluster labels (adata.obs, categorical)\n",
      ">> Result: 0.7678752752546859\n",
      "Index  70\n"
     ]
    },
    {
     "name": "stderr",
     "output_type": "stream",
     "text": [
      "/opt/anaconda3/envs/astrohack/lib/python3.6/site-packages/sklearn/metrics/cluster/supervised.py:732: FutureWarning: The behavior of AMI will change in version 0.22. To match the behavior of 'v_measure_score', AMI will use average_method='arithmetic' by default.\n",
      "  FutureWarning)\n",
      "/opt/anaconda3/envs/astrohack/lib/python3.6/site-packages/sklearn/metrics/cluster/unsupervised.py:342: RuntimeWarning: divide by zero encountered in true_divide\n",
      "  score = (intra_dists[:, None] + intra_dists) / centroid_distances\n"
     ]
    },
    {
     "name": "stdout",
     "output_type": "stream",
     "text": [
      "... reading from cache file ./cache/input-cellBench-sce8_qc-matrix.h5ad\n",
      "Loading dataset sce8_qc with 15571 genes and 296 cells\n",
      "filtered out 1411 genes that are detected in less than 16.0 cells\n",
      "computing neighbors\n",
      "    using 'X_pca' with n_pcs = 44\n",
      "    finished (0:00:00.06) --> added to `.uns['neighbors']`\n",
      "    'distances', weighted adjacency matrix\n",
      "    'connectivities', weighted adjacency matrix\n",
      "computing UMAP\n",
      "    finished (0:00:00.42) --> added\n",
      "    'X_umap', UMAP coordinates (adata.obsm)\n",
      "running Louvain clustering\n",
      "    using the \"louvain\" package of Traag (2017)\n",
      "    finished (0:00:00.00) --> found 9 clusters and added\n",
      "    'louvain', the cluster labels (adata.obs, categorical)\n",
      ">> Result: 0.15005050593087355\n",
      "... reading from cache file ./cache/input-cellBench-sce8_qc-matrix.h5ad\n"
     ]
    },
    {
     "name": "stderr",
     "output_type": "stream",
     "text": [
      "/opt/anaconda3/envs/astrohack/lib/python3.6/site-packages/sklearn/metrics/cluster/supervised.py:732: FutureWarning: The behavior of AMI will change in version 0.22. To match the behavior of 'v_measure_score', AMI will use average_method='arithmetic' by default.\n",
      "  FutureWarning)\n",
      "/opt/anaconda3/envs/astrohack/lib/python3.6/site-packages/sklearn/metrics/cluster/unsupervised.py:342: RuntimeWarning: divide by zero encountered in true_divide\n",
      "  score = (intra_dists[:, None] + intra_dists) / centroid_distances\n"
     ]
    },
    {
     "name": "stdout",
     "output_type": "stream",
     "text": [
      "Loading dataset sce8_qc with 15571 genes and 296 cells\n",
      "regressing out ['total_counts']\n",
      "    sparse input is densified and may lead to high memory use\n",
      "    finished (0:00:16.81)\n",
      "computing neighbors\n",
      "    using 'X_pca' with n_pcs = 31\n",
      "    finished (0:00:00.05) --> added to `.uns['neighbors']`\n",
      "    'distances', weighted adjacency matrix\n",
      "    'connectivities', weighted adjacency matrix\n",
      "computing UMAP\n",
      "    finished (0:00:00.34) --> added\n",
      "    'X_umap', UMAP coordinates (adata.obsm)\n",
      "running Louvain clustering\n",
      "    using the \"louvain\" package of Traag (2017)\n",
      "    finished (0:00:00.00) --> found 8 clusters and added\n",
      "    'louvain', the cluster labels (adata.obs, categorical)\n",
      ">> Result: 0.8136283063510259\n",
      "... reading from cache file ./cache/input-cellBench-sce8_qc-matrix.h5ad\n"
     ]
    },
    {
     "name": "stderr",
     "output_type": "stream",
     "text": [
      "/opt/anaconda3/envs/astrohack/lib/python3.6/site-packages/sklearn/metrics/cluster/supervised.py:732: FutureWarning: The behavior of AMI will change in version 0.22. To match the behavior of 'v_measure_score', AMI will use average_method='arithmetic' by default.\n",
      "  FutureWarning)\n",
      "/opt/anaconda3/envs/astrohack/lib/python3.6/site-packages/sklearn/metrics/cluster/unsupervised.py:342: RuntimeWarning: divide by zero encountered in true_divide\n",
      "  score = (intra_dists[:, None] + intra_dists) / centroid_distances\n"
     ]
    },
    {
     "name": "stdout",
     "output_type": "stream",
     "text": [
      "Loading dataset sce8_qc with 15571 genes and 296 cells\n",
      "filtered out 884 genes that are detected in less than 11.0 cells\n",
      "regressing out ['total_counts']\n",
      "    sparse input is densified and may lead to high memory use\n",
      "    finished (0:00:02.20)\n",
      "computing neighbors\n",
      "    using 'X_pca' with n_pcs = 49\n",
      "    finished (0:00:00.05) --> added to `.uns['neighbors']`\n",
      "    'distances', weighted adjacency matrix\n",
      "    'connectivities', weighted adjacency matrix\n",
      "computing UMAP\n",
      "    finished (0:00:00.40) --> added\n",
      "    'X_umap', UMAP coordinates (adata.obsm)\n",
      "running Louvain clustering\n",
      "    using the \"louvain\" package of Traag (2017)\n",
      "    finished (0:00:00.00) --> found 9 clusters and added\n",
      "    'louvain', the cluster labels (adata.obs, categorical)\n",
      ">> Result: 0.23618259566251523\n",
      "... reading from cache file ./cache/input-cellBench-sce8_qc-matrix.h5ad\n"
     ]
    },
    {
     "name": "stderr",
     "output_type": "stream",
     "text": [
      "/opt/anaconda3/envs/astrohack/lib/python3.6/site-packages/sklearn/metrics/cluster/supervised.py:732: FutureWarning: The behavior of AMI will change in version 0.22. To match the behavior of 'v_measure_score', AMI will use average_method='arithmetic' by default.\n",
      "  FutureWarning)\n",
      "/opt/anaconda3/envs/astrohack/lib/python3.6/site-packages/sklearn/metrics/cluster/unsupervised.py:342: RuntimeWarning: divide by zero encountered in true_divide\n",
      "  score = (intra_dists[:, None] + intra_dists) / centroid_distances\n"
     ]
    },
    {
     "name": "stdout",
     "output_type": "stream",
     "text": [
      "Loading dataset sce8_qc with 15571 genes and 296 cells\n",
      "filtered out 1790 genes that are detected in less than 20.0 cells\n",
      "regressing out ['total_counts']\n",
      "    sparse input is densified and may lead to high memory use\n",
      "    finished (0:00:14.97)\n",
      "computing neighbors\n",
      "    using 'X_pca' with n_pcs = 34\n",
      "    finished (0:00:00.06) --> added to `.uns['neighbors']`\n",
      "    'distances', weighted adjacency matrix\n",
      "    'connectivities', weighted adjacency matrix\n",
      "computing UMAP\n",
      "    finished (0:00:00.35) --> added\n",
      "    'X_umap', UMAP coordinates (adata.obsm)\n",
      "running Louvain clustering\n",
      "    using the \"louvain\" package of Traag (2017)\n",
      "    finished (0:00:00.00) --> found 9 clusters and added\n",
      "    'louvain', the cluster labels (adata.obs, categorical)\n",
      ">> Result: 0.06126776343813821\n",
      "... reading from cache file ./cache/input-cellBench-sce8_qc-matrix.h5ad\n"
     ]
    },
    {
     "name": "stderr",
     "output_type": "stream",
     "text": [
      "/opt/anaconda3/envs/astrohack/lib/python3.6/site-packages/sklearn/metrics/cluster/supervised.py:732: FutureWarning: The behavior of AMI will change in version 0.22. To match the behavior of 'v_measure_score', AMI will use average_method='arithmetic' by default.\n",
      "  FutureWarning)\n",
      "/opt/anaconda3/envs/astrohack/lib/python3.6/site-packages/sklearn/metrics/cluster/unsupervised.py:342: RuntimeWarning: divide by zero encountered in true_divide\n",
      "  score = (intra_dists[:, None] + intra_dists) / centroid_distances\n"
     ]
    },
    {
     "name": "stdout",
     "output_type": "stream",
     "text": [
      "Loading dataset sce8_qc with 15571 genes and 296 cells\n",
      "filtered out 1206 genes that are detected in less than 14.0 cells\n",
      "regressing out ['total_counts']\n",
      "    sparse input is densified and may lead to high memory use\n",
      "    finished (0:00:15.74)\n",
      "computing neighbors\n",
      "    using 'X_pca' with n_pcs = 43\n",
      "    finished (0:00:00.04) --> added to `.uns['neighbors']`\n",
      "    'distances', weighted adjacency matrix\n",
      "    'connectivities', weighted adjacency matrix\n",
      "computing UMAP\n",
      "    finished (0:00:00.13) --> added\n",
      "    'X_umap', UMAP coordinates (adata.obsm)\n",
      "running Louvain clustering\n",
      "    using the \"louvain\" package of Traag (2017)\n",
      "    finished (0:00:00.00) --> found 33 clusters and added\n",
      "    'louvain', the cluster labels (adata.obs, categorical)\n"
     ]
    },
    {
     "name": "stderr",
     "output_type": "stream",
     "text": [
      "/opt/anaconda3/envs/astrohack/lib/python3.6/site-packages/sklearn/metrics/cluster/supervised.py:732: FutureWarning: The behavior of AMI will change in version 0.22. To match the behavior of 'v_measure_score', AMI will use average_method='arithmetic' by default.\n",
      "  FutureWarning)\n",
      "/opt/anaconda3/envs/astrohack/lib/python3.6/site-packages/sklearn/metrics/cluster/unsupervised.py:342: RuntimeWarning: divide by zero encountered in true_divide\n",
      "  score = (intra_dists[:, None] + intra_dists) / centroid_distances\n"
     ]
    },
    {
     "name": "stdout",
     "output_type": "stream",
     "text": [
      ">> Result: 0.30150852133418815\n",
      "... reading from cache file ./cache/input-cellBench-sce8_qc-matrix.h5ad\n",
      "Loading dataset sce8_qc with 15571 genes and 296 cells\n",
      "filtered out 1523 genes that are detected in less than 17.0 cells\n",
      "computing neighbors\n",
      "    using 'X_pca' with n_pcs = 40\n",
      "    finished (0:00:00.04) --> added to `.uns['neighbors']`\n",
      "    'distances', weighted adjacency matrix\n",
      "    'connectivities', weighted adjacency matrix\n",
      "computing UMAP\n",
      "    finished (0:00:00.29) --> added\n",
      "    'X_umap', UMAP coordinates (adata.obsm)\n",
      "running Louvain clustering\n",
      "    using the \"louvain\" package of Traag (2017)\n",
      "    finished (0:00:00.00) --> found 11 clusters and added\n",
      "    'louvain', the cluster labels (adata.obs, categorical)\n",
      ">> Result: 0.5720855639866254\n",
      "... reading from cache file ./cache/input-cellBench-sce8_qc-matrix.h5ad\n"
     ]
    },
    {
     "name": "stderr",
     "output_type": "stream",
     "text": [
      "/opt/anaconda3/envs/astrohack/lib/python3.6/site-packages/sklearn/metrics/cluster/supervised.py:732: FutureWarning: The behavior of AMI will change in version 0.22. To match the behavior of 'v_measure_score', AMI will use average_method='arithmetic' by default.\n",
      "  FutureWarning)\n",
      "/opt/anaconda3/envs/astrohack/lib/python3.6/site-packages/sklearn/metrics/cluster/unsupervised.py:342: RuntimeWarning: divide by zero encountered in true_divide\n",
      "  score = (intra_dists[:, None] + intra_dists) / centroid_distances\n"
     ]
    },
    {
     "name": "stdout",
     "output_type": "stream",
     "text": [
      "Loading dataset sce8_qc with 15571 genes and 296 cells\n",
      "regressing out ['total_counts']\n",
      "    sparse input is densified and may lead to high memory use\n"
     ]
    },
    {
     "name": "stderr",
     "output_type": "stream",
     "text": [
      "/opt/anaconda3/envs/astrohack/lib/python3.6/site-packages/scanpy/preprocessing/simple.py:681: RuntimeWarning: invalid value encountered in long_scalars\n",
      "  n_chunks = np.ceil(adata.X.shape[1] / len_chunk).astype(int)\n"
     ]
    },
    {
     "name": "stdout",
     "output_type": "stream",
     "text": [
      "... reading from cache file ./cache/input-cellBench-sce8_qc-matrix.h5ad\n",
      "Loading dataset sce8_qc with 15571 genes and 296 cells\n",
      "filtered out 987 genes that are detected in less than 12.0 cells\n",
      "regressing out ['total_counts']\n",
      "    sparse input is densified and may lead to high memory use\n",
      "    finished (0:00:15.79)\n",
      "computing neighbors\n",
      "    using 'X_pca' with n_pcs = 33\n",
      "    finished (0:00:00.06) --> added to `.uns['neighbors']`\n",
      "    'distances', weighted adjacency matrix\n",
      "    'connectivities', weighted adjacency matrix\n",
      "computing UMAP\n",
      "    finished (0:00:00.39) --> added\n",
      "    'X_umap', UMAP coordinates (adata.obsm)\n",
      "running Louvain clustering\n",
      "    using the \"louvain\" package of Traag (2017)\n",
      "    finished (0:00:00.00) --> found 7 clusters and added\n",
      "    'louvain', the cluster labels (adata.obs, categorical)\n",
      ">> Result: 0.05177612680672759\n",
      "... reading from cache file ./cache/input-cellBench-sce8_qc-matrix.h5ad\n"
     ]
    },
    {
     "name": "stderr",
     "output_type": "stream",
     "text": [
      "/opt/anaconda3/envs/astrohack/lib/python3.6/site-packages/sklearn/metrics/cluster/supervised.py:732: FutureWarning: The behavior of AMI will change in version 0.22. To match the behavior of 'v_measure_score', AMI will use average_method='arithmetic' by default.\n",
      "  FutureWarning)\n",
      "/opt/anaconda3/envs/astrohack/lib/python3.6/site-packages/sklearn/metrics/cluster/unsupervised.py:342: RuntimeWarning: divide by zero encountered in true_divide\n",
      "  score = (intra_dists[:, None] + intra_dists) / centroid_distances\n"
     ]
    },
    {
     "name": "stdout",
     "output_type": "stream",
     "text": [
      "Loading dataset sce8_qc with 15571 genes and 296 cells\n",
      "filtered out 1206 genes that are detected in less than 14.0 cells\n",
      "regressing out ['total_counts']\n",
      "    sparse input is densified and may lead to high memory use\n",
      "    finished (0:00:15.47)\n",
      "computing neighbors\n",
      "    using 'X_pca' with n_pcs = 35\n",
      "    finished (0:00:00.06) --> added to `.uns['neighbors']`\n",
      "    'distances', weighted adjacency matrix\n",
      "    'connectivities', weighted adjacency matrix\n",
      "computing UMAP\n",
      "    finished (0:00:00.49) --> added\n",
      "    'X_umap', UMAP coordinates (adata.obsm)\n",
      "running Louvain clustering\n",
      "    using the \"louvain\" package of Traag (2017)\n",
      "    finished (0:00:00.00) --> found 6 clusters and added\n",
      "    'louvain', the cluster labels (adata.obs, categorical)\n",
      ">> Result: 0.7607597906509576\n"
     ]
    },
    {
     "name": "stderr",
     "output_type": "stream",
     "text": [
      "/opt/anaconda3/envs/astrohack/lib/python3.6/site-packages/sklearn/metrics/cluster/supervised.py:732: FutureWarning: The behavior of AMI will change in version 0.22. To match the behavior of 'v_measure_score', AMI will use average_method='arithmetic' by default.\n",
      "  FutureWarning)\n",
      "/opt/anaconda3/envs/astrohack/lib/python3.6/site-packages/sklearn/metrics/cluster/unsupervised.py:342: RuntimeWarning: divide by zero encountered in true_divide\n",
      "  score = (intra_dists[:, None] + intra_dists) / centroid_distances\n"
     ]
    },
    {
     "name": "stdout",
     "output_type": "stream",
     "text": [
      "... reading from cache file ./cache/input-cellBench-sce8_qc-matrix.h5ad\n",
      "Loading dataset sce8_qc with 15571 genes and 296 cells\n",
      "filtered out 401 genes that are detected in less than 8.0 cells\n",
      "regressing out ['total_counts']\n",
      "    sparse input is densified and may lead to high memory use\n",
      "    finished (0:00:16.30)\n",
      "computing neighbors\n",
      "    using 'X_pca' with n_pcs = 39\n",
      "    finished (0:00:00.04) --> added to `.uns['neighbors']`\n",
      "    'distances', weighted adjacency matrix\n",
      "    'connectivities', weighted adjacency matrix\n",
      "computing UMAP\n",
      "    finished (0:00:00.43) --> added\n",
      "    'X_umap', UMAP coordinates (adata.obsm)\n",
      "running Louvain clustering\n",
      "    using the \"louvain\" package of Traag (2017)\n",
      "    finished (0:00:00.00) --> found 8 clusters and added\n",
      "    'louvain', the cluster labels (adata.obs, categorical)\n",
      ">> Result: 0.5707035358453622\n",
      "Index  80\n",
      "... reading from cache file ./cache/input-cellBench-sce8_qc-matrix.h5ad\n"
     ]
    },
    {
     "name": "stderr",
     "output_type": "stream",
     "text": [
      "/opt/anaconda3/envs/astrohack/lib/python3.6/site-packages/sklearn/metrics/cluster/supervised.py:732: FutureWarning: The behavior of AMI will change in version 0.22. To match the behavior of 'v_measure_score', AMI will use average_method='arithmetic' by default.\n",
      "  FutureWarning)\n",
      "/opt/anaconda3/envs/astrohack/lib/python3.6/site-packages/sklearn/metrics/cluster/unsupervised.py:342: RuntimeWarning: divide by zero encountered in true_divide\n",
      "  score = (intra_dists[:, None] + intra_dists) / centroid_distances\n"
     ]
    },
    {
     "name": "stdout",
     "output_type": "stream",
     "text": [
      "Loading dataset sce8_qc with 15571 genes and 296 cells\n",
      "computing neighbors\n",
      "    using 'X_pca' with n_pcs = 37\n",
      "    finished (0:00:00.05) --> added to `.uns['neighbors']`\n",
      "    'distances', weighted adjacency matrix\n",
      "    'connectivities', weighted adjacency matrix\n",
      "computing UMAP\n",
      "    finished (0:00:00.33) --> added\n",
      "    'X_umap', UMAP coordinates (adata.obsm)\n",
      "running Louvain clustering\n",
      "    using the \"louvain\" package of Traag (2017)\n",
      "    finished (0:00:00.00) --> found 10 clusters and added\n",
      "    'louvain', the cluster labels (adata.obs, categorical)\n",
      ">> Result: 0.6592181980926145\n",
      "... reading from cache file ./cache/input-cellBench-sce8_qc-matrix.h5ad\n"
     ]
    },
    {
     "name": "stderr",
     "output_type": "stream",
     "text": [
      "/opt/anaconda3/envs/astrohack/lib/python3.6/site-packages/sklearn/metrics/cluster/supervised.py:732: FutureWarning: The behavior of AMI will change in version 0.22. To match the behavior of 'v_measure_score', AMI will use average_method='arithmetic' by default.\n",
      "  FutureWarning)\n",
      "/opt/anaconda3/envs/astrohack/lib/python3.6/site-packages/sklearn/metrics/cluster/unsupervised.py:342: RuntimeWarning: divide by zero encountered in true_divide\n",
      "  score = (intra_dists[:, None] + intra_dists) / centroid_distances\n"
     ]
    },
    {
     "name": "stdout",
     "output_type": "stream",
     "text": [
      "Loading dataset sce8_qc with 15571 genes and 296 cells\n",
      "filtered out 1411 genes that are detected in less than 16.0 cells\n",
      "regressing out ['total_counts']\n",
      "    sparse input is densified and may lead to high memory use\n",
      "    finished (0:00:03.83)\n",
      "computing neighbors\n",
      "    using 'X_pca' with n_pcs = 28\n",
      "    finished (0:00:00.04) --> added to `.uns['neighbors']`\n",
      "    'distances', weighted adjacency matrix\n",
      "    'connectivities', weighted adjacency matrix\n",
      "computing UMAP\n",
      "    finished (0:00:00.19) --> added\n",
      "    'X_umap', UMAP coordinates (adata.obsm)\n",
      "running Louvain clustering\n",
      "    using the \"louvain\" package of Traag (2017)\n",
      "    finished (0:00:00.00) --> found 17 clusters and added\n",
      "    'louvain', the cluster labels (adata.obs, categorical)\n",
      ">> Result: 0.2514702655807799\n",
      "... reading from cache file ./cache/input-cellBench-sce8_qc-matrix.h5ad\n"
     ]
    },
    {
     "name": "stderr",
     "output_type": "stream",
     "text": [
      "/opt/anaconda3/envs/astrohack/lib/python3.6/site-packages/sklearn/metrics/cluster/supervised.py:732: FutureWarning: The behavior of AMI will change in version 0.22. To match the behavior of 'v_measure_score', AMI will use average_method='arithmetic' by default.\n",
      "  FutureWarning)\n",
      "/opt/anaconda3/envs/astrohack/lib/python3.6/site-packages/sklearn/metrics/cluster/unsupervised.py:342: RuntimeWarning: divide by zero encountered in true_divide\n",
      "  score = (intra_dists[:, None] + intra_dists) / centroid_distances\n"
     ]
    },
    {
     "name": "stdout",
     "output_type": "stream",
     "text": [
      "Loading dataset sce8_qc with 15571 genes and 296 cells\n",
      "filtered out 1100 genes that are detected in less than 13.0 cells\n",
      "regressing out ['total_counts']\n",
      "    sparse input is densified and may lead to high memory use\n",
      "    finished (0:00:15.30)\n",
      "computing neighbors\n",
      "    using 'X_pca' with n_pcs = 41\n",
      "    finished (0:00:00.06) --> added to `.uns['neighbors']`\n",
      "    'distances', weighted adjacency matrix\n",
      "    'connectivities', weighted adjacency matrix\n",
      "computing UMAP\n",
      "    finished (0:00:00.37) --> added\n",
      "    'X_umap', UMAP coordinates (adata.obsm)\n",
      "running Louvain clustering\n",
      "    using the \"louvain\" package of Traag (2017)\n",
      "    finished (0:00:00.00) --> found 8 clusters and added\n",
      "    'louvain', the cluster labels (adata.obs, categorical)\n",
      ">> Result: 0.058626021728337994\n",
      "... reading from cache file ./cache/input-cellBench-sce8_qc-matrix.h5ad\n"
     ]
    },
    {
     "name": "stderr",
     "output_type": "stream",
     "text": [
      "/opt/anaconda3/envs/astrohack/lib/python3.6/site-packages/sklearn/metrics/cluster/supervised.py:732: FutureWarning: The behavior of AMI will change in version 0.22. To match the behavior of 'v_measure_score', AMI will use average_method='arithmetic' by default.\n",
      "  FutureWarning)\n",
      "/opt/anaconda3/envs/astrohack/lib/python3.6/site-packages/sklearn/metrics/cluster/unsupervised.py:342: RuntimeWarning: divide by zero encountered in true_divide\n",
      "  score = (intra_dists[:, None] + intra_dists) / centroid_distances\n"
     ]
    },
    {
     "name": "stdout",
     "output_type": "stream",
     "text": [
      "Loading dataset sce8_qc with 15571 genes and 296 cells\n",
      "filtered out 1597 genes that are detected in less than 18.0 cells\n",
      "regressing out ['total_counts']\n",
      "    sparse input is densified and may lead to high memory use\n",
      "    finished (0:00:14.82)\n",
      "computing neighbors\n",
      "    using 'X_pca' with n_pcs = 46\n",
      "    finished (0:00:00.06) --> added to `.uns['neighbors']`\n",
      "    'distances', weighted adjacency matrix\n",
      "    'connectivities', weighted adjacency matrix\n",
      "computing UMAP\n",
      "    finished (0:00:00.41) --> added\n",
      "    'X_umap', UMAP coordinates (adata.obsm)\n",
      "running Louvain clustering\n",
      "    using the \"louvain\" package of Traag (2017)\n",
      "    finished (0:00:00.00) --> found 7 clusters and added\n",
      "    'louvain', the cluster labels (adata.obs, categorical)\n",
      ">> Result: 0.4887603593024338\n"
     ]
    },
    {
     "name": "stderr",
     "output_type": "stream",
     "text": [
      "/opt/anaconda3/envs/astrohack/lib/python3.6/site-packages/sklearn/metrics/cluster/supervised.py:732: FutureWarning: The behavior of AMI will change in version 0.22. To match the behavior of 'v_measure_score', AMI will use average_method='arithmetic' by default.\n",
      "  FutureWarning)\n",
      "/opt/anaconda3/envs/astrohack/lib/python3.6/site-packages/sklearn/metrics/cluster/unsupervised.py:342: RuntimeWarning: divide by zero encountered in true_divide\n",
      "  score = (intra_dists[:, None] + intra_dists) / centroid_distances\n"
     ]
    },
    {
     "name": "stdout",
     "output_type": "stream",
     "text": [
      "... reading from cache file ./cache/input-cellBench-sce8_qc-matrix.h5ad\n",
      "Loading dataset sce8_qc with 15571 genes and 296 cells\n",
      "filtered out 1301 genes that are detected in less than 15.0 cells\n",
      "computing neighbors\n",
      "    using 'X_pca' with n_pcs = 34\n",
      "    finished (0:00:00.06) --> added to `.uns['neighbors']`\n",
      "    'distances', weighted adjacency matrix\n",
      "    'connectivities', weighted adjacency matrix\n",
      "computing UMAP\n",
      "    finished (0:00:00.47) --> added\n",
      "    'X_umap', UMAP coordinates (adata.obsm)\n",
      "running Louvain clustering\n",
      "    using the \"louvain\" package of Traag (2017)\n",
      "    finished (0:00:00.00) --> found 8 clusters and added\n",
      "    'louvain', the cluster labels (adata.obs, categorical)\n",
      ">> Result: 0.723387918061084\n"
     ]
    },
    {
     "name": "stderr",
     "output_type": "stream",
     "text": [
      "/opt/anaconda3/envs/astrohack/lib/python3.6/site-packages/sklearn/metrics/cluster/supervised.py:732: FutureWarning: The behavior of AMI will change in version 0.22. To match the behavior of 'v_measure_score', AMI will use average_method='arithmetic' by default.\n",
      "  FutureWarning)\n",
      "/opt/anaconda3/envs/astrohack/lib/python3.6/site-packages/sklearn/metrics/cluster/unsupervised.py:342: RuntimeWarning: divide by zero encountered in true_divide\n",
      "  score = (intra_dists[:, None] + intra_dists) / centroid_distances\n"
     ]
    },
    {
     "name": "stdout",
     "output_type": "stream",
     "text": [
      "... reading from cache file ./cache/input-cellBench-sce8_qc-matrix.h5ad\n",
      "Loading dataset sce8_qc with 15571 genes and 296 cells\n",
      "regressing out ['total_counts']\n",
      "    sparse input is densified and may lead to high memory use\n",
      "    finished (0:00:03.12)\n",
      "computing neighbors\n",
      "    using 'X_pca' with n_pcs = 43\n",
      "    finished (0:00:00.06) --> added to `.uns['neighbors']`\n",
      "    'distances', weighted adjacency matrix\n",
      "    'connectivities', weighted adjacency matrix\n",
      "computing UMAP\n",
      "    finished (0:00:00.48) --> added\n",
      "    'X_umap', UMAP coordinates (adata.obsm)\n",
      "running Louvain clustering\n",
      "    using the \"louvain\" package of Traag (2017)\n",
      "    finished (0:00:00.00) --> found 8 clusters and added\n",
      "    'louvain', the cluster labels (adata.obs, categorical)\n",
      ">> Result: 0.15033485792154722\n"
     ]
    },
    {
     "name": "stderr",
     "output_type": "stream",
     "text": [
      "/opt/anaconda3/envs/astrohack/lib/python3.6/site-packages/sklearn/metrics/cluster/supervised.py:732: FutureWarning: The behavior of AMI will change in version 0.22. To match the behavior of 'v_measure_score', AMI will use average_method='arithmetic' by default.\n",
      "  FutureWarning)\n",
      "/opt/anaconda3/envs/astrohack/lib/python3.6/site-packages/sklearn/metrics/cluster/unsupervised.py:342: RuntimeWarning: divide by zero encountered in true_divide\n",
      "  score = (intra_dists[:, None] + intra_dists) / centroid_distances\n"
     ]
    },
    {
     "name": "stdout",
     "output_type": "stream",
     "text": [
      "... reading from cache file ./cache/input-cellBench-sce8_qc-matrix.h5ad\n",
      "Loading dataset sce8_qc with 15571 genes and 296 cells\n",
      "filtered out 987 genes that are detected in less than 12.0 cells\n",
      "regressing out ['total_counts']\n",
      "    sparse input is densified and may lead to high memory use\n",
      "    finished (0:00:15.48)\n",
      "computing neighbors\n",
      "    using 'X_pca' with n_pcs = 42\n",
      "    finished (0:00:00.07) --> added to `.uns['neighbors']`\n",
      "    'distances', weighted adjacency matrix\n",
      "    'connectivities', weighted adjacency matrix\n",
      "computing UMAP\n",
      "    finished (0:00:00.44) --> added\n",
      "    'X_umap', UMAP coordinates (adata.obsm)\n",
      "running Louvain clustering\n",
      "    using the \"louvain\" package of Traag (2017)\n",
      "    finished (0:00:00.00) --> found 7 clusters and added\n",
      "    'louvain', the cluster labels (adata.obs, categorical)\n",
      ">> Result: 0.05841317728729695\n"
     ]
    },
    {
     "name": "stderr",
     "output_type": "stream",
     "text": [
      "/opt/anaconda3/envs/astrohack/lib/python3.6/site-packages/sklearn/metrics/cluster/supervised.py:732: FutureWarning: The behavior of AMI will change in version 0.22. To match the behavior of 'v_measure_score', AMI will use average_method='arithmetic' by default.\n",
      "  FutureWarning)\n",
      "/opt/anaconda3/envs/astrohack/lib/python3.6/site-packages/sklearn/metrics/cluster/unsupervised.py:342: RuntimeWarning: divide by zero encountered in true_divide\n",
      "  score = (intra_dists[:, None] + intra_dists) / centroid_distances\n"
     ]
    },
    {
     "name": "stdout",
     "output_type": "stream",
     "text": [
      "... reading from cache file ./cache/input-cellBench-sce8_qc-matrix.h5ad\n",
      "Loading dataset sce8_qc with 15571 genes and 296 cells\n",
      "filtered out 1790 genes that are detected in less than 20.0 cells\n",
      "regressing out ['total_counts']\n",
      "    sparse input is densified and may lead to high memory use\n",
      "    finished (0:00:14.67)\n",
      "computing neighbors\n",
      "    using 'X_pca' with n_pcs = 44\n",
      "    finished (0:00:00.05) --> added to `.uns['neighbors']`\n",
      "    'distances', weighted adjacency matrix\n",
      "    'connectivities', weighted adjacency matrix\n",
      "computing UMAP\n",
      "    finished (0:00:00.30) --> added\n",
      "    'X_umap', UMAP coordinates (adata.obsm)\n",
      "running Louvain clustering\n",
      "    using the \"louvain\" package of Traag (2017)\n",
      "    finished (0:00:00.00) --> found 8 clusters and added\n",
      "    'louvain', the cluster labels (adata.obs, categorical)\n",
      ">> Result: 0.8098560535900721\n",
      "... reading from cache file ./cache/input-cellBench-sce8_qc-matrix.h5ad\n"
     ]
    },
    {
     "name": "stderr",
     "output_type": "stream",
     "text": [
      "/opt/anaconda3/envs/astrohack/lib/python3.6/site-packages/sklearn/metrics/cluster/supervised.py:732: FutureWarning: The behavior of AMI will change in version 0.22. To match the behavior of 'v_measure_score', AMI will use average_method='arithmetic' by default.\n",
      "  FutureWarning)\n",
      "/opt/anaconda3/envs/astrohack/lib/python3.6/site-packages/sklearn/metrics/cluster/unsupervised.py:342: RuntimeWarning: divide by zero encountered in true_divide\n",
      "  score = (intra_dists[:, None] + intra_dists) / centroid_distances\n"
     ]
    },
    {
     "name": "stdout",
     "output_type": "stream",
     "text": [
      "Loading dataset sce8_qc with 15571 genes and 296 cells\n",
      "filtered out 1301 genes that are detected in less than 15.0 cells\n",
      "regressing out ['total_counts']\n",
      "    sparse input is densified and may lead to high memory use\n",
      "    finished (0:00:15.29)\n",
      "computing neighbors\n",
      "    using 'X_pca' with n_pcs = 33\n",
      "    finished (0:00:00.07) --> added to `.uns['neighbors']`\n",
      "    'distances', weighted adjacency matrix\n",
      "    'connectivities', weighted adjacency matrix\n",
      "computing UMAP\n",
      "    finished (0:00:00.50) --> added\n",
      "    'X_umap', UMAP coordinates (adata.obsm)\n",
      "running Louvain clustering\n",
      "    using the \"louvain\" package of Traag (2017)\n",
      "    finished (0:00:00.00) --> found 5 clusters and added\n",
      "    'louvain', the cluster labels (adata.obs, categorical)\n",
      ">> Result: 0.544714223493316\n"
     ]
    },
    {
     "name": "stderr",
     "output_type": "stream",
     "text": [
      "/opt/anaconda3/envs/astrohack/lib/python3.6/site-packages/sklearn/metrics/cluster/supervised.py:732: FutureWarning: The behavior of AMI will change in version 0.22. To match the behavior of 'v_measure_score', AMI will use average_method='arithmetic' by default.\n",
      "  FutureWarning)\n",
      "/opt/anaconda3/envs/astrohack/lib/python3.6/site-packages/sklearn/metrics/cluster/unsupervised.py:342: RuntimeWarning: divide by zero encountered in true_divide\n",
      "  score = (intra_dists[:, None] + intra_dists) / centroid_distances\n"
     ]
    },
    {
     "name": "stdout",
     "output_type": "stream",
     "text": [
      "... reading from cache file ./cache/input-cellBench-sce8_qc-matrix.h5ad\n",
      "Loading dataset sce8_qc with 15571 genes and 296 cells\n",
      "computing neighbors\n",
      "    using 'X_pca' with n_pcs = 30\n",
      "    finished (0:00:00.05) --> added to `.uns['neighbors']`\n",
      "    'distances', weighted adjacency matrix\n",
      "    'connectivities', weighted adjacency matrix\n",
      "computing UMAP\n",
      "    finished (0:00:00.37) --> added\n",
      "    'X_umap', UMAP coordinates (adata.obsm)\n",
      "running Louvain clustering\n",
      "    using the \"louvain\" package of Traag (2017)\n",
      "    finished (0:00:00.00) --> found 8 clusters and added\n",
      "    'louvain', the cluster labels (adata.obs, categorical)\n",
      ">> Result: 0.699656840714169\n",
      "Index  90\n"
     ]
    },
    {
     "name": "stderr",
     "output_type": "stream",
     "text": [
      "/opt/anaconda3/envs/astrohack/lib/python3.6/site-packages/sklearn/metrics/cluster/supervised.py:732: FutureWarning: The behavior of AMI will change in version 0.22. To match the behavior of 'v_measure_score', AMI will use average_method='arithmetic' by default.\n",
      "  FutureWarning)\n",
      "/opt/anaconda3/envs/astrohack/lib/python3.6/site-packages/sklearn/metrics/cluster/unsupervised.py:342: RuntimeWarning: divide by zero encountered in true_divide\n",
      "  score = (intra_dists[:, None] + intra_dists) / centroid_distances\n"
     ]
    },
    {
     "name": "stdout",
     "output_type": "stream",
     "text": [
      "... reading from cache file ./cache/input-cellBench-sce8_qc-matrix.h5ad\n",
      "Loading dataset sce8_qc with 15571 genes and 296 cells\n",
      "filtered out 583 genes that are detected in less than 9.0 cells\n",
      "regressing out ['total_counts']\n",
      "    sparse input is densified and may lead to high memory use\n",
      "    finished (0:00:05.66)\n",
      "computing neighbors\n",
      "    using 'X_pca' with n_pcs = 38\n",
      "    finished (0:00:00.06) --> added to `.uns['neighbors']`\n",
      "    'distances', weighted adjacency matrix\n",
      "    'connectivities', weighted adjacency matrix\n",
      "computing UMAP\n",
      "    finished (0:00:00.37) --> added\n",
      "    'X_umap', UMAP coordinates (adata.obsm)\n",
      "running Louvain clustering\n",
      "    using the \"louvain\" package of Traag (2017)\n",
      "    finished (0:00:00.00) --> found 9 clusters and added\n",
      "    'louvain', the cluster labels (adata.obs, categorical)\n",
      ">> Result: 0.2317071353368116\n"
     ]
    },
    {
     "name": "stderr",
     "output_type": "stream",
     "text": [
      "/opt/anaconda3/envs/astrohack/lib/python3.6/site-packages/sklearn/metrics/cluster/supervised.py:732: FutureWarning: The behavior of AMI will change in version 0.22. To match the behavior of 'v_measure_score', AMI will use average_method='arithmetic' by default.\n",
      "  FutureWarning)\n",
      "/opt/anaconda3/envs/astrohack/lib/python3.6/site-packages/sklearn/metrics/cluster/unsupervised.py:342: RuntimeWarning: divide by zero encountered in true_divide\n",
      "  score = (intra_dists[:, None] + intra_dists) / centroid_distances\n"
     ]
    },
    {
     "name": "stdout",
     "output_type": "stream",
     "text": [
      "... reading from cache file ./cache/input-cellBench-sce8_qc-matrix.h5ad\n",
      "Loading dataset sce8_qc with 15571 genes and 296 cells\n",
      "regressing out ['total_counts']\n",
      "    sparse input is densified and may lead to high memory use\n",
      "    finished (0:00:16.82)\n",
      "computing neighbors\n",
      "    using 'X_pca' with n_pcs = 31\n",
      "    finished (0:00:00.07) --> added to `.uns['neighbors']`\n",
      "    'distances', weighted adjacency matrix\n",
      "    'connectivities', weighted adjacency matrix\n",
      "computing UMAP\n",
      "    finished (0:00:00.37) --> added\n",
      "    'X_umap', UMAP coordinates (adata.obsm)\n",
      "running Louvain clustering\n",
      "    using the \"louvain\" package of Traag (2017)\n",
      "    finished (0:00:00.00) --> found 8 clusters and added\n",
      "    'louvain', the cluster labels (adata.obs, categorical)\n",
      ">> Result: 0.043435977461171546\n",
      "... reading from cache file ./cache/input-cellBench-sce8_qc-matrix.h5ad\n"
     ]
    },
    {
     "name": "stderr",
     "output_type": "stream",
     "text": [
      "/opt/anaconda3/envs/astrohack/lib/python3.6/site-packages/sklearn/metrics/cluster/supervised.py:732: FutureWarning: The behavior of AMI will change in version 0.22. To match the behavior of 'v_measure_score', AMI will use average_method='arithmetic' by default.\n",
      "  FutureWarning)\n",
      "/opt/anaconda3/envs/astrohack/lib/python3.6/site-packages/sklearn/metrics/cluster/unsupervised.py:342: RuntimeWarning: divide by zero encountered in true_divide\n",
      "  score = (intra_dists[:, None] + intra_dists) / centroid_distances\n"
     ]
    },
    {
     "name": "stdout",
     "output_type": "stream",
     "text": [
      "Loading dataset sce8_qc with 15571 genes and 296 cells\n",
      "filtered out 401 genes that are detected in less than 8.0 cells\n",
      "regressing out ['total_counts']\n",
      "    sparse input is densified and may lead to high memory use\n",
      "    finished (0:00:16.22)\n",
      "computing neighbors\n",
      "    using 'X_pca' with n_pcs = 37\n",
      "    finished (0:00:00.07) --> added to `.uns['neighbors']`\n",
      "    'distances', weighted adjacency matrix\n",
      "    'connectivities', weighted adjacency matrix\n",
      "computing UMAP\n",
      "    finished (0:00:00.48) --> added\n",
      "    'X_umap', UMAP coordinates (adata.obsm)\n",
      "running Louvain clustering\n",
      "    using the \"louvain\" package of Traag (2017)\n",
      "    finished (0:00:00.00) --> found 7 clusters and added\n",
      "    'louvain', the cluster labels (adata.obs, categorical)\n",
      ">> Result: 0.7903432014863164\n"
     ]
    },
    {
     "name": "stderr",
     "output_type": "stream",
     "text": [
      "/opt/anaconda3/envs/astrohack/lib/python3.6/site-packages/sklearn/metrics/cluster/supervised.py:732: FutureWarning: The behavior of AMI will change in version 0.22. To match the behavior of 'v_measure_score', AMI will use average_method='arithmetic' by default.\n",
      "  FutureWarning)\n",
      "/opt/anaconda3/envs/astrohack/lib/python3.6/site-packages/sklearn/metrics/cluster/unsupervised.py:342: RuntimeWarning: divide by zero encountered in true_divide\n",
      "  score = (intra_dists[:, None] + intra_dists) / centroid_distances\n"
     ]
    },
    {
     "name": "stdout",
     "output_type": "stream",
     "text": [
      "... reading from cache file ./cache/input-cellBench-sce8_qc-matrix.h5ad\n",
      "Loading dataset sce8_qc with 15571 genes and 296 cells\n",
      "filtered out 1411 genes that are detected in less than 16.0 cells\n",
      "regressing out ['total_counts']\n",
      "    sparse input is densified and may lead to high memory use\n",
      "    finished (0:00:15.28)\n",
      "computing neighbors\n",
      "    using 'X_pca' with n_pcs = 40\n",
      "    finished (0:00:00.05) --> added to `.uns['neighbors']`\n",
      "    'distances', weighted adjacency matrix\n",
      "    'connectivities', weighted adjacency matrix\n",
      "computing UMAP\n",
      "    finished (0:00:00.40) --> added\n",
      "    'X_umap', UMAP coordinates (adata.obsm)\n",
      "running Louvain clustering\n",
      "    using the \"louvain\" package of Traag (2017)\n",
      "    finished (0:00:00.00) --> found 7 clusters and added\n",
      "    'louvain', the cluster labels (adata.obs, categorical)\n",
      ">> Result: 0.6163156761070416\n",
      "... reading from cache file ./cache/input-cellBench-sce8_qc-matrix.h5ad\n"
     ]
    },
    {
     "name": "stderr",
     "output_type": "stream",
     "text": [
      "/opt/anaconda3/envs/astrohack/lib/python3.6/site-packages/sklearn/metrics/cluster/supervised.py:732: FutureWarning: The behavior of AMI will change in version 0.22. To match the behavior of 'v_measure_score', AMI will use average_method='arithmetic' by default.\n",
      "  FutureWarning)\n",
      "/opt/anaconda3/envs/astrohack/lib/python3.6/site-packages/sklearn/metrics/cluster/unsupervised.py:342: RuntimeWarning: divide by zero encountered in true_divide\n",
      "  score = (intra_dists[:, None] + intra_dists) / centroid_distances\n"
     ]
    },
    {
     "name": "stdout",
     "output_type": "stream",
     "text": [
      "Loading dataset sce8_qc with 15571 genes and 296 cells\n",
      "computing neighbors\n",
      "    using 'X_pca' with n_pcs = 30\n",
      "    finished (0:00:00.06) --> added to `.uns['neighbors']`\n",
      "    'distances', weighted adjacency matrix\n",
      "    'connectivities', weighted adjacency matrix\n",
      "computing UMAP\n",
      "    finished (0:00:00.42) --> added\n",
      "    'X_umap', UMAP coordinates (adata.obsm)\n",
      "running Louvain clustering\n",
      "    using the \"louvain\" package of Traag (2017)\n",
      "    finished (0:00:00.00) --> found 7 clusters and added\n",
      "    'louvain', the cluster labels (adata.obs, categorical)\n",
      ">> Result: 0.7226235550947507\n"
     ]
    },
    {
     "name": "stderr",
     "output_type": "stream",
     "text": [
      "/opt/anaconda3/envs/astrohack/lib/python3.6/site-packages/sklearn/metrics/cluster/supervised.py:732: FutureWarning: The behavior of AMI will change in version 0.22. To match the behavior of 'v_measure_score', AMI will use average_method='arithmetic' by default.\n",
      "  FutureWarning)\n",
      "/opt/anaconda3/envs/astrohack/lib/python3.6/site-packages/sklearn/metrics/cluster/unsupervised.py:342: RuntimeWarning: divide by zero encountered in true_divide\n",
      "  score = (intra_dists[:, None] + intra_dists) / centroid_distances\n"
     ]
    },
    {
     "name": "stdout",
     "output_type": "stream",
     "text": [
      "... reading from cache file ./cache/input-cellBench-sce8_qc-matrix.h5ad\n",
      "Loading dataset sce8_qc with 15571 genes and 296 cells\n",
      "filtered out 884 genes that are detected in less than 11.0 cells\n",
      "regressing out ['total_counts']\n",
      "    sparse input is densified and may lead to high memory use\n",
      "    finished (0:00:15.75)\n",
      "computing neighbors\n",
      "    using 'X_pca' with n_pcs = 27\n",
      "    finished (0:00:00.05) --> added to `.uns['neighbors']`\n",
      "    'distances', weighted adjacency matrix\n",
      "    'connectivities', weighted adjacency matrix\n",
      "computing UMAP\n",
      "    finished (0:00:00.21) --> added\n",
      "    'X_umap', UMAP coordinates (adata.obsm)\n",
      "running Louvain clustering\n",
      "    using the \"louvain\" package of Traag (2017)\n",
      "    finished (0:00:00.00) --> found 12 clusters and added\n",
      "    'louvain', the cluster labels (adata.obs, categorical)\n",
      ">> Result: 0.6605642608518434\n",
      "... reading from cache file ./cache/input-cellBench-sce8_qc-matrix.h5ad\n"
     ]
    },
    {
     "name": "stderr",
     "output_type": "stream",
     "text": [
      "/opt/anaconda3/envs/astrohack/lib/python3.6/site-packages/sklearn/metrics/cluster/supervised.py:732: FutureWarning: The behavior of AMI will change in version 0.22. To match the behavior of 'v_measure_score', AMI will use average_method='arithmetic' by default.\n",
      "  FutureWarning)\n",
      "/opt/anaconda3/envs/astrohack/lib/python3.6/site-packages/sklearn/metrics/cluster/unsupervised.py:342: RuntimeWarning: divide by zero encountered in true_divide\n",
      "  score = (intra_dists[:, None] + intra_dists) / centroid_distances\n"
     ]
    },
    {
     "name": "stdout",
     "output_type": "stream",
     "text": [
      "Loading dataset sce8_qc with 15571 genes and 296 cells\n",
      "filtered out 1206 genes that are detected in less than 14.0 cells\n",
      "regressing out ['total_counts']\n",
      "    sparse input is densified and may lead to high memory use\n",
      "    finished (0:00:07.70)\n",
      "computing neighbors\n",
      "    using 'X_pca' with n_pcs = 33\n",
      "    finished (0:00:00.06) --> added to `.uns['neighbors']`\n",
      "    'distances', weighted adjacency matrix\n",
      "    'connectivities', weighted adjacency matrix\n",
      "computing UMAP\n",
      "    finished (0:00:00.29) --> added\n",
      "    'X_umap', UMAP coordinates (adata.obsm)\n",
      "running Louvain clustering\n",
      "    using the \"louvain\" package of Traag (2017)\n",
      "    finished (0:00:00.00) --> found 11 clusters and added\n",
      "    'louvain', the cluster labels (adata.obs, categorical)\n",
      ">> Result: 0.23164045923922058\n"
     ]
    },
    {
     "name": "stderr",
     "output_type": "stream",
     "text": [
      "/opt/anaconda3/envs/astrohack/lib/python3.6/site-packages/sklearn/metrics/cluster/supervised.py:732: FutureWarning: The behavior of AMI will change in version 0.22. To match the behavior of 'v_measure_score', AMI will use average_method='arithmetic' by default.\n",
      "  FutureWarning)\n",
      "/opt/anaconda3/envs/astrohack/lib/python3.6/site-packages/sklearn/metrics/cluster/unsupervised.py:342: RuntimeWarning: divide by zero encountered in true_divide\n",
      "  score = (intra_dists[:, None] + intra_dists) / centroid_distances\n"
     ]
    },
    {
     "name": "stdout",
     "output_type": "stream",
     "text": [
      "... reading from cache file ./cache/input-cellBench-sce8_qc-matrix.h5ad\n",
      "Loading dataset sce8_qc with 15571 genes and 296 cells\n",
      "filtered out 1705 genes that are detected in less than 19.0 cells\n",
      "regressing out ['total_counts']\n",
      "    sparse input is densified and may lead to high memory use\n",
      "    finished (0:00:14.68)\n",
      "computing neighbors\n",
      "    using 'X_pca' with n_pcs = 36\n",
      "    finished (0:00:00.06) --> added to `.uns['neighbors']`\n",
      "    'distances', weighted adjacency matrix\n",
      "    'connectivities', weighted adjacency matrix\n",
      "computing UMAP\n",
      "    finished (0:00:00.40) --> added\n",
      "    'X_umap', UMAP coordinates (adata.obsm)\n",
      "running Louvain clustering\n",
      "    using the \"louvain\" package of Traag (2017)\n",
      "    finished (0:00:00.00) --> found 8 clusters and added\n",
      "    'louvain', the cluster labels (adata.obs, categorical)\n",
      ">> Result: 0.06571464763410304\n"
     ]
    },
    {
     "name": "stderr",
     "output_type": "stream",
     "text": [
      "/opt/anaconda3/envs/astrohack/lib/python3.6/site-packages/sklearn/metrics/cluster/supervised.py:732: FutureWarning: The behavior of AMI will change in version 0.22. To match the behavior of 'v_measure_score', AMI will use average_method='arithmetic' by default.\n",
      "  FutureWarning)\n",
      "/opt/anaconda3/envs/astrohack/lib/python3.6/site-packages/sklearn/metrics/cluster/unsupervised.py:342: RuntimeWarning: divide by zero encountered in true_divide\n",
      "  score = (intra_dists[:, None] + intra_dists) / centroid_distances\n"
     ]
    },
    {
     "name": "stdout",
     "output_type": "stream",
     "text": [
      "... reading from cache file ./cache/input-cellBench-sce8_qc-matrix.h5ad\n",
      "Loading dataset sce8_qc with 15571 genes and 296 cells\n",
      "filtered out 987 genes that are detected in less than 12.0 cells\n",
      "regressing out ['total_counts']\n",
      "    sparse input is densified and may lead to high memory use\n",
      "    finished (0:00:15.76)\n",
      "computing neighbors\n",
      "    using 'X_pca' with n_pcs = 34\n",
      "    finished (0:00:00.07) --> added to `.uns['neighbors']`\n",
      "    'distances', weighted adjacency matrix\n",
      "    'connectivities', weighted adjacency matrix\n",
      "computing UMAP\n",
      "    finished (0:00:00.44) --> added\n",
      "    'X_umap', UMAP coordinates (adata.obsm)\n",
      "running Louvain clustering\n",
      "    using the \"louvain\" package of Traag (2017)\n",
      "    finished (0:00:00.00) --> found 7 clusters and added\n",
      "    'louvain', the cluster labels (adata.obs, categorical)\n",
      ">> Result: 0.5826607046708602\n"
     ]
    },
    {
     "name": "stderr",
     "output_type": "stream",
     "text": [
      "/opt/anaconda3/envs/astrohack/lib/python3.6/site-packages/sklearn/metrics/cluster/supervised.py:732: FutureWarning: The behavior of AMI will change in version 0.22. To match the behavior of 'v_measure_score', AMI will use average_method='arithmetic' by default.\n",
      "  FutureWarning)\n",
      "/opt/anaconda3/envs/astrohack/lib/python3.6/site-packages/sklearn/metrics/cluster/unsupervised.py:342: RuntimeWarning: divide by zero encountered in true_divide\n",
      "  score = (intra_dists[:, None] + intra_dists) / centroid_distances\n"
     ]
    },
    {
     "name": "stdout",
     "output_type": "stream",
     "text": [
      "... reading from cache file ./cache/input-cellBench-sce8_qc-matrix.h5ad\n",
      "Loading dataset sce8_qc with 15571 genes and 296 cells\n",
      "computing neighbors\n",
      "    using 'X_pca' with n_pcs = 28\n",
      "    finished (0:00:00.06) --> added to `.uns['neighbors']`\n",
      "    'distances', weighted adjacency matrix\n",
      "    'connectivities', weighted adjacency matrix\n",
      "computing UMAP\n",
      "    finished (0:00:00.40) --> added\n",
      "    'X_umap', UMAP coordinates (adata.obsm)\n",
      "running Louvain clustering\n",
      "    using the \"louvain\" package of Traag (2017)\n",
      "    finished (0:00:00.00) --> found 10 clusters and added\n",
      "    'louvain', the cluster labels (adata.obs, categorical)\n",
      ">> Result: 0.6670202734202917\n",
      "Index  100\n"
     ]
    },
    {
     "name": "stderr",
     "output_type": "stream",
     "text": [
      "/opt/anaconda3/envs/astrohack/lib/python3.6/site-packages/sklearn/metrics/cluster/supervised.py:732: FutureWarning: The behavior of AMI will change in version 0.22. To match the behavior of 'v_measure_score', AMI will use average_method='arithmetic' by default.\n",
      "  FutureWarning)\n",
      "/opt/anaconda3/envs/astrohack/lib/python3.6/site-packages/sklearn/metrics/cluster/unsupervised.py:342: RuntimeWarning: divide by zero encountered in true_divide\n",
      "  score = (intra_dists[:, None] + intra_dists) / centroid_distances\n"
     ]
    },
    {
     "name": "stdout",
     "output_type": "stream",
     "text": [
      "... reading from cache file ./cache/input-cellBench-sce8_qc-matrix.h5ad\n",
      "Loading dataset sce8_qc with 15571 genes and 296 cells\n",
      "regressing out ['total_counts']\n",
      "    sparse input is densified and may lead to high memory use\n",
      "    finished (0:00:16.64)\n",
      "computing neighbors\n",
      "    using 'X_pca' with n_pcs = 25\n",
      "    finished (0:00:00.05) --> added to `.uns['neighbors']`\n",
      "    'distances', weighted adjacency matrix\n",
      "    'connectivities', weighted adjacency matrix\n",
      "computing UMAP\n",
      "    finished (0:00:00.33) --> added\n",
      "    'X_umap', UMAP coordinates (adata.obsm)\n",
      "running Louvain clustering\n",
      "    using the \"louvain\" package of Traag (2017)\n",
      "    finished (0:00:00.00) --> found 8 clusters and added\n",
      "    'louvain', the cluster labels (adata.obs, categorical)\n",
      ">> Result: 0.7704278597374582\n",
      "... reading from cache file ./cache/input-cellBench-sce8_qc-matrix.h5ad\n"
     ]
    },
    {
     "name": "stderr",
     "output_type": "stream",
     "text": [
      "/opt/anaconda3/envs/astrohack/lib/python3.6/site-packages/sklearn/metrics/cluster/supervised.py:732: FutureWarning: The behavior of AMI will change in version 0.22. To match the behavior of 'v_measure_score', AMI will use average_method='arithmetic' by default.\n",
      "  FutureWarning)\n",
      "/opt/anaconda3/envs/astrohack/lib/python3.6/site-packages/sklearn/metrics/cluster/unsupervised.py:342: RuntimeWarning: divide by zero encountered in true_divide\n",
      "  score = (intra_dists[:, None] + intra_dists) / centroid_distances\n"
     ]
    },
    {
     "name": "stdout",
     "output_type": "stream",
     "text": [
      "Loading dataset sce8_qc with 15571 genes and 296 cells\n",
      "filtered out 214 genes that are detected in less than 7.0 cells\n",
      "regressing out ['total_counts']\n",
      "    sparse input is densified and may lead to high memory use\n",
      "    finished (0:00:07.27)\n",
      "computing neighbors\n",
      "    using 'X_pca' with n_pcs = 39\n",
      "    finished (0:00:00.06) --> added to `.uns['neighbors']`\n",
      "    'distances', weighted adjacency matrix\n",
      "    'connectivities', weighted adjacency matrix\n",
      "computing UMAP\n",
      "    finished (0:00:00.35) --> added\n",
      "    'X_umap', UMAP coordinates (adata.obsm)\n",
      "running Louvain clustering\n",
      "    using the \"louvain\" package of Traag (2017)\n",
      "    finished (0:00:00.00) --> found 9 clusters and added\n",
      "    'louvain', the cluster labels (adata.obs, categorical)\n",
      ">> Result: 0.22021195060291357\n",
      "... reading from cache file ./cache/input-cellBench-sce8_qc-matrix.h5ad\n"
     ]
    },
    {
     "name": "stderr",
     "output_type": "stream",
     "text": [
      "/opt/anaconda3/envs/astrohack/lib/python3.6/site-packages/sklearn/metrics/cluster/supervised.py:732: FutureWarning: The behavior of AMI will change in version 0.22. To match the behavior of 'v_measure_score', AMI will use average_method='arithmetic' by default.\n",
      "  FutureWarning)\n",
      "/opt/anaconda3/envs/astrohack/lib/python3.6/site-packages/sklearn/metrics/cluster/unsupervised.py:342: RuntimeWarning: divide by zero encountered in true_divide\n",
      "  score = (intra_dists[:, None] + intra_dists) / centroid_distances\n"
     ]
    },
    {
     "name": "stdout",
     "output_type": "stream",
     "text": [
      "Loading dataset sce8_qc with 15571 genes and 296 cells\n",
      "filtered out 1206 genes that are detected in less than 14.0 cells\n",
      "regressing out ['total_counts']\n",
      "    sparse input is densified and may lead to high memory use\n",
      "    finished (0:00:15.41)\n",
      "computing neighbors\n",
      "    using 'X_pca' with n_pcs = 35\n",
      "    finished (0:00:00.05) --> added to `.uns['neighbors']`\n",
      "    'distances', weighted adjacency matrix\n",
      "    'connectivities', weighted adjacency matrix\n",
      "computing UMAP\n",
      "    finished (0:00:00.33) --> added\n",
      "    'X_umap', UMAP coordinates (adata.obsm)\n",
      "running Louvain clustering\n",
      "    using the \"louvain\" package of Traag (2017)\n",
      "    finished (0:00:00.00) --> found 11 clusters and added\n",
      "    'louvain', the cluster labels (adata.obs, categorical)\n",
      ">> Result: 0.07144517268676046\n",
      "... reading from cache file ./cache/input-cellBench-sce8_qc-matrix.h5ad\n"
     ]
    },
    {
     "name": "stderr",
     "output_type": "stream",
     "text": [
      "/opt/anaconda3/envs/astrohack/lib/python3.6/site-packages/sklearn/metrics/cluster/supervised.py:732: FutureWarning: The behavior of AMI will change in version 0.22. To match the behavior of 'v_measure_score', AMI will use average_method='arithmetic' by default.\n",
      "  FutureWarning)\n",
      "/opt/anaconda3/envs/astrohack/lib/python3.6/site-packages/sklearn/metrics/cluster/unsupervised.py:342: RuntimeWarning: divide by zero encountered in true_divide\n",
      "  score = (intra_dists[:, None] + intra_dists) / centroid_distances\n"
     ]
    },
    {
     "name": "stdout",
     "output_type": "stream",
     "text": [
      "Loading dataset sce8_qc with 15571 genes and 296 cells\n",
      "filtered out 583 genes that are detected in less than 9.0 cells\n",
      "regressing out ['total_counts']\n",
      "    sparse input is densified and may lead to high memory use\n",
      "    finished (0:00:16.10)\n",
      "computing neighbors\n",
      "    using 'X_pca' with n_pcs = 42\n",
      "    finished (0:00:00.06) --> added to `.uns['neighbors']`\n",
      "    'distances', weighted adjacency matrix\n",
      "    'connectivities', weighted adjacency matrix\n",
      "computing UMAP\n",
      "    finished (0:00:00.44) --> added\n",
      "    'X_umap', UMAP coordinates (adata.obsm)\n",
      "running Louvain clustering\n",
      "    using the \"louvain\" package of Traag (2017)\n",
      "    finished (0:00:00.00) --> found 6 clusters and added\n",
      "    'louvain', the cluster labels (adata.obs, categorical)\n",
      ">> Result: 0.6056999834327876\n"
     ]
    },
    {
     "name": "stderr",
     "output_type": "stream",
     "text": [
      "/opt/anaconda3/envs/astrohack/lib/python3.6/site-packages/sklearn/metrics/cluster/supervised.py:732: FutureWarning: The behavior of AMI will change in version 0.22. To match the behavior of 'v_measure_score', AMI will use average_method='arithmetic' by default.\n",
      "  FutureWarning)\n",
      "/opt/anaconda3/envs/astrohack/lib/python3.6/site-packages/sklearn/metrics/cluster/unsupervised.py:342: RuntimeWarning: divide by zero encountered in true_divide\n",
      "  score = (intra_dists[:, None] + intra_dists) / centroid_distances\n"
     ]
    },
    {
     "name": "stdout",
     "output_type": "stream",
     "text": [
      "... reading from cache file ./cache/input-cellBench-sce8_qc-matrix.h5ad\n",
      "Loading dataset sce8_qc with 15571 genes and 296 cells\n",
      "filtered out 1100 genes that are detected in less than 13.0 cells\n",
      "computing neighbors\n",
      "    using 'X_pca' with n_pcs = 45\n",
      "    finished (0:00:00.05) --> added to `.uns['neighbors']`\n",
      "    'distances', weighted adjacency matrix\n",
      "    'connectivities', weighted adjacency matrix\n",
      "computing UMAP\n",
      "    finished (0:00:00.27) --> added\n",
      "    'X_umap', UMAP coordinates (adata.obsm)\n",
      "running Louvain clustering\n",
      "    using the \"louvain\" package of Traag (2017)\n",
      "    finished (0:00:00.00) --> found 8 clusters and added\n",
      "    'louvain', the cluster labels (adata.obs, categorical)\n",
      ">> Result: 0.6789668705733859\n",
      "... reading from cache file ./cache/input-cellBench-sce8_qc-matrix.h5ad\n"
     ]
    },
    {
     "name": "stderr",
     "output_type": "stream",
     "text": [
      "/opt/anaconda3/envs/astrohack/lib/python3.6/site-packages/sklearn/metrics/cluster/supervised.py:732: FutureWarning: The behavior of AMI will change in version 0.22. To match the behavior of 'v_measure_score', AMI will use average_method='arithmetic' by default.\n",
      "  FutureWarning)\n",
      "/opt/anaconda3/envs/astrohack/lib/python3.6/site-packages/sklearn/metrics/cluster/unsupervised.py:342: RuntimeWarning: divide by zero encountered in true_divide\n",
      "  score = (intra_dists[:, None] + intra_dists) / centroid_distances\n"
     ]
    },
    {
     "name": "stdout",
     "output_type": "stream",
     "text": [
      "Loading dataset sce8_qc with 15571 genes and 296 cells\n",
      "regressing out ['total_counts']\n",
      "    sparse input is densified and may lead to high memory use\n",
      "    finished (0:00:16.68)\n",
      "computing neighbors\n",
      "    using 'X_pca' with n_pcs = 40\n",
      "    finished (0:00:00.05) --> added to `.uns['neighbors']`\n",
      "    'distances', weighted adjacency matrix\n",
      "    'connectivities', weighted adjacency matrix\n",
      "computing UMAP\n",
      "    finished (0:00:00.30) --> added\n",
      "    'X_umap', UMAP coordinates (adata.obsm)\n",
      "running Louvain clustering\n",
      "    using the \"louvain\" package of Traag (2017)\n",
      "    finished (0:00:00.00) --> found 8 clusters and added\n",
      "    'louvain', the cluster labels (adata.obs, categorical)\n",
      ">> Result: 0.8054307324727831\n"
     ]
    },
    {
     "name": "stderr",
     "output_type": "stream",
     "text": [
      "/opt/anaconda3/envs/astrohack/lib/python3.6/site-packages/sklearn/metrics/cluster/supervised.py:732: FutureWarning: The behavior of AMI will change in version 0.22. To match the behavior of 'v_measure_score', AMI will use average_method='arithmetic' by default.\n",
      "  FutureWarning)\n",
      "/opt/anaconda3/envs/astrohack/lib/python3.6/site-packages/sklearn/metrics/cluster/unsupervised.py:342: RuntimeWarning: divide by zero encountered in true_divide\n",
      "  score = (intra_dists[:, None] + intra_dists) / centroid_distances\n"
     ]
    },
    {
     "name": "stdout",
     "output_type": "stream",
     "text": [
      "... reading from cache file ./cache/input-cellBench-sce8_qc-matrix.h5ad\n",
      "Loading dataset sce8_qc with 15571 genes and 296 cells\n",
      "filtered out 1411 genes that are detected in less than 16.0 cells\n",
      "regressing out ['total_counts']\n",
      "    sparse input is densified and may lead to high memory use\n",
      "    finished (0:00:09.43)\n",
      "computing neighbors\n",
      "    using 'X_pca' with n_pcs = 38\n",
      "    finished (0:00:00.07) --> added to `.uns['neighbors']`\n",
      "    'distances', weighted adjacency matrix\n",
      "    'connectivities', weighted adjacency matrix\n",
      "computing UMAP\n",
      "    finished (0:00:00.45) --> added\n",
      "    'X_umap', UMAP coordinates (adata.obsm)\n",
      "running Louvain clustering\n",
      "    using the \"louvain\" package of Traag (2017)\n",
      "    finished (0:00:00.00) --> found 8 clusters and added\n",
      "    'louvain', the cluster labels (adata.obs, categorical)\n",
      ">> Result: 0.23062439541737728\n"
     ]
    },
    {
     "name": "stderr",
     "output_type": "stream",
     "text": [
      "/opt/anaconda3/envs/astrohack/lib/python3.6/site-packages/sklearn/metrics/cluster/supervised.py:732: FutureWarning: The behavior of AMI will change in version 0.22. To match the behavior of 'v_measure_score', AMI will use average_method='arithmetic' by default.\n",
      "  FutureWarning)\n",
      "/opt/anaconda3/envs/astrohack/lib/python3.6/site-packages/sklearn/metrics/cluster/unsupervised.py:342: RuntimeWarning: divide by zero encountered in true_divide\n",
      "  score = (intra_dists[:, None] + intra_dists) / centroid_distances\n"
     ]
    },
    {
     "name": "stdout",
     "output_type": "stream",
     "text": [
      "... reading from cache file ./cache/input-cellBench-sce8_qc-matrix.h5ad\n",
      "Loading dataset sce8_qc with 15571 genes and 296 cells\n",
      "filtered out 1790 genes that are detected in less than 20.0 cells\n",
      "regressing out ['total_counts']\n",
      "    sparse input is densified and may lead to high memory use\n",
      "    finished (0:00:14.73)\n",
      "computing neighbors\n",
      "    using 'X_pca' with n_pcs = 32\n",
      "    finished (0:00:00.06) --> added to `.uns['neighbors']`\n",
      "    'distances', weighted adjacency matrix\n",
      "    'connectivities', weighted adjacency matrix\n",
      "computing UMAP\n",
      "    finished (0:00:00.40) --> added\n",
      "    'X_umap', UMAP coordinates (adata.obsm)\n",
      "running Louvain clustering\n",
      "    using the \"louvain\" package of Traag (2017)\n",
      "    finished (0:00:00.00) --> found 8 clusters and added\n",
      "    'louvain', the cluster labels (adata.obs, categorical)\n",
      ">> Result: 0.08289697218687529\n"
     ]
    },
    {
     "name": "stderr",
     "output_type": "stream",
     "text": [
      "/opt/anaconda3/envs/astrohack/lib/python3.6/site-packages/sklearn/metrics/cluster/supervised.py:732: FutureWarning: The behavior of AMI will change in version 0.22. To match the behavior of 'v_measure_score', AMI will use average_method='arithmetic' by default.\n",
      "  FutureWarning)\n",
      "/opt/anaconda3/envs/astrohack/lib/python3.6/site-packages/sklearn/metrics/cluster/unsupervised.py:342: RuntimeWarning: divide by zero encountered in true_divide\n",
      "  score = (intra_dists[:, None] + intra_dists) / centroid_distances\n"
     ]
    },
    {
     "name": "stdout",
     "output_type": "stream",
     "text": [
      "... reading from cache file ./cache/input-cellBench-sce8_qc-matrix.h5ad\n",
      "Loading dataset sce8_qc with 15571 genes and 296 cells\n",
      "filtered out 987 genes that are detected in less than 12.0 cells\n",
      "regressing out ['total_counts']\n",
      "    sparse input is densified and may lead to high memory use\n",
      "    finished (0:00:16.64)\n",
      "computing neighbors\n",
      "    using 'X_pca' with n_pcs = 37\n",
      "    finished (0:00:00.07) --> added to `.uns['neighbors']`\n",
      "    'distances', weighted adjacency matrix\n",
      "    'connectivities', weighted adjacency matrix\n",
      "computing UMAP\n",
      "    finished (0:00:00.47) --> added\n",
      "    'X_umap', UMAP coordinates (adata.obsm)\n",
      "running Louvain clustering\n",
      "    using the \"louvain\" package of Traag (2017)\n",
      "    finished (0:00:00.00) --> found 8 clusters and added\n",
      "    'louvain', the cluster labels (adata.obs, categorical)\n",
      ">> Result: 0.5872575389330393\n"
     ]
    },
    {
     "name": "stderr",
     "output_type": "stream",
     "text": [
      "/opt/anaconda3/envs/astrohack/lib/python3.6/site-packages/sklearn/metrics/cluster/supervised.py:732: FutureWarning: The behavior of AMI will change in version 0.22. To match the behavior of 'v_measure_score', AMI will use average_method='arithmetic' by default.\n",
      "  FutureWarning)\n",
      "/opt/anaconda3/envs/astrohack/lib/python3.6/site-packages/sklearn/metrics/cluster/unsupervised.py:342: RuntimeWarning: divide by zero encountered in true_divide\n",
      "  score = (intra_dists[:, None] + intra_dists) / centroid_distances\n"
     ]
    },
    {
     "name": "stdout",
     "output_type": "stream",
     "text": [
      "... reading from cache file ./cache/input-cellBench-sce8_qc-matrix.h5ad\n",
      "Loading dataset sce8_qc with 15571 genes and 296 cells\n",
      "filtered out 769 genes that are detected in less than 10.0 cells\n",
      "computing neighbors\n",
      "    using 'X_pca' with n_pcs = 36\n",
      "    finished (0:00:00.04) --> added to `.uns['neighbors']`\n",
      "    'distances', weighted adjacency matrix\n",
      "    'connectivities', weighted adjacency matrix\n",
      "computing UMAP\n",
      "    finished (0:00:00.13) --> added\n",
      "    'X_umap', UMAP coordinates (adata.obsm)\n",
      "running Louvain clustering\n",
      "    using the \"louvain\" package of Traag (2017)\n",
      "    finished (0:00:00.00) --> found 37 clusters and added\n",
      "    'louvain', the cluster labels (adata.obs, categorical)\n"
     ]
    },
    {
     "name": "stderr",
     "output_type": "stream",
     "text": [
      "/opt/anaconda3/envs/astrohack/lib/python3.6/site-packages/sklearn/metrics/cluster/supervised.py:732: FutureWarning: The behavior of AMI will change in version 0.22. To match the behavior of 'v_measure_score', AMI will use average_method='arithmetic' by default.\n",
      "  FutureWarning)\n",
      "/opt/anaconda3/envs/astrohack/lib/python3.6/site-packages/sklearn/metrics/cluster/unsupervised.py:342: RuntimeWarning: divide by zero encountered in true_divide\n",
      "  score = (intra_dists[:, None] + intra_dists) / centroid_distances\n"
     ]
    },
    {
     "name": "stdout",
     "output_type": "stream",
     "text": [
      ">> Result: 0.3080438659339332\n",
      "Index  110\n",
      "... reading from cache file ./cache/input-cellBench-sce8_qc-matrix.h5ad\n",
      "Loading dataset sce8_qc with 15571 genes and 296 cells\n",
      "regressing out ['total_counts']\n",
      "    sparse input is densified and may lead to high memory use\n",
      "    finished (0:00:16.69)\n",
      "computing neighbors\n",
      "    using 'X_pca' with n_pcs = 39\n",
      "    finished (0:00:00.04) --> added to `.uns['neighbors']`\n",
      "    'distances', weighted adjacency matrix\n",
      "    'connectivities', weighted adjacency matrix\n",
      "computing UMAP\n",
      "... reading from cache file ./cache/input-cellBench-sce8_qc-matrix.h5ad\n"
     ]
    },
    {
     "name": "stderr",
     "output_type": "stream",
     "text": [
      "/opt/anaconda3/envs/astrohack/lib/python3.6/site-packages/scanpy/neighbors/umap/umap_.py:864: RuntimeWarning: divide by zero encountered in true_divide\n",
      "  D = scipy.sparse.spdiags(1.0 / np.sqrt(diag_data), 0, graph.shape[0],\n",
      "/opt/anaconda3/envs/astrohack/lib/python3.6/site-packages/scipy/sparse/linalg/eigen/arpack/arpack.py:1556: RuntimeWarning: k >= N for N * N square matrix. Attempting to use scipy.linalg.eigh instead.\n",
      "  RuntimeWarning)\n"
     ]
    },
    {
     "name": "stdout",
     "output_type": "stream",
     "text": [
      "Loading dataset sce8_qc with 15571 genes and 296 cells\n",
      "regressing out ['total_counts']\n",
      "    sparse input is densified and may lead to high memory use\n",
      "    finished (0:00:02.99)\n",
      "computing neighbors\n",
      "    using 'X_pca' with n_pcs = 44\n",
      "    finished (0:00:00.06) --> added to `.uns['neighbors']`\n",
      "    'distances', weighted adjacency matrix\n",
      "    'connectivities', weighted adjacency matrix\n",
      "computing UMAP\n",
      "    finished (0:00:00.35) --> added\n",
      "    'X_umap', UMAP coordinates (adata.obsm)\n",
      "running Louvain clustering\n",
      "    using the \"louvain\" package of Traag (2017)\n",
      "    finished (0:00:00.00) --> found 9 clusters and added\n",
      "    'louvain', the cluster labels (adata.obs, categorical)\n",
      ">> Result: 0.21859113831953442\n",
      "... reading from cache file ./cache/input-cellBench-sce8_qc-matrix.h5ad\n"
     ]
    },
    {
     "name": "stderr",
     "output_type": "stream",
     "text": [
      "/opt/anaconda3/envs/astrohack/lib/python3.6/site-packages/sklearn/metrics/cluster/supervised.py:732: FutureWarning: The behavior of AMI will change in version 0.22. To match the behavior of 'v_measure_score', AMI will use average_method='arithmetic' by default.\n",
      "  FutureWarning)\n",
      "/opt/anaconda3/envs/astrohack/lib/python3.6/site-packages/sklearn/metrics/cluster/unsupervised.py:342: RuntimeWarning: divide by zero encountered in true_divide\n",
      "  score = (intra_dists[:, None] + intra_dists) / centroid_distances\n"
     ]
    },
    {
     "name": "stdout",
     "output_type": "stream",
     "text": [
      "Loading dataset sce8_qc with 15571 genes and 296 cells\n",
      "filtered out 1597 genes that are detected in less than 18.0 cells\n",
      "regressing out ['total_counts']\n",
      "    sparse input is densified and may lead to high memory use\n",
      "    finished (0:00:14.97)\n",
      "computing neighbors\n",
      "    using 'X_pca' with n_pcs = 47\n",
      "    finished (0:00:00.07) --> added to `.uns['neighbors']`\n",
      "    'distances', weighted adjacency matrix\n",
      "    'connectivities', weighted adjacency matrix\n",
      "computing UMAP\n",
      "    finished (0:00:00.39) --> added\n",
      "    'X_umap', UMAP coordinates (adata.obsm)\n",
      "running Louvain clustering\n",
      "    using the \"louvain\" package of Traag (2017)\n",
      "    finished (0:00:00.00) --> found 8 clusters and added\n",
      "    'louvain', the cluster labels (adata.obs, categorical)\n",
      ">> Result: 0.06152942181164863\n"
     ]
    },
    {
     "name": "stderr",
     "output_type": "stream",
     "text": [
      "/opt/anaconda3/envs/astrohack/lib/python3.6/site-packages/sklearn/metrics/cluster/supervised.py:732: FutureWarning: The behavior of AMI will change in version 0.22. To match the behavior of 'v_measure_score', AMI will use average_method='arithmetic' by default.\n",
      "  FutureWarning)\n",
      "/opt/anaconda3/envs/astrohack/lib/python3.6/site-packages/sklearn/metrics/cluster/unsupervised.py:342: RuntimeWarning: divide by zero encountered in true_divide\n",
      "  score = (intra_dists[:, None] + intra_dists) / centroid_distances\n"
     ]
    },
    {
     "name": "stdout",
     "output_type": "stream",
     "text": [
      "... reading from cache file ./cache/input-cellBench-sce8_qc-matrix.h5ad\n",
      "Loading dataset sce8_qc with 15571 genes and 296 cells\n",
      "filtered out 1705 genes that are detected in less than 19.0 cells\n",
      "regressing out ['total_counts']\n",
      "    sparse input is densified and may lead to high memory use\n",
      "    finished (0:00:14.88)\n",
      "computing neighbors\n",
      "    using 'X_pca' with n_pcs = 31\n",
      "    finished (0:00:00.07) --> added to `.uns['neighbors']`\n",
      "    'distances', weighted adjacency matrix\n",
      "    'connectivities', weighted adjacency matrix\n",
      "computing UMAP\n",
      "    finished (0:00:00.41) --> added\n",
      "    'X_umap', UMAP coordinates (adata.obsm)\n",
      "running Louvain clustering\n",
      "    using the \"louvain\" package of Traag (2017)\n",
      "    finished (0:00:00.00) --> found 7 clusters and added\n",
      "    'louvain', the cluster labels (adata.obs, categorical)\n",
      ">> Result: 0.6326146475739689\n"
     ]
    },
    {
     "name": "stderr",
     "output_type": "stream",
     "text": [
      "/opt/anaconda3/envs/astrohack/lib/python3.6/site-packages/sklearn/metrics/cluster/supervised.py:732: FutureWarning: The behavior of AMI will change in version 0.22. To match the behavior of 'v_measure_score', AMI will use average_method='arithmetic' by default.\n",
      "  FutureWarning)\n",
      "/opt/anaconda3/envs/astrohack/lib/python3.6/site-packages/sklearn/metrics/cluster/unsupervised.py:342: RuntimeWarning: divide by zero encountered in true_divide\n",
      "  score = (intra_dists[:, None] + intra_dists) / centroid_distances\n"
     ]
    },
    {
     "name": "stdout",
     "output_type": "stream",
     "text": [
      "... reading from cache file ./cache/input-cellBench-sce8_qc-matrix.h5ad\n",
      "Loading dataset sce8_qc with 15571 genes and 296 cells\n",
      "filtered out 884 genes that are detected in less than 11.0 cells\n",
      "computing neighbors\n",
      "    using 'X_pca' with n_pcs = 41\n",
      "    finished (0:00:00.07) --> added to `.uns['neighbors']`\n",
      "    'distances', weighted adjacency matrix\n",
      "    'connectivities', weighted adjacency matrix\n",
      "computing UMAP\n",
      "    finished (0:00:00.53) --> added\n",
      "    'X_umap', UMAP coordinates (adata.obsm)\n",
      "running Louvain clustering\n",
      "    using the \"louvain\" package of Traag (2017)\n",
      "    finished (0:00:00.00) --> found 6 clusters and added\n",
      "    'louvain', the cluster labels (adata.obs, categorical)\n",
      ">> Result: 0.7193320220499386\n"
     ]
    },
    {
     "name": "stderr",
     "output_type": "stream",
     "text": [
      "/opt/anaconda3/envs/astrohack/lib/python3.6/site-packages/sklearn/metrics/cluster/supervised.py:732: FutureWarning: The behavior of AMI will change in version 0.22. To match the behavior of 'v_measure_score', AMI will use average_method='arithmetic' by default.\n",
      "  FutureWarning)\n",
      "/opt/anaconda3/envs/astrohack/lib/python3.6/site-packages/sklearn/metrics/cluster/unsupervised.py:342: RuntimeWarning: divide by zero encountered in true_divide\n",
      "  score = (intra_dists[:, None] + intra_dists) / centroid_distances\n"
     ]
    },
    {
     "name": "stdout",
     "output_type": "stream",
     "text": [
      "... reading from cache file ./cache/input-cellBench-sce8_qc-matrix.h5ad\n",
      "Loading dataset sce8_qc with 15571 genes and 296 cells\n",
      "regressing out ['total_counts']\n",
      "    sparse input is densified and may lead to high memory use\n",
      "    finished (0:00:16.75)\n",
      "computing neighbors\n",
      "    using 'X_pca' with n_pcs = 26\n",
      "    finished (0:00:00.06) --> added to `.uns['neighbors']`\n",
      "    'distances', weighted adjacency matrix\n",
      "    'connectivities', weighted adjacency matrix\n",
      "computing UMAP\n",
      "    finished (0:00:00.36) --> added\n",
      "    'X_umap', UMAP coordinates (adata.obsm)\n",
      "running Louvain clustering\n",
      "    using the \"louvain\" package of Traag (2017)\n",
      "    finished (0:00:00.00) --> found 8 clusters and added\n",
      "    'louvain', the cluster labels (adata.obs, categorical)\n",
      ">> Result: 0.8096879080027298\n"
     ]
    },
    {
     "name": "stderr",
     "output_type": "stream",
     "text": [
      "/opt/anaconda3/envs/astrohack/lib/python3.6/site-packages/sklearn/metrics/cluster/supervised.py:732: FutureWarning: The behavior of AMI will change in version 0.22. To match the behavior of 'v_measure_score', AMI will use average_method='arithmetic' by default.\n",
      "  FutureWarning)\n",
      "/opt/anaconda3/envs/astrohack/lib/python3.6/site-packages/sklearn/metrics/cluster/unsupervised.py:342: RuntimeWarning: divide by zero encountered in true_divide\n",
      "  score = (intra_dists[:, None] + intra_dists) / centroid_distances\n"
     ]
    },
    {
     "name": "stdout",
     "output_type": "stream",
     "text": [
      "... reading from cache file ./cache/input-cellBench-sce8_qc-matrix.h5ad\n",
      "Loading dataset sce8_qc with 15571 genes and 296 cells\n",
      "regressing out ['total_counts']\n",
      "    sparse input is densified and may lead to high memory use\n",
      "    finished (0:00:13.72)\n",
      "computing neighbors\n",
      "    using 'X_pca' with n_pcs = 29\n",
      "    finished (0:00:00.05) --> added to `.uns['neighbors']`\n",
      "    'distances', weighted adjacency matrix\n",
      "    'connectivities', weighted adjacency matrix\n",
      "computing UMAP\n",
      "    finished (0:00:00.32) --> added\n",
      "    'X_umap', UMAP coordinates (adata.obsm)\n",
      "running Louvain clustering\n",
      "    using the \"louvain\" package of Traag (2017)\n",
      "    finished (0:00:00.00) --> found 9 clusters and added\n",
      "    'louvain', the cluster labels (adata.obs, categorical)\n",
      ">> Result: 0.22069758641109952\n"
     ]
    },
    {
     "name": "stderr",
     "output_type": "stream",
     "text": [
      "/opt/anaconda3/envs/astrohack/lib/python3.6/site-packages/sklearn/metrics/cluster/supervised.py:732: FutureWarning: The behavior of AMI will change in version 0.22. To match the behavior of 'v_measure_score', AMI will use average_method='arithmetic' by default.\n",
      "  FutureWarning)\n",
      "/opt/anaconda3/envs/astrohack/lib/python3.6/site-packages/sklearn/metrics/cluster/unsupervised.py:342: RuntimeWarning: divide by zero encountered in true_divide\n",
      "  score = (intra_dists[:, None] + intra_dists) / centroid_distances\n"
     ]
    },
    {
     "name": "stdout",
     "output_type": "stream",
     "text": [
      "... reading from cache file ./cache/input-cellBench-sce8_qc-matrix.h5ad\n",
      "Loading dataset sce8_qc with 15571 genes and 296 cells\n",
      "filtered out 1301 genes that are detected in less than 15.0 cells\n",
      "regressing out ['total_counts']\n",
      "    sparse input is densified and may lead to high memory use\n",
      "    finished (0:00:15.25)\n",
      "computing neighbors\n",
      "    using 'X_pca' with n_pcs = 35\n",
      "    finished (0:00:00.07) --> added to `.uns['neighbors']`\n",
      "    'distances', weighted adjacency matrix\n",
      "    'connectivities', weighted adjacency matrix\n",
      "computing UMAP\n",
      "    finished (0:00:00.47) --> added\n",
      "    'X_umap', UMAP coordinates (adata.obsm)\n",
      "running Louvain clustering\n",
      "    using the \"louvain\" package of Traag (2017)\n",
      "    finished (0:00:00.00) --> found 8 clusters and added\n",
      "    'louvain', the cluster labels (adata.obs, categorical)\n",
      ">> Result: 0.06571464763410304\n"
     ]
    },
    {
     "name": "stderr",
     "output_type": "stream",
     "text": [
      "/opt/anaconda3/envs/astrohack/lib/python3.6/site-packages/sklearn/metrics/cluster/supervised.py:732: FutureWarning: The behavior of AMI will change in version 0.22. To match the behavior of 'v_measure_score', AMI will use average_method='arithmetic' by default.\n",
      "  FutureWarning)\n",
      "/opt/anaconda3/envs/astrohack/lib/python3.6/site-packages/sklearn/metrics/cluster/unsupervised.py:342: RuntimeWarning: divide by zero encountered in true_divide\n",
      "  score = (intra_dists[:, None] + intra_dists) / centroid_distances\n"
     ]
    },
    {
     "name": "stdout",
     "output_type": "stream",
     "text": [
      "... reading from cache file ./cache/input-cellBench-sce8_qc-matrix.h5ad\n",
      "Loading dataset sce8_qc with 15571 genes and 296 cells\n",
      "filtered out 401 genes that are detected in less than 8.0 cells\n",
      "regressing out ['total_counts']\n",
      "    sparse input is densified and may lead to high memory use\n",
      "    finished (0:00:16.31)\n",
      "computing neighbors\n",
      "    using 'X_pca' with n_pcs = 37\n",
      "    finished (0:00:00.05) --> added to `.uns['neighbors']`\n",
      "    'distances', weighted adjacency matrix\n",
      "    'connectivities', weighted adjacency matrix\n",
      "computing UMAP\n",
      "    finished (0:00:00.30) --> added\n",
      "    'X_umap', UMAP coordinates (adata.obsm)\n",
      "running Louvain clustering\n",
      "    using the \"louvain\" package of Traag (2017)\n",
      "    finished (0:00:00.00) --> found 10 clusters and added\n",
      "    'louvain', the cluster labels (adata.obs, categorical)\n",
      ">> Result: 0.5047432055417763\n",
      "... reading from cache file ./cache/input-cellBench-sce8_qc-matrix.h5ad\n"
     ]
    },
    {
     "name": "stderr",
     "output_type": "stream",
     "text": [
      "/opt/anaconda3/envs/astrohack/lib/python3.6/site-packages/sklearn/metrics/cluster/supervised.py:732: FutureWarning: The behavior of AMI will change in version 0.22. To match the behavior of 'v_measure_score', AMI will use average_method='arithmetic' by default.\n",
      "  FutureWarning)\n",
      "/opt/anaconda3/envs/astrohack/lib/python3.6/site-packages/sklearn/metrics/cluster/unsupervised.py:342: RuntimeWarning: divide by zero encountered in true_divide\n",
      "  score = (intra_dists[:, None] + intra_dists) / centroid_distances\n"
     ]
    },
    {
     "name": "stdout",
     "output_type": "stream",
     "text": [
      "Loading dataset sce8_qc with 15571 genes and 296 cells\n",
      "filtered out 1100 genes that are detected in less than 13.0 cells\n",
      "computing neighbors\n",
      "    using 'X_pca' with n_pcs = 34\n",
      "    finished (0:00:00.07) --> added to `.uns['neighbors']`\n",
      "    'distances', weighted adjacency matrix\n",
      "    'connectivities', weighted adjacency matrix\n",
      "computing UMAP\n",
      "    finished (0:00:00.57) --> added\n",
      "    'X_umap', UMAP coordinates (adata.obsm)\n",
      "running Louvain clustering\n",
      "    using the \"louvain\" package of Traag (2017)\n",
      "    finished (0:00:00.00) --> found 7 clusters and added\n",
      "    'louvain', the cluster labels (adata.obs, categorical)\n",
      ">> Result: 0.7380242275090227\n",
      "Index  120\n"
     ]
    },
    {
     "name": "stderr",
     "output_type": "stream",
     "text": [
      "/opt/anaconda3/envs/astrohack/lib/python3.6/site-packages/sklearn/metrics/cluster/supervised.py:732: FutureWarning: The behavior of AMI will change in version 0.22. To match the behavior of 'v_measure_score', AMI will use average_method='arithmetic' by default.\n",
      "  FutureWarning)\n",
      "/opt/anaconda3/envs/astrohack/lib/python3.6/site-packages/sklearn/metrics/cluster/unsupervised.py:342: RuntimeWarning: divide by zero encountered in true_divide\n",
      "  score = (intra_dists[:, None] + intra_dists) / centroid_distances\n"
     ]
    },
    {
     "name": "stdout",
     "output_type": "stream",
     "text": [
      "... reading from cache file ./cache/input-cellBench-sce8_qc-matrix.h5ad\n",
      "Loading dataset sce8_qc with 15571 genes and 296 cells\n",
      "regressing out ['total_counts']\n",
      "    sparse input is densified and may lead to high memory use\n",
      "    finished (0:00:16.68)\n",
      "computing neighbors\n",
      "    using 'X_pca' with n_pcs = 38\n",
      "    finished (0:00:00.05) --> added to `.uns['neighbors']`\n",
      "    'distances', weighted adjacency matrix\n",
      "    'connectivities', weighted adjacency matrix\n",
      "computing UMAP\n",
      "    finished (0:00:00.33) --> added\n",
      "    'X_umap', UMAP coordinates (adata.obsm)\n",
      "running Louvain clustering\n",
      "    using the \"louvain\" package of Traag (2017)\n",
      "    finished (0:00:00.00) --> found 8 clusters and added\n",
      "    'louvain', the cluster labels (adata.obs, categorical)\n",
      ">> Result: 0.8114056161299451\n"
     ]
    },
    {
     "name": "stderr",
     "output_type": "stream",
     "text": [
      "/opt/anaconda3/envs/astrohack/lib/python3.6/site-packages/sklearn/metrics/cluster/supervised.py:732: FutureWarning: The behavior of AMI will change in version 0.22. To match the behavior of 'v_measure_score', AMI will use average_method='arithmetic' by default.\n",
      "  FutureWarning)\n",
      "/opt/anaconda3/envs/astrohack/lib/python3.6/site-packages/sklearn/metrics/cluster/unsupervised.py:342: RuntimeWarning: divide by zero encountered in true_divide\n",
      "  score = (intra_dists[:, None] + intra_dists) / centroid_distances\n"
     ]
    },
    {
     "name": "stdout",
     "output_type": "stream",
     "text": [
      "... reading from cache file ./cache/input-cellBench-sce8_qc-matrix.h5ad\n",
      "Loading dataset sce8_qc with 15571 genes and 296 cells\n",
      "filtered out 1206 genes that are detected in less than 14.0 cells\n",
      "regressing out ['total_counts']\n",
      "    sparse input is densified and may lead to high memory use\n",
      "    finished (0:00:05.18)\n",
      "computing neighbors\n",
      "    using 'X_pca' with n_pcs = 32\n",
      "    finished (0:00:00.06) --> added to `.uns['neighbors']`\n",
      "    'distances', weighted adjacency matrix\n",
      "    'connectivities', weighted adjacency matrix\n",
      "computing UMAP\n",
      "    finished (0:00:00.37) --> added\n",
      "    'X_umap', UMAP coordinates (adata.obsm)\n",
      "running Louvain clustering\n",
      "    using the \"louvain\" package of Traag (2017)\n",
      "    finished (0:00:00.00) --> found 9 clusters and added\n",
      "    'louvain', the cluster labels (adata.obs, categorical)\n",
      ">> Result: 0.22596907667730232\n"
     ]
    },
    {
     "name": "stderr",
     "output_type": "stream",
     "text": [
      "/opt/anaconda3/envs/astrohack/lib/python3.6/site-packages/sklearn/metrics/cluster/supervised.py:732: FutureWarning: The behavior of AMI will change in version 0.22. To match the behavior of 'v_measure_score', AMI will use average_method='arithmetic' by default.\n",
      "  FutureWarning)\n",
      "/opt/anaconda3/envs/astrohack/lib/python3.6/site-packages/sklearn/metrics/cluster/unsupervised.py:342: RuntimeWarning: divide by zero encountered in true_divide\n",
      "  score = (intra_dists[:, None] + intra_dists) / centroid_distances\n"
     ]
    },
    {
     "name": "stdout",
     "output_type": "stream",
     "text": [
      "... reading from cache file ./cache/input-cellBench-sce8_qc-matrix.h5ad\n",
      "Loading dataset sce8_qc with 15571 genes and 296 cells\n",
      "filtered out 1523 genes that are detected in less than 17.0 cells\n",
      "regressing out ['total_counts']\n",
      "    sparse input is densified and may lead to high memory use\n",
      "    finished (0:00:15.10)\n",
      "computing neighbors\n",
      "    using 'X_pca' with n_pcs = 46\n",
      "    finished (0:00:00.06) --> added to `.uns['neighbors']`\n",
      "    'distances', weighted adjacency matrix\n",
      "    'connectivities', weighted adjacency matrix\n",
      "computing UMAP\n",
      "    finished (0:00:00.39) --> added\n",
      "    'X_umap', UMAP coordinates (adata.obsm)\n",
      "running Louvain clustering\n",
      "    using the \"louvain\" package of Traag (2017)\n",
      "    finished (0:00:00.00) --> found 8 clusters and added\n",
      "    'louvain', the cluster labels (adata.obs, categorical)\n",
      ">> Result: 0.06205425252546472\n"
     ]
    },
    {
     "name": "stderr",
     "output_type": "stream",
     "text": [
      "/opt/anaconda3/envs/astrohack/lib/python3.6/site-packages/sklearn/metrics/cluster/supervised.py:732: FutureWarning: The behavior of AMI will change in version 0.22. To match the behavior of 'v_measure_score', AMI will use average_method='arithmetic' by default.\n",
      "  FutureWarning)\n",
      "/opt/anaconda3/envs/astrohack/lib/python3.6/site-packages/sklearn/metrics/cluster/unsupervised.py:342: RuntimeWarning: divide by zero encountered in true_divide\n",
      "  score = (intra_dists[:, None] + intra_dists) / centroid_distances\n"
     ]
    },
    {
     "name": "stdout",
     "output_type": "stream",
     "text": [
      "... reading from cache file ./cache/input-cellBench-sce8_qc-matrix.h5ad\n",
      "Loading dataset sce8_qc with 15571 genes and 296 cells\n",
      "filtered out 583 genes that are detected in less than 9.0 cells\n",
      "regressing out ['total_counts']\n",
      "    sparse input is densified and may lead to high memory use\n",
      "    finished (0:00:16.13)\n",
      "computing neighbors\n",
      "    using 'X_pca' with n_pcs = 23\n",
      "    finished (0:00:00.06) --> added to `.uns['neighbors']`\n",
      "    'distances', weighted adjacency matrix\n",
      "    'connectivities', weighted adjacency matrix\n",
      "computing UMAP\n",
      "    finished (0:00:00.40) --> added\n",
      "    'X_umap', UMAP coordinates (adata.obsm)\n",
      "running Louvain clustering\n",
      "    using the \"louvain\" package of Traag (2017)\n",
      "    finished (0:00:00.00) --> found 7 clusters and added\n",
      "    'louvain', the cluster labels (adata.obs, categorical)\n",
      ">> Result: 0.6154041611996609\n"
     ]
    },
    {
     "name": "stderr",
     "output_type": "stream",
     "text": [
      "/opt/anaconda3/envs/astrohack/lib/python3.6/site-packages/sklearn/metrics/cluster/supervised.py:732: FutureWarning: The behavior of AMI will change in version 0.22. To match the behavior of 'v_measure_score', AMI will use average_method='arithmetic' by default.\n",
      "  FutureWarning)\n",
      "/opt/anaconda3/envs/astrohack/lib/python3.6/site-packages/sklearn/metrics/cluster/unsupervised.py:342: RuntimeWarning: divide by zero encountered in true_divide\n",
      "  score = (intra_dists[:, None] + intra_dists) / centroid_distances\n"
     ]
    },
    {
     "name": "stdout",
     "output_type": "stream",
     "text": [
      "... reading from cache file ./cache/input-cellBench-sce8_qc-matrix.h5ad\n",
      "Loading dataset sce8_qc with 15571 genes and 296 cells\n",
      "computing neighbors\n",
      "    using 'X_pca' with n_pcs = 30\n",
      "    finished (0:00:00.08) --> added to `.uns['neighbors']`\n",
      "    'distances', weighted adjacency matrix\n",
      "    'connectivities', weighted adjacency matrix\n",
      "computing UMAP\n",
      "    finished (0:00:00.54) --> added\n",
      "    'X_umap', UMAP coordinates (adata.obsm)\n",
      "running Louvain clustering\n",
      "    using the \"louvain\" package of Traag (2017)\n",
      "    finished (0:00:00.00) --> found 6 clusters and added\n",
      "    'louvain', the cluster labels (adata.obs, categorical)\n",
      ">> Result: 0.713157694968996\n"
     ]
    },
    {
     "name": "stderr",
     "output_type": "stream",
     "text": [
      "/opt/anaconda3/envs/astrohack/lib/python3.6/site-packages/sklearn/metrics/cluster/supervised.py:732: FutureWarning: The behavior of AMI will change in version 0.22. To match the behavior of 'v_measure_score', AMI will use average_method='arithmetic' by default.\n",
      "  FutureWarning)\n",
      "/opt/anaconda3/envs/astrohack/lib/python3.6/site-packages/sklearn/metrics/cluster/unsupervised.py:342: RuntimeWarning: divide by zero encountered in true_divide\n",
      "  score = (intra_dists[:, None] + intra_dists) / centroid_distances\n"
     ]
    },
    {
     "name": "stdout",
     "output_type": "stream",
     "text": [
      "... reading from cache file ./cache/input-cellBench-sce8_qc-matrix.h5ad\n",
      "Loading dataset sce8_qc with 15571 genes and 296 cells\n",
      "regressing out ['total_counts']\n",
      "    sparse input is densified and may lead to high memory use\n",
      "    finished (0:00:16.82)\n",
      "computing neighbors\n",
      "    using 'X_pca' with n_pcs = 40\n",
      "    finished (0:00:00.03) --> added to `.uns['neighbors']`\n",
      "    'distances', weighted adjacency matrix\n",
      "    'connectivities', weighted adjacency matrix\n",
      "computing UMAP\n",
      "    finished (0:00:00.26) --> added\n",
      "    'X_umap', UMAP coordinates (adata.obsm)\n",
      "running Louvain clustering\n",
      "    using the \"louvain\" package of Traag (2017)\n",
      "    finished (0:00:00.00) --> found 8 clusters and added\n",
      "    'louvain', the cluster labels (adata.obs, categorical)\n",
      ">> Result: 0.7980519720274385\n"
     ]
    },
    {
     "name": "stderr",
     "output_type": "stream",
     "text": [
      "/opt/anaconda3/envs/astrohack/lib/python3.6/site-packages/sklearn/metrics/cluster/supervised.py:732: FutureWarning: The behavior of AMI will change in version 0.22. To match the behavior of 'v_measure_score', AMI will use average_method='arithmetic' by default.\n",
      "  FutureWarning)\n",
      "/opt/anaconda3/envs/astrohack/lib/python3.6/site-packages/sklearn/metrics/cluster/unsupervised.py:342: RuntimeWarning: divide by zero encountered in true_divide\n",
      "  score = (intra_dists[:, None] + intra_dists) / centroid_distances\n"
     ]
    },
    {
     "name": "stdout",
     "output_type": "stream",
     "text": [
      "... reading from cache file ./cache/input-cellBench-sce8_qc-matrix.h5ad\n",
      "Loading dataset sce8_qc with 15571 genes and 296 cells\n",
      "filtered out 214 genes that are detected in less than 7.0 cells\n",
      "regressing out ['total_counts']\n",
      "    sparse input is densified and may lead to high memory use\n",
      "    finished (0:00:05.99)\n",
      "computing neighbors\n",
      "    using 'X_pca' with n_pcs = 33\n",
      "    finished (0:00:00.07) --> added to `.uns['neighbors']`\n",
      "    'distances', weighted adjacency matrix\n",
      "    'connectivities', weighted adjacency matrix\n",
      "computing UMAP\n",
      "    finished (0:00:00.39) --> added\n",
      "    'X_umap', UMAP coordinates (adata.obsm)\n",
      "running Louvain clustering\n",
      "    using the \"louvain\" package of Traag (2017)\n",
      "    finished (0:00:00.00) --> found 9 clusters and added\n",
      "    'louvain', the cluster labels (adata.obs, categorical)\n",
      ">> Result: 0.2286474404871674\n"
     ]
    },
    {
     "name": "stderr",
     "output_type": "stream",
     "text": [
      "/opt/anaconda3/envs/astrohack/lib/python3.6/site-packages/sklearn/metrics/cluster/supervised.py:732: FutureWarning: The behavior of AMI will change in version 0.22. To match the behavior of 'v_measure_score', AMI will use average_method='arithmetic' by default.\n",
      "  FutureWarning)\n",
      "/opt/anaconda3/envs/astrohack/lib/python3.6/site-packages/sklearn/metrics/cluster/unsupervised.py:342: RuntimeWarning: divide by zero encountered in true_divide\n",
      "  score = (intra_dists[:, None] + intra_dists) / centroid_distances\n"
     ]
    },
    {
     "name": "stdout",
     "output_type": "stream",
     "text": [
      "... reading from cache file ./cache/input-cellBench-sce8_qc-matrix.h5ad\n",
      "Loading dataset sce8_qc with 15571 genes and 296 cells\n",
      "filtered out 987 genes that are detected in less than 12.0 cells\n",
      "regressing out ['total_counts']\n",
      "    sparse input is densified and may lead to high memory use\n",
      "    finished (0:00:15.71)\n",
      "computing neighbors\n",
      "    using 'X_pca' with n_pcs = 49\n",
      "    finished (0:00:00.06) --> added to `.uns['neighbors']`\n",
      "    'distances', weighted adjacency matrix\n",
      "    'connectivities', weighted adjacency matrix\n",
      "computing UMAP\n",
      "    finished (0:00:00.42) --> added\n",
      "    'X_umap', UMAP coordinates (adata.obsm)\n",
      "running Louvain clustering\n",
      "    using the \"louvain\" package of Traag (2017)\n",
      "    finished (0:00:00.00) --> found 7 clusters and added\n",
      "    'louvain', the cluster labels (adata.obs, categorical)\n",
      ">> Result: 0.06483064500669672\n"
     ]
    },
    {
     "name": "stderr",
     "output_type": "stream",
     "text": [
      "/opt/anaconda3/envs/astrohack/lib/python3.6/site-packages/sklearn/metrics/cluster/supervised.py:732: FutureWarning: The behavior of AMI will change in version 0.22. To match the behavior of 'v_measure_score', AMI will use average_method='arithmetic' by default.\n",
      "  FutureWarning)\n",
      "/opt/anaconda3/envs/astrohack/lib/python3.6/site-packages/sklearn/metrics/cluster/unsupervised.py:342: RuntimeWarning: divide by zero encountered in true_divide\n",
      "  score = (intra_dists[:, None] + intra_dists) / centroid_distances\n"
     ]
    },
    {
     "name": "stdout",
     "output_type": "stream",
     "text": [
      "... reading from cache file ./cache/input-cellBench-sce8_qc-matrix.h5ad\n",
      "Loading dataset sce8_qc with 15571 genes and 296 cells\n",
      "filtered out 884 genes that are detected in less than 11.0 cells\n",
      "regressing out ['total_counts']\n",
      "    sparse input is densified and may lead to high memory use\n",
      "    finished (0:00:15.72)\n",
      "computing neighbors\n",
      "    using 'X_pca' with n_pcs = 35\n",
      "    finished (0:00:00.03) --> added to `.uns['neighbors']`\n",
      "    'distances', weighted adjacency matrix\n",
      "    'connectivities', weighted adjacency matrix\n",
      "computing UMAP\n",
      "... reading from cache file ./cache/input-cellBench-sce8_qc-matrix.h5ad\n"
     ]
    },
    {
     "name": "stderr",
     "output_type": "stream",
     "text": [
      "/opt/anaconda3/envs/astrohack/lib/python3.6/site-packages/scanpy/neighbors/umap/umap_.py:864: RuntimeWarning: divide by zero encountered in true_divide\n",
      "  D = scipy.sparse.spdiags(1.0 / np.sqrt(diag_data), 0, graph.shape[0],\n",
      "/opt/anaconda3/envs/astrohack/lib/python3.6/site-packages/scipy/sparse/linalg/eigen/arpack/arpack.py:1556: RuntimeWarning: k >= N for N * N square matrix. Attempting to use scipy.linalg.eigh instead.\n",
      "  RuntimeWarning)\n"
     ]
    },
    {
     "name": "stdout",
     "output_type": "stream",
     "text": [
      "Loading dataset sce8_qc with 15571 genes and 296 cells\n",
      "filtered out 1206 genes that are detected in less than 14.0 cells\n",
      "computing neighbors\n",
      "    using 'X_pca' with n_pcs = 41\n",
      "    finished (0:00:00.04) --> added to `.uns['neighbors']`\n",
      "    'distances', weighted adjacency matrix\n",
      "    'connectivities', weighted adjacency matrix\n",
      "computing UMAP\n",
      "    finished (0:00:00.39) --> added\n",
      "    'X_umap', UMAP coordinates (adata.obsm)\n",
      "running Louvain clustering\n",
      "    using the \"louvain\" package of Traag (2017)\n",
      "    finished (0:00:00.00) --> found 8 clusters and added\n",
      "    'louvain', the cluster labels (adata.obs, categorical)\n",
      ">> Result: 0.7170739458675529\n",
      "Index  130\n"
     ]
    },
    {
     "name": "stderr",
     "output_type": "stream",
     "text": [
      "/opt/anaconda3/envs/astrohack/lib/python3.6/site-packages/sklearn/metrics/cluster/supervised.py:732: FutureWarning: The behavior of AMI will change in version 0.22. To match the behavior of 'v_measure_score', AMI will use average_method='arithmetic' by default.\n",
      "  FutureWarning)\n",
      "/opt/anaconda3/envs/astrohack/lib/python3.6/site-packages/sklearn/metrics/cluster/unsupervised.py:342: RuntimeWarning: divide by zero encountered in true_divide\n",
      "  score = (intra_dists[:, None] + intra_dists) / centroid_distances\n"
     ]
    },
    {
     "name": "stdout",
     "output_type": "stream",
     "text": [
      "... reading from cache file ./cache/input-cellBench-sce8_qc-matrix.h5ad\n",
      "Loading dataset sce8_qc with 15571 genes and 296 cells\n",
      "regressing out ['total_counts']\n",
      "    sparse input is densified and may lead to high memory use\n",
      "    finished (0:00:16.72)\n",
      "computing neighbors\n",
      "    using 'X_pca' with n_pcs = 28\n",
      "    finished (0:00:00.05) --> added to `.uns['neighbors']`\n",
      "    'distances', weighted adjacency matrix\n",
      "    'connectivities', weighted adjacency matrix\n",
      "computing UMAP\n",
      "    finished (0:00:00.33) --> added\n",
      "    'X_umap', UMAP coordinates (adata.obsm)\n",
      "running Louvain clustering\n",
      "    using the \"louvain\" package of Traag (2017)\n",
      "    finished (0:00:00.00) --> found 8 clusters and added\n",
      "    'louvain', the cluster labels (adata.obs, categorical)\n",
      ">> Result: 0.7588011377740996\n"
     ]
    },
    {
     "name": "stderr",
     "output_type": "stream",
     "text": [
      "/opt/anaconda3/envs/astrohack/lib/python3.6/site-packages/sklearn/metrics/cluster/supervised.py:732: FutureWarning: The behavior of AMI will change in version 0.22. To match the behavior of 'v_measure_score', AMI will use average_method='arithmetic' by default.\n",
      "  FutureWarning)\n",
      "/opt/anaconda3/envs/astrohack/lib/python3.6/site-packages/sklearn/metrics/cluster/unsupervised.py:342: RuntimeWarning: divide by zero encountered in true_divide\n",
      "  score = (intra_dists[:, None] + intra_dists) / centroid_distances\n"
     ]
    },
    {
     "name": "stdout",
     "output_type": "stream",
     "text": [
      "... reading from cache file ./cache/input-cellBench-sce8_qc-matrix.h5ad\n",
      "Loading dataset sce8_qc with 15571 genes and 296 cells\n",
      "filtered out 1301 genes that are detected in less than 15.0 cells\n",
      "regressing out ['total_counts']\n",
      "    sparse input is densified and may lead to high memory use\n",
      "    finished (0:00:09.46)\n",
      "computing neighbors\n",
      "    using 'X_pca' with n_pcs = 36\n",
      "    finished (0:00:00.06) --> added to `.uns['neighbors']`\n",
      "    'distances', weighted adjacency matrix\n",
      "    'connectivities', weighted adjacency matrix\n",
      "computing UMAP\n",
      "    finished (0:00:00.39) --> added\n",
      "    'X_umap', UMAP coordinates (adata.obsm)\n",
      "running Louvain clustering\n",
      "    using the \"louvain\" package of Traag (2017)\n",
      "    finished (0:00:00.00) --> found 9 clusters and added\n",
      "    'louvain', the cluster labels (adata.obs, categorical)\n",
      ">> Result: 0.22856203431479818\n",
      "... reading from cache file ./cache/input-cellBench-sce8_qc-matrix.h5ad\n"
     ]
    },
    {
     "name": "stderr",
     "output_type": "stream",
     "text": [
      "/opt/anaconda3/envs/astrohack/lib/python3.6/site-packages/sklearn/metrics/cluster/supervised.py:732: FutureWarning: The behavior of AMI will change in version 0.22. To match the behavior of 'v_measure_score', AMI will use average_method='arithmetic' by default.\n",
      "  FutureWarning)\n",
      "/opt/anaconda3/envs/astrohack/lib/python3.6/site-packages/sklearn/metrics/cluster/unsupervised.py:342: RuntimeWarning: divide by zero encountered in true_divide\n",
      "  score = (intra_dists[:, None] + intra_dists) / centroid_distances\n"
     ]
    },
    {
     "name": "stdout",
     "output_type": "stream",
     "text": [
      "Loading dataset sce8_qc with 15571 genes and 296 cells\n",
      "filtered out 1705 genes that are detected in less than 19.0 cells\n",
      "regressing out ['total_counts']\n",
      "    sparse input is densified and may lead to high memory use\n",
      "    finished (0:00:14.93)\n",
      "computing neighbors\n",
      "    using 'X_pca' with n_pcs = 31\n",
      "    finished (0:00:00.06) --> added to `.uns['neighbors']`\n",
      "    'distances', weighted adjacency matrix\n",
      "    'connectivities', weighted adjacency matrix\n",
      "computing UMAP\n",
      "    finished (0:00:00.44) --> added\n",
      "    'X_umap', UMAP coordinates (adata.obsm)\n",
      "running Louvain clustering\n",
      "    using the \"louvain\" package of Traag (2017)\n",
      "    finished (0:00:00.00) --> found 7 clusters and added\n",
      "    'louvain', the cluster labels (adata.obs, categorical)\n",
      ">> Result: 0.06377910161677873\n"
     ]
    },
    {
     "name": "stderr",
     "output_type": "stream",
     "text": [
      "/opt/anaconda3/envs/astrohack/lib/python3.6/site-packages/sklearn/metrics/cluster/supervised.py:732: FutureWarning: The behavior of AMI will change in version 0.22. To match the behavior of 'v_measure_score', AMI will use average_method='arithmetic' by default.\n",
      "  FutureWarning)\n",
      "/opt/anaconda3/envs/astrohack/lib/python3.6/site-packages/sklearn/metrics/cluster/unsupervised.py:342: RuntimeWarning: divide by zero encountered in true_divide\n",
      "  score = (intra_dists[:, None] + intra_dists) / centroid_distances\n"
     ]
    },
    {
     "name": "stdout",
     "output_type": "stream",
     "text": [
      "... reading from cache file ./cache/input-cellBench-sce8_qc-matrix.h5ad\n",
      "Loading dataset sce8_qc with 15571 genes and 296 cells\n",
      "filtered out 401 genes that are detected in less than 8.0 cells\n",
      "regressing out ['total_counts']\n",
      "    sparse input is densified and may lead to high memory use\n",
      "    finished (0:00:16.32)\n",
      "computing neighbors\n",
      "    using 'X_pca' with n_pcs = 43\n",
      "    finished (0:00:00.09) --> added to `.uns['neighbors']`\n",
      "    'distances', weighted adjacency matrix\n",
      "    'connectivities', weighted adjacency matrix\n",
      "computing UMAP\n",
      "    finished (0:00:00.55) --> added\n",
      "    'X_umap', UMAP coordinates (adata.obsm)\n",
      "running Louvain clustering\n",
      "    using the \"louvain\" package of Traag (2017)\n",
      "    finished (0:00:00.00) --> found 6 clusters and added\n",
      "    'louvain', the cluster labels (adata.obs, categorical)\n",
      ">> Result: 0.7725736036815741\n"
     ]
    },
    {
     "name": "stderr",
     "output_type": "stream",
     "text": [
      "/opt/anaconda3/envs/astrohack/lib/python3.6/site-packages/sklearn/metrics/cluster/supervised.py:732: FutureWarning: The behavior of AMI will change in version 0.22. To match the behavior of 'v_measure_score', AMI will use average_method='arithmetic' by default.\n",
      "  FutureWarning)\n",
      "/opt/anaconda3/envs/astrohack/lib/python3.6/site-packages/sklearn/metrics/cluster/unsupervised.py:342: RuntimeWarning: divide by zero encountered in true_divide\n",
      "  score = (intra_dists[:, None] + intra_dists) / centroid_distances\n"
     ]
    },
    {
     "name": "stdout",
     "output_type": "stream",
     "text": [
      "... reading from cache file ./cache/input-cellBench-sce8_qc-matrix.h5ad\n",
      "Loading dataset sce8_qc with 15571 genes and 296 cells\n",
      "filtered out 583 genes that are detected in less than 9.0 cells\n",
      "computing neighbors\n",
      "    using 'X_pca' with n_pcs = 45\n",
      "    finished (0:00:00.07) --> added to `.uns['neighbors']`\n",
      "    'distances', weighted adjacency matrix\n",
      "    'connectivities', weighted adjacency matrix\n",
      "computing UMAP\n",
      "    finished (0:00:00.42) --> added\n",
      "    'X_umap', UMAP coordinates (adata.obsm)\n",
      "running Louvain clustering\n",
      "    using the \"louvain\" package of Traag (2017)\n",
      "    finished (0:00:00.00) --> found 7 clusters and added\n",
      "    'louvain', the cluster labels (adata.obs, categorical)\n",
      ">> Result: 0.19647090043141424\n",
      "... reading from cache file ./cache/input-cellBench-sce8_qc-matrix.h5ad\n"
     ]
    },
    {
     "name": "stderr",
     "output_type": "stream",
     "text": [
      "/opt/anaconda3/envs/astrohack/lib/python3.6/site-packages/sklearn/metrics/cluster/supervised.py:732: FutureWarning: The behavior of AMI will change in version 0.22. To match the behavior of 'v_measure_score', AMI will use average_method='arithmetic' by default.\n",
      "  FutureWarning)\n",
      "/opt/anaconda3/envs/astrohack/lib/python3.6/site-packages/sklearn/metrics/cluster/unsupervised.py:342: RuntimeWarning: divide by zero encountered in true_divide\n",
      "  score = (intra_dists[:, None] + intra_dists) / centroid_distances\n"
     ]
    },
    {
     "name": "stdout",
     "output_type": "stream",
     "text": [
      "Loading dataset sce8_qc with 15571 genes and 296 cells\n",
      "filtered out 884 genes that are detected in less than 11.0 cells\n",
      "regressing out ['total_counts']\n",
      "    sparse input is densified and may lead to high memory use\n",
      "    finished (0:00:15.90)\n",
      "computing neighbors\n",
      "    using 'X_pca' with n_pcs = 32\n",
      "    finished (0:00:00.07) --> added to `.uns['neighbors']`\n",
      "    'distances', weighted adjacency matrix\n",
      "    'connectivities', weighted adjacency matrix\n",
      "computing UMAP\n",
      "    finished (0:00:00.46) --> added\n",
      "    'X_umap', UMAP coordinates (adata.obsm)\n",
      "running Louvain clustering\n",
      "    using the \"louvain\" package of Traag (2017)\n",
      "    finished (0:00:00.00) --> found 7 clusters and added\n",
      "    'louvain', the cluster labels (adata.obs, categorical)\n",
      ">> Result: 0.8281478823000985\n"
     ]
    },
    {
     "name": "stderr",
     "output_type": "stream",
     "text": [
      "/opt/anaconda3/envs/astrohack/lib/python3.6/site-packages/sklearn/metrics/cluster/supervised.py:732: FutureWarning: The behavior of AMI will change in version 0.22. To match the behavior of 'v_measure_score', AMI will use average_method='arithmetic' by default.\n",
      "  FutureWarning)\n",
      "/opt/anaconda3/envs/astrohack/lib/python3.6/site-packages/sklearn/metrics/cluster/unsupervised.py:342: RuntimeWarning: divide by zero encountered in true_divide\n",
      "  score = (intra_dists[:, None] + intra_dists) / centroid_distances\n"
     ]
    },
    {
     "name": "stdout",
     "output_type": "stream",
     "text": [
      "... reading from cache file ./cache/input-cellBench-sce8_qc-matrix.h5ad\n",
      "Loading dataset sce8_qc with 15571 genes and 296 cells\n",
      "filtered out 884 genes that are detected in less than 11.0 cells\n",
      "regressing out ['total_counts']\n",
      "    sparse input is densified and may lead to high memory use\n",
      "    finished (0:00:15.79)\n",
      "computing neighbors\n",
      "    using 'X_pca' with n_pcs = 33\n",
      "    finished (0:00:00.07) --> added to `.uns['neighbors']`\n",
      "    'distances', weighted adjacency matrix\n",
      "    'connectivities', weighted adjacency matrix\n",
      "computing UMAP\n",
      "    finished (0:00:00.52) --> added\n",
      "    'X_umap', UMAP coordinates (adata.obsm)\n",
      "running Louvain clustering\n",
      "    using the \"louvain\" package of Traag (2017)\n",
      "    finished (0:00:00.00) --> found 6 clusters and added\n",
      "    'louvain', the cluster labels (adata.obs, categorical)\n",
      ">> Result: 0.7607597906509576\n"
     ]
    },
    {
     "name": "stderr",
     "output_type": "stream",
     "text": [
      "/opt/anaconda3/envs/astrohack/lib/python3.6/site-packages/sklearn/metrics/cluster/supervised.py:732: FutureWarning: The behavior of AMI will change in version 0.22. To match the behavior of 'v_measure_score', AMI will use average_method='arithmetic' by default.\n",
      "  FutureWarning)\n",
      "/opt/anaconda3/envs/astrohack/lib/python3.6/site-packages/sklearn/metrics/cluster/unsupervised.py:342: RuntimeWarning: divide by zero encountered in true_divide\n",
      "  score = (intra_dists[:, None] + intra_dists) / centroid_distances\n"
     ]
    },
    {
     "name": "stdout",
     "output_type": "stream",
     "text": [
      "... reading from cache file ./cache/input-cellBench-sce8_qc-matrix.h5ad\n",
      "Loading dataset sce8_qc with 15571 genes and 296 cells\n",
      "filtered out 987 genes that are detected in less than 12.0 cells\n",
      "regressing out ['total_counts']\n",
      "    sparse input is densified and may lead to high memory use\n",
      "    finished (0:00:15.50)\n",
      "computing neighbors\n",
      "    using 'X_pca' with n_pcs = 34\n",
      "    finished (0:00:00.07) --> added to `.uns['neighbors']`\n",
      "    'distances', weighted adjacency matrix\n",
      "    'connectivities', weighted adjacency matrix\n",
      "computing UMAP\n",
      "    finished (0:00:00.46) --> added\n",
      "    'X_umap', UMAP coordinates (adata.obsm)\n",
      "running Louvain clustering\n",
      "    using the \"louvain\" package of Traag (2017)\n",
      "    finished (0:00:00.00) --> found 7 clusters and added\n",
      "    'louvain', the cluster labels (adata.obs, categorical)\n",
      ">> Result: 0.8179795847765277\n"
     ]
    },
    {
     "name": "stderr",
     "output_type": "stream",
     "text": [
      "/opt/anaconda3/envs/astrohack/lib/python3.6/site-packages/sklearn/metrics/cluster/supervised.py:732: FutureWarning: The behavior of AMI will change in version 0.22. To match the behavior of 'v_measure_score', AMI will use average_method='arithmetic' by default.\n",
      "  FutureWarning)\n",
      "/opt/anaconda3/envs/astrohack/lib/python3.6/site-packages/sklearn/metrics/cluster/unsupervised.py:342: RuntimeWarning: divide by zero encountered in true_divide\n",
      "  score = (intra_dists[:, None] + intra_dists) / centroid_distances\n"
     ]
    },
    {
     "name": "stdout",
     "output_type": "stream",
     "text": [
      "... reading from cache file ./cache/input-cellBench-sce8_qc-matrix.h5ad\n",
      "Loading dataset sce8_qc with 15571 genes and 296 cells\n",
      "filtered out 769 genes that are detected in less than 10.0 cells\n",
      "regressing out ['total_counts']\n",
      "    sparse input is densified and may lead to high memory use\n"
     ]
    }
   ],
   "source": [
    "space = {\n",
    "    'load_inputDataset' : dataset\n",
    "    ,'bpreprocess_min_genes' : hp.choice('bpreprocess_min_genes', [True,False])\n",
    "    ,'preprocess_min_genes' : hp.quniform('preprocess_min_genes', 100, 500, 10)\n",
    "    \n",
    "    ,'bpreprocess_min_cells' : hp.choice('bpreprocess_min_cells', [True,False])\n",
    "    ,'preprocess_min_cells' : hp.quniform('preprocess_min_cells', 1, 20, 1)\n",
    "    \n",
    "    ,'bpreprocess_teta_total_features' : hp.choice('bpreprocess_teta_total_features', [True,False])\n",
    "    ,'preprocess_teta_total_features' : hp.quniform('preprocess_teta_total_features', 8000, 12000, 500)\n",
    "\n",
    "    ,'preprocess_normalize_per_cell' : hp.choice('l_preprocess_normalize_per_cell', \n",
    "                                                 [True, False])\n",
    "\n",
    "    ,'bpreprocess_filter_min_mean' : hp.choice('bpreprocess_filter_min_mean', [True,False])\n",
    "    ,'preprocess_filter_min_mean' : hp.uniform('preprocess_filter_min_mean', 0, 0.2) # 0.0125\n",
    "    ,'preprocess_filter_max_mean' : hp.uniform('preprocess_filter_max_mean', 0, 5)\n",
    "    \n",
    "    ,'bpreprocess_filter_min_disp' : hp.choice('bpreprocess_filter_min_disp', [True,False])\n",
    "    ,'preprocess_filter_min_disp' : hp.uniform('preprocess_filter_min_disp', 0, 1)# 0.5\n",
    "    \n",
    "    ,'preprocess_regress_out' : hp.choice('l_preprocess_regress_out', ['none', 'total_counts'])\n",
    "    ,'preprocess_scale' : hp.choice('l_preprocess_scale', [-1, 5, 10, 15, 20]) #10\n",
    "    ,'cluster_n_neighbors' : hp.quniform('cluster_n_neighbors', 1, 20,1) #10\n",
    "    ,'cluster_n_pcs' : hp.quniform('cluster_n_pcs', 20, 50, 1)  # 40\n",
    "    ,'cluster_plot_pca' : False\n",
    "    ,'preprocess_plot_preprocessing' : False\n",
    "    ,'evaluate_plot_results': False\n",
    "    ,'preprocess_verbosity' : 0\n",
    "}\n",
    "\n",
    "trials = runSeurat(trialsFile, resultsFile, space, max_evals = 500);"
   ]
  },
  {
   "cell_type": "code",
   "execution_count": null,
   "metadata": {
    "ExecuteTime": {
     "start_time": "2018-12-15T22:16:45.136Z"
    }
   },
   "outputs": [],
   "source": [
    "resultsDf = pd.read_pickle(resultsFile)\n",
    "display(resultsDf.sort_values(by='_rand_index', ascending = False).head(3))\n",
    "utils.plotCorrelation(resultsDf, name=dataset)"
   ]
  },
  {
   "cell_type": "code",
   "execution_count": null,
   "metadata": {},
   "outputs": [],
   "source": []
  },
  {
   "cell_type": "code",
   "execution_count": null,
   "metadata": {},
   "outputs": [],
   "source": []
  }
 ],
 "metadata": {
  "anaconda-cloud": {},
  "hide_input": false,
  "kernelspec": {
   "display_name": "Python [default]",
   "language": "python",
   "name": "python3"
  },
  "language_info": {
   "codemirror_mode": {
    "name": "ipython",
    "version": 3
   },
   "file_extension": ".py",
   "mimetype": "text/x-python",
   "name": "python",
   "nbconvert_exporter": "python",
   "pygments_lexer": "ipython3",
   "version": "3.6.7"
  },
  "toc": {
   "base_numbering": 1,
   "nav_menu": {
    "height": "135.88235473632812px",
    "width": "252.35293579101562px"
   },
   "number_sections": false,
   "sideBar": false,
   "skip_h1_title": false,
   "title_cell": "Table of Contents",
   "title_sidebar": "Contents",
   "toc_cell": false,
   "toc_position": {},
   "toc_section_display": "block",
   "toc_window_display": false
  },
  "varInspector": {
   "cols": {
    "lenName": 16,
    "lenType": 16,
    "lenVar": 40
   },
   "kernels_config": {
    "python": {
     "delete_cmd_postfix": "",
     "delete_cmd_prefix": "del ",
     "library": "var_list.py",
     "varRefreshCmd": "print(var_dic_list())"
    },
    "r": {
     "delete_cmd_postfix": ") ",
     "delete_cmd_prefix": "rm(",
     "library": "var_list.r",
     "varRefreshCmd": "cat(var_dic_list()) "
    }
   },
   "position": {
    "height": "355px",
    "left": "1550px",
    "right": "20px",
    "top": "120px",
    "width": "350px"
   },
   "types_to_exclude": [
    "module",
    "function",
    "builtin_function_or_method",
    "instance",
    "_Feature"
   ],
   "window_display": false
  }
 },
 "nbformat": 4,
 "nbformat_minor": 2
}
