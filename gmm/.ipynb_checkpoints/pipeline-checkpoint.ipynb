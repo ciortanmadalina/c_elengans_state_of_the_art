{
 "cells": [
  {
   "cell_type": "code",
   "execution_count": 4,
   "metadata": {},
   "outputs": [],
   "source": [
    "import sys\n",
    "sys.path.append(\"..\") # this adds to path parent directory in order to import utils file\n",
    "import pandas as pd\n",
    "import matplotlib.pyplot as plt\n",
    "import seaborn as sns\n",
    "from collections import Counter\n",
    "import pickle\n",
    "import random\n",
    "from tqdm import tqdm\n",
    "import numpy as np\n",
    "import statsmodels.api as sm\n",
    "from scipy.stats import wasserstein_distance\n",
    "from sklearn.manifold import MDS\n",
    "from mpl_toolkits import mplot3d\n",
    "from scipy.spatial import distance\n",
    "from sklearn.manifold import TSNE\n",
    "from sklearn.cluster import AgglomerativeClustering, SpectralClustering, KMeans, AffinityPropagation, DBSCAN, FeatureAgglomeration\n",
    "from sklearn import metrics\n",
    "from sklearn.metrics import pairwise_distances\n",
    "from IPython.display import clear_output, Image, display\n",
    "from sklearn.preprocessing import StandardScaler, RobustScaler\n",
    "from sklearn.mixture import GaussianMixture\n",
    "from mpl_toolkits.mplot3d import Axes3D\n",
    "from sklearn.datasets.samples_generator import make_blobs\n",
    "from sklearn.cluster import AffinityPropagation\n",
    "from itertools import cycle\n",
    "from scipy.spatial.distance import pdist\n",
    "from sklearn.decomposition import PCA\n",
    "import gmm_utils"
   ]
  },
  {
   "cell_type": "code",
   "execution_count": 2,
   "metadata": {},
   "outputs": [
    {
     "name": "stdout",
     "output_type": "stream",
     "text": [
      "elbowAnalysis\n",
      "silhouetteAnalyis\n",
      "bicAicAnalysis\n"
     ]
    },
    {
     "data": {
      "text/plain": [
       "<module 'gmm_utils' from '/home/mada/ml/single-cell-sota/gmm/gmm_utils.py'>"
      ]
     },
     "execution_count": 2,
     "metadata": {},
     "output_type": "execute_result"
    }
   ],
   "source": [
    "%load_ext autoreload\n",
    "import importlib\n",
    "importlib.reload(gmm_utils)"
   ]
  },
  {
   "cell_type": "code",
   "execution_count": 8,
   "metadata": {},
   "outputs": [],
   "source": [
    "def loadData(inputDataset):\n",
    "    \"\"\"\n",
    "    Load input dataset\n",
    "    \"\"\"\n",
    "    if inputDataset == 'brainCIDR':\n",
    "        path = '../input/brainCIDR/'\n",
    "        df = pd.read_csv(f\"{path}brainTags.csv\", index_col = 0).T\n",
    "        truth = pd.read_pickle(f'{path}truth.pkl')\n",
    "    \n",
    "    if inputDataset == 'pancreaticIsletCIDR':\n",
    "        path = '../input/pancreaticIsletCIDR/'\n",
    "        df = pd.read_csv(f\"{path}pancreaticIsletTags.csv\", index_col = 0).T\n",
    "        truth = pd.read_pickle(f'{path}truth.pkl')\n",
    "    \n",
    "    if inputDataset == 'deng':\n",
    "        path = '../input/deng/'\n",
    "        df = pd.read_csv(f\"{path}deng.csv\", index_col = 0).T\n",
    "        truth = pd.read_pickle(f'{path}truth.pkl')\n",
    "    return df, truth"
   ]
  },
  {
   "cell_type": "code",
   "execution_count": 9,
   "metadata": {},
   "outputs": [
    {
     "name": "stdout",
     "output_type": "stream",
     "text": [
      "(420, 22085) (420, 2)\n"
     ]
    }
   ],
   "source": [
    "datasetName = 'brainCIDR'\n",
    "df, truth = loadData(datasetName)\n",
    "print(df.shape, truth.shape)"
   ]
  },
  {
   "cell_type": "code",
   "execution_count": 10,
   "metadata": {},
   "outputs": [],
   "source": [
    "params={}\n",
    "params['scaler'] = 'standard'"
   ]
  },
  {
   "cell_type": "markdown",
   "metadata": {},
   "source": [
    "## Scale cells or genes?"
   ]
  },
  {
   "cell_type": "code",
   "execution_count": 11,
   "metadata": {},
   "outputs": [],
   "source": [
    "scaledDf = StandardScaler().fit_transform(df)"
   ]
  },
  {
   "cell_type": "code",
   "execution_count": 12,
   "metadata": {},
   "outputs": [],
   "source": [
    "# df =  RobustScaler().fit_transform(df)"
   ]
  },
  {
   "cell_type": "markdown",
   "metadata": {},
   "source": [
    "## Dimensionality reduction"
   ]
  },
  {
   "cell_type": "markdown",
   "metadata": {},
   "source": [
    "#### PCA"
   ]
  },
  {
   "cell_type": "code",
   "execution_count": 14,
   "metadata": {},
   "outputs": [
    {
     "data": {
      "image/png": "[encoded data removed]",
      "text/plain": [
       "<Figure size 432x288 with 1 Axes>"
      ]
     },
     "metadata": {},
     "output_type": "display_data"
    }
   ],
   "source": [
    "pca = PCA().fit(scaledDf)\n",
    "plt.plot(np.cumsum(pca.explained_variance_ratio_))\n",
    "plt.xlabel('number of components')\n",
    "plt.ylabel('cumulative explained variance');"
   ]
  },
  {
   "cell_type": "code",
   "execution_count": 22,
   "metadata": {},
   "outputs": [],
   "source": [
    "pca = PCA(.9).fit(scaledDf)\n"
   ]
  },
  {
   "cell_type": "code",
   "execution_count": 25,
   "metadata": {},
   "outputs": [
    {
     "data": {
      "text/plain": [
       "314"
      ]
     },
     "execution_count": 25,
     "metadata": {},
     "output_type": "execute_result"
    }
   ],
   "source": [
    "n_comp = pca.n_components_\n",
    "n_comp"
   ]
  },
  {
   "cell_type": "code",
   "execution_count": 26,
   "metadata": {},
   "outputs": [],
   "source": [
    "n_comp = 8\n",
    "\n",
    "pc = PCA(n_components=8).fit_transform(scaledDf)"
   ]
  },
  {
   "cell_type": "code",
   "execution_count": 29,
   "metadata": {},
   "outputs": [],
   "source": [
    "def bestGMM(pc, c_min, c_max):\n",
    "    print('Best score corresponds to the minimum values of AIC/BIC')\n",
    "    bic = []\n",
    "    aic = []\n",
    "    sil = []\n",
    "    valid = []\n",
    "    invalid = []\n",
    "    outliers = []\n",
    "    numberOfClusters = range (c_min, c_max)\n",
    "    for n in numberOfClusters:\n",
    "        model = GaussianMixture(n, covariance_type ='full', random_state = 0).fit(pc)\n",
    "        clusters = model.predict(pc)\n",
    "        ns = list(zip(*sorted(Counter(clusters).items())))[1]\n",
    "        ns = np.array(ns)\n",
    "        valid.append(len(ns[ns>=10]))\n",
    "        invalid.append(len(ns[ns<10]))\n",
    "        outliers.append(np.sum(ns[ns<10]))\n",
    "        print(f'{n} : Total {len(ns)}, valid(#>=10) {len(ns[ns>=10])}, invalid {len(ns[ns<10])}, outliers {np.sum(ns[ns<10])}' )\n",
    "        bic.append(model.bic(pc))\n",
    "        aic.append(model.aic(pc))\n",
    "        sil.append(metrics.silhouette_score(pc,clusters ,metric='euclidean', sample_size=None, random_state=None))\n",
    "    #     plt.figure()\n",
    "    #     plt.scatter(numberOfClusters, invalid, label = 'nb invalid clusters')\n",
    "\n",
    "    plt.plot(numberOfClusters, bic, label = 'BIC')\n",
    "    plt.plot(numberOfClusters, aic, label = 'AIC')\n",
    "    plt.legend()\n",
    "    plt.title('BIC/AIC')\n",
    "    plt.xlabel('n_components')\n",
    "    plt.show()\n",
    "    \n",
    "    plt.figure()\n",
    "    plt.plot(np.arange(len(sil)), sil, label = 'sil')\n",
    "    return valid, invalid, outliers, sil"
   ]
  },
  {
   "cell_type": "code",
   "execution_count": 30,
   "metadata": {},
   "outputs": [
    {
     "name": "stdout",
     "output_type": "stream",
     "text": [
      "Best score corresponds to the minimum values of AIC/BIC\n",
      "3 : Total 3, valid(#>=10) 2, invalid 1, outliers 1\n",
      "4 : Total 4, valid(#>=10) 3, invalid 1, outliers 1\n",
      "5 : Total 5, valid(#>=10) 3, invalid 2, outliers 2\n",
      "6 : Total 6, valid(#>=10) 4, invalid 2, outliers 2\n",
      "7 : Total 7, valid(#>=10) 4, invalid 3, outliers 3\n",
      "8 : Total 8, valid(#>=10) 5, invalid 3, outliers 3\n",
      "9 : Total 9, valid(#>=10) 5, invalid 4, outliers 4\n",
      "10 : Total 10, valid(#>=10) 6, invalid 4, outliers 4\n",
      "11 : Total 11, valid(#>=10) 6, invalid 5, outliers 13\n",
      "12 : Total 12, valid(#>=10) 6, invalid 6, outliers 14\n",
      "13 : Total 13, valid(#>=10) 6, invalid 7, outliers 18\n",
      "14 : Total 14, valid(#>=10) 7, invalid 7, outliers 18\n",
      "15 : Total 15, valid(#>=10) 8, invalid 7, outliers 10\n",
      "16 : Total 16, valid(#>=10) 8, invalid 8, outliers 19\n",
      "17 : Total 17, valid(#>=10) 9, invalid 8, outliers 19\n",
      "18 : Total 18, valid(#>=10) 10, invalid 8, outliers 16\n",
      "19 : Total 19, valid(#>=10) 10, invalid 9, outliers 23\n"
     ]
    },
    {
     "data": {
      "image/png": "[encoded data removed]",
      "text/plain": [
       "<Figure size 432x288 with 1 Axes>"
      ]
     },
     "metadata": {},
     "output_type": "display_data"
    },
    {
     "data": {
      "image/png": "[encoded data removed]",
      "text/plain": [
       "<Figure size 432x288 with 1 Axes>"
      ]
     },
     "metadata": {},
     "output_type": "display_data"
    }
   ],
   "source": [
    "res = bestGMM(pc, 3, 20)"
   ]
  },
  {
   "cell_type": "markdown",
   "metadata": {},
   "source": [
    "https://scikit-learn.org/stable/auto_examples/cluster/plot_kmeans_silhouette_analysis.html\n",
    "\n",
    "https://scikit-learn.org/stable/modules/generated/sklearn.metrics.silhouette_score.html \n",
    "The best value is 1 and the worst value is -1. Values near 0 indicate overlapping clusters. Negative values generally indicate that a sample has been assigned to the wrong cluster, as a different cluster is more similar."
   ]
  },
  {
   "cell_type": "code",
   "execution_count": null,
   "metadata": {},
   "outputs": [],
   "source": []
  },
  {
   "cell_type": "code",
   "execution_count": null,
   "metadata": {},
   "outputs": [],
   "source": []
  },
  {
   "cell_type": "code",
   "execution_count": null,
   "metadata": {},
   "outputs": [],
   "source": []
  },
  {
   "cell_type": "code",
   "execution_count": null,
   "metadata": {},
   "outputs": [],
   "source": []
  }
 ],
 "metadata": {
  "hide_input": false,
  "kernelspec": {
   "display_name": "Python 3",
   "language": "python",
   "name": "python3"
  },
  "language_info": {
   "codemirror_mode": {
    "name": "ipython",
    "version": 3
   },
   "file_extension": ".py",
   "mimetype": "text/x-python",
   "name": "python",
   "nbconvert_exporter": "python",
   "pygments_lexer": "ipython3",
   "version": "3.6.5"
  },
  "toc": {
   "base_numbering": 1,
   "nav_menu": {},
   "number_sections": true,
   "sideBar": true,
   "skip_h1_title": false,
   "title_cell": "Table of Contents",
   "title_sidebar": "Contents",
   "toc_cell": false,
   "toc_position": {},
   "toc_section_display": true,
   "toc_window_display": false
  }
 },
 "nbformat": 4,
 "nbformat_minor": 2
}
