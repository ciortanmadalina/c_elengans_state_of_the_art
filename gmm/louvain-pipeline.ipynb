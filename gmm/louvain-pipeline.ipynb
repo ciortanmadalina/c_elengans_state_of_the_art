{
 "cells": [
  {
   "cell_type": "code",
   "execution_count": null,
   "metadata": {
    "ExecuteTime": {
     "end_time": "2018-12-16T11:09:22.958244Z",
     "start_time": "2018-12-16T11:09:21.842036Z"
    }
   },
   "outputs": [],
   "source": [
    "import sys\n",
    "sys.path.append(\"..\") # this adds to path parent directory in order to import utils file\n",
    "import pandas as pd\n",
    "import matplotlib.pyplot as plt\n",
    "import seaborn as sns\n",
    "from collections import Counter\n",
    "import random\n",
    "from tqdm import tqdm\n",
    "import numpy as np\n",
    "from sklearn import metrics\n",
    "from IPython.display import clear_output, Image, display\n",
    "from sklearn.preprocessing import StandardScaler, RobustScaler\n",
    "from sklearn.mixture import GaussianMixture\n",
    "from sklearn.metrics.cluster import adjusted_rand_score\n",
    "\n",
    "from sklearn.decomposition import PCA\n",
    "import hyperopt\n",
    "from hyperopt import fmin, tpe, hp, Trials, STATUS_OK\n",
    "from hyperopt.pyll.base import scope\n",
    "from hyperopt.pyll.stochastic import sample\n",
    "from sklearn.neighbors import kneighbors_graph\n",
    "import igraph as ig\n",
    "import louvain\n",
    "import time\n",
    "import pickle\n",
    "import umap\n",
    "import os\n",
    "import traceback\n",
    "## Import custom utils\n",
    "import utils\n",
    "import gmm_utils\n",
    "import hyperopt_utils"
   ]
  },
  {
   "cell_type": "code",
   "execution_count": null,
   "metadata": {
    "ExecuteTime": {
     "end_time": "2018-12-16T11:09:22.981632Z",
     "start_time": "2018-12-16T11:09:22.966740Z"
    }
   },
   "outputs": [],
   "source": [
    "%load_ext autoreload\n",
    "import importlib\n",
    "importlib.reload(gmm_utils)\n",
    "importlib.reload(utils)\n",
    "importlib.reload(hyperopt_utils)"
   ]
  },
  {
   "cell_type": "code",
   "execution_count": null,
   "metadata": {
    "ExecuteTime": {
     "end_time": "2018-12-16T11:09:24.937206Z",
     "start_time": "2018-12-16T11:09:24.932088Z"
    }
   },
   "outputs": [],
   "source": [
    "# Check run louvain method\n",
    "# dataset = 'brainCIDR'\n",
    "# df, truth = utils.loadData(dataset)\n",
    "\n",
    "# print(df.shape, truth.shape, truth.clusters.unique())\n",
    "# params={}\n",
    "# params['dataset'] = 'brainCIDR'\n",
    "# params['minCellsPerGene'] = 0\n",
    "# params['minGeneDispersion'] = 0\n",
    "# params['log'] = True # True, False\n",
    "# params['scaler'] = 'standardScaleCells'# \n",
    "# params['pca_comp'] = 10 #range (3, 300)\n",
    "# params['doUmap'] = True #range (3, 300)\n",
    "# params['umap_comp'] = 3\n",
    "# params['nb_neighbors'] =10 #3 -15\n",
    "# xx, clusters = gmm_utils.runLouvain(params)"
   ]
  },
  {
   "cell_type": "code",
   "execution_count": null,
   "metadata": {},
   "outputs": [],
   "source": []
  },
  {
   "cell_type": "markdown",
   "metadata": {},
   "source": [
    "## Hyperopt utils"
   ]
  },
  {
   "cell_type": "code",
   "execution_count": null,
   "metadata": {
    "ExecuteTime": {
     "end_time": "2018-12-16T11:09:26.296486Z",
     "start_time": "2018-12-16T11:09:26.290614Z"
    }
   },
   "outputs": [],
   "source": [
    "method = 'louvain'"
   ]
  },
  {
   "cell_type": "code",
   "execution_count": null,
   "metadata": {
    "ExecuteTime": {
     "end_time": "2018-12-16T11:09:41.041643Z",
     "start_time": "2018-12-16T11:09:41.017074Z"
    }
   },
   "outputs": [],
   "source": [
    "\n",
    "def runHyperopt(trialsFile, resultsFile, space, max_evals = 2, restart = False):\n",
    "    # Define function to optimise\n",
    "    def evaluateLouvain(args):\n",
    "        try:\n",
    "            resultDict, _ = gmm_utils.runLouvain(args)\n",
    "            if os.path.isfile(resultsFile):\n",
    "                results = pd.read_pickle(resultsFile)\n",
    "\n",
    "                newDf = pd.DataFrame.from_dict(resultDict, orient='index').T\n",
    "                results = results.append(newDf)\n",
    "\n",
    "            else:\n",
    "\n",
    "                results = pd.DataFrame.from_dict(resultDict, orient='index').T\n",
    "            results.to_pickle(resultsFile)\n",
    "        except:\n",
    "            traceback.print_exc(file=sys.stdout)\n",
    "            return { 'status' : hyperopt.STATUS_FAIL}\n",
    "\n",
    "        print(f'>> Result: {resultDict[\"_rand_index\"]}')\n",
    "        ret = {\n",
    "            'loss' : -resultDict['_rand_index']\n",
    "            ,'status' : STATUS_OK\n",
    "            ,'eval_time' : time.time()        \n",
    "        }\n",
    "        return ret\n",
    "\n",
    "    trials = hyperopt_utils.getTrials(trialsFile ,restart = restart )\n",
    "    evals_per_epoch = 10\n",
    "    for e in range(len(trials), max_evals, evals_per_epoch):\n",
    "        best = fmin(evaluateLouvain\n",
    "                    ,space\n",
    "                    ,algo=tpe.suggest \n",
    "                    ,max_evals= e + evals_per_epoch\n",
    "                    ,trials=trials)\n",
    "        print('Index ', e)\n",
    "#         pickle.dump(trials, open(trialsFile, 'wb'))\n",
    "    return trials"
   ]
  },
  {
   "cell_type": "code",
   "execution_count": null,
   "metadata": {},
   "outputs": [],
   "source": []
  },
  {
   "cell_type": "markdown",
   "metadata": {},
   "source": [
    "## Brain CIDR"
   ]
  },
  {
   "cell_type": "code",
   "execution_count": null,
   "metadata": {
    "ExecuteTime": {
     "end_time": "2018-12-16T11:10:45.217890Z",
     "start_time": "2018-12-16T11:10:45.208268Z"
    }
   },
   "outputs": [],
   "source": [
    "dataset = 'brainCIDR'\n",
    "space = {\n",
    "    'dataset' : dataset\n",
    "    ,'minCellsPerGene':scope.int(hp.quniform('minCellsPerGene', 0, 5, 1))\n",
    "    ,'minGeneDispersion':hp.uniform('minGeneDispersion', 0, 1.5)\n",
    "    ,'log' : hp.choice('log', [True,False])\n",
    "    ,'scaler' : hp.choice('scaler',\n",
    "            ['none','standardScaleGenes', 'standardScaleCells', 'robustScaleGenes', 'robustScaleCells'])\n",
    "    ,'pca_comp' : scope.int(hp.quniform('pca_comp', 5, 300,1))\n",
    "    ,'doUmap' : hp.choice('doUmap', [True,False])\n",
    "    ,'umap_comp' : scope.int(hp.quniform('umap_comp', 2, 5,1))\n",
    "    ,'nb_neighbors' : scope.int(hp.quniform('nb_neighbors', 6, 30, 1))\n",
    "}\n",
    "\n",
    "trialsFile = f'data/{dataset}_{method}_trials.pkl'\n",
    "resultsFile = f'data/{dataset}_{method}_results.pkl'"
   ]
  },
  {
   "cell_type": "code",
   "execution_count": null,
   "metadata": {
    "ExecuteTime": {
     "end_time": "2018-12-16T11:31:43.144852Z",
     "start_time": "2018-12-16T11:10:53.855321Z"
    },
    "scrolled": true
   },
   "outputs": [],
   "source": [
    "trials = runHyperopt(trialsFile, resultsFile, space, max_evals = 500, restart = True);"
   ]
  },
  {
   "cell_type": "code",
   "execution_count": null,
   "metadata": {
    "ExecuteTime": {
     "end_time": "2018-12-09T12:26:49.170485Z",
     "start_time": "2018-12-09T12:26:48.849118Z"
    }
   },
   "outputs": [],
   "source": [
    "resultsDf = pd.read_pickle(resultsFile)\n",
    "display(resultsDf.sort_values(by='_rand_index', ascending = False).head(3))\n",
    "gmm_utils.plotCorrelation(resultsDf, name=dataset)"
   ]
  },
  {
   "cell_type": "code",
   "execution_count": null,
   "metadata": {},
   "outputs": [],
   "source": []
  },
  {
   "cell_type": "markdown",
   "metadata": {},
   "source": [
    "## PancreaticIsletCIDR"
   ]
  },
  {
   "cell_type": "code",
   "execution_count": null,
   "metadata": {
    "ExecuteTime": {
     "end_time": "2018-12-09T12:27:03.136192Z",
     "start_time": "2018-12-09T12:27:02.657860Z"
    }
   },
   "outputs": [],
   "source": [
    "dataset= 'pancreaticIsletCIDR'\n",
    "df, truth = gmm_utils.loadData(dataset)\n",
    "print(df.shape, truth.shape, truth.clusters.unique())\n",
    "trialsFile = f'data/{dataset}_{method}_trials.pkl'\n",
    "resultsFile = f'data/{dataset}_{method}_results.pkl'"
   ]
  },
  {
   "cell_type": "code",
   "execution_count": null,
   "metadata": {},
   "outputs": [],
   "source": []
  },
  {
   "cell_type": "code",
   "execution_count": null,
   "metadata": {},
   "outputs": [],
   "source": [
    "\n",
    "space = {\n",
    "    'dataset' : dataset\n",
    "    ,'minCellsPerGene':scope.int(hp.quniform('minCellsPerGene', 0, 5, 1))\n",
    "    ,'minGeneDispersion':hp.uniform('minGeneDispersion', 0, 1.5)\n",
    "    ,'log' : hp.choice('log', [True,False])\n",
    "    ,'scaler' : hp.choice('scaler',\n",
    "            ['none','standardScaleGenes', 'standardScaleCells', 'robustScaleGenes', 'robustScaleCells'])\n",
    "    ,'pca_comp' : scope.int(hp.quniform('pca_comp', 5, 300,1))\n",
    "    ,'doUmap' : hp.choice('doUmap', [True,False])\n",
    "    ,'umap_comp' : scope.int(hp.quniform('umap_comp', 2, 5,1))\n",
    "    ,'nb_neighbors' : scope.int(hp.quniform('nb_neighbors', 6, 30, 1))\n",
    "}\n",
    "\n"
   ]
  },
  {
   "cell_type": "code",
   "execution_count": null,
   "metadata": {},
   "outputs": [],
   "source": [
    "trials=hyperopt_utils.getTrials(filename ,restart = False )"
   ]
  },
  {
   "cell_type": "code",
   "execution_count": null,
   "metadata": {
    "scrolled": true
   },
   "outputs": [],
   "source": [
    "trials = runHyperopt(trialsFile, resultsFile, space, max_evals = 500, restart = True);"
   ]
  },
  {
   "cell_type": "code",
   "execution_count": null,
   "metadata": {
    "ExecuteTime": {
     "end_time": "2018-12-09T12:27:09.567428Z",
     "start_time": "2018-12-09T12:27:09.243871Z"
    }
   },
   "outputs": [],
   "source": [
    "\n",
    "resultsDf = pd.read_pickle(resultsFile)\n",
    "display(resultsDf.sort_values(by='_rand_index', ascending = False).head(3))\n",
    "gmm_utils.plotCorrelation(resultsDf, name=dataset)"
   ]
  },
  {
   "cell_type": "markdown",
   "metadata": {},
   "source": [
    "## Deng"
   ]
  },
  {
   "cell_type": "code",
   "execution_count": null,
   "metadata": {
    "ExecuteTime": {
     "end_time": "2018-12-09T12:28:04.863027Z",
     "start_time": "2018-12-09T12:28:04.518721Z"
    }
   },
   "outputs": [],
   "source": [
    "dataset= 'deng'\n",
    "df, truth = gmm_utils.loadData(dataset)\n",
    "print(df.shape, truth.shape, truth.clusters.unique())\n",
    "trialsFile = f'data/{dataset}_{method}_trials.pkl'\n",
    "resultsFile = f'data/{dataset}_{method}_results.pkl'"
   ]
  },
  {
   "cell_type": "code",
   "execution_count": null,
   "metadata": {
    "ExecuteTime": {
     "end_time": "2018-12-09T12:29:41.682049Z",
     "start_time": "2018-12-09T12:29:41.677095Z"
    }
   },
   "outputs": [],
   "source": [
    "space = {\n",
    "    'dataset' : dataset\n",
    "    ,'minCellsPerGene':scope.int(hp.quniform('minCellsPerGene', 0, 5, 1))\n",
    "    ,'minGeneDispersion':hp.uniform('minGeneDispersion', 0, 1.5)\n",
    "    ,'log' : hp.choice('log', [True,False])\n",
    "    ,'scaler' : hp.choice('scaler',\n",
    "            ['none','standardScaleGenes', 'standardScaleCells', 'robustScaleGenes', 'robustScaleCells'])\n",
    "    ,'pca_comp' : scope.int(hp.quniform('pca_comp', 5, 200,1))\n",
    "    ,'doUmap' : hp.choice('doUmap', [True,False])\n",
    "    ,'umap_comp' : scope.int(hp.quniform('umap_comp', 2, 5,1))\n",
    "    ,'nb_neighbors' : scope.int(hp.quniform('nb_neighbors', 6, 30, 1))\n",
    "}\n",
    "trials = runHyperopt(trialsFile, resultsFile, space, max_evals = 500, restart = True);"
   ]
  },
  {
   "cell_type": "code",
   "execution_count": null,
   "metadata": {
    "ExecuteTime": {
     "end_time": "2018-12-09T12:41:43.987257Z",
     "start_time": "2018-12-09T12:41:43.663095Z"
    }
   },
   "outputs": [],
   "source": [
    "resultsDf = pd.read_pickle(resultsFile)\n",
    "display(resultsDf.sort_values(by='_rand_index', ascending = False).head(3))\n",
    "utils.plotCorrelation(resultsDf, name=dataset)"
   ]
  },
  {
   "cell_type": "markdown",
   "metadata": {},
   "source": [
    "# sce10x_qc"
   ]
  },
  {
   "cell_type": "code",
   "execution_count": null,
   "metadata": {
    "ExecuteTime": {
     "end_time": "2018-12-15T13:20:26.024384Z",
     "start_time": "2018-12-15T13:20:25.785025Z"
    }
   },
   "outputs": [],
   "source": [
    "dataset= 'sce10x_qc'\n",
    "df, truth = utils.loadData(dataset)\n",
    "print(df.shape, truth.shape, truth.clusters.unique())\n",
    "trialsFile = f'data/{dataset}_{method}_trials.pkl'\n",
    "resultsFile = f'data/{dataset}_{method}_results.pkl'"
   ]
  },
  {
   "cell_type": "code",
   "execution_count": null,
   "metadata": {
    "ExecuteTime": {
     "end_time": "2018-12-15T13:51:06.224475Z",
     "start_time": "2018-12-15T13:20:32.811332Z"
    }
   },
   "outputs": [],
   "source": [
    "space = {\n",
    "    'dataset' : dataset\n",
    "    ,'minCellsPerGene':scope.int(hp.quniform('minCellsPerGene', 0, 5, 1))\n",
    "    ,'minGeneDispersion':hp.uniform('minGeneDispersion', 0, 1.5)\n",
    "    ,'log' : hp.choice('log', [True,False])\n",
    "    ,'scaler' : hp.choice('scaler',\n",
    "            ['none','standardScaleGenes', 'standardScaleCells', 'robustScaleGenes', 'robustScaleCells'])\n",
    "    ,'pca_comp' : scope.int(hp.quniform('pca_comp', 5, 200,1))\n",
    "    ,'doUmap' : hp.choice('doUmap', [True,False])\n",
    "    ,'umap_comp' : scope.int(hp.quniform('umap_comp', 2, 5,1))\n",
    "    ,'nb_neighbors' : scope.int(hp.quniform('nb_neighbors', 6, 30, 1))\n",
    "}\n",
    "trials = runHyperopt(trialsFile, resultsFile, space, max_evals = 500, restart = True);"
   ]
  },
  {
   "cell_type": "code",
   "execution_count": null,
   "metadata": {
    "ExecuteTime": {
     "end_time": "2018-12-15T13:51:55.669654Z",
     "start_time": "2018-12-15T13:51:55.346132Z"
    }
   },
   "outputs": [],
   "source": [
    "resultsDf = pd.read_pickle(resultsFile)\n",
    "display(resultsDf.sort_values(by='_rand_index', ascending = False).head(3))\n",
    "utils.plotCorrelation(resultsDf, name=dataset)"
   ]
  },
  {
   "cell_type": "markdown",
   "metadata": {},
   "source": [
    "# sce2_qc"
   ]
  },
  {
   "cell_type": "code",
   "execution_count": null,
   "metadata": {
    "ExecuteTime": {
     "end_time": "2018-12-15T13:52:10.630866Z",
     "start_time": "2018-12-15T13:52:10.551184Z"
    }
   },
   "outputs": [],
   "source": [
    "dataset= 'sce2_qc'\n",
    "df, truth = utils.loadData(dataset)\n",
    "print(df.shape, truth.shape, truth.clusters.unique())\n",
    "trialsFile = f'data/{dataset}_{method}_trials.pkl'\n",
    "resultsFile = f'data/{dataset}_{method}_results.pkl'"
   ]
  },
  {
   "cell_type": "code",
   "execution_count": null,
   "metadata": {
    "ExecuteTime": {
     "end_time": "2018-12-15T14:05:17.827669Z",
     "start_time": "2018-12-15T13:52:13.907388Z"
    }
   },
   "outputs": [],
   "source": [
    "space = {\n",
    "    'dataset' : dataset\n",
    "    ,'minCellsPerGene':scope.int(hp.quniform('minCellsPerGene', 0, 5, 1))\n",
    "    ,'minGeneDispersion':hp.uniform('minGeneDispersion', 0, 1.5)\n",
    "    ,'log' : hp.choice('log', [True,False])\n",
    "    ,'scaler' : hp.choice('scaler',\n",
    "            ['none','standardScaleGenes', 'standardScaleCells', 'robustScaleGenes', 'robustScaleCells'])\n",
    "    ,'pca_comp' : scope.int(hp.quniform('pca_comp', 5, 200,1))\n",
    "    ,'doUmap' : hp.choice('doUmap', [True,False])\n",
    "    ,'umap_comp' : scope.int(hp.quniform('umap_comp', 2, 5,1))\n",
    "    ,'nb_neighbors' : scope.int(hp.quniform('nb_neighbors', 6, 30, 1))\n",
    "}\n",
    "trials = runHyperopt(trialsFile, resultsFile, space, max_evals = 500, restart = True);"
   ]
  },
  {
   "cell_type": "code",
   "execution_count": null,
   "metadata": {
    "ExecuteTime": {
     "end_time": "2018-12-15T14:05:41.948094Z",
     "start_time": "2018-12-15T14:05:41.629082Z"
    }
   },
   "outputs": [],
   "source": [
    "resultsDf = pd.read_pickle(resultsFile)\n",
    "display(resultsDf.sort_values(by='_rand_index', ascending = False).head(3))\n",
    "utils.plotCorrelation(resultsDf, name=dataset)"
   ]
  },
  {
   "cell_type": "markdown",
   "metadata": {},
   "source": [
    "# sce8_qc"
   ]
  },
  {
   "cell_type": "code",
   "execution_count": null,
   "metadata": {
    "ExecuteTime": {
     "end_time": "2018-12-15T14:05:48.234223Z",
     "start_time": "2018-12-15T14:05:48.165300Z"
    }
   },
   "outputs": [],
   "source": [
    "dataset= 'sce8_qc'\n",
    "df, truth = utils.loadData(dataset)\n",
    "print(df.shape, truth.shape, truth.clusters.unique())\n",
    "trialsFile = f'data/{dataset}_{method}_trials.pkl'\n",
    "resultsFile = f'data/{dataset}_{method}_results.pkl'"
   ]
  },
  {
   "cell_type": "code",
   "execution_count": null,
   "metadata": {
    "ExecuteTime": {
     "end_time": "2018-12-15T14:27:00.405478Z",
     "start_time": "2018-12-15T14:05:49.989047Z"
    }
   },
   "outputs": [],
   "source": [
    "space = {\n",
    "    'dataset' : dataset\n",
    "    ,'minCellsPerGene':scope.int(hp.quniform('minCellsPerGene', 0, 5, 1))\n",
    "    ,'minGeneDispersion':hp.uniform('minGeneDispersion', 0, 1.5)\n",
    "    ,'log' : hp.choice('log', [True,False])\n",
    "    ,'scaler' : hp.choice('scaler',\n",
    "            ['none','standardScaleGenes', 'standardScaleCells', 'robustScaleGenes', 'robustScaleCells'])\n",
    "    ,'pca_comp' : scope.int(hp.quniform('pca_comp', 5, 200,1))\n",
    "    ,'doUmap' : hp.choice('doUmap', [True,False])\n",
    "    ,'umap_comp' : scope.int(hp.quniform('umap_comp', 2, 5,1))\n",
    "    ,'nb_neighbors' : scope.int(hp.quniform('nb_neighbors', 6, 30, 1))\n",
    "}\n",
    "trials = runHyperopt(trialsFile, resultsFile, space, max_evals = 500, restart = True);"
   ]
  },
  {
   "cell_type": "code",
   "execution_count": null,
   "metadata": {},
   "outputs": [],
   "source": [
    "resultsDf = pd.read_pickle(resultsFile)\n",
    "display(resultsDf.sort_values(by='_rand_index', ascending = False).head(3))\n",
    "utils.plotCorrelation(resultsDf, name=dataset)"
   ]
  },
  {
   "cell_type": "code",
   "execution_count": null,
   "metadata": {},
   "outputs": [],
   "source": []
  },
  {
   "cell_type": "code",
   "execution_count": null,
   "metadata": {},
   "outputs": [],
   "source": []
  },
  {
   "cell_type": "code",
   "execution_count": null,
   "metadata": {},
   "outputs": [],
   "source": []
  },
  {
   "cell_type": "code",
   "execution_count": null,
   "metadata": {},
   "outputs": [],
   "source": []
  },
  {
   "cell_type": "code",
   "execution_count": null,
   "metadata": {},
   "outputs": [],
   "source": []
  },
  {
   "cell_type": "code",
   "execution_count": null,
   "metadata": {},
   "outputs": [],
   "source": []
  },
  {
   "cell_type": "code",
   "execution_count": null,
   "metadata": {
    "scrolled": true
   },
   "outputs": [],
   "source": [
    "bestBic, bestAic, bestSil = optimalNbClustersGMM(pc, params['min_clusters'], params['max_clusters'], 2)"
   ]
  },
  {
   "cell_type": "code",
   "execution_count": null,
   "metadata": {},
   "outputs": [],
   "source": [
    "bestBic, bestAic, bestSil"
   ]
  },
  {
   "cell_type": "code",
   "execution_count": null,
   "metadata": {},
   "outputs": [],
   "source": [
    "for n_clust in n_clusters:\n",
    "    model = GaussianMixture(n_clust, covariance_type ='full', random_state = 0).fit(pc)\n",
    "    clusters = model.predict(pc)\n",
    "    score = adjusted_rand_score(truth.clusters.tolist(), clusters)\n",
    "    print(f\"For {n_clust} clusters, score : {score}\")"
   ]
  },
  {
   "cell_type": "markdown",
   "metadata": {},
   "source": [
    "## Evaluation"
   ]
  },
  {
   "cell_type": "code",
   "execution_count": null,
   "metadata": {},
   "outputs": [],
   "source": [
    "model = GaussianMixture(8, covariance_type ='full', random_state = 0).fit(pc)\n",
    "clusters = model.predict(pc)\n",
    "score = adjusted_rand_score(truth.clusters.tolist(), clusters)\n",
    "score"
   ]
  },
  {
   "cell_type": "code",
   "execution_count": null,
   "metadata": {},
   "outputs": [],
   "source": [
    "truth.clusters.value_counts().shape"
   ]
  },
  {
   "cell_type": "code",
   "execution_count": null,
   "metadata": {},
   "outputs": [],
   "source": []
  },
  {
   "cell_type": "code",
   "execution_count": null,
   "metadata": {},
   "outputs": [],
   "source": [
    "dataset = 'brainCIDR'\n",
    "df, truth = gmm_utils.loadData(dataset)\n",
    "umap2D = gmm_utils.getUmap(df, pca_comp = 10)\n",
    "print(df.shape, truth.shape, truth.clusters.unique())\n",
    "params={}\n",
    "params['dataset'] = 'brainCIDR'\n",
    "params['minCellsPerGene'] = 0\n",
    "params['minGeneDispersion'] = 0\n",
    "params['log'] = True # True, False\n",
    "params['scaler'] = 'standardScaleCells'# \n",
    "params['pca_comp'] = 10 #range (3, 300)\n",
    "params['nb_clusters'] =8 #3 -15\n",
    "gmm_utils.run(params);"
   ]
  }
 ],
 "metadata": {
  "hide_input": false,
  "kernelspec": {
   "display_name": "Python [default]",
   "language": "python",
   "name": "python3"
  },
  "language_info": {
   "codemirror_mode": {
    "name": "ipython",
    "version": 3
   },
   "file_extension": ".py",
   "mimetype": "text/x-python",
   "name": "python",
   "nbconvert_exporter": "python",
   "pygments_lexer": "ipython3",
   "version": "3.6.7"
  },
  "toc": {
   "base_numbering": 1,
   "nav_menu": {},
   "number_sections": true,
   "sideBar": true,
   "skip_h1_title": false,
   "title_cell": "Table of Contents",
   "title_sidebar": "Contents",
   "toc_cell": false,
   "toc_position": {},
   "toc_section_display": true,
   "toc_window_display": false
  },
  "varInspector": {
   "cols": {
    "lenName": 16,
    "lenType": 16,
    "lenVar": 40
   },
   "kernels_config": {
    "python": {
     "delete_cmd_postfix": "",
     "delete_cmd_prefix": "del ",
     "library": "var_list.py",
     "varRefreshCmd": "print(var_dic_list())"
    },
    "r": {
     "delete_cmd_postfix": ") ",
     "delete_cmd_prefix": "rm(",
     "library": "var_list.r",
     "varRefreshCmd": "cat(var_dic_list()) "
    }
   },
   "types_to_exclude": [
    "module",
    "function",
    "builtin_function_or_method",
    "instance",
    "_Feature"
   ],
   "window_display": false
  }
 },
 "nbformat": 4,
 "nbformat_minor": 2
}
