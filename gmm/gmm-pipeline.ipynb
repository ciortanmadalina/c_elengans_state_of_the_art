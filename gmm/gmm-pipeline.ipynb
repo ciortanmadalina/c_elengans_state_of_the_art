{
 "cells": [
  {
   "cell_type": "code",
   "execution_count": 1,
   "metadata": {
    "ExecuteTime": {
     "end_time": "2018-12-16T12:59:28.539477Z",
     "start_time": "2018-12-16T12:59:27.439175Z"
    }
   },
   "outputs": [
    {
     "name": "stdout",
     "output_type": "stream",
     "text": [
      "elbowAnalysis\n",
      "silhouetteAnalyis\n",
      "elbowAnalysis\n",
      "silhouetteAnalyis\n"
     ]
    }
   ],
   "source": [
    "import sys\n",
    "sys.path.append(\"..\") # this adds to path parent directory in order to import utils file\n",
    "import pandas as pd\n",
    "import matplotlib.pyplot as plt\n",
    "import seaborn as sns\n",
    "from collections import Counter\n",
    "import random\n",
    "from tqdm import tqdm\n",
    "import numpy as np\n",
    "from sklearn import metrics\n",
    "from IPython.display import clear_output, Image, display\n",
    "from sklearn.preprocessing import StandardScaler, RobustScaler\n",
    "from sklearn.mixture import GaussianMixture\n",
    "from sklearn.metrics.cluster import adjusted_rand_score\n",
    "from sklearn.decomposition import PCA\n",
    "import hyperopt\n",
    "from hyperopt import fmin, tpe, hp, Trials, STATUS_OK\n",
    "from hyperopt.pyll.base import scope\n",
    "from hyperopt.pyll.stochastic import sample\n",
    "import time\n",
    "import pickle\n",
    "import umap\n",
    "import sys, traceback, os\n",
    "\n",
    "## Import custom utils\n",
    "import utils\n",
    "import gmm_utils\n",
    "import hyperopt_utils"
   ]
  },
  {
   "cell_type": "code",
   "execution_count": 2,
   "metadata": {
    "ExecuteTime": {
     "end_time": "2018-12-16T12:59:28.573951Z",
     "start_time": "2018-12-16T12:59:28.558963Z"
    }
   },
   "outputs": [
    {
     "name": "stdout",
     "output_type": "stream",
     "text": [
      "elbowAnalysis\n",
      "silhouetteAnalyis\n",
      "elbowAnalysis\n",
      "silhouetteAnalyis\n"
     ]
    },
    {
     "data": {
      "text/plain": [
       "<module 'utils' from '../utils.py'>"
      ]
     },
     "execution_count": 2,
     "metadata": {},
     "output_type": "execute_result"
    }
   ],
   "source": [
    "%load_ext autoreload\n",
    "import importlib\n",
    "importlib.reload(gmm_utils)\n",
    "importlib.reload(hyperopt_utils)\n",
    "importlib.reload(utils)"
   ]
  },
  {
   "cell_type": "markdown",
   "metadata": {},
   "source": [
    "## Hyperopt utils"
   ]
  },
  {
   "cell_type": "code",
   "execution_count": null,
   "metadata": {},
   "outputs": [],
   "source": []
  },
  {
   "cell_type": "code",
   "execution_count": 3,
   "metadata": {
    "ExecuteTime": {
     "end_time": "2018-12-16T12:59:30.354986Z",
     "start_time": "2018-12-16T12:59:30.331686Z"
    }
   },
   "outputs": [],
   "source": [
    "method = 'gmm'\n",
    "def runHyperopt(trialsFile, resultsFile, space, max_evals = 2, restart = False):\n",
    "    # Define function to optimise\n",
    "    def evaluateGMM(args):\n",
    "        try:\n",
    "            resultDict, _ = gmm_utils.runGMM(args)\n",
    "            if os.path.isfile(resultsFile):\n",
    "                results = pd.read_pickle(resultsFile)\n",
    "\n",
    "                newDf = pd.DataFrame.from_dict(resultDict, orient='index').T\n",
    "                results = results.append(newDf)\n",
    "            else:\n",
    "                results = pd.DataFrame.from_dict(resultDict, orient='index').T\n",
    "            results.to_pickle(resultsFile)\n",
    "        except:\n",
    "            traceback.print_exc(file=sys.stdout)\n",
    "            return { 'status' : hyperopt.STATUS_FAIL}\n",
    "\n",
    "        print(f'>> Result: {resultDict[\"_rand_index\"]}')\n",
    "        ret = {\n",
    "            'loss' : -resultDict['_rand_index']\n",
    "            ,'status' : STATUS_OK\n",
    "            ,'eval_time' : time.time()        \n",
    "        }\n",
    "        return ret\n",
    "\n",
    "    trials = hyperopt_utils.getTrials(trialsFile ,restart = restart )\n",
    "    evals_per_epoch = 10\n",
    "    for e in range(len(trials), max_evals, evals_per_epoch):\n",
    "        best = fmin(evaluateGMM\n",
    "                    ,space\n",
    "                    ,algo=tpe.suggest \n",
    "                    ,max_evals= e + evals_per_epoch\n",
    "                    ,trials=trials)\n",
    "        print('Index ', e)\n",
    "#         pickle.dump(trials, open(trialsFile, 'wb'))\n",
    "    return trials"
   ]
  },
  {
   "cell_type": "code",
   "execution_count": null,
   "metadata": {},
   "outputs": [],
   "source": []
  },
  {
   "cell_type": "markdown",
   "metadata": {},
   "source": [
    "## Brain CIDR"
   ]
  },
  {
   "cell_type": "code",
   "execution_count": null,
   "metadata": {
    "ExecuteTime": {
     "end_time": "2018-12-16T12:05:43.140432Z",
     "start_time": "2018-12-16T12:05:43.135061Z"
    }
   },
   "outputs": [],
   "source": [
    "dataset = 'brainCIDR'\n",
    "trialsFile = f'data/{dataset}_gmm_trials.pkl'\n",
    "resultsFile = f'data/{dataset}_gmm_results.pkl'\n",
    "space = {\n",
    "    'dataset' : dataset\n",
    "    ,'minCellsPerGene':scope.int(hp.quniform('minCellsPerGene', 0, 5, 1))\n",
    "    ,'minGeneDispersion':hp.uniform('minGeneDispersion', 0, 1.5)\n",
    "    ,'log' : hp.choice('log', [True,False])\n",
    "    ,'scaler' : hp.choice('scaler',\n",
    "            ['none','standardScaleGenes', 'standardScaleCells', 'robustScaleGenes', 'robustScaleCells'])\n",
    "    ,'pca_comp' : scope.int(hp.quniform('pca_comp', 3, 300,1))\n",
    "    ,'nb_clusters' : scope.int(hp.quniform('nb_clusters', 3, 15, 1))\n",
    "}\n",
    "\n"
   ]
  },
  {
   "cell_type": "code",
   "execution_count": null,
   "metadata": {
    "ExecuteTime": {
     "end_time": "2018-12-16T12:05:45.452351Z",
     "start_time": "2018-12-16T12:05:45.447773Z"
    }
   },
   "outputs": [],
   "source": [
    "# Smoke testing\n",
    "# params = {\n",
    "#     'dataset' : 'brainCIDR'\n",
    "#     ,'minCellsPerGene':2\n",
    "#     ,'minGeneDispersion':0.5\n",
    "#     ,'log' : True\n",
    "#     ,'scaler' : 'standardScaleCells'\n",
    "#     ,'pca_comp' : 10\n",
    "#     ,'nb_clusters' : 10\n",
    "# }\n",
    "\n",
    "# params = {'dataset': 'brainCIDR', \n",
    "#           'log': False, \n",
    "#           'minCellsPerGene': 2, \n",
    "#           'minGeneDispersion': 1.3643019957416587, \n",
    "#           'nb_clusters': 9, \n",
    "#           'pca_comp': 246, \n",
    "#           'scaler': 'none'}\n",
    "# gmm_utils.runGMM(params)"
   ]
  },
  {
   "cell_type": "code",
   "execution_count": null,
   "metadata": {},
   "outputs": [],
   "source": []
  },
  {
   "cell_type": "code",
   "execution_count": null,
   "metadata": {
    "ExecuteTime": {
     "end_time": "2018-12-16T12:27:13.768121Z",
     "start_time": "2018-12-16T12:05:47.307374Z"
    },
    "scrolled": true
   },
   "outputs": [],
   "source": [
    "trials = runHyperopt(trialsFile, resultsFile, space, max_evals = 500, restart = True);"
   ]
  },
  {
   "cell_type": "code",
   "execution_count": null,
   "metadata": {
    "ExecuteTime": {
     "end_time": "2018-12-16T12:34:11.722731Z",
     "start_time": "2018-12-16T12:34:11.391545Z"
    }
   },
   "outputs": [],
   "source": [
    "# gmm_utils.plotBestPrediction(summaryDf, dataset)\n",
    "resultsDf = pd.read_pickle(resultsFile)\n",
    "display(resultsDf.sort_values(by='_rand_index', ascending = False).head(3))\n",
    "gmm_utils.plotCorrelation(resultsDf, name=dataset)"
   ]
  },
  {
   "cell_type": "markdown",
   "metadata": {},
   "source": [
    "## PancreaticIsletCIDR"
   ]
  },
  {
   "cell_type": "code",
   "execution_count": 4,
   "metadata": {
    "ExecuteTime": {
     "end_time": "2018-12-16T12:59:36.413908Z",
     "start_time": "2018-12-16T12:59:35.973976Z"
    }
   },
   "outputs": [
    {
     "name": "stdout",
     "output_type": "stream",
     "text": [
      "(60, 180253) (60, 2) [1 3 5 4 0 2]\n"
     ]
    }
   ],
   "source": [
    "dataset= 'pancreaticIsletCIDR'\n",
    "df, truth = utils.loadData(dataset)\n",
    "print(df.shape, truth.shape, truth.clusters.unique())\n",
    "trialsFile = f'data/{dataset}_gmm_trials.pkl'\n",
    "resultsFile = f'data/{dataset}_gmm_results.pkl'"
   ]
  },
  {
   "cell_type": "code",
   "execution_count": null,
   "metadata": {},
   "outputs": [],
   "source": []
  },
  {
   "cell_type": "code",
   "execution_count": 5,
   "metadata": {
    "ExecuteTime": {
     "end_time": "2018-12-16T12:59:45.178339Z",
     "start_time": "2018-12-16T12:59:45.171503Z"
    }
   },
   "outputs": [],
   "source": [
    "\n",
    "space = {\n",
    "    'dataset' : dataset\n",
    "    ,'minCellsPerGene':scope.int(hp.quniform('minCellsPerGene', 0, 5, 1))\n",
    "    ,'minGeneDispersion':hp.uniform('minGeneDispersion', 0, 1.5)\n",
    "    ,'log' : hp.choice('log', [True,False])\n",
    "    ,'scaler' : hp.choice('scaler',\n",
    "            ['none','standardScaleGenes', 'standardScaleCells', 'robustScaleGenes', 'robustScaleCells'])\n",
    "    ,'pca_comp' : scope.int(hp.quniform('pca_comp', 3, 300,1))\n",
    "    ,'nb_clusters' : scope.int(hp.quniform('nb_clusters', 3, 15, 1))\n",
    "}\n",
    "\n"
   ]
  },
  {
   "cell_type": "code",
   "execution_count": 6,
   "metadata": {
    "ExecuteTime": {
     "end_time": "2018-12-16T13:06:10.135823Z",
     "start_time": "2018-12-16T12:59:47.772259Z"
    },
    "scrolled": true
   },
   "outputs": [
    {
     "name": "stdout",
     "output_type": "stream",
     "text": [
      "Creating new trials...\n",
      "Traceback (most recent call last):\n",
      "  File \"<ipython-input-3-0fbae45fdc0c>\", line 6, in evaluateGMM\n",
      "    resultDict, _ = gmm_utils.runGMM(args)\n",
      "  File \"/mnt/reds/projects/single-cell-sota/gmm/gmm_utils.py\", line 158, in runGMM\n",
      "    pc = PCA(n_components=params['pca_comp']).fit_transform(scaledDf)\n",
      "  File \"/opt/anaconda3/envs/astrohack/lib/python3.6/site-packages/sklearn/decomposition/pca.py\", line 359, in fit_transform\n",
      "    U, S, V = self._fit(X)\n",
      "  File \"/opt/anaconda3/envs/astrohack/lib/python3.6/site-packages/sklearn/decomposition/pca.py\", line 406, in _fit\n",
      "    return self._fit_full(X, n_components)\n",
      "  File \"/opt/anaconda3/envs/astrohack/lib/python3.6/site-packages/sklearn/decomposition/pca.py\", line 425, in _fit_full\n",
      "    % (n_components, min(n_samples, n_features)))\n",
      "ValueError: n_components=181 must be between 0 and min(n_samples, n_features)=60 with svd_solver='full'\n",
      "Traceback (most recent call last):\n",
      "  File \"/opt/anaconda3/envs/astrohack/lib/python3.6/site-packages/sklearn/mixture/gaussian_mixture.py\", line 318, in _compute_precision_cholesky\n",
      "    cov_chol = linalg.cholesky(covariance, lower=True)\n",
      "  File \"/opt/anaconda3/envs/astrohack/lib/python3.6/site-packages/scipy/linalg/decomp_cholesky.py\", line 91, in cholesky\n",
      "    check_finite=check_finite)\n",
      "  File \"/opt/anaconda3/envs/astrohack/lib/python3.6/site-packages/scipy/linalg/decomp_cholesky.py\", line 40, in _cholesky\n",
      "    \"definite\" % info)\n",
      "numpy.linalg.linalg.LinAlgError: 12-th leading minor of the array is not positive definite\n",
      "\n",
      "During handling of the above exception, another exception occurred:\n",
      "\n",
      "Traceback (most recent call last):\n",
      "  File \"<ipython-input-3-0fbae45fdc0c>\", line 6, in evaluateGMM\n",
      "    resultDict, _ = gmm_utils.runGMM(args)\n",
      "  File \"/mnt/reds/projects/single-cell-sota/gmm/gmm_utils.py\", line 160, in runGMM\n",
      "    model = GaussianMixture(params['nb_clusters'] , covariance_type ='full', random_state = 0).fit(pc)\n",
      "  File \"/opt/anaconda3/envs/astrohack/lib/python3.6/site-packages/sklearn/mixture/base.py\", line 194, in fit\n",
      "    self.fit_predict(X, y)\n",
      "  File \"/opt/anaconda3/envs/astrohack/lib/python3.6/site-packages/sklearn/mixture/base.py\", line 237, in fit_predict\n",
      "    self._initialize_parameters(X, random_state)\n",
      "  File \"/opt/anaconda3/envs/astrohack/lib/python3.6/site-packages/sklearn/mixture/base.py\", line 158, in _initialize_parameters\n",
      "    self._initialize(X, resp)\n",
      "  File \"/opt/anaconda3/envs/astrohack/lib/python3.6/site-packages/sklearn/mixture/gaussian_mixture.py\", line 650, in _initialize\n",
      "    covariances, self.covariance_type)\n",
      "  File \"/opt/anaconda3/envs/astrohack/lib/python3.6/site-packages/sklearn/mixture/gaussian_mixture.py\", line 320, in _compute_precision_cholesky\n",
      "    raise ValueError(estimate_precision_error_message)\n",
      "ValueError: Fitting the mixture model failed because some components have ill-defined empirical covariance (for instance caused by singleton or collapsed samples). Try to decrease the number of components, or increase reg_covar.\n",
      "Traceback (most recent call last):\n",
      "  File \"<ipython-input-3-0fbae45fdc0c>\", line 6, in evaluateGMM\n",
      "    resultDict, _ = gmm_utils.runGMM(args)\n",
      "  File \"/mnt/reds/projects/single-cell-sota/gmm/gmm_utils.py\", line 158, in runGMM\n",
      "    pc = PCA(n_components=params['pca_comp']).fit_transform(scaledDf)\n",
      "  File \"/opt/anaconda3/envs/astrohack/lib/python3.6/site-packages/sklearn/decomposition/pca.py\", line 359, in fit_transform\n",
      "    U, S, V = self._fit(X)\n",
      "  File \"/opt/anaconda3/envs/astrohack/lib/python3.6/site-packages/sklearn/decomposition/pca.py\", line 406, in _fit\n",
      "    return self._fit_full(X, n_components)\n",
      "  File \"/opt/anaconda3/envs/astrohack/lib/python3.6/site-packages/sklearn/decomposition/pca.py\", line 425, in _fit_full\n",
      "    % (n_components, min(n_samples, n_features)))\n",
      "ValueError: n_components=142 must be between 0 and min(n_samples, n_features)=60 with svd_solver='full'\n",
      "Traceback (most recent call last):\n",
      "  File \"<ipython-input-3-0fbae45fdc0c>\", line 6, in evaluateGMM\n",
      "    resultDict, _ = gmm_utils.runGMM(args)\n",
      "  File \"/mnt/reds/projects/single-cell-sota/gmm/gmm_utils.py\", line 158, in runGMM\n",
      "    pc = PCA(n_components=params['pca_comp']).fit_transform(scaledDf)\n",
      "  File \"/opt/anaconda3/envs/astrohack/lib/python3.6/site-packages/sklearn/decomposition/pca.py\", line 359, in fit_transform\n",
      "    U, S, V = self._fit(X)\n",
      "  File \"/opt/anaconda3/envs/astrohack/lib/python3.6/site-packages/sklearn/decomposition/pca.py\", line 406, in _fit\n",
      "    return self._fit_full(X, n_components)\n",
      "  File \"/opt/anaconda3/envs/astrohack/lib/python3.6/site-packages/sklearn/decomposition/pca.py\", line 425, in _fit_full\n",
      "    % (n_components, min(n_samples, n_features)))\n",
      "ValueError: n_components=273 must be between 0 and min(n_samples, n_features)=60 with svd_solver='full'\n"
     ]
    },
    {
     "name": "stderr",
     "output_type": "stream",
     "text": [
      "/opt/anaconda3/envs/astrohack/lib/python3.6/site-packages/sklearn/preprocessing/data.py:625: DataConversionWarning: Data with input dtype int64 were all converted to float64 by StandardScaler.\n",
      "  return self.partial_fit(X, y)\n",
      "/opt/anaconda3/envs/astrohack/lib/python3.6/site-packages/sklearn/base.py:462: DataConversionWarning: Data with input dtype int64 were all converted to float64 by StandardScaler.\n",
      "  return self.fit(X, **fit_params).transform(X)\n"
     ]
    },
    {
     "name": "stdout",
     "output_type": "stream",
     "text": [
      "Traceback (most recent call last):\n",
      "  File \"<ipython-input-3-0fbae45fdc0c>\", line 6, in evaluateGMM\n",
      "    resultDict, _ = gmm_utils.runGMM(args)\n",
      "  File \"/mnt/reds/projects/single-cell-sota/gmm/gmm_utils.py\", line 158, in runGMM\n",
      "    pc = PCA(n_components=params['pca_comp']).fit_transform(scaledDf)\n",
      "  File \"/opt/anaconda3/envs/astrohack/lib/python3.6/site-packages/sklearn/decomposition/pca.py\", line 359, in fit_transform\n",
      "    U, S, V = self._fit(X)\n",
      "  File \"/opt/anaconda3/envs/astrohack/lib/python3.6/site-packages/sklearn/decomposition/pca.py\", line 406, in _fit\n",
      "    return self._fit_full(X, n_components)\n",
      "  File \"/opt/anaconda3/envs/astrohack/lib/python3.6/site-packages/sklearn/decomposition/pca.py\", line 425, in _fit_full\n",
      "    % (n_components, min(n_samples, n_features)))\n",
      "ValueError: n_components=146 must be between 0 and min(n_samples, n_features)=60 with svd_solver='full'\n",
      "Traceback (most recent call last):\n",
      "  File \"<ipython-input-3-0fbae45fdc0c>\", line 6, in evaluateGMM\n",
      "    resultDict, _ = gmm_utils.runGMM(args)\n",
      "  File \"/mnt/reds/projects/single-cell-sota/gmm/gmm_utils.py\", line 158, in runGMM\n",
      "    pc = PCA(n_components=params['pca_comp']).fit_transform(scaledDf)\n",
      "  File \"/opt/anaconda3/envs/astrohack/lib/python3.6/site-packages/sklearn/decomposition/pca.py\", line 359, in fit_transform\n",
      "    U, S, V = self._fit(X)\n",
      "  File \"/opt/anaconda3/envs/astrohack/lib/python3.6/site-packages/sklearn/decomposition/pca.py\", line 406, in _fit\n",
      "    return self._fit_full(X, n_components)\n",
      "  File \"/opt/anaconda3/envs/astrohack/lib/python3.6/site-packages/sklearn/decomposition/pca.py\", line 425, in _fit_full\n",
      "    % (n_components, min(n_samples, n_features)))\n",
      "ValueError: n_components=123 must be between 0 and min(n_samples, n_features)=60 with svd_solver='full'\n",
      "Traceback (most recent call last):\n",
      "  File \"<ipython-input-3-0fbae45fdc0c>\", line 6, in evaluateGMM\n",
      "    resultDict, _ = gmm_utils.runGMM(args)\n",
      "  File \"/mnt/reds/projects/single-cell-sota/gmm/gmm_utils.py\", line 158, in runGMM\n",
      "    pc = PCA(n_components=params['pca_comp']).fit_transform(scaledDf)\n",
      "  File \"/opt/anaconda3/envs/astrohack/lib/python3.6/site-packages/sklearn/decomposition/pca.py\", line 359, in fit_transform\n",
      "    U, S, V = self._fit(X)\n",
      "  File \"/opt/anaconda3/envs/astrohack/lib/python3.6/site-packages/sklearn/decomposition/pca.py\", line 406, in _fit\n",
      "    return self._fit_full(X, n_components)\n",
      "  File \"/opt/anaconda3/envs/astrohack/lib/python3.6/site-packages/sklearn/decomposition/pca.py\", line 425, in _fit_full\n",
      "    % (n_components, min(n_samples, n_features)))\n",
      "ValueError: n_components=281 must be between 0 and min(n_samples, n_features)=60 with svd_solver='full'\n"
     ]
    },
    {
     "name": "stderr",
     "output_type": "stream",
     "text": [
      "/opt/anaconda3/envs/astrohack/lib/python3.6/site-packages/sklearn/metrics/cluster/supervised.py:732: FutureWarning: The behavior of AMI will change in version 0.22. To match the behavior of 'v_measure_score', AMI will use average_method='arithmetic' by default.\n",
      "  FutureWarning)\n",
      "/opt/anaconda3/envs/astrohack/lib/python3.6/site-packages/sklearn/metrics/cluster/unsupervised.py:342: RuntimeWarning: divide by zero encountered in true_divide\n",
      "  score = (intra_dists[:, None] + intra_dists) / centroid_distances\n",
      "/opt/anaconda3/envs/astrohack/lib/python3.6/site-packages/sklearn/metrics/cluster/unsupervised.py:342: RuntimeWarning: invalid value encountered in true_divide\n",
      "  score = (intra_dists[:, None] + intra_dists) / centroid_distances\n"
     ]
    },
    {
     "name": "stdout",
     "output_type": "stream",
     "text": [
      ">> Result: 0.39227241707007504\n",
      "Traceback (most recent call last):\n",
      "  File \"<ipython-input-3-0fbae45fdc0c>\", line 6, in evaluateGMM\n",
      "    resultDict, _ = gmm_utils.runGMM(args)\n",
      "  File \"/mnt/reds/projects/single-cell-sota/gmm/gmm_utils.py\", line 158, in runGMM\n",
      "    pc = PCA(n_components=params['pca_comp']).fit_transform(scaledDf)\n",
      "  File \"/opt/anaconda3/envs/astrohack/lib/python3.6/site-packages/sklearn/decomposition/pca.py\", line 359, in fit_transform\n",
      "    U, S, V = self._fit(X)\n",
      "  File \"/opt/anaconda3/envs/astrohack/lib/python3.6/site-packages/sklearn/decomposition/pca.py\", line 406, in _fit\n",
      "    return self._fit_full(X, n_components)\n",
      "  File \"/opt/anaconda3/envs/astrohack/lib/python3.6/site-packages/sklearn/decomposition/pca.py\", line 425, in _fit_full\n",
      "    % (n_components, min(n_samples, n_features)))\n",
      "ValueError: n_components=198 must be between 0 and min(n_samples, n_features)=60 with svd_solver='full'\n",
      "Traceback (most recent call last):\n",
      "  File \"<ipython-input-3-0fbae45fdc0c>\", line 6, in evaluateGMM\n",
      "    resultDict, _ = gmm_utils.runGMM(args)\n",
      "  File \"/mnt/reds/projects/single-cell-sota/gmm/gmm_utils.py\", line 158, in runGMM\n",
      "    pc = PCA(n_components=params['pca_comp']).fit_transform(scaledDf)\n",
      "  File \"/opt/anaconda3/envs/astrohack/lib/python3.6/site-packages/sklearn/decomposition/pca.py\", line 359, in fit_transform\n",
      "    U, S, V = self._fit(X)\n",
      "  File \"/opt/anaconda3/envs/astrohack/lib/python3.6/site-packages/sklearn/decomposition/pca.py\", line 406, in _fit\n",
      "    return self._fit_full(X, n_components)\n",
      "  File \"/opt/anaconda3/envs/astrohack/lib/python3.6/site-packages/sklearn/decomposition/pca.py\", line 425, in _fit_full\n",
      "    % (n_components, min(n_samples, n_features)))\n",
      "ValueError: n_components=85 must be between 0 and min(n_samples, n_features)=60 with svd_solver='full'\n",
      "Index  0\n",
      "Traceback (most recent call last):\n",
      "  File \"<ipython-input-3-0fbae45fdc0c>\", line 6, in evaluateGMM\n",
      "    resultDict, _ = gmm_utils.runGMM(args)\n",
      "  File \"/mnt/reds/projects/single-cell-sota/gmm/gmm_utils.py\", line 158, in runGMM\n",
      "    pc = PCA(n_components=params['pca_comp']).fit_transform(scaledDf)\n",
      "  File \"/opt/anaconda3/envs/astrohack/lib/python3.6/site-packages/sklearn/decomposition/pca.py\", line 359, in fit_transform\n",
      "    U, S, V = self._fit(X)\n",
      "  File \"/opt/anaconda3/envs/astrohack/lib/python3.6/site-packages/sklearn/decomposition/pca.py\", line 406, in _fit\n",
      "    return self._fit_full(X, n_components)\n",
      "  File \"/opt/anaconda3/envs/astrohack/lib/python3.6/site-packages/sklearn/decomposition/pca.py\", line 425, in _fit_full\n",
      "    % (n_components, min(n_samples, n_features)))\n",
      "ValueError: n_components=234 must be between 0 and min(n_samples, n_features)=60 with svd_solver='full'\n",
      "Traceback (most recent call last):\n",
      "  File \"<ipython-input-3-0fbae45fdc0c>\", line 6, in evaluateGMM\n",
      "    resultDict, _ = gmm_utils.runGMM(args)\n",
      "  File \"/mnt/reds/projects/single-cell-sota/gmm/gmm_utils.py\", line 158, in runGMM\n",
      "    pc = PCA(n_components=params['pca_comp']).fit_transform(scaledDf)\n",
      "  File \"/opt/anaconda3/envs/astrohack/lib/python3.6/site-packages/sklearn/decomposition/pca.py\", line 359, in fit_transform\n",
      "    U, S, V = self._fit(X)\n",
      "  File \"/opt/anaconda3/envs/astrohack/lib/python3.6/site-packages/sklearn/decomposition/pca.py\", line 406, in _fit\n",
      "    return self._fit_full(X, n_components)\n",
      "  File \"/opt/anaconda3/envs/astrohack/lib/python3.6/site-packages/sklearn/decomposition/pca.py\", line 425, in _fit_full\n",
      "    % (n_components, min(n_samples, n_features)))\n",
      "ValueError: n_components=95 must be between 0 and min(n_samples, n_features)=60 with svd_solver='full'\n",
      "Traceback (most recent call last):\n",
      "  File \"<ipython-input-3-0fbae45fdc0c>\", line 6, in evaluateGMM\n",
      "    resultDict, _ = gmm_utils.runGMM(args)\n",
      "  File \"/mnt/reds/projects/single-cell-sota/gmm/gmm_utils.py\", line 158, in runGMM\n",
      "    pc = PCA(n_components=params['pca_comp']).fit_transform(scaledDf)\n",
      "  File \"/opt/anaconda3/envs/astrohack/lib/python3.6/site-packages/sklearn/decomposition/pca.py\", line 359, in fit_transform\n",
      "    U, S, V = self._fit(X)\n",
      "  File \"/opt/anaconda3/envs/astrohack/lib/python3.6/site-packages/sklearn/decomposition/pca.py\", line 406, in _fit\n",
      "    return self._fit_full(X, n_components)\n",
      "  File \"/opt/anaconda3/envs/astrohack/lib/python3.6/site-packages/sklearn/decomposition/pca.py\", line 425, in _fit_full\n",
      "    % (n_components, min(n_samples, n_features)))\n",
      "ValueError: n_components=275 must be between 0 and min(n_samples, n_features)=60 with svd_solver='full'\n"
     ]
    },
    {
     "name": "stderr",
     "output_type": "stream",
     "text": [
      "/opt/anaconda3/envs/astrohack/lib/python3.6/site-packages/sklearn/preprocessing/data.py:625: DataConversionWarning: Data with input dtype int64 were all converted to float64 by StandardScaler.\n",
      "  return self.partial_fit(X, y)\n",
      "/opt/anaconda3/envs/astrohack/lib/python3.6/site-packages/sklearn/base.py:462: DataConversionWarning: Data with input dtype int64 were all converted to float64 by StandardScaler.\n",
      "  return self.fit(X, **fit_params).transform(X)\n"
     ]
    },
    {
     "name": "stdout",
     "output_type": "stream",
     "text": [
      "Traceback (most recent call last):\n",
      "  File \"<ipython-input-3-0fbae45fdc0c>\", line 6, in evaluateGMM\n",
      "    resultDict, _ = gmm_utils.runGMM(args)\n",
      "  File \"/mnt/reds/projects/single-cell-sota/gmm/gmm_utils.py\", line 158, in runGMM\n",
      "    pc = PCA(n_components=params['pca_comp']).fit_transform(scaledDf)\n",
      "  File \"/opt/anaconda3/envs/astrohack/lib/python3.6/site-packages/sklearn/decomposition/pca.py\", line 359, in fit_transform\n",
      "    U, S, V = self._fit(X)\n",
      "  File \"/opt/anaconda3/envs/astrohack/lib/python3.6/site-packages/sklearn/decomposition/pca.py\", line 406, in _fit\n",
      "    return self._fit_full(X, n_components)\n",
      "  File \"/opt/anaconda3/envs/astrohack/lib/python3.6/site-packages/sklearn/decomposition/pca.py\", line 425, in _fit_full\n",
      "    % (n_components, min(n_samples, n_features)))\n",
      "ValueError: n_components=172 must be between 0 and min(n_samples, n_features)=60 with svd_solver='full'\n"
     ]
    },
    {
     "name": "stderr",
     "output_type": "stream",
     "text": [
      "/opt/anaconda3/envs/astrohack/lib/python3.6/site-packages/sklearn/metrics/cluster/supervised.py:732: FutureWarning: The behavior of AMI will change in version 0.22. To match the behavior of 'v_measure_score', AMI will use average_method='arithmetic' by default.\n",
      "  FutureWarning)\n",
      "/opt/anaconda3/envs/astrohack/lib/python3.6/site-packages/sklearn/metrics/cluster/unsupervised.py:342: RuntimeWarning: divide by zero encountered in true_divide\n",
      "  score = (intra_dists[:, None] + intra_dists) / centroid_distances\n",
      "/opt/anaconda3/envs/astrohack/lib/python3.6/site-packages/sklearn/metrics/cluster/unsupervised.py:342: RuntimeWarning: invalid value encountered in true_divide\n",
      "  score = (intra_dists[:, None] + intra_dists) / centroid_distances\n"
     ]
    },
    {
     "name": "stdout",
     "output_type": "stream",
     "text": [
      ">> Result: 0.037989028164279515\n",
      "Traceback (most recent call last):\n",
      "  File \"<ipython-input-3-0fbae45fdc0c>\", line 6, in evaluateGMM\n",
      "    resultDict, _ = gmm_utils.runGMM(args)\n",
      "  File \"/mnt/reds/projects/single-cell-sota/gmm/gmm_utils.py\", line 158, in runGMM\n",
      "    pc = PCA(n_components=params['pca_comp']).fit_transform(scaledDf)\n",
      "  File \"/opt/anaconda3/envs/astrohack/lib/python3.6/site-packages/sklearn/decomposition/pca.py\", line 359, in fit_transform\n",
      "    U, S, V = self._fit(X)\n",
      "  File \"/opt/anaconda3/envs/astrohack/lib/python3.6/site-packages/sklearn/decomposition/pca.py\", line 406, in _fit\n",
      "    return self._fit_full(X, n_components)\n",
      "  File \"/opt/anaconda3/envs/astrohack/lib/python3.6/site-packages/sklearn/decomposition/pca.py\", line 425, in _fit_full\n",
      "    % (n_components, min(n_samples, n_features)))\n",
      "ValueError: n_components=246 must be between 0 and min(n_samples, n_features)=60 with svd_solver='full'\n"
     ]
    },
    {
     "name": "stderr",
     "output_type": "stream",
     "text": [
      "/opt/anaconda3/envs/astrohack/lib/python3.6/site-packages/sklearn/preprocessing/data.py:625: DataConversionWarning: Data with input dtype int64 were all converted to float64 by StandardScaler.\n",
      "  return self.partial_fit(X, y)\n",
      "/opt/anaconda3/envs/astrohack/lib/python3.6/site-packages/sklearn/base.py:462: DataConversionWarning: Data with input dtype int64 were all converted to float64 by StandardScaler.\n",
      "  return self.fit(X, **fit_params).transform(X)\n"
     ]
    },
    {
     "name": "stdout",
     "output_type": "stream",
     "text": [
      "Traceback (most recent call last):\n",
      "  File \"<ipython-input-3-0fbae45fdc0c>\", line 6, in evaluateGMM\n",
      "    resultDict, _ = gmm_utils.runGMM(args)\n",
      "  File \"/mnt/reds/projects/single-cell-sota/gmm/gmm_utils.py\", line 158, in runGMM\n",
      "    pc = PCA(n_components=params['pca_comp']).fit_transform(scaledDf)\n",
      "  File \"/opt/anaconda3/envs/astrohack/lib/python3.6/site-packages/sklearn/decomposition/pca.py\", line 359, in fit_transform\n",
      "    U, S, V = self._fit(X)\n",
      "  File \"/opt/anaconda3/envs/astrohack/lib/python3.6/site-packages/sklearn/decomposition/pca.py\", line 406, in _fit\n",
      "    return self._fit_full(X, n_components)\n",
      "  File \"/opt/anaconda3/envs/astrohack/lib/python3.6/site-packages/sklearn/decomposition/pca.py\", line 425, in _fit_full\n",
      "    % (n_components, min(n_samples, n_features)))\n",
      "ValueError: n_components=280 must be between 0 and min(n_samples, n_features)=60 with svd_solver='full'\n",
      "Traceback (most recent call last):\n",
      "  File \"<ipython-input-3-0fbae45fdc0c>\", line 6, in evaluateGMM\n",
      "    resultDict, _ = gmm_utils.runGMM(args)\n",
      "  File \"/mnt/reds/projects/single-cell-sota/gmm/gmm_utils.py\", line 158, in runGMM\n",
      "    pc = PCA(n_components=params['pca_comp']).fit_transform(scaledDf)\n",
      "  File \"/opt/anaconda3/envs/astrohack/lib/python3.6/site-packages/sklearn/decomposition/pca.py\", line 359, in fit_transform\n",
      "    U, S, V = self._fit(X)\n",
      "  File \"/opt/anaconda3/envs/astrohack/lib/python3.6/site-packages/sklearn/decomposition/pca.py\", line 406, in _fit\n",
      "    return self._fit_full(X, n_components)\n",
      "  File \"/opt/anaconda3/envs/astrohack/lib/python3.6/site-packages/sklearn/decomposition/pca.py\", line 425, in _fit_full\n",
      "    % (n_components, min(n_samples, n_features)))\n",
      "ValueError: n_components=249 must be between 0 and min(n_samples, n_features)=60 with svd_solver='full'\n",
      "Traceback (most recent call last):\n",
      "  File \"<ipython-input-3-0fbae45fdc0c>\", line 6, in evaluateGMM\n",
      "    resultDict, _ = gmm_utils.runGMM(args)\n",
      "  File \"/mnt/reds/projects/single-cell-sota/gmm/gmm_utils.py\", line 158, in runGMM\n",
      "    pc = PCA(n_components=params['pca_comp']).fit_transform(scaledDf)\n",
      "  File \"/opt/anaconda3/envs/astrohack/lib/python3.6/site-packages/sklearn/decomposition/pca.py\", line 359, in fit_transform\n",
      "    U, S, V = self._fit(X)\n",
      "  File \"/opt/anaconda3/envs/astrohack/lib/python3.6/site-packages/sklearn/decomposition/pca.py\", line 406, in _fit\n",
      "    return self._fit_full(X, n_components)\n",
      "  File \"/opt/anaconda3/envs/astrohack/lib/python3.6/site-packages/sklearn/decomposition/pca.py\", line 425, in _fit_full\n",
      "    % (n_components, min(n_samples, n_features)))\n",
      "ValueError: n_components=201 must be between 0 and min(n_samples, n_features)=60 with svd_solver='full'\n",
      "Traceback (most recent call last):\n",
      "  File \"<ipython-input-3-0fbae45fdc0c>\", line 6, in evaluateGMM\n",
      "    resultDict, _ = gmm_utils.runGMM(args)\n",
      "  File \"/mnt/reds/projects/single-cell-sota/gmm/gmm_utils.py\", line 158, in runGMM\n",
      "    pc = PCA(n_components=params['pca_comp']).fit_transform(scaledDf)\n",
      "  File \"/opt/anaconda3/envs/astrohack/lib/python3.6/site-packages/sklearn/decomposition/pca.py\", line 359, in fit_transform\n",
      "    U, S, V = self._fit(X)\n",
      "  File \"/opt/anaconda3/envs/astrohack/lib/python3.6/site-packages/sklearn/decomposition/pca.py\", line 406, in _fit\n",
      "    return self._fit_full(X, n_components)\n",
      "  File \"/opt/anaconda3/envs/astrohack/lib/python3.6/site-packages/sklearn/decomposition/pca.py\", line 425, in _fit_full\n",
      "    % (n_components, min(n_samples, n_features)))\n",
      "ValueError: n_components=189 must be between 0 and min(n_samples, n_features)=60 with svd_solver='full'\n",
      "Index  10\n"
     ]
    },
    {
     "name": "stderr",
     "output_type": "stream",
     "text": [
      "/opt/anaconda3/envs/astrohack/lib/python3.6/site-packages/sklearn/metrics/cluster/supervised.py:732: FutureWarning: The behavior of AMI will change in version 0.22. To match the behavior of 'v_measure_score', AMI will use average_method='arithmetic' by default.\n",
      "  FutureWarning)\n",
      "/opt/anaconda3/envs/astrohack/lib/python3.6/site-packages/sklearn/metrics/cluster/unsupervised.py:342: RuntimeWarning: divide by zero encountered in true_divide\n",
      "  score = (intra_dists[:, None] + intra_dists) / centroid_distances\n",
      "/opt/anaconda3/envs/astrohack/lib/python3.6/site-packages/sklearn/metrics/cluster/unsupervised.py:342: RuntimeWarning: invalid value encountered in true_divide\n",
      "  score = (intra_dists[:, None] + intra_dists) / centroid_distances\n"
     ]
    },
    {
     "name": "stdout",
     "output_type": "stream",
     "text": [
      ">> Result: 0.15461677154354084\n"
     ]
    },
    {
     "name": "stderr",
     "output_type": "stream",
     "text": [
      "/opt/anaconda3/envs/astrohack/lib/python3.6/site-packages/sklearn/metrics/cluster/supervised.py:732: FutureWarning: The behavior of AMI will change in version 0.22. To match the behavior of 'v_measure_score', AMI will use average_method='arithmetic' by default.\n",
      "  FutureWarning)\n",
      "/opt/anaconda3/envs/astrohack/lib/python3.6/site-packages/sklearn/metrics/cluster/unsupervised.py:342: RuntimeWarning: divide by zero encountered in true_divide\n",
      "  score = (intra_dists[:, None] + intra_dists) / centroid_distances\n",
      "/opt/anaconda3/envs/astrohack/lib/python3.6/site-packages/sklearn/metrics/cluster/unsupervised.py:342: RuntimeWarning: invalid value encountered in true_divide\n",
      "  score = (intra_dists[:, None] + intra_dists) / centroid_distances\n"
     ]
    },
    {
     "name": "stdout",
     "output_type": "stream",
     "text": [
      ">> Result: 0.23133542864293127\n",
      "Traceback (most recent call last):\n",
      "  File \"<ipython-input-3-0fbae45fdc0c>\", line 6, in evaluateGMM\n",
      "    resultDict, _ = gmm_utils.runGMM(args)\n",
      "  File \"/mnt/reds/projects/single-cell-sota/gmm/gmm_utils.py\", line 158, in runGMM\n",
      "    pc = PCA(n_components=params['pca_comp']).fit_transform(scaledDf)\n",
      "  File \"/opt/anaconda3/envs/astrohack/lib/python3.6/site-packages/sklearn/decomposition/pca.py\", line 359, in fit_transform\n",
      "    U, S, V = self._fit(X)\n",
      "  File \"/opt/anaconda3/envs/astrohack/lib/python3.6/site-packages/sklearn/decomposition/pca.py\", line 406, in _fit\n",
      "    return self._fit_full(X, n_components)\n",
      "  File \"/opt/anaconda3/envs/astrohack/lib/python3.6/site-packages/sklearn/decomposition/pca.py\", line 425, in _fit_full\n",
      "    % (n_components, min(n_samples, n_features)))\n",
      "ValueError: n_components=61 must be between 0 and min(n_samples, n_features)=60 with svd_solver='full'\n"
     ]
    },
    {
     "name": "stderr",
     "output_type": "stream",
     "text": [
      "/opt/anaconda3/envs/astrohack/lib/python3.6/site-packages/sklearn/metrics/cluster/supervised.py:732: FutureWarning: The behavior of AMI will change in version 0.22. To match the behavior of 'v_measure_score', AMI will use average_method='arithmetic' by default.\n",
      "  FutureWarning)\n",
      "/opt/anaconda3/envs/astrohack/lib/python3.6/site-packages/sklearn/metrics/cluster/unsupervised.py:342: RuntimeWarning: divide by zero encountered in true_divide\n",
      "  score = (intra_dists[:, None] + intra_dists) / centroid_distances\n",
      "/opt/anaconda3/envs/astrohack/lib/python3.6/site-packages/sklearn/metrics/cluster/unsupervised.py:342: RuntimeWarning: invalid value encountered in true_divide\n",
      "  score = (intra_dists[:, None] + intra_dists) / centroid_distances\n"
     ]
    },
    {
     "name": "stdout",
     "output_type": "stream",
     "text": [
      ">> Result: 0.6016632851613082\n",
      "Traceback (most recent call last):\n",
      "  File \"<ipython-input-3-0fbae45fdc0c>\", line 6, in evaluateGMM\n",
      "    resultDict, _ = gmm_utils.runGMM(args)\n",
      "  File \"/mnt/reds/projects/single-cell-sota/gmm/gmm_utils.py\", line 158, in runGMM\n",
      "    pc = PCA(n_components=params['pca_comp']).fit_transform(scaledDf)\n",
      "  File \"/opt/anaconda3/envs/astrohack/lib/python3.6/site-packages/sklearn/decomposition/pca.py\", line 359, in fit_transform\n",
      "    U, S, V = self._fit(X)\n",
      "  File \"/opt/anaconda3/envs/astrohack/lib/python3.6/site-packages/sklearn/decomposition/pca.py\", line 406, in _fit\n",
      "    return self._fit_full(X, n_components)\n",
      "  File \"/opt/anaconda3/envs/astrohack/lib/python3.6/site-packages/sklearn/decomposition/pca.py\", line 425, in _fit_full\n",
      "    % (n_components, min(n_samples, n_features)))\n",
      "ValueError: n_components=67 must be between 0 and min(n_samples, n_features)=60 with svd_solver='full'\n"
     ]
    },
    {
     "name": "stderr",
     "output_type": "stream",
     "text": [
      "/opt/anaconda3/envs/astrohack/lib/python3.6/site-packages/sklearn/metrics/cluster/supervised.py:732: FutureWarning: The behavior of AMI will change in version 0.22. To match the behavior of 'v_measure_score', AMI will use average_method='arithmetic' by default.\n",
      "  FutureWarning)\n",
      "/opt/anaconda3/envs/astrohack/lib/python3.6/site-packages/sklearn/metrics/cluster/unsupervised.py:342: RuntimeWarning: divide by zero encountered in true_divide\n",
      "  score = (intra_dists[:, None] + intra_dists) / centroid_distances\n",
      "/opt/anaconda3/envs/astrohack/lib/python3.6/site-packages/sklearn/metrics/cluster/unsupervised.py:342: RuntimeWarning: invalid value encountered in true_divide\n",
      "  score = (intra_dists[:, None] + intra_dists) / centroid_distances\n"
     ]
    },
    {
     "name": "stdout",
     "output_type": "stream",
     "text": [
      ">> Result: 0.3993605652559115\n",
      "Traceback (most recent call last):\n",
      "  File \"<ipython-input-3-0fbae45fdc0c>\", line 6, in evaluateGMM\n",
      "    resultDict, _ = gmm_utils.runGMM(args)\n",
      "  File \"/mnt/reds/projects/single-cell-sota/gmm/gmm_utils.py\", line 158, in runGMM\n",
      "    pc = PCA(n_components=params['pca_comp']).fit_transform(scaledDf)\n",
      "  File \"/opt/anaconda3/envs/astrohack/lib/python3.6/site-packages/sklearn/decomposition/pca.py\", line 359, in fit_transform\n",
      "    U, S, V = self._fit(X)\n",
      "  File \"/opt/anaconda3/envs/astrohack/lib/python3.6/site-packages/sklearn/decomposition/pca.py\", line 406, in _fit\n",
      "    return self._fit_full(X, n_components)\n",
      "  File \"/opt/anaconda3/envs/astrohack/lib/python3.6/site-packages/sklearn/decomposition/pca.py\", line 425, in _fit_full\n",
      "    % (n_components, min(n_samples, n_features)))\n",
      "ValueError: n_components=104 must be between 0 and min(n_samples, n_features)=60 with svd_solver='full'\n"
     ]
    },
    {
     "name": "stderr",
     "output_type": "stream",
     "text": [
      "/opt/anaconda3/envs/astrohack/lib/python3.6/site-packages/sklearn/metrics/cluster/supervised.py:732: FutureWarning: The behavior of AMI will change in version 0.22. To match the behavior of 'v_measure_score', AMI will use average_method='arithmetic' by default.\n",
      "  FutureWarning)\n",
      "/opt/anaconda3/envs/astrohack/lib/python3.6/site-packages/sklearn/metrics/cluster/unsupervised.py:342: RuntimeWarning: divide by zero encountered in true_divide\n",
      "  score = (intra_dists[:, None] + intra_dists) / centroid_distances\n",
      "/opt/anaconda3/envs/astrohack/lib/python3.6/site-packages/sklearn/metrics/cluster/unsupervised.py:342: RuntimeWarning: invalid value encountered in true_divide\n",
      "  score = (intra_dists[:, None] + intra_dists) / centroid_distances\n"
     ]
    },
    {
     "name": "stdout",
     "output_type": "stream",
     "text": [
      ">> Result: 0.4610893948247789\n"
     ]
    },
    {
     "name": "stderr",
     "output_type": "stream",
     "text": [
      "/opt/anaconda3/envs/astrohack/lib/python3.6/site-packages/sklearn/metrics/cluster/supervised.py:732: FutureWarning: The behavior of AMI will change in version 0.22. To match the behavior of 'v_measure_score', AMI will use average_method='arithmetic' by default.\n",
      "  FutureWarning)\n",
      "/opt/anaconda3/envs/astrohack/lib/python3.6/site-packages/sklearn/metrics/cluster/unsupervised.py:342: RuntimeWarning: divide by zero encountered in true_divide\n",
      "  score = (intra_dists[:, None] + intra_dists) / centroid_distances\n",
      "/opt/anaconda3/envs/astrohack/lib/python3.6/site-packages/sklearn/metrics/cluster/unsupervised.py:342: RuntimeWarning: invalid value encountered in true_divide\n",
      "  score = (intra_dists[:, None] + intra_dists) / centroid_distances\n"
     ]
    },
    {
     "name": "stdout",
     "output_type": "stream",
     "text": [
      ">> Result: 0.25311386390632956\n",
      "Traceback (most recent call last):\n",
      "  File \"<ipython-input-3-0fbae45fdc0c>\", line 6, in evaluateGMM\n",
      "    resultDict, _ = gmm_utils.runGMM(args)\n",
      "  File \"/mnt/reds/projects/single-cell-sota/gmm/gmm_utils.py\", line 158, in runGMM\n",
      "    pc = PCA(n_components=params['pca_comp']).fit_transform(scaledDf)\n",
      "  File \"/opt/anaconda3/envs/astrohack/lib/python3.6/site-packages/sklearn/decomposition/pca.py\", line 359, in fit_transform\n",
      "    U, S, V = self._fit(X)\n",
      "  File \"/opt/anaconda3/envs/astrohack/lib/python3.6/site-packages/sklearn/decomposition/pca.py\", line 406, in _fit\n",
      "    return self._fit_full(X, n_components)\n",
      "  File \"/opt/anaconda3/envs/astrohack/lib/python3.6/site-packages/sklearn/decomposition/pca.py\", line 425, in _fit_full\n",
      "    % (n_components, min(n_samples, n_features)))\n",
      "ValueError: n_components=71 must be between 0 and min(n_samples, n_features)=60 with svd_solver='full'\n",
      "Index  20\n",
      "Traceback (most recent call last):\n",
      "  File \"<ipython-input-3-0fbae45fdc0c>\", line 6, in evaluateGMM\n",
      "    resultDict, _ = gmm_utils.runGMM(args)\n",
      "  File \"/mnt/reds/projects/single-cell-sota/gmm/gmm_utils.py\", line 158, in runGMM\n",
      "    pc = PCA(n_components=params['pca_comp']).fit_transform(scaledDf)\n",
      "  File \"/opt/anaconda3/envs/astrohack/lib/python3.6/site-packages/sklearn/decomposition/pca.py\", line 359, in fit_transform\n",
      "    U, S, V = self._fit(X)\n",
      "  File \"/opt/anaconda3/envs/astrohack/lib/python3.6/site-packages/sklearn/decomposition/pca.py\", line 406, in _fit\n",
      "    return self._fit_full(X, n_components)\n",
      "  File \"/opt/anaconda3/envs/astrohack/lib/python3.6/site-packages/sklearn/decomposition/pca.py\", line 425, in _fit_full\n",
      "    % (n_components, min(n_samples, n_features)))\n",
      "ValueError: n_components=119 must be between 0 and min(n_samples, n_features)=60 with svd_solver='full'\n"
     ]
    },
    {
     "name": "stderr",
     "output_type": "stream",
     "text": [
      "/opt/anaconda3/envs/astrohack/lib/python3.6/site-packages/sklearn/metrics/cluster/supervised.py:732: FutureWarning: The behavior of AMI will change in version 0.22. To match the behavior of 'v_measure_score', AMI will use average_method='arithmetic' by default.\n",
      "  FutureWarning)\n",
      "/opt/anaconda3/envs/astrohack/lib/python3.6/site-packages/sklearn/metrics/cluster/unsupervised.py:342: RuntimeWarning: divide by zero encountered in true_divide\n",
      "  score = (intra_dists[:, None] + intra_dists) / centroid_distances\n",
      "/opt/anaconda3/envs/astrohack/lib/python3.6/site-packages/sklearn/metrics/cluster/unsupervised.py:342: RuntimeWarning: invalid value encountered in true_divide\n",
      "  score = (intra_dists[:, None] + intra_dists) / centroid_distances\n"
     ]
    },
    {
     "name": "stdout",
     "output_type": "stream",
     "text": [
      ">> Result: 0.009968787341566403\n"
     ]
    },
    {
     "name": "stderr",
     "output_type": "stream",
     "text": [
      "/opt/anaconda3/envs/astrohack/lib/python3.6/site-packages/sklearn/metrics/cluster/supervised.py:732: FutureWarning: The behavior of AMI will change in version 0.22. To match the behavior of 'v_measure_score', AMI will use average_method='arithmetic' by default.\n",
      "  FutureWarning)\n",
      "/opt/anaconda3/envs/astrohack/lib/python3.6/site-packages/sklearn/metrics/cluster/unsupervised.py:342: RuntimeWarning: divide by zero encountered in true_divide\n",
      "  score = (intra_dists[:, None] + intra_dists) / centroid_distances\n",
      "/opt/anaconda3/envs/astrohack/lib/python3.6/site-packages/sklearn/metrics/cluster/unsupervised.py:342: RuntimeWarning: invalid value encountered in true_divide\n",
      "  score = (intra_dists[:, None] + intra_dists) / centroid_distances\n"
     ]
    },
    {
     "name": "stdout",
     "output_type": "stream",
     "text": [
      ">> Result: 0.7418499800252379\n"
     ]
    },
    {
     "name": "stderr",
     "output_type": "stream",
     "text": [
      "/opt/anaconda3/envs/astrohack/lib/python3.6/site-packages/sklearn/metrics/cluster/supervised.py:732: FutureWarning: The behavior of AMI will change in version 0.22. To match the behavior of 'v_measure_score', AMI will use average_method='arithmetic' by default.\n",
      "  FutureWarning)\n",
      "/opt/anaconda3/envs/astrohack/lib/python3.6/site-packages/sklearn/metrics/cluster/unsupervised.py:342: RuntimeWarning: divide by zero encountered in true_divide\n",
      "  score = (intra_dists[:, None] + intra_dists) / centroid_distances\n",
      "/opt/anaconda3/envs/astrohack/lib/python3.6/site-packages/sklearn/metrics/cluster/unsupervised.py:342: RuntimeWarning: invalid value encountered in true_divide\n",
      "  score = (intra_dists[:, None] + intra_dists) / centroid_distances\n"
     ]
    },
    {
     "name": "stdout",
     "output_type": "stream",
     "text": [
      ">> Result: 0.33935816637737976\n",
      "Traceback (most recent call last):\n",
      "  File \"<ipython-input-3-0fbae45fdc0c>\", line 6, in evaluateGMM\n",
      "    resultDict, _ = gmm_utils.runGMM(args)\n",
      "  File \"/mnt/reds/projects/single-cell-sota/gmm/gmm_utils.py\", line 158, in runGMM\n",
      "    pc = PCA(n_components=params['pca_comp']).fit_transform(scaledDf)\n",
      "  File \"/opt/anaconda3/envs/astrohack/lib/python3.6/site-packages/sklearn/decomposition/pca.py\", line 359, in fit_transform\n",
      "    U, S, V = self._fit(X)\n",
      "  File \"/opt/anaconda3/envs/astrohack/lib/python3.6/site-packages/sklearn/decomposition/pca.py\", line 406, in _fit\n",
      "    return self._fit_full(X, n_components)\n",
      "  File \"/opt/anaconda3/envs/astrohack/lib/python3.6/site-packages/sklearn/decomposition/pca.py\", line 425, in _fit_full\n",
      "    % (n_components, min(n_samples, n_features)))\n",
      "ValueError: n_components=162 must be between 0 and min(n_samples, n_features)=60 with svd_solver='full'\n",
      "Traceback (most recent call last):\n",
      "  File \"<ipython-input-3-0fbae45fdc0c>\", line 6, in evaluateGMM\n",
      "    resultDict, _ = gmm_utils.runGMM(args)\n",
      "  File \"/mnt/reds/projects/single-cell-sota/gmm/gmm_utils.py\", line 158, in runGMM\n",
      "    pc = PCA(n_components=params['pca_comp']).fit_transform(scaledDf)\n",
      "  File \"/opt/anaconda3/envs/astrohack/lib/python3.6/site-packages/sklearn/decomposition/pca.py\", line 359, in fit_transform\n",
      "    U, S, V = self._fit(X)\n",
      "  File \"/opt/anaconda3/envs/astrohack/lib/python3.6/site-packages/sklearn/decomposition/pca.py\", line 406, in _fit\n",
      "    return self._fit_full(X, n_components)\n",
      "  File \"/opt/anaconda3/envs/astrohack/lib/python3.6/site-packages/sklearn/decomposition/pca.py\", line 425, in _fit_full\n",
      "    % (n_components, min(n_samples, n_features)))\n",
      "ValueError: n_components=140 must be between 0 and min(n_samples, n_features)=60 with svd_solver='full'\n",
      "Traceback (most recent call last):\n",
      "  File \"<ipython-input-3-0fbae45fdc0c>\", line 6, in evaluateGMM\n",
      "    resultDict, _ = gmm_utils.runGMM(args)\n",
      "  File \"/mnt/reds/projects/single-cell-sota/gmm/gmm_utils.py\", line 158, in runGMM\n",
      "    pc = PCA(n_components=params['pca_comp']).fit_transform(scaledDf)\n",
      "  File \"/opt/anaconda3/envs/astrohack/lib/python3.6/site-packages/sklearn/decomposition/pca.py\", line 359, in fit_transform\n",
      "    U, S, V = self._fit(X)\n",
      "  File \"/opt/anaconda3/envs/astrohack/lib/python3.6/site-packages/sklearn/decomposition/pca.py\", line 406, in _fit\n",
      "    return self._fit_full(X, n_components)\n",
      "  File \"/opt/anaconda3/envs/astrohack/lib/python3.6/site-packages/sklearn/decomposition/pca.py\", line 425, in _fit_full\n",
      "    % (n_components, min(n_samples, n_features)))\n",
      "ValueError: n_components=86 must be between 0 and min(n_samples, n_features)=60 with svd_solver='full'\n",
      "Traceback (most recent call last):\n",
      "  File \"<ipython-input-3-0fbae45fdc0c>\", line 6, in evaluateGMM\n",
      "    resultDict, _ = gmm_utils.runGMM(args)\n",
      "  File \"/mnt/reds/projects/single-cell-sota/gmm/gmm_utils.py\", line 158, in runGMM\n",
      "    pc = PCA(n_components=params['pca_comp']).fit_transform(scaledDf)\n",
      "  File \"/opt/anaconda3/envs/astrohack/lib/python3.6/site-packages/sklearn/decomposition/pca.py\", line 359, in fit_transform\n",
      "    U, S, V = self._fit(X)\n",
      "  File \"/opt/anaconda3/envs/astrohack/lib/python3.6/site-packages/sklearn/decomposition/pca.py\", line 406, in _fit\n",
      "    return self._fit_full(X, n_components)\n",
      "  File \"/opt/anaconda3/envs/astrohack/lib/python3.6/site-packages/sklearn/decomposition/pca.py\", line 425, in _fit_full\n",
      "    % (n_components, min(n_samples, n_features)))\n",
      "ValueError: n_components=119 must be between 0 and min(n_samples, n_features)=60 with svd_solver='full'\n"
     ]
    },
    {
     "name": "stderr",
     "output_type": "stream",
     "text": [
      "/opt/anaconda3/envs/astrohack/lib/python3.6/site-packages/sklearn/metrics/cluster/supervised.py:732: FutureWarning: The behavior of AMI will change in version 0.22. To match the behavior of 'v_measure_score', AMI will use average_method='arithmetic' by default.\n",
      "  FutureWarning)\n",
      "/opt/anaconda3/envs/astrohack/lib/python3.6/site-packages/sklearn/metrics/cluster/unsupervised.py:342: RuntimeWarning: divide by zero encountered in true_divide\n",
      "  score = (intra_dists[:, None] + intra_dists) / centroid_distances\n",
      "/opt/anaconda3/envs/astrohack/lib/python3.6/site-packages/sklearn/metrics/cluster/unsupervised.py:342: RuntimeWarning: invalid value encountered in true_divide\n",
      "  score = (intra_dists[:, None] + intra_dists) / centroid_distances\n"
     ]
    },
    {
     "name": "stdout",
     "output_type": "stream",
     "text": [
      ">> Result: 0.18636220918420743\n"
     ]
    },
    {
     "name": "stderr",
     "output_type": "stream",
     "text": [
      "/opt/anaconda3/envs/astrohack/lib/python3.6/site-packages/sklearn/preprocessing/data.py:625: DataConversionWarning: Data with input dtype int64 were all converted to float64 by StandardScaler.\n",
      "  return self.partial_fit(X, y)\n",
      "/opt/anaconda3/envs/astrohack/lib/python3.6/site-packages/sklearn/base.py:462: DataConversionWarning: Data with input dtype int64 were all converted to float64 by StandardScaler.\n",
      "  return self.fit(X, **fit_params).transform(X)\n"
     ]
    },
    {
     "name": "stdout",
     "output_type": "stream",
     "text": [
      "Traceback (most recent call last):\n",
      "  File \"<ipython-input-3-0fbae45fdc0c>\", line 6, in evaluateGMM\n",
      "    resultDict, _ = gmm_utils.runGMM(args)\n",
      "  File \"/mnt/reds/projects/single-cell-sota/gmm/gmm_utils.py\", line 158, in runGMM\n",
      "    pc = PCA(n_components=params['pca_comp']).fit_transform(scaledDf)\n",
      "  File \"/opt/anaconda3/envs/astrohack/lib/python3.6/site-packages/sklearn/decomposition/pca.py\", line 359, in fit_transform\n",
      "    U, S, V = self._fit(X)\n",
      "  File \"/opt/anaconda3/envs/astrohack/lib/python3.6/site-packages/sklearn/decomposition/pca.py\", line 406, in _fit\n",
      "    return self._fit_full(X, n_components)\n",
      "  File \"/opt/anaconda3/envs/astrohack/lib/python3.6/site-packages/sklearn/decomposition/pca.py\", line 425, in _fit_full\n",
      "    % (n_components, min(n_samples, n_features)))\n",
      "ValueError: n_components=216 must be between 0 and min(n_samples, n_features)=60 with svd_solver='full'\n",
      "Index  30\n"
     ]
    },
    {
     "name": "stderr",
     "output_type": "stream",
     "text": [
      "/opt/anaconda3/envs/astrohack/lib/python3.6/site-packages/sklearn/metrics/cluster/supervised.py:732: FutureWarning: The behavior of AMI will change in version 0.22. To match the behavior of 'v_measure_score', AMI will use average_method='arithmetic' by default.\n",
      "  FutureWarning)\n",
      "/opt/anaconda3/envs/astrohack/lib/python3.6/site-packages/sklearn/metrics/cluster/unsupervised.py:342: RuntimeWarning: divide by zero encountered in true_divide\n",
      "  score = (intra_dists[:, None] + intra_dists) / centroid_distances\n",
      "/opt/anaconda3/envs/astrohack/lib/python3.6/site-packages/sklearn/metrics/cluster/unsupervised.py:342: RuntimeWarning: invalid value encountered in true_divide\n",
      "  score = (intra_dists[:, None] + intra_dists) / centroid_distances\n"
     ]
    },
    {
     "name": "stdout",
     "output_type": "stream",
     "text": [
      ">> Result: 0.5514435613081587\n",
      "Traceback (most recent call last):\n",
      "  File \"<ipython-input-3-0fbae45fdc0c>\", line 6, in evaluateGMM\n",
      "    resultDict, _ = gmm_utils.runGMM(args)\n",
      "  File \"/mnt/reds/projects/single-cell-sota/gmm/gmm_utils.py\", line 158, in runGMM\n",
      "    pc = PCA(n_components=params['pca_comp']).fit_transform(scaledDf)\n",
      "  File \"/opt/anaconda3/envs/astrohack/lib/python3.6/site-packages/sklearn/decomposition/pca.py\", line 359, in fit_transform\n",
      "    U, S, V = self._fit(X)\n",
      "  File \"/opt/anaconda3/envs/astrohack/lib/python3.6/site-packages/sklearn/decomposition/pca.py\", line 406, in _fit\n",
      "    return self._fit_full(X, n_components)\n",
      "  File \"/opt/anaconda3/envs/astrohack/lib/python3.6/site-packages/sklearn/decomposition/pca.py\", line 425, in _fit_full\n",
      "    % (n_components, min(n_samples, n_features)))\n",
      "ValueError: n_components=78 must be between 0 and min(n_samples, n_features)=60 with svd_solver='full'\n",
      "Traceback (most recent call last):\n",
      "  File \"<ipython-input-3-0fbae45fdc0c>\", line 6, in evaluateGMM\n",
      "    resultDict, _ = gmm_utils.runGMM(args)\n",
      "  File \"/mnt/reds/projects/single-cell-sota/gmm/gmm_utils.py\", line 158, in runGMM\n",
      "    pc = PCA(n_components=params['pca_comp']).fit_transform(scaledDf)\n",
      "  File \"/opt/anaconda3/envs/astrohack/lib/python3.6/site-packages/sklearn/decomposition/pca.py\", line 359, in fit_transform\n",
      "    U, S, V = self._fit(X)\n",
      "  File \"/opt/anaconda3/envs/astrohack/lib/python3.6/site-packages/sklearn/decomposition/pca.py\", line 406, in _fit\n",
      "    return self._fit_full(X, n_components)\n",
      "  File \"/opt/anaconda3/envs/astrohack/lib/python3.6/site-packages/sklearn/decomposition/pca.py\", line 425, in _fit_full\n",
      "    % (n_components, min(n_samples, n_features)))\n",
      "ValueError: n_components=104 must be between 0 and min(n_samples, n_features)=60 with svd_solver='full'\n",
      "Traceback (most recent call last):\n",
      "  File \"<ipython-input-3-0fbae45fdc0c>\", line 6, in evaluateGMM\n",
      "    resultDict, _ = gmm_utils.runGMM(args)\n",
      "  File \"/mnt/reds/projects/single-cell-sota/gmm/gmm_utils.py\", line 158, in runGMM\n",
      "    pc = PCA(n_components=params['pca_comp']).fit_transform(scaledDf)\n",
      "  File \"/opt/anaconda3/envs/astrohack/lib/python3.6/site-packages/sklearn/decomposition/pca.py\", line 359, in fit_transform\n",
      "    U, S, V = self._fit(X)\n",
      "  File \"/opt/anaconda3/envs/astrohack/lib/python3.6/site-packages/sklearn/decomposition/pca.py\", line 406, in _fit\n",
      "    return self._fit_full(X, n_components)\n",
      "  File \"/opt/anaconda3/envs/astrohack/lib/python3.6/site-packages/sklearn/decomposition/pca.py\", line 425, in _fit_full\n",
      "    % (n_components, min(n_samples, n_features)))\n",
      "ValueError: n_components=139 must be between 0 and min(n_samples, n_features)=60 with svd_solver='full'\n"
     ]
    },
    {
     "name": "stderr",
     "output_type": "stream",
     "text": [
      "/opt/anaconda3/envs/astrohack/lib/python3.6/site-packages/sklearn/metrics/cluster/supervised.py:732: FutureWarning: The behavior of AMI will change in version 0.22. To match the behavior of 'v_measure_score', AMI will use average_method='arithmetic' by default.\n",
      "  FutureWarning)\n",
      "/opt/anaconda3/envs/astrohack/lib/python3.6/site-packages/sklearn/metrics/cluster/unsupervised.py:342: RuntimeWarning: divide by zero encountered in true_divide\n",
      "  score = (intra_dists[:, None] + intra_dists) / centroid_distances\n",
      "/opt/anaconda3/envs/astrohack/lib/python3.6/site-packages/sklearn/metrics/cluster/unsupervised.py:342: RuntimeWarning: invalid value encountered in true_divide\n",
      "  score = (intra_dists[:, None] + intra_dists) / centroid_distances\n"
     ]
    },
    {
     "name": "stdout",
     "output_type": "stream",
     "text": [
      ">> Result: 0.18639656612348748\n"
     ]
    },
    {
     "name": "stderr",
     "output_type": "stream",
     "text": [
      "/opt/anaconda3/envs/astrohack/lib/python3.6/site-packages/sklearn/preprocessing/data.py:625: DataConversionWarning: Data with input dtype int64 were all converted to float64 by StandardScaler.\n",
      "  return self.partial_fit(X, y)\n",
      "/opt/anaconda3/envs/astrohack/lib/python3.6/site-packages/sklearn/base.py:462: DataConversionWarning: Data with input dtype int64 were all converted to float64 by StandardScaler.\n",
      "  return self.fit(X, **fit_params).transform(X)\n",
      "/opt/anaconda3/envs/astrohack/lib/python3.6/site-packages/sklearn/metrics/cluster/supervised.py:732: FutureWarning: The behavior of AMI will change in version 0.22. To match the behavior of 'v_measure_score', AMI will use average_method='arithmetic' by default.\n",
      "  FutureWarning)\n",
      "/opt/anaconda3/envs/astrohack/lib/python3.6/site-packages/sklearn/metrics/cluster/unsupervised.py:342: RuntimeWarning: divide by zero encountered in true_divide\n",
      "  score = (intra_dists[:, None] + intra_dists) / centroid_distances\n",
      "/opt/anaconda3/envs/astrohack/lib/python3.6/site-packages/sklearn/metrics/cluster/unsupervised.py:342: RuntimeWarning: invalid value encountered in true_divide\n",
      "  score = (intra_dists[:, None] + intra_dists) / centroid_distances\n"
     ]
    },
    {
     "name": "stdout",
     "output_type": "stream",
     "text": [
      ">> Result: 0.7827733479203046\n",
      "Traceback (most recent call last):\n",
      "  File \"<ipython-input-3-0fbae45fdc0c>\", line 6, in evaluateGMM\n",
      "    resultDict, _ = gmm_utils.runGMM(args)\n",
      "  File \"/mnt/reds/projects/single-cell-sota/gmm/gmm_utils.py\", line 158, in runGMM\n",
      "    pc = PCA(n_components=params['pca_comp']).fit_transform(scaledDf)\n",
      "  File \"/opt/anaconda3/envs/astrohack/lib/python3.6/site-packages/sklearn/decomposition/pca.py\", line 359, in fit_transform\n",
      "    U, S, V = self._fit(X)\n",
      "  File \"/opt/anaconda3/envs/astrohack/lib/python3.6/site-packages/sklearn/decomposition/pca.py\", line 406, in _fit\n",
      "    return self._fit_full(X, n_components)\n",
      "  File \"/opt/anaconda3/envs/astrohack/lib/python3.6/site-packages/sklearn/decomposition/pca.py\", line 425, in _fit_full\n",
      "    % (n_components, min(n_samples, n_features)))\n",
      "ValueError: n_components=300 must be between 0 and min(n_samples, n_features)=60 with svd_solver='full'\n"
     ]
    },
    {
     "name": "stderr",
     "output_type": "stream",
     "text": [
      "/opt/anaconda3/envs/astrohack/lib/python3.6/site-packages/sklearn/preprocessing/data.py:625: DataConversionWarning: Data with input dtype int64 were all converted to float64 by StandardScaler.\n",
      "  return self.partial_fit(X, y)\n",
      "/opt/anaconda3/envs/astrohack/lib/python3.6/site-packages/sklearn/base.py:462: DataConversionWarning: Data with input dtype int64 were all converted to float64 by StandardScaler.\n",
      "  return self.fit(X, **fit_params).transform(X)\n",
      "/opt/anaconda3/envs/astrohack/lib/python3.6/site-packages/sklearn/metrics/cluster/supervised.py:732: FutureWarning: The behavior of AMI will change in version 0.22. To match the behavior of 'v_measure_score', AMI will use average_method='arithmetic' by default.\n",
      "  FutureWarning)\n",
      "/opt/anaconda3/envs/astrohack/lib/python3.6/site-packages/sklearn/metrics/cluster/unsupervised.py:342: RuntimeWarning: divide by zero encountered in true_divide\n",
      "  score = (intra_dists[:, None] + intra_dists) / centroid_distances\n",
      "/opt/anaconda3/envs/astrohack/lib/python3.6/site-packages/sklearn/metrics/cluster/unsupervised.py:342: RuntimeWarning: invalid value encountered in true_divide\n",
      "  score = (intra_dists[:, None] + intra_dists) / centroid_distances\n"
     ]
    },
    {
     "name": "stdout",
     "output_type": "stream",
     "text": [
      ">> Result: 0.008046568683942996\n",
      "Traceback (most recent call last):\n",
      "  File \"<ipython-input-3-0fbae45fdc0c>\", line 6, in evaluateGMM\n",
      "    resultDict, _ = gmm_utils.runGMM(args)\n",
      "  File \"/mnt/reds/projects/single-cell-sota/gmm/gmm_utils.py\", line 158, in runGMM\n",
      "    pc = PCA(n_components=params['pca_comp']).fit_transform(scaledDf)\n",
      "  File \"/opt/anaconda3/envs/astrohack/lib/python3.6/site-packages/sklearn/decomposition/pca.py\", line 359, in fit_transform\n",
      "    U, S, V = self._fit(X)\n",
      "  File \"/opt/anaconda3/envs/astrohack/lib/python3.6/site-packages/sklearn/decomposition/pca.py\", line 406, in _fit\n",
      "    return self._fit_full(X, n_components)\n",
      "  File \"/opt/anaconda3/envs/astrohack/lib/python3.6/site-packages/sklearn/decomposition/pca.py\", line 425, in _fit_full\n",
      "    % (n_components, min(n_samples, n_features)))\n",
      "ValueError: n_components=153 must be between 0 and min(n_samples, n_features)=60 with svd_solver='full'\n"
     ]
    },
    {
     "name": "stderr",
     "output_type": "stream",
     "text": [
      "/opt/anaconda3/envs/astrohack/lib/python3.6/site-packages/sklearn/preprocessing/data.py:625: DataConversionWarning: Data with input dtype int64 were all converted to float64 by StandardScaler.\n",
      "  return self.partial_fit(X, y)\n",
      "/opt/anaconda3/envs/astrohack/lib/python3.6/site-packages/sklearn/base.py:462: DataConversionWarning: Data with input dtype int64 were all converted to float64 by StandardScaler.\n",
      "  return self.fit(X, **fit_params).transform(X)\n"
     ]
    },
    {
     "name": "stdout",
     "output_type": "stream",
     "text": [
      "Traceback (most recent call last):\n",
      "  File \"<ipython-input-3-0fbae45fdc0c>\", line 6, in evaluateGMM\n",
      "    resultDict, _ = gmm_utils.runGMM(args)\n",
      "  File \"/mnt/reds/projects/single-cell-sota/gmm/gmm_utils.py\", line 158, in runGMM\n",
      "    pc = PCA(n_components=params['pca_comp']).fit_transform(scaledDf)\n",
      "  File \"/opt/anaconda3/envs/astrohack/lib/python3.6/site-packages/sklearn/decomposition/pca.py\", line 359, in fit_transform\n",
      "    U, S, V = self._fit(X)\n",
      "  File \"/opt/anaconda3/envs/astrohack/lib/python3.6/site-packages/sklearn/decomposition/pca.py\", line 406, in _fit\n",
      "    return self._fit_full(X, n_components)\n",
      "  File \"/opt/anaconda3/envs/astrohack/lib/python3.6/site-packages/sklearn/decomposition/pca.py\", line 425, in _fit_full\n",
      "    % (n_components, min(n_samples, n_features)))\n",
      "ValueError: n_components=96 must be between 0 and min(n_samples, n_features)=60 with svd_solver='full'\n",
      "Index  40\n",
      "Traceback (most recent call last):\n",
      "  File \"/opt/anaconda3/envs/astrohack/lib/python3.6/site-packages/sklearn/mixture/gaussian_mixture.py\", line 318, in _compute_precision_cholesky\n",
      "    cov_chol = linalg.cholesky(covariance, lower=True)\n",
      "  File \"/opt/anaconda3/envs/astrohack/lib/python3.6/site-packages/scipy/linalg/decomp_cholesky.py\", line 91, in cholesky\n",
      "    check_finite=check_finite)\n",
      "  File \"/opt/anaconda3/envs/astrohack/lib/python3.6/site-packages/scipy/linalg/decomp_cholesky.py\", line 40, in _cholesky\n",
      "    \"definite\" % info)\n",
      "numpy.linalg.linalg.LinAlgError: 13-th leading minor of the array is not positive definite\n",
      "\n",
      "During handling of the above exception, another exception occurred:\n",
      "\n",
      "Traceback (most recent call last):\n",
      "  File \"<ipython-input-3-0fbae45fdc0c>\", line 6, in evaluateGMM\n",
      "    resultDict, _ = gmm_utils.runGMM(args)\n",
      "  File \"/mnt/reds/projects/single-cell-sota/gmm/gmm_utils.py\", line 160, in runGMM\n",
      "    model = GaussianMixture(params['nb_clusters'] , covariance_type ='full', random_state = 0).fit(pc)\n",
      "  File \"/opt/anaconda3/envs/astrohack/lib/python3.6/site-packages/sklearn/mixture/base.py\", line 194, in fit\n",
      "    self.fit_predict(X, y)\n",
      "  File \"/opt/anaconda3/envs/astrohack/lib/python3.6/site-packages/sklearn/mixture/base.py\", line 237, in fit_predict\n",
      "    self._initialize_parameters(X, random_state)\n",
      "  File \"/opt/anaconda3/envs/astrohack/lib/python3.6/site-packages/sklearn/mixture/base.py\", line 158, in _initialize_parameters\n",
      "    self._initialize(X, resp)\n",
      "  File \"/opt/anaconda3/envs/astrohack/lib/python3.6/site-packages/sklearn/mixture/gaussian_mixture.py\", line 650, in _initialize\n",
      "    covariances, self.covariance_type)\n",
      "  File \"/opt/anaconda3/envs/astrohack/lib/python3.6/site-packages/sklearn/mixture/gaussian_mixture.py\", line 320, in _compute_precision_cholesky\n",
      "    raise ValueError(estimate_precision_error_message)\n",
      "ValueError: Fitting the mixture model failed because some components have ill-defined empirical covariance (for instance caused by singleton or collapsed samples). Try to decrease the number of components, or increase reg_covar.\n",
      "Traceback (most recent call last):\n",
      "  File \"<ipython-input-3-0fbae45fdc0c>\", line 6, in evaluateGMM\n",
      "    resultDict, _ = gmm_utils.runGMM(args)\n",
      "  File \"/mnt/reds/projects/single-cell-sota/gmm/gmm_utils.py\", line 158, in runGMM\n",
      "    pc = PCA(n_components=params['pca_comp']).fit_transform(scaledDf)\n",
      "  File \"/opt/anaconda3/envs/astrohack/lib/python3.6/site-packages/sklearn/decomposition/pca.py\", line 359, in fit_transform\n",
      "    U, S, V = self._fit(X)\n",
      "  File \"/opt/anaconda3/envs/astrohack/lib/python3.6/site-packages/sklearn/decomposition/pca.py\", line 406, in _fit\n",
      "    return self._fit_full(X, n_components)\n",
      "  File \"/opt/anaconda3/envs/astrohack/lib/python3.6/site-packages/sklearn/decomposition/pca.py\", line 425, in _fit_full\n",
      "    % (n_components, min(n_samples, n_features)))\n",
      "ValueError: n_components=175 must be between 0 and min(n_samples, n_features)=60 with svd_solver='full'\n"
     ]
    },
    {
     "name": "stderr",
     "output_type": "stream",
     "text": [
      "/opt/anaconda3/envs/astrohack/lib/python3.6/site-packages/sklearn/preprocessing/data.py:625: DataConversionWarning: Data with input dtype int64 were all converted to float64 by StandardScaler.\n",
      "  return self.partial_fit(X, y)\n",
      "/opt/anaconda3/envs/astrohack/lib/python3.6/site-packages/sklearn/base.py:462: DataConversionWarning: Data with input dtype int64 were all converted to float64 by StandardScaler.\n",
      "  return self.fit(X, **fit_params).transform(X)\n"
     ]
    },
    {
     "name": "stdout",
     "output_type": "stream",
     "text": [
      "Traceback (most recent call last):\n",
      "  File \"<ipython-input-3-0fbae45fdc0c>\", line 6, in evaluateGMM\n",
      "    resultDict, _ = gmm_utils.runGMM(args)\n",
      "  File \"/mnt/reds/projects/single-cell-sota/gmm/gmm_utils.py\", line 158, in runGMM\n",
      "    pc = PCA(n_components=params['pca_comp']).fit_transform(scaledDf)\n",
      "  File \"/opt/anaconda3/envs/astrohack/lib/python3.6/site-packages/sklearn/decomposition/pca.py\", line 359, in fit_transform\n",
      "    U, S, V = self._fit(X)\n",
      "  File \"/opt/anaconda3/envs/astrohack/lib/python3.6/site-packages/sklearn/decomposition/pca.py\", line 406, in _fit\n",
      "    return self._fit_full(X, n_components)\n",
      "  File \"/opt/anaconda3/envs/astrohack/lib/python3.6/site-packages/sklearn/decomposition/pca.py\", line 425, in _fit_full\n",
      "    % (n_components, min(n_samples, n_features)))\n",
      "ValueError: n_components=217 must be between 0 and min(n_samples, n_features)=60 with svd_solver='full'\n"
     ]
    },
    {
     "name": "stderr",
     "output_type": "stream",
     "text": [
      "/opt/anaconda3/envs/astrohack/lib/python3.6/site-packages/sklearn/preprocessing/data.py:625: DataConversionWarning: Data with input dtype int64 were all converted to float64 by StandardScaler.\n",
      "  return self.partial_fit(X, y)\n",
      "/opt/anaconda3/envs/astrohack/lib/python3.6/site-packages/sklearn/base.py:462: DataConversionWarning: Data with input dtype int64 were all converted to float64 by StandardScaler.\n",
      "  return self.fit(X, **fit_params).transform(X)\n",
      "/opt/anaconda3/envs/astrohack/lib/python3.6/site-packages/sklearn/metrics/cluster/supervised.py:732: FutureWarning: The behavior of AMI will change in version 0.22. To match the behavior of 'v_measure_score', AMI will use average_method='arithmetic' by default.\n",
      "  FutureWarning)\n",
      "/opt/anaconda3/envs/astrohack/lib/python3.6/site-packages/sklearn/metrics/cluster/unsupervised.py:342: RuntimeWarning: divide by zero encountered in true_divide\n",
      "  score = (intra_dists[:, None] + intra_dists) / centroid_distances\n",
      "/opt/anaconda3/envs/astrohack/lib/python3.6/site-packages/sklearn/metrics/cluster/unsupervised.py:342: RuntimeWarning: invalid value encountered in true_divide\n",
      "  score = (intra_dists[:, None] + intra_dists) / centroid_distances\n"
     ]
    },
    {
     "name": "stdout",
     "output_type": "stream",
     "text": [
      ">> Result: 0.04874909786438278\n",
      "Traceback (most recent call last):\n",
      "  File \"<ipython-input-3-0fbae45fdc0c>\", line 6, in evaluateGMM\n",
      "    resultDict, _ = gmm_utils.runGMM(args)\n",
      "  File \"/mnt/reds/projects/single-cell-sota/gmm/gmm_utils.py\", line 158, in runGMM\n",
      "    pc = PCA(n_components=params['pca_comp']).fit_transform(scaledDf)\n",
      "  File \"/opt/anaconda3/envs/astrohack/lib/python3.6/site-packages/sklearn/decomposition/pca.py\", line 359, in fit_transform\n",
      "    U, S, V = self._fit(X)\n",
      "  File \"/opt/anaconda3/envs/astrohack/lib/python3.6/site-packages/sklearn/decomposition/pca.py\", line 406, in _fit\n",
      "    return self._fit_full(X, n_components)\n",
      "  File \"/opt/anaconda3/envs/astrohack/lib/python3.6/site-packages/sklearn/decomposition/pca.py\", line 425, in _fit_full\n",
      "    % (n_components, min(n_samples, n_features)))\n",
      "ValueError: n_components=78 must be between 0 and min(n_samples, n_features)=60 with svd_solver='full'\n",
      "Traceback (most recent call last):\n",
      "  File \"<ipython-input-3-0fbae45fdc0c>\", line 6, in evaluateGMM\n",
      "    resultDict, _ = gmm_utils.runGMM(args)\n",
      "  File \"/mnt/reds/projects/single-cell-sota/gmm/gmm_utils.py\", line 158, in runGMM\n",
      "    pc = PCA(n_components=params['pca_comp']).fit_transform(scaledDf)\n",
      "  File \"/opt/anaconda3/envs/astrohack/lib/python3.6/site-packages/sklearn/decomposition/pca.py\", line 359, in fit_transform\n",
      "    U, S, V = self._fit(X)\n",
      "  File \"/opt/anaconda3/envs/astrohack/lib/python3.6/site-packages/sklearn/decomposition/pca.py\", line 406, in _fit\n",
      "    return self._fit_full(X, n_components)\n",
      "  File \"/opt/anaconda3/envs/astrohack/lib/python3.6/site-packages/sklearn/decomposition/pca.py\", line 425, in _fit_full\n",
      "    % (n_components, min(n_samples, n_features)))\n",
      "ValueError: n_components=131 must be between 0 and min(n_samples, n_features)=60 with svd_solver='full'\n"
     ]
    },
    {
     "name": "stderr",
     "output_type": "stream",
     "text": [
      "/opt/anaconda3/envs/astrohack/lib/python3.6/site-packages/sklearn/preprocessing/data.py:625: DataConversionWarning: Data with input dtype int64 were all converted to float64 by StandardScaler.\n",
      "  return self.partial_fit(X, y)\n",
      "/opt/anaconda3/envs/astrohack/lib/python3.6/site-packages/sklearn/base.py:462: DataConversionWarning: Data with input dtype int64 were all converted to float64 by StandardScaler.\n",
      "  return self.fit(X, **fit_params).transform(X)\n"
     ]
    },
    {
     "name": "stdout",
     "output_type": "stream",
     "text": [
      "Traceback (most recent call last):\n",
      "  File \"<ipython-input-3-0fbae45fdc0c>\", line 6, in evaluateGMM\n",
      "    resultDict, _ = gmm_utils.runGMM(args)\n",
      "  File \"/mnt/reds/projects/single-cell-sota/gmm/gmm_utils.py\", line 158, in runGMM\n",
      "    pc = PCA(n_components=params['pca_comp']).fit_transform(scaledDf)\n",
      "  File \"/opt/anaconda3/envs/astrohack/lib/python3.6/site-packages/sklearn/decomposition/pca.py\", line 359, in fit_transform\n",
      "    U, S, V = self._fit(X)\n",
      "  File \"/opt/anaconda3/envs/astrohack/lib/python3.6/site-packages/sklearn/decomposition/pca.py\", line 406, in _fit\n",
      "    return self._fit_full(X, n_components)\n",
      "  File \"/opt/anaconda3/envs/astrohack/lib/python3.6/site-packages/sklearn/decomposition/pca.py\", line 425, in _fit_full\n",
      "    % (n_components, min(n_samples, n_features)))\n",
      "ValueError: n_components=112 must be between 0 and min(n_samples, n_features)=60 with svd_solver='full'\n"
     ]
    },
    {
     "name": "stderr",
     "output_type": "stream",
     "text": [
      "/opt/anaconda3/envs/astrohack/lib/python3.6/site-packages/sklearn/preprocessing/data.py:625: DataConversionWarning: Data with input dtype int64 were all converted to float64 by StandardScaler.\n",
      "  return self.partial_fit(X, y)\n",
      "/opt/anaconda3/envs/astrohack/lib/python3.6/site-packages/sklearn/base.py:462: DataConversionWarning: Data with input dtype int64 were all converted to float64 by StandardScaler.\n",
      "  return self.fit(X, **fit_params).transform(X)\n"
     ]
    },
    {
     "name": "stdout",
     "output_type": "stream",
     "text": [
      "Traceback (most recent call last):\n",
      "  File \"<ipython-input-3-0fbae45fdc0c>\", line 6, in evaluateGMM\n",
      "    resultDict, _ = gmm_utils.runGMM(args)\n",
      "  File \"/mnt/reds/projects/single-cell-sota/gmm/gmm_utils.py\", line 158, in runGMM\n",
      "    pc = PCA(n_components=params['pca_comp']).fit_transform(scaledDf)\n",
      "  File \"/opt/anaconda3/envs/astrohack/lib/python3.6/site-packages/sklearn/decomposition/pca.py\", line 359, in fit_transform\n",
      "    U, S, V = self._fit(X)\n",
      "  File \"/opt/anaconda3/envs/astrohack/lib/python3.6/site-packages/sklearn/decomposition/pca.py\", line 406, in _fit\n",
      "    return self._fit_full(X, n_components)\n",
      "  File \"/opt/anaconda3/envs/astrohack/lib/python3.6/site-packages/sklearn/decomposition/pca.py\", line 425, in _fit_full\n",
      "    % (n_components, min(n_samples, n_features)))\n",
      "ValueError: n_components=291 must be between 0 and min(n_samples, n_features)=60 with svd_solver='full'\n",
      "Traceback (most recent call last):\n",
      "  File \"/opt/anaconda3/envs/astrohack/lib/python3.6/site-packages/sklearn/mixture/gaussian_mixture.py\", line 318, in _compute_precision_cholesky\n",
      "    cov_chol = linalg.cholesky(covariance, lower=True)\n",
      "  File \"/opt/anaconda3/envs/astrohack/lib/python3.6/site-packages/scipy/linalg/decomp_cholesky.py\", line 91, in cholesky\n",
      "    check_finite=check_finite)\n",
      "  File \"/opt/anaconda3/envs/astrohack/lib/python3.6/site-packages/scipy/linalg/decomp_cholesky.py\", line 40, in _cholesky\n",
      "    \"definite\" % info)\n",
      "numpy.linalg.linalg.LinAlgError: 8-th leading minor of the array is not positive definite\n",
      "\n",
      "During handling of the above exception, another exception occurred:\n",
      "\n",
      "Traceback (most recent call last):\n",
      "  File \"<ipython-input-3-0fbae45fdc0c>\", line 6, in evaluateGMM\n",
      "    resultDict, _ = gmm_utils.runGMM(args)\n",
      "  File \"/mnt/reds/projects/single-cell-sota/gmm/gmm_utils.py\", line 160, in runGMM\n",
      "    model = GaussianMixture(params['nb_clusters'] , covariance_type ='full', random_state = 0).fit(pc)\n",
      "  File \"/opt/anaconda3/envs/astrohack/lib/python3.6/site-packages/sklearn/mixture/base.py\", line 194, in fit\n",
      "    self.fit_predict(X, y)\n",
      "  File \"/opt/anaconda3/envs/astrohack/lib/python3.6/site-packages/sklearn/mixture/base.py\", line 237, in fit_predict\n",
      "    self._initialize_parameters(X, random_state)\n",
      "  File \"/opt/anaconda3/envs/astrohack/lib/python3.6/site-packages/sklearn/mixture/base.py\", line 158, in _initialize_parameters\n",
      "    self._initialize(X, resp)\n",
      "  File \"/opt/anaconda3/envs/astrohack/lib/python3.6/site-packages/sklearn/mixture/gaussian_mixture.py\", line 650, in _initialize\n",
      "    covariances, self.covariance_type)\n",
      "  File \"/opt/anaconda3/envs/astrohack/lib/python3.6/site-packages/sklearn/mixture/gaussian_mixture.py\", line 320, in _compute_precision_cholesky\n",
      "    raise ValueError(estimate_precision_error_message)\n",
      "ValueError: Fitting the mixture model failed because some components have ill-defined empirical covariance (for instance caused by singleton or collapsed samples). Try to decrease the number of components, or increase reg_covar.\n"
     ]
    },
    {
     "name": "stderr",
     "output_type": "stream",
     "text": [
      "/opt/anaconda3/envs/astrohack/lib/python3.6/site-packages/sklearn/preprocessing/data.py:625: DataConversionWarning: Data with input dtype int64 were all converted to float64 by StandardScaler.\n",
      "  return self.partial_fit(X, y)\n",
      "/opt/anaconda3/envs/astrohack/lib/python3.6/site-packages/sklearn/base.py:462: DataConversionWarning: Data with input dtype int64 were all converted to float64 by StandardScaler.\n",
      "  return self.fit(X, **fit_params).transform(X)\n"
     ]
    },
    {
     "name": "stdout",
     "output_type": "stream",
     "text": [
      "Traceback (most recent call last):\n",
      "  File \"<ipython-input-3-0fbae45fdc0c>\", line 6, in evaluateGMM\n",
      "    resultDict, _ = gmm_utils.runGMM(args)\n",
      "  File \"/mnt/reds/projects/single-cell-sota/gmm/gmm_utils.py\", line 158, in runGMM\n",
      "    pc = PCA(n_components=params['pca_comp']).fit_transform(scaledDf)\n",
      "  File \"/opt/anaconda3/envs/astrohack/lib/python3.6/site-packages/sklearn/decomposition/pca.py\", line 359, in fit_transform\n",
      "    U, S, V = self._fit(X)\n",
      "  File \"/opt/anaconda3/envs/astrohack/lib/python3.6/site-packages/sklearn/decomposition/pca.py\", line 406, in _fit\n",
      "    return self._fit_full(X, n_components)\n",
      "  File \"/opt/anaconda3/envs/astrohack/lib/python3.6/site-packages/sklearn/decomposition/pca.py\", line 425, in _fit_full\n",
      "    % (n_components, min(n_samples, n_features)))\n",
      "ValueError: n_components=65 must be between 0 and min(n_samples, n_features)=60 with svd_solver='full'\n",
      "Index  50\n",
      "Traceback (most recent call last):\n",
      "  File \"<ipython-input-3-0fbae45fdc0c>\", line 6, in evaluateGMM\n",
      "    resultDict, _ = gmm_utils.runGMM(args)\n",
      "  File \"/mnt/reds/projects/single-cell-sota/gmm/gmm_utils.py\", line 158, in runGMM\n",
      "    pc = PCA(n_components=params['pca_comp']).fit_transform(scaledDf)\n",
      "  File \"/opt/anaconda3/envs/astrohack/lib/python3.6/site-packages/sklearn/decomposition/pca.py\", line 359, in fit_transform\n",
      "    U, S, V = self._fit(X)\n",
      "  File \"/opt/anaconda3/envs/astrohack/lib/python3.6/site-packages/sklearn/decomposition/pca.py\", line 406, in _fit\n",
      "    return self._fit_full(X, n_components)\n",
      "  File \"/opt/anaconda3/envs/astrohack/lib/python3.6/site-packages/sklearn/decomposition/pca.py\", line 425, in _fit_full\n",
      "    % (n_components, min(n_samples, n_features)))\n",
      "ValueError: n_components=90 must be between 0 and min(n_samples, n_features)=60 with svd_solver='full'\n",
      "Traceback (most recent call last):\n",
      "  File \"<ipython-input-3-0fbae45fdc0c>\", line 6, in evaluateGMM\n",
      "    resultDict, _ = gmm_utils.runGMM(args)\n",
      "  File \"/mnt/reds/projects/single-cell-sota/gmm/gmm_utils.py\", line 158, in runGMM\n",
      "    pc = PCA(n_components=params['pca_comp']).fit_transform(scaledDf)\n",
      "  File \"/opt/anaconda3/envs/astrohack/lib/python3.6/site-packages/sklearn/decomposition/pca.py\", line 359, in fit_transform\n",
      "    U, S, V = self._fit(X)\n",
      "  File \"/opt/anaconda3/envs/astrohack/lib/python3.6/site-packages/sklearn/decomposition/pca.py\", line 406, in _fit\n",
      "    return self._fit_full(X, n_components)\n",
      "  File \"/opt/anaconda3/envs/astrohack/lib/python3.6/site-packages/sklearn/decomposition/pca.py\", line 425, in _fit_full\n",
      "    % (n_components, min(n_samples, n_features)))\n",
      "ValueError: n_components=156 must be between 0 and min(n_samples, n_features)=60 with svd_solver='full'\n"
     ]
    },
    {
     "name": "stderr",
     "output_type": "stream",
     "text": [
      "/opt/anaconda3/envs/astrohack/lib/python3.6/site-packages/sklearn/preprocessing/data.py:625: DataConversionWarning: Data with input dtype int64 were all converted to float64 by StandardScaler.\n",
      "  return self.partial_fit(X, y)\n",
      "/opt/anaconda3/envs/astrohack/lib/python3.6/site-packages/sklearn/base.py:462: DataConversionWarning: Data with input dtype int64 were all converted to float64 by StandardScaler.\n",
      "  return self.fit(X, **fit_params).transform(X)\n"
     ]
    },
    {
     "name": "stdout",
     "output_type": "stream",
     "text": [
      "Traceback (most recent call last):\n",
      "  File \"<ipython-input-3-0fbae45fdc0c>\", line 6, in evaluateGMM\n",
      "    resultDict, _ = gmm_utils.runGMM(args)\n",
      "  File \"/mnt/reds/projects/single-cell-sota/gmm/gmm_utils.py\", line 158, in runGMM\n",
      "    pc = PCA(n_components=params['pca_comp']).fit_transform(scaledDf)\n",
      "  File \"/opt/anaconda3/envs/astrohack/lib/python3.6/site-packages/sklearn/decomposition/pca.py\", line 359, in fit_transform\n",
      "    U, S, V = self._fit(X)\n",
      "  File \"/opt/anaconda3/envs/astrohack/lib/python3.6/site-packages/sklearn/decomposition/pca.py\", line 406, in _fit\n",
      "    return self._fit_full(X, n_components)\n",
      "  File \"/opt/anaconda3/envs/astrohack/lib/python3.6/site-packages/sklearn/decomposition/pca.py\", line 425, in _fit_full\n",
      "    % (n_components, min(n_samples, n_features)))\n",
      "ValueError: n_components=267 must be between 0 and min(n_samples, n_features)=60 with svd_solver='full'\n",
      "Traceback (most recent call last):\n",
      "  File \"<ipython-input-3-0fbae45fdc0c>\", line 6, in evaluateGMM\n",
      "    resultDict, _ = gmm_utils.runGMM(args)\n",
      "  File \"/mnt/reds/projects/single-cell-sota/gmm/gmm_utils.py\", line 158, in runGMM\n",
      "    pc = PCA(n_components=params['pca_comp']).fit_transform(scaledDf)\n",
      "  File \"/opt/anaconda3/envs/astrohack/lib/python3.6/site-packages/sklearn/decomposition/pca.py\", line 359, in fit_transform\n",
      "    U, S, V = self._fit(X)\n",
      "  File \"/opt/anaconda3/envs/astrohack/lib/python3.6/site-packages/sklearn/decomposition/pca.py\", line 406, in _fit\n",
      "    return self._fit_full(X, n_components)\n",
      "  File \"/opt/anaconda3/envs/astrohack/lib/python3.6/site-packages/sklearn/decomposition/pca.py\", line 425, in _fit_full\n",
      "    % (n_components, min(n_samples, n_features)))\n",
      "ValueError: n_components=188 must be between 0 and min(n_samples, n_features)=60 with svd_solver='full'\n"
     ]
    },
    {
     "name": "stderr",
     "output_type": "stream",
     "text": [
      "/opt/anaconda3/envs/astrohack/lib/python3.6/site-packages/sklearn/metrics/cluster/supervised.py:732: FutureWarning: The behavior of AMI will change in version 0.22. To match the behavior of 'v_measure_score', AMI will use average_method='arithmetic' by default.\n",
      "  FutureWarning)\n",
      "/opt/anaconda3/envs/astrohack/lib/python3.6/site-packages/sklearn/metrics/cluster/unsupervised.py:342: RuntimeWarning: divide by zero encountered in true_divide\n",
      "  score = (intra_dists[:, None] + intra_dists) / centroid_distances\n",
      "/opt/anaconda3/envs/astrohack/lib/python3.6/site-packages/sklearn/metrics/cluster/unsupervised.py:342: RuntimeWarning: invalid value encountered in true_divide\n",
      "  score = (intra_dists[:, None] + intra_dists) / centroid_distances\n"
     ]
    },
    {
     "name": "stdout",
     "output_type": "stream",
     "text": [
      ">> Result: 0.5992977233810428\n"
     ]
    },
    {
     "name": "stderr",
     "output_type": "stream",
     "text": [
      "/opt/anaconda3/envs/astrohack/lib/python3.6/site-packages/sklearn/metrics/cluster/supervised.py:732: FutureWarning: The behavior of AMI will change in version 0.22. To match the behavior of 'v_measure_score', AMI will use average_method='arithmetic' by default.\n",
      "  FutureWarning)\n",
      "/opt/anaconda3/envs/astrohack/lib/python3.6/site-packages/sklearn/metrics/cluster/unsupervised.py:342: RuntimeWarning: divide by zero encountered in true_divide\n",
      "  score = (intra_dists[:, None] + intra_dists) / centroid_distances\n",
      "/opt/anaconda3/envs/astrohack/lib/python3.6/site-packages/sklearn/metrics/cluster/unsupervised.py:342: RuntimeWarning: invalid value encountered in true_divide\n",
      "  score = (intra_dists[:, None] + intra_dists) / centroid_distances\n"
     ]
    },
    {
     "name": "stdout",
     "output_type": "stream",
     "text": [
      ">> Result: 0.7150456178422331\n"
     ]
    },
    {
     "name": "stderr",
     "output_type": "stream",
     "text": [
      "/opt/anaconda3/envs/astrohack/lib/python3.6/site-packages/sklearn/metrics/cluster/supervised.py:732: FutureWarning: The behavior of AMI will change in version 0.22. To match the behavior of 'v_measure_score', AMI will use average_method='arithmetic' by default.\n",
      "  FutureWarning)\n",
      "/opt/anaconda3/envs/astrohack/lib/python3.6/site-packages/sklearn/metrics/cluster/unsupervised.py:342: RuntimeWarning: divide by zero encountered in true_divide\n",
      "  score = (intra_dists[:, None] + intra_dists) / centroid_distances\n",
      "/opt/anaconda3/envs/astrohack/lib/python3.6/site-packages/sklearn/metrics/cluster/unsupervised.py:342: RuntimeWarning: invalid value encountered in true_divide\n",
      "  score = (intra_dists[:, None] + intra_dists) / centroid_distances\n"
     ]
    },
    {
     "name": "stdout",
     "output_type": "stream",
     "text": [
      ">> Result: 0.6552923615191857\n"
     ]
    },
    {
     "name": "stderr",
     "output_type": "stream",
     "text": [
      "/opt/anaconda3/envs/astrohack/lib/python3.6/site-packages/sklearn/metrics/cluster/supervised.py:732: FutureWarning: The behavior of AMI will change in version 0.22. To match the behavior of 'v_measure_score', AMI will use average_method='arithmetic' by default.\n",
      "  FutureWarning)\n",
      "/opt/anaconda3/envs/astrohack/lib/python3.6/site-packages/sklearn/metrics/cluster/unsupervised.py:342: RuntimeWarning: divide by zero encountered in true_divide\n",
      "  score = (intra_dists[:, None] + intra_dists) / centroid_distances\n",
      "/opt/anaconda3/envs/astrohack/lib/python3.6/site-packages/sklearn/metrics/cluster/unsupervised.py:342: RuntimeWarning: invalid value encountered in true_divide\n",
      "  score = (intra_dists[:, None] + intra_dists) / centroid_distances\n"
     ]
    },
    {
     "name": "stdout",
     "output_type": "stream",
     "text": [
      ">> Result: 0.5655102728191311\n"
     ]
    },
    {
     "name": "stderr",
     "output_type": "stream",
     "text": [
      "/opt/anaconda3/envs/astrohack/lib/python3.6/site-packages/sklearn/metrics/cluster/supervised.py:732: FutureWarning: The behavior of AMI will change in version 0.22. To match the behavior of 'v_measure_score', AMI will use average_method='arithmetic' by default.\n",
      "  FutureWarning)\n",
      "/opt/anaconda3/envs/astrohack/lib/python3.6/site-packages/sklearn/metrics/cluster/unsupervised.py:342: RuntimeWarning: divide by zero encountered in true_divide\n",
      "  score = (intra_dists[:, None] + intra_dists) / centroid_distances\n",
      "/opt/anaconda3/envs/astrohack/lib/python3.6/site-packages/sklearn/metrics/cluster/unsupervised.py:342: RuntimeWarning: invalid value encountered in true_divide\n",
      "  score = (intra_dists[:, None] + intra_dists) / centroid_distances\n"
     ]
    },
    {
     "name": "stdout",
     "output_type": "stream",
     "text": [
      ">> Result: 0.44981952358818095\n"
     ]
    },
    {
     "name": "stderr",
     "output_type": "stream",
     "text": [
      "/opt/anaconda3/envs/astrohack/lib/python3.6/site-packages/sklearn/metrics/cluster/supervised.py:732: FutureWarning: The behavior of AMI will change in version 0.22. To match the behavior of 'v_measure_score', AMI will use average_method='arithmetic' by default.\n",
      "  FutureWarning)\n",
      "/opt/anaconda3/envs/astrohack/lib/python3.6/site-packages/sklearn/metrics/cluster/unsupervised.py:342: RuntimeWarning: divide by zero encountered in true_divide\n",
      "  score = (intra_dists[:, None] + intra_dists) / centroid_distances\n",
      "/opt/anaconda3/envs/astrohack/lib/python3.6/site-packages/sklearn/metrics/cluster/unsupervised.py:342: RuntimeWarning: invalid value encountered in true_divide\n",
      "  score = (intra_dists[:, None] + intra_dists) / centroid_distances\n"
     ]
    },
    {
     "name": "stdout",
     "output_type": "stream",
     "text": [
      ">> Result: 0.6665745262446635\n",
      "Index  60\n"
     ]
    },
    {
     "name": "stderr",
     "output_type": "stream",
     "text": [
      "/opt/anaconda3/envs/astrohack/lib/python3.6/site-packages/sklearn/metrics/cluster/supervised.py:732: FutureWarning: The behavior of AMI will change in version 0.22. To match the behavior of 'v_measure_score', AMI will use average_method='arithmetic' by default.\n",
      "  FutureWarning)\n",
      "/opt/anaconda3/envs/astrohack/lib/python3.6/site-packages/sklearn/metrics/cluster/unsupervised.py:342: RuntimeWarning: divide by zero encountered in true_divide\n",
      "  score = (intra_dists[:, None] + intra_dists) / centroid_distances\n"
     ]
    },
    {
     "name": "stdout",
     "output_type": "stream",
     "text": [
      ">> Result: 0.3791767419496456\n"
     ]
    },
    {
     "name": "stderr",
     "output_type": "stream",
     "text": [
      "/opt/anaconda3/envs/astrohack/lib/python3.6/site-packages/sklearn/metrics/cluster/supervised.py:732: FutureWarning: The behavior of AMI will change in version 0.22. To match the behavior of 'v_measure_score', AMI will use average_method='arithmetic' by default.\n",
      "  FutureWarning)\n",
      "/opt/anaconda3/envs/astrohack/lib/python3.6/site-packages/sklearn/metrics/cluster/unsupervised.py:342: RuntimeWarning: divide by zero encountered in true_divide\n",
      "  score = (intra_dists[:, None] + intra_dists) / centroid_distances\n",
      "/opt/anaconda3/envs/astrohack/lib/python3.6/site-packages/sklearn/metrics/cluster/unsupervised.py:342: RuntimeWarning: invalid value encountered in true_divide\n",
      "  score = (intra_dists[:, None] + intra_dists) / centroid_distances\n"
     ]
    },
    {
     "name": "stdout",
     "output_type": "stream",
     "text": [
      ">> Result: 0.3817211833205378\n",
      "Traceback (most recent call last):\n",
      "  File \"<ipython-input-3-0fbae45fdc0c>\", line 6, in evaluateGMM\n",
      "    resultDict, _ = gmm_utils.runGMM(args)\n",
      "  File \"/mnt/reds/projects/single-cell-sota/gmm/gmm_utils.py\", line 158, in runGMM\n",
      "    pc = PCA(n_components=params['pca_comp']).fit_transform(scaledDf)\n",
      "  File \"/opt/anaconda3/envs/astrohack/lib/python3.6/site-packages/sklearn/decomposition/pca.py\", line 359, in fit_transform\n",
      "    U, S, V = self._fit(X)\n",
      "  File \"/opt/anaconda3/envs/astrohack/lib/python3.6/site-packages/sklearn/decomposition/pca.py\", line 406, in _fit\n",
      "    return self._fit_full(X, n_components)\n",
      "  File \"/opt/anaconda3/envs/astrohack/lib/python3.6/site-packages/sklearn/decomposition/pca.py\", line 425, in _fit_full\n",
      "    % (n_components, min(n_samples, n_features)))\n",
      "ValueError: n_components=80 must be between 0 and min(n_samples, n_features)=60 with svd_solver='full'\n",
      "Traceback (most recent call last):\n",
      "  File \"<ipython-input-3-0fbae45fdc0c>\", line 6, in evaluateGMM\n",
      "    resultDict, _ = gmm_utils.runGMM(args)\n",
      "  File \"/mnt/reds/projects/single-cell-sota/gmm/gmm_utils.py\", line 158, in runGMM\n",
      "    pc = PCA(n_components=params['pca_comp']).fit_transform(scaledDf)\n",
      "  File \"/opt/anaconda3/envs/astrohack/lib/python3.6/site-packages/sklearn/decomposition/pca.py\", line 359, in fit_transform\n",
      "    U, S, V = self._fit(X)\n",
      "  File \"/opt/anaconda3/envs/astrohack/lib/python3.6/site-packages/sklearn/decomposition/pca.py\", line 406, in _fit\n",
      "    return self._fit_full(X, n_components)\n",
      "  File \"/opt/anaconda3/envs/astrohack/lib/python3.6/site-packages/sklearn/decomposition/pca.py\", line 425, in _fit_full\n",
      "    % (n_components, min(n_samples, n_features)))\n",
      "ValueError: n_components=67 must be between 0 and min(n_samples, n_features)=60 with svd_solver='full'\n"
     ]
    },
    {
     "name": "stderr",
     "output_type": "stream",
     "text": [
      "/opt/anaconda3/envs/astrohack/lib/python3.6/site-packages/sklearn/metrics/cluster/supervised.py:732: FutureWarning: The behavior of AMI will change in version 0.22. To match the behavior of 'v_measure_score', AMI will use average_method='arithmetic' by default.\n",
      "  FutureWarning)\n",
      "/opt/anaconda3/envs/astrohack/lib/python3.6/site-packages/sklearn/metrics/cluster/unsupervised.py:342: RuntimeWarning: divide by zero encountered in true_divide\n",
      "  score = (intra_dists[:, None] + intra_dists) / centroid_distances\n",
      "/opt/anaconda3/envs/astrohack/lib/python3.6/site-packages/sklearn/metrics/cluster/unsupervised.py:342: RuntimeWarning: invalid value encountered in true_divide\n",
      "  score = (intra_dists[:, None] + intra_dists) / centroid_distances\n"
     ]
    },
    {
     "name": "stdout",
     "output_type": "stream",
     "text": [
      ">> Result: -0.02181250120537694\n"
     ]
    },
    {
     "name": "stderr",
     "output_type": "stream",
     "text": [
      "/opt/anaconda3/envs/astrohack/lib/python3.6/site-packages/sklearn/metrics/cluster/supervised.py:732: FutureWarning: The behavior of AMI will change in version 0.22. To match the behavior of 'v_measure_score', AMI will use average_method='arithmetic' by default.\n",
      "  FutureWarning)\n",
      "/opt/anaconda3/envs/astrohack/lib/python3.6/site-packages/sklearn/metrics/cluster/unsupervised.py:342: RuntimeWarning: divide by zero encountered in true_divide\n",
      "  score = (intra_dists[:, None] + intra_dists) / centroid_distances\n",
      "/opt/anaconda3/envs/astrohack/lib/python3.6/site-packages/sklearn/metrics/cluster/unsupervised.py:342: RuntimeWarning: invalid value encountered in true_divide\n",
      "  score = (intra_dists[:, None] + intra_dists) / centroid_distances\n"
     ]
    },
    {
     "name": "stdout",
     "output_type": "stream",
     "text": [
      ">> Result: 0.5783793516731469\n",
      "Traceback (most recent call last):\n",
      "  File \"<ipython-input-3-0fbae45fdc0c>\", line 6, in evaluateGMM\n",
      "    resultDict, _ = gmm_utils.runGMM(args)\n",
      "  File \"/mnt/reds/projects/single-cell-sota/gmm/gmm_utils.py\", line 158, in runGMM\n",
      "    pc = PCA(n_components=params['pca_comp']).fit_transform(scaledDf)\n",
      "  File \"/opt/anaconda3/envs/astrohack/lib/python3.6/site-packages/sklearn/decomposition/pca.py\", line 359, in fit_transform\n",
      "    U, S, V = self._fit(X)\n",
      "  File \"/opt/anaconda3/envs/astrohack/lib/python3.6/site-packages/sklearn/decomposition/pca.py\", line 406, in _fit\n",
      "    return self._fit_full(X, n_components)\n",
      "  File \"/opt/anaconda3/envs/astrohack/lib/python3.6/site-packages/sklearn/decomposition/pca.py\", line 425, in _fit_full\n",
      "    % (n_components, min(n_samples, n_features)))\n",
      "ValueError: n_components=100 must be between 0 and min(n_samples, n_features)=60 with svd_solver='full'\n"
     ]
    },
    {
     "name": "stderr",
     "output_type": "stream",
     "text": [
      "/opt/anaconda3/envs/astrohack/lib/python3.6/site-packages/sklearn/metrics/cluster/supervised.py:732: FutureWarning: The behavior of AMI will change in version 0.22. To match the behavior of 'v_measure_score', AMI will use average_method='arithmetic' by default.\n",
      "  FutureWarning)\n",
      "/opt/anaconda3/envs/astrohack/lib/python3.6/site-packages/sklearn/metrics/cluster/unsupervised.py:342: RuntimeWarning: divide by zero encountered in true_divide\n",
      "  score = (intra_dists[:, None] + intra_dists) / centroid_distances\n",
      "/opt/anaconda3/envs/astrohack/lib/python3.6/site-packages/sklearn/metrics/cluster/unsupervised.py:342: RuntimeWarning: invalid value encountered in true_divide\n",
      "  score = (intra_dists[:, None] + intra_dists) / centroid_distances\n"
     ]
    },
    {
     "name": "stdout",
     "output_type": "stream",
     "text": [
      ">> Result: 0.08716205059838678\n"
     ]
    },
    {
     "name": "stderr",
     "output_type": "stream",
     "text": [
      "/opt/anaconda3/envs/astrohack/lib/python3.6/site-packages/sklearn/metrics/cluster/supervised.py:732: FutureWarning: The behavior of AMI will change in version 0.22. To match the behavior of 'v_measure_score', AMI will use average_method='arithmetic' by default.\n",
      "  FutureWarning)\n",
      "/opt/anaconda3/envs/astrohack/lib/python3.6/site-packages/sklearn/metrics/cluster/unsupervised.py:342: RuntimeWarning: divide by zero encountered in true_divide\n",
      "  score = (intra_dists[:, None] + intra_dists) / centroid_distances\n",
      "/opt/anaconda3/envs/astrohack/lib/python3.6/site-packages/sklearn/metrics/cluster/unsupervised.py:342: RuntimeWarning: invalid value encountered in true_divide\n",
      "  score = (intra_dists[:, None] + intra_dists) / centroid_distances\n"
     ]
    },
    {
     "name": "stdout",
     "output_type": "stream",
     "text": [
      ">> Result: 0.10308908622784622\n",
      "Traceback (most recent call last):\n",
      "  File \"<ipython-input-3-0fbae45fdc0c>\", line 6, in evaluateGMM\n",
      "    resultDict, _ = gmm_utils.runGMM(args)\n",
      "  File \"/mnt/reds/projects/single-cell-sota/gmm/gmm_utils.py\", line 158, in runGMM\n",
      "    pc = PCA(n_components=params['pca_comp']).fit_transform(scaledDf)\n",
      "  File \"/opt/anaconda3/envs/astrohack/lib/python3.6/site-packages/sklearn/decomposition/pca.py\", line 359, in fit_transform\n",
      "    U, S, V = self._fit(X)\n",
      "  File \"/opt/anaconda3/envs/astrohack/lib/python3.6/site-packages/sklearn/decomposition/pca.py\", line 406, in _fit\n",
      "    return self._fit_full(X, n_components)\n",
      "  File \"/opt/anaconda3/envs/astrohack/lib/python3.6/site-packages/sklearn/decomposition/pca.py\", line 425, in _fit_full\n",
      "    % (n_components, min(n_samples, n_features)))\n",
      "ValueError: n_components=110 must be between 0 and min(n_samples, n_features)=60 with svd_solver='full'\n",
      "Index  70\n"
     ]
    },
    {
     "name": "stderr",
     "output_type": "stream",
     "text": [
      "/opt/anaconda3/envs/astrohack/lib/python3.6/site-packages/sklearn/preprocessing/data.py:625: DataConversionWarning: Data with input dtype int64 were all converted to float64 by StandardScaler.\n",
      "  return self.partial_fit(X, y)\n",
      "/opt/anaconda3/envs/astrohack/lib/python3.6/site-packages/sklearn/base.py:462: DataConversionWarning: Data with input dtype int64 were all converted to float64 by StandardScaler.\n",
      "  return self.fit(X, **fit_params).transform(X)\n"
     ]
    },
    {
     "name": "stdout",
     "output_type": "stream",
     "text": [
      "Traceback (most recent call last):\n",
      "  File \"<ipython-input-3-0fbae45fdc0c>\", line 6, in evaluateGMM\n",
      "    resultDict, _ = gmm_utils.runGMM(args)\n",
      "  File \"/mnt/reds/projects/single-cell-sota/gmm/gmm_utils.py\", line 158, in runGMM\n",
      "    pc = PCA(n_components=params['pca_comp']).fit_transform(scaledDf)\n",
      "  File \"/opt/anaconda3/envs/astrohack/lib/python3.6/site-packages/sklearn/decomposition/pca.py\", line 359, in fit_transform\n",
      "    U, S, V = self._fit(X)\n",
      "  File \"/opt/anaconda3/envs/astrohack/lib/python3.6/site-packages/sklearn/decomposition/pca.py\", line 406, in _fit\n",
      "    return self._fit_full(X, n_components)\n",
      "  File \"/opt/anaconda3/envs/astrohack/lib/python3.6/site-packages/sklearn/decomposition/pca.py\", line 425, in _fit_full\n",
      "    % (n_components, min(n_samples, n_features)))\n",
      "ValueError: n_components=71 must be between 0 and min(n_samples, n_features)=60 with svd_solver='full'\n",
      "Traceback (most recent call last):\n",
      "  File \"<ipython-input-3-0fbae45fdc0c>\", line 6, in evaluateGMM\n",
      "    resultDict, _ = gmm_utils.runGMM(args)\n",
      "  File \"/mnt/reds/projects/single-cell-sota/gmm/gmm_utils.py\", line 158, in runGMM\n",
      "    pc = PCA(n_components=params['pca_comp']).fit_transform(scaledDf)\n",
      "  File \"/opt/anaconda3/envs/astrohack/lib/python3.6/site-packages/sklearn/decomposition/pca.py\", line 359, in fit_transform\n",
      "    U, S, V = self._fit(X)\n",
      "  File \"/opt/anaconda3/envs/astrohack/lib/python3.6/site-packages/sklearn/decomposition/pca.py\", line 406, in _fit\n",
      "    return self._fit_full(X, n_components)\n",
      "  File \"/opt/anaconda3/envs/astrohack/lib/python3.6/site-packages/sklearn/decomposition/pca.py\", line 425, in _fit_full\n",
      "    % (n_components, min(n_samples, n_features)))\n",
      "ValueError: n_components=130 must be between 0 and min(n_samples, n_features)=60 with svd_solver='full'\n"
     ]
    },
    {
     "name": "stderr",
     "output_type": "stream",
     "text": [
      "/opt/anaconda3/envs/astrohack/lib/python3.6/site-packages/sklearn/metrics/cluster/supervised.py:732: FutureWarning: The behavior of AMI will change in version 0.22. To match the behavior of 'v_measure_score', AMI will use average_method='arithmetic' by default.\n",
      "  FutureWarning)\n",
      "/opt/anaconda3/envs/astrohack/lib/python3.6/site-packages/sklearn/metrics/cluster/unsupervised.py:342: RuntimeWarning: divide by zero encountered in true_divide\n",
      "  score = (intra_dists[:, None] + intra_dists) / centroid_distances\n",
      "/opt/anaconda3/envs/astrohack/lib/python3.6/site-packages/sklearn/metrics/cluster/unsupervised.py:342: RuntimeWarning: invalid value encountered in true_divide\n",
      "  score = (intra_dists[:, None] + intra_dists) / centroid_distances\n"
     ]
    },
    {
     "name": "stdout",
     "output_type": "stream",
     "text": [
      ">> Result: 0.016249268269676227\n"
     ]
    },
    {
     "name": "stderr",
     "output_type": "stream",
     "text": [
      "/opt/anaconda3/envs/astrohack/lib/python3.6/site-packages/sklearn/metrics/cluster/supervised.py:732: FutureWarning: The behavior of AMI will change in version 0.22. To match the behavior of 'v_measure_score', AMI will use average_method='arithmetic' by default.\n",
      "  FutureWarning)\n",
      "/opt/anaconda3/envs/astrohack/lib/python3.6/site-packages/sklearn/metrics/cluster/unsupervised.py:342: RuntimeWarning: divide by zero encountered in true_divide\n",
      "  score = (intra_dists[:, None] + intra_dists) / centroid_distances\n",
      "/opt/anaconda3/envs/astrohack/lib/python3.6/site-packages/sklearn/metrics/cluster/unsupervised.py:342: RuntimeWarning: invalid value encountered in true_divide\n",
      "  score = (intra_dists[:, None] + intra_dists) / centroid_distances\n"
     ]
    },
    {
     "name": "stdout",
     "output_type": "stream",
     "text": [
      ">> Result: 0.46882949615855346\n"
     ]
    },
    {
     "name": "stderr",
     "output_type": "stream",
     "text": [
      "/opt/anaconda3/envs/astrohack/lib/python3.6/site-packages/sklearn/metrics/cluster/supervised.py:732: FutureWarning: The behavior of AMI will change in version 0.22. To match the behavior of 'v_measure_score', AMI will use average_method='arithmetic' by default.\n",
      "  FutureWarning)\n",
      "/opt/anaconda3/envs/astrohack/lib/python3.6/site-packages/sklearn/metrics/cluster/unsupervised.py:342: RuntimeWarning: divide by zero encountered in true_divide\n",
      "  score = (intra_dists[:, None] + intra_dists) / centroid_distances\n",
      "/opt/anaconda3/envs/astrohack/lib/python3.6/site-packages/sklearn/metrics/cluster/unsupervised.py:342: RuntimeWarning: invalid value encountered in true_divide\n",
      "  score = (intra_dists[:, None] + intra_dists) / centroid_distances\n"
     ]
    },
    {
     "name": "stdout",
     "output_type": "stream",
     "text": [
      ">> Result: 0.1414110790499595\n"
     ]
    },
    {
     "name": "stderr",
     "output_type": "stream",
     "text": [
      "/opt/anaconda3/envs/astrohack/lib/python3.6/site-packages/sklearn/preprocessing/data.py:625: DataConversionWarning: Data with input dtype int64 were all converted to float64 by StandardScaler.\n",
      "  return self.partial_fit(X, y)\n",
      "/opt/anaconda3/envs/astrohack/lib/python3.6/site-packages/sklearn/base.py:462: DataConversionWarning: Data with input dtype int64 were all converted to float64 by StandardScaler.\n",
      "  return self.fit(X, **fit_params).transform(X)\n"
     ]
    },
    {
     "name": "stdout",
     "output_type": "stream",
     "text": [
      "Traceback (most recent call last):\n",
      "  File \"<ipython-input-3-0fbae45fdc0c>\", line 6, in evaluateGMM\n",
      "    resultDict, _ = gmm_utils.runGMM(args)\n",
      "  File \"/mnt/reds/projects/single-cell-sota/gmm/gmm_utils.py\", line 158, in runGMM\n",
      "    pc = PCA(n_components=params['pca_comp']).fit_transform(scaledDf)\n",
      "  File \"/opt/anaconda3/envs/astrohack/lib/python3.6/site-packages/sklearn/decomposition/pca.py\", line 359, in fit_transform\n",
      "    U, S, V = self._fit(X)\n",
      "  File \"/opt/anaconda3/envs/astrohack/lib/python3.6/site-packages/sklearn/decomposition/pca.py\", line 406, in _fit\n",
      "    return self._fit_full(X, n_components)\n",
      "  File \"/opt/anaconda3/envs/astrohack/lib/python3.6/site-packages/sklearn/decomposition/pca.py\", line 425, in _fit_full\n",
      "    % (n_components, min(n_samples, n_features)))\n",
      "ValueError: n_components=90 must be between 0 and min(n_samples, n_features)=60 with svd_solver='full'\n",
      "Traceback (most recent call last):\n",
      "  File \"<ipython-input-3-0fbae45fdc0c>\", line 6, in evaluateGMM\n",
      "    resultDict, _ = gmm_utils.runGMM(args)\n",
      "  File \"/mnt/reds/projects/single-cell-sota/gmm/gmm_utils.py\", line 158, in runGMM\n",
      "    pc = PCA(n_components=params['pca_comp']).fit_transform(scaledDf)\n",
      "  File \"/opt/anaconda3/envs/astrohack/lib/python3.6/site-packages/sklearn/decomposition/pca.py\", line 359, in fit_transform\n",
      "    U, S, V = self._fit(X)\n",
      "  File \"/opt/anaconda3/envs/astrohack/lib/python3.6/site-packages/sklearn/decomposition/pca.py\", line 406, in _fit\n",
      "    return self._fit_full(X, n_components)\n",
      "  File \"/opt/anaconda3/envs/astrohack/lib/python3.6/site-packages/sklearn/decomposition/pca.py\", line 425, in _fit_full\n",
      "    % (n_components, min(n_samples, n_features)))\n",
      "ValueError: n_components=237 must be between 0 and min(n_samples, n_features)=60 with svd_solver='full'\n"
     ]
    },
    {
     "name": "stderr",
     "output_type": "stream",
     "text": [
      "/opt/anaconda3/envs/astrohack/lib/python3.6/site-packages/sklearn/preprocessing/data.py:625: DataConversionWarning: Data with input dtype int64 were all converted to float64 by StandardScaler.\n",
      "  return self.partial_fit(X, y)\n",
      "/opt/anaconda3/envs/astrohack/lib/python3.6/site-packages/sklearn/base.py:462: DataConversionWarning: Data with input dtype int64 were all converted to float64 by StandardScaler.\n",
      "  return self.fit(X, **fit_params).transform(X)\n"
     ]
    },
    {
     "name": "stdout",
     "output_type": "stream",
     "text": [
      "Traceback (most recent call last):\n",
      "  File \"<ipython-input-3-0fbae45fdc0c>\", line 6, in evaluateGMM\n",
      "    resultDict, _ = gmm_utils.runGMM(args)\n",
      "  File \"/mnt/reds/projects/single-cell-sota/gmm/gmm_utils.py\", line 158, in runGMM\n",
      "    pc = PCA(n_components=params['pca_comp']).fit_transform(scaledDf)\n",
      "  File \"/opt/anaconda3/envs/astrohack/lib/python3.6/site-packages/sklearn/decomposition/pca.py\", line 359, in fit_transform\n",
      "    U, S, V = self._fit(X)\n",
      "  File \"/opt/anaconda3/envs/astrohack/lib/python3.6/site-packages/sklearn/decomposition/pca.py\", line 406, in _fit\n",
      "    return self._fit_full(X, n_components)\n",
      "  File \"/opt/anaconda3/envs/astrohack/lib/python3.6/site-packages/sklearn/decomposition/pca.py\", line 425, in _fit_full\n",
      "    % (n_components, min(n_samples, n_features)))\n",
      "ValueError: n_components=73 must be between 0 and min(n_samples, n_features)=60 with svd_solver='full'\n",
      "Traceback (most recent call last):\n",
      "  File \"<ipython-input-3-0fbae45fdc0c>\", line 6, in evaluateGMM\n",
      "    resultDict, _ = gmm_utils.runGMM(args)\n",
      "  File \"/mnt/reds/projects/single-cell-sota/gmm/gmm_utils.py\", line 158, in runGMM\n",
      "    pc = PCA(n_components=params['pca_comp']).fit_transform(scaledDf)\n",
      "  File \"/opt/anaconda3/envs/astrohack/lib/python3.6/site-packages/sklearn/decomposition/pca.py\", line 359, in fit_transform\n",
      "    U, S, V = self._fit(X)\n",
      "  File \"/opt/anaconda3/envs/astrohack/lib/python3.6/site-packages/sklearn/decomposition/pca.py\", line 406, in _fit\n",
      "    return self._fit_full(X, n_components)\n",
      "  File \"/opt/anaconda3/envs/astrohack/lib/python3.6/site-packages/sklearn/decomposition/pca.py\", line 425, in _fit_full\n",
      "    % (n_components, min(n_samples, n_features)))\n",
      "ValueError: n_components=166 must be between 0 and min(n_samples, n_features)=60 with svd_solver='full'\n"
     ]
    },
    {
     "name": "stderr",
     "output_type": "stream",
     "text": [
      "/opt/anaconda3/envs/astrohack/lib/python3.6/site-packages/sklearn/preprocessing/data.py:625: DataConversionWarning: Data with input dtype int64 were all converted to float64 by StandardScaler.\n",
      "  return self.partial_fit(X, y)\n",
      "/opt/anaconda3/envs/astrohack/lib/python3.6/site-packages/sklearn/base.py:462: DataConversionWarning: Data with input dtype int64 were all converted to float64 by StandardScaler.\n",
      "  return self.fit(X, **fit_params).transform(X)\n",
      "/opt/anaconda3/envs/astrohack/lib/python3.6/site-packages/sklearn/metrics/cluster/supervised.py:732: FutureWarning: The behavior of AMI will change in version 0.22. To match the behavior of 'v_measure_score', AMI will use average_method='arithmetic' by default.\n",
      "  FutureWarning)\n",
      "/opt/anaconda3/envs/astrohack/lib/python3.6/site-packages/sklearn/metrics/cluster/unsupervised.py:342: RuntimeWarning: divide by zero encountered in true_divide\n",
      "  score = (intra_dists[:, None] + intra_dists) / centroid_distances\n",
      "/opt/anaconda3/envs/astrohack/lib/python3.6/site-packages/sklearn/metrics/cluster/unsupervised.py:342: RuntimeWarning: invalid value encountered in true_divide\n",
      "  score = (intra_dists[:, None] + intra_dists) / centroid_distances\n"
     ]
    },
    {
     "name": "stdout",
     "output_type": "stream",
     "text": [
      ">> Result: 0.9135252389048485\n",
      "Index  80\n",
      "Traceback (most recent call last):\n",
      "  File \"<ipython-input-3-0fbae45fdc0c>\", line 6, in evaluateGMM\n",
      "    resultDict, _ = gmm_utils.runGMM(args)\n",
      "  File \"/mnt/reds/projects/single-cell-sota/gmm/gmm_utils.py\", line 158, in runGMM\n",
      "    pc = PCA(n_components=params['pca_comp']).fit_transform(scaledDf)\n",
      "  File \"/opt/anaconda3/envs/astrohack/lib/python3.6/site-packages/sklearn/decomposition/pca.py\", line 359, in fit_transform\n",
      "    U, S, V = self._fit(X)\n",
      "  File \"/opt/anaconda3/envs/astrohack/lib/python3.6/site-packages/sklearn/decomposition/pca.py\", line 406, in _fit\n",
      "    return self._fit_full(X, n_components)\n",
      "  File \"/opt/anaconda3/envs/astrohack/lib/python3.6/site-packages/sklearn/decomposition/pca.py\", line 425, in _fit_full\n",
      "    % (n_components, min(n_samples, n_features)))\n",
      "ValueError: n_components=147 must be between 0 and min(n_samples, n_features)=60 with svd_solver='full'\n"
     ]
    },
    {
     "name": "stderr",
     "output_type": "stream",
     "text": [
      "/opt/anaconda3/envs/astrohack/lib/python3.6/site-packages/sklearn/preprocessing/data.py:625: DataConversionWarning: Data with input dtype int64 were all converted to float64 by StandardScaler.\n",
      "  return self.partial_fit(X, y)\n",
      "/opt/anaconda3/envs/astrohack/lib/python3.6/site-packages/sklearn/base.py:462: DataConversionWarning: Data with input dtype int64 were all converted to float64 by StandardScaler.\n",
      "  return self.fit(X, **fit_params).transform(X)\n",
      "/opt/anaconda3/envs/astrohack/lib/python3.6/site-packages/sklearn/metrics/cluster/supervised.py:732: FutureWarning: The behavior of AMI will change in version 0.22. To match the behavior of 'v_measure_score', AMI will use average_method='arithmetic' by default.\n",
      "  FutureWarning)\n",
      "/opt/anaconda3/envs/astrohack/lib/python3.6/site-packages/sklearn/metrics/cluster/unsupervised.py:342: RuntimeWarning: divide by zero encountered in true_divide\n",
      "  score = (intra_dists[:, None] + intra_dists) / centroid_distances\n"
     ]
    },
    {
     "name": "stdout",
     "output_type": "stream",
     "text": [
      ">> Result: 0.8272327964860908\n",
      "Traceback (most recent call last):\n",
      "  File \"<ipython-input-3-0fbae45fdc0c>\", line 6, in evaluateGMM\n",
      "    resultDict, _ = gmm_utils.runGMM(args)\n",
      "  File \"/mnt/reds/projects/single-cell-sota/gmm/gmm_utils.py\", line 158, in runGMM\n",
      "    pc = PCA(n_components=params['pca_comp']).fit_transform(scaledDf)\n",
      "  File \"/opt/anaconda3/envs/astrohack/lib/python3.6/site-packages/sklearn/decomposition/pca.py\", line 359, in fit_transform\n",
      "    U, S, V = self._fit(X)\n",
      "  File \"/opt/anaconda3/envs/astrohack/lib/python3.6/site-packages/sklearn/decomposition/pca.py\", line 406, in _fit\n",
      "    return self._fit_full(X, n_components)\n",
      "  File \"/opt/anaconda3/envs/astrohack/lib/python3.6/site-packages/sklearn/decomposition/pca.py\", line 425, in _fit_full\n",
      "    % (n_components, min(n_samples, n_features)))\n",
      "ValueError: n_components=123 must be between 0 and min(n_samples, n_features)=60 with svd_solver='full'\n"
     ]
    },
    {
     "name": "stderr",
     "output_type": "stream",
     "text": [
      "/opt/anaconda3/envs/astrohack/lib/python3.6/site-packages/sklearn/preprocessing/data.py:625: DataConversionWarning: Data with input dtype int64 were all converted to float64 by StandardScaler.\n",
      "  return self.partial_fit(X, y)\n",
      "/opt/anaconda3/envs/astrohack/lib/python3.6/site-packages/sklearn/base.py:462: DataConversionWarning: Data with input dtype int64 were all converted to float64 by StandardScaler.\n",
      "  return self.fit(X, **fit_params).transform(X)\n"
     ]
    },
    {
     "name": "stdout",
     "output_type": "stream",
     "text": [
      "Traceback (most recent call last):\n",
      "  File \"<ipython-input-3-0fbae45fdc0c>\", line 6, in evaluateGMM\n",
      "    resultDict, _ = gmm_utils.runGMM(args)\n",
      "  File \"/mnt/reds/projects/single-cell-sota/gmm/gmm_utils.py\", line 158, in runGMM\n",
      "    pc = PCA(n_components=params['pca_comp']).fit_transform(scaledDf)\n",
      "  File \"/opt/anaconda3/envs/astrohack/lib/python3.6/site-packages/sklearn/decomposition/pca.py\", line 359, in fit_transform\n",
      "    U, S, V = self._fit(X)\n",
      "  File \"/opt/anaconda3/envs/astrohack/lib/python3.6/site-packages/sklearn/decomposition/pca.py\", line 406, in _fit\n",
      "    return self._fit_full(X, n_components)\n",
      "  File \"/opt/anaconda3/envs/astrohack/lib/python3.6/site-packages/sklearn/decomposition/pca.py\", line 425, in _fit_full\n",
      "    % (n_components, min(n_samples, n_features)))\n",
      "ValueError: n_components=111 must be between 0 and min(n_samples, n_features)=60 with svd_solver='full'\n"
     ]
    },
    {
     "name": "stderr",
     "output_type": "stream",
     "text": [
      "/opt/anaconda3/envs/astrohack/lib/python3.6/site-packages/sklearn/preprocessing/data.py:625: DataConversionWarning: Data with input dtype int64 were all converted to float64 by StandardScaler.\n",
      "  return self.partial_fit(X, y)\n",
      "/opt/anaconda3/envs/astrohack/lib/python3.6/site-packages/sklearn/base.py:462: DataConversionWarning: Data with input dtype int64 were all converted to float64 by StandardScaler.\n",
      "  return self.fit(X, **fit_params).transform(X)\n"
     ]
    },
    {
     "name": "stdout",
     "output_type": "stream",
     "text": [
      "Traceback (most recent call last):\n",
      "  File \"<ipython-input-3-0fbae45fdc0c>\", line 6, in evaluateGMM\n",
      "    resultDict, _ = gmm_utils.runGMM(args)\n",
      "  File \"/mnt/reds/projects/single-cell-sota/gmm/gmm_utils.py\", line 158, in runGMM\n",
      "    pc = PCA(n_components=params['pca_comp']).fit_transform(scaledDf)\n",
      "  File \"/opt/anaconda3/envs/astrohack/lib/python3.6/site-packages/sklearn/decomposition/pca.py\", line 359, in fit_transform\n",
      "    U, S, V = self._fit(X)\n",
      "  File \"/opt/anaconda3/envs/astrohack/lib/python3.6/site-packages/sklearn/decomposition/pca.py\", line 406, in _fit\n",
      "    return self._fit_full(X, n_components)\n",
      "  File \"/opt/anaconda3/envs/astrohack/lib/python3.6/site-packages/sklearn/decomposition/pca.py\", line 425, in _fit_full\n",
      "    % (n_components, min(n_samples, n_features)))\n",
      "ValueError: n_components=83 must be between 0 and min(n_samples, n_features)=60 with svd_solver='full'\n"
     ]
    },
    {
     "name": "stderr",
     "output_type": "stream",
     "text": [
      "/opt/anaconda3/envs/astrohack/lib/python3.6/site-packages/sklearn/preprocessing/data.py:625: DataConversionWarning: Data with input dtype int64 were all converted to float64 by StandardScaler.\n",
      "  return self.partial_fit(X, y)\n",
      "/opt/anaconda3/envs/astrohack/lib/python3.6/site-packages/sklearn/base.py:462: DataConversionWarning: Data with input dtype int64 were all converted to float64 by StandardScaler.\n",
      "  return self.fit(X, **fit_params).transform(X)\n",
      "/opt/anaconda3/envs/astrohack/lib/python3.6/site-packages/sklearn/metrics/cluster/supervised.py:732: FutureWarning: The behavior of AMI will change in version 0.22. To match the behavior of 'v_measure_score', AMI will use average_method='arithmetic' by default.\n",
      "  FutureWarning)\n",
      "/opt/anaconda3/envs/astrohack/lib/python3.6/site-packages/sklearn/metrics/cluster/unsupervised.py:342: RuntimeWarning: divide by zero encountered in true_divide\n",
      "  score = (intra_dists[:, None] + intra_dists) / centroid_distances\n"
     ]
    },
    {
     "name": "stdout",
     "output_type": "stream",
     "text": [
      ">> Result: 0.8272327964860908\n"
     ]
    },
    {
     "name": "stderr",
     "output_type": "stream",
     "text": [
      "/opt/anaconda3/envs/astrohack/lib/python3.6/site-packages/sklearn/preprocessing/data.py:625: DataConversionWarning: Data with input dtype int64 were all converted to float64 by StandardScaler.\n",
      "  return self.partial_fit(X, y)\n",
      "/opt/anaconda3/envs/astrohack/lib/python3.6/site-packages/sklearn/base.py:462: DataConversionWarning: Data with input dtype int64 were all converted to float64 by StandardScaler.\n",
      "  return self.fit(X, **fit_params).transform(X)\n",
      "/opt/anaconda3/envs/astrohack/lib/python3.6/site-packages/sklearn/metrics/cluster/supervised.py:732: FutureWarning: The behavior of AMI will change in version 0.22. To match the behavior of 'v_measure_score', AMI will use average_method='arithmetic' by default.\n",
      "  FutureWarning)\n",
      "/opt/anaconda3/envs/astrohack/lib/python3.6/site-packages/sklearn/metrics/cluster/unsupervised.py:342: RuntimeWarning: divide by zero encountered in true_divide\n",
      "  score = (intra_dists[:, None] + intra_dists) / centroid_distances\n"
     ]
    },
    {
     "name": "stdout",
     "output_type": "stream",
     "text": [
      ">> Result: 0.8272327964860908\n",
      "Traceback (most recent call last):\n",
      "  File \"<ipython-input-3-0fbae45fdc0c>\", line 6, in evaluateGMM\n",
      "    resultDict, _ = gmm_utils.runGMM(args)\n",
      "  File \"/mnt/reds/projects/single-cell-sota/gmm/gmm_utils.py\", line 158, in runGMM\n",
      "    pc = PCA(n_components=params['pca_comp']).fit_transform(scaledDf)\n",
      "  File \"/opt/anaconda3/envs/astrohack/lib/python3.6/site-packages/sklearn/decomposition/pca.py\", line 359, in fit_transform\n",
      "    U, S, V = self._fit(X)\n",
      "  File \"/opt/anaconda3/envs/astrohack/lib/python3.6/site-packages/sklearn/decomposition/pca.py\", line 406, in _fit\n",
      "    return self._fit_full(X, n_components)\n",
      "  File \"/opt/anaconda3/envs/astrohack/lib/python3.6/site-packages/sklearn/decomposition/pca.py\", line 425, in _fit_full\n",
      "    % (n_components, min(n_samples, n_features)))\n",
      "ValueError: n_components=97 must be between 0 and min(n_samples, n_features)=60 with svd_solver='full'\n",
      "Traceback (most recent call last):\n",
      "  File \"<ipython-input-3-0fbae45fdc0c>\", line 6, in evaluateGMM\n",
      "    resultDict, _ = gmm_utils.runGMM(args)\n",
      "  File \"/mnt/reds/projects/single-cell-sota/gmm/gmm_utils.py\", line 158, in runGMM\n",
      "    pc = PCA(n_components=params['pca_comp']).fit_transform(scaledDf)\n",
      "  File \"/opt/anaconda3/envs/astrohack/lib/python3.6/site-packages/sklearn/decomposition/pca.py\", line 359, in fit_transform\n",
      "    U, S, V = self._fit(X)\n",
      "  File \"/opt/anaconda3/envs/astrohack/lib/python3.6/site-packages/sklearn/decomposition/pca.py\", line 406, in _fit\n",
      "    return self._fit_full(X, n_components)\n",
      "  File \"/opt/anaconda3/envs/astrohack/lib/python3.6/site-packages/sklearn/decomposition/pca.py\", line 425, in _fit_full\n",
      "    % (n_components, min(n_samples, n_features)))\n",
      "ValueError: n_components=207 must be between 0 and min(n_samples, n_features)=60 with svd_solver='full'\n"
     ]
    },
    {
     "name": "stderr",
     "output_type": "stream",
     "text": [
      "/opt/anaconda3/envs/astrohack/lib/python3.6/site-packages/sklearn/preprocessing/data.py:625: DataConversionWarning: Data with input dtype int64 were all converted to float64 by StandardScaler.\n",
      "  return self.partial_fit(X, y)\n",
      "/opt/anaconda3/envs/astrohack/lib/python3.6/site-packages/sklearn/base.py:462: DataConversionWarning: Data with input dtype int64 were all converted to float64 by StandardScaler.\n",
      "  return self.fit(X, **fit_params).transform(X)\n"
     ]
    },
    {
     "name": "stdout",
     "output_type": "stream",
     "text": [
      "Traceback (most recent call last):\n",
      "  File \"<ipython-input-3-0fbae45fdc0c>\", line 6, in evaluateGMM\n",
      "    resultDict, _ = gmm_utils.runGMM(args)\n",
      "  File \"/mnt/reds/projects/single-cell-sota/gmm/gmm_utils.py\", line 158, in runGMM\n",
      "    pc = PCA(n_components=params['pca_comp']).fit_transform(scaledDf)\n",
      "  File \"/opt/anaconda3/envs/astrohack/lib/python3.6/site-packages/sklearn/decomposition/pca.py\", line 359, in fit_transform\n",
      "    U, S, V = self._fit(X)\n",
      "  File \"/opt/anaconda3/envs/astrohack/lib/python3.6/site-packages/sklearn/decomposition/pca.py\", line 406, in _fit\n",
      "    return self._fit_full(X, n_components)\n",
      "  File \"/opt/anaconda3/envs/astrohack/lib/python3.6/site-packages/sklearn/decomposition/pca.py\", line 425, in _fit_full\n",
      "    % (n_components, min(n_samples, n_features)))\n",
      "ValueError: n_components=64 must be between 0 and min(n_samples, n_features)=60 with svd_solver='full'\n",
      "Index  90\n"
     ]
    },
    {
     "name": "stderr",
     "output_type": "stream",
     "text": [
      "/opt/anaconda3/envs/astrohack/lib/python3.6/site-packages/sklearn/preprocessing/data.py:625: DataConversionWarning: Data with input dtype int64 were all converted to float64 by StandardScaler.\n",
      "  return self.partial_fit(X, y)\n",
      "/opt/anaconda3/envs/astrohack/lib/python3.6/site-packages/sklearn/base.py:462: DataConversionWarning: Data with input dtype int64 were all converted to float64 by StandardScaler.\n",
      "  return self.fit(X, **fit_params).transform(X)\n"
     ]
    },
    {
     "name": "stdout",
     "output_type": "stream",
     "text": [
      "Traceback (most recent call last):\n",
      "  File \"<ipython-input-3-0fbae45fdc0c>\", line 6, in evaluateGMM\n",
      "    resultDict, _ = gmm_utils.runGMM(args)\n",
      "  File \"/mnt/reds/projects/single-cell-sota/gmm/gmm_utils.py\", line 158, in runGMM\n",
      "    pc = PCA(n_components=params['pca_comp']).fit_transform(scaledDf)\n",
      "  File \"/opt/anaconda3/envs/astrohack/lib/python3.6/site-packages/sklearn/decomposition/pca.py\", line 359, in fit_transform\n",
      "    U, S, V = self._fit(X)\n",
      "  File \"/opt/anaconda3/envs/astrohack/lib/python3.6/site-packages/sklearn/decomposition/pca.py\", line 406, in _fit\n",
      "    return self._fit_full(X, n_components)\n",
      "  File \"/opt/anaconda3/envs/astrohack/lib/python3.6/site-packages/sklearn/decomposition/pca.py\", line 425, in _fit_full\n",
      "    % (n_components, min(n_samples, n_features)))\n",
      "ValueError: n_components=89 must be between 0 and min(n_samples, n_features)=60 with svd_solver='full'\n"
     ]
    },
    {
     "name": "stderr",
     "output_type": "stream",
     "text": [
      "/opt/anaconda3/envs/astrohack/lib/python3.6/site-packages/sklearn/metrics/cluster/supervised.py:732: FutureWarning: The behavior of AMI will change in version 0.22. To match the behavior of 'v_measure_score', AMI will use average_method='arithmetic' by default.\n",
      "  FutureWarning)\n",
      "/opt/anaconda3/envs/astrohack/lib/python3.6/site-packages/sklearn/metrics/cluster/unsupervised.py:342: RuntimeWarning: divide by zero encountered in true_divide\n",
      "  score = (intra_dists[:, None] + intra_dists) / centroid_distances\n",
      "/opt/anaconda3/envs/astrohack/lib/python3.6/site-packages/sklearn/metrics/cluster/unsupervised.py:342: RuntimeWarning: invalid value encountered in true_divide\n",
      "  score = (intra_dists[:, None] + intra_dists) / centroid_distances\n"
     ]
    },
    {
     "name": "stdout",
     "output_type": "stream",
     "text": [
      ">> Result: 0.053188756497553225\n"
     ]
    },
    {
     "name": "stderr",
     "output_type": "stream",
     "text": [
      "/opt/anaconda3/envs/astrohack/lib/python3.6/site-packages/sklearn/preprocessing/data.py:625: DataConversionWarning: Data with input dtype int64 were all converted to float64 by StandardScaler.\n",
      "  return self.partial_fit(X, y)\n",
      "/opt/anaconda3/envs/astrohack/lib/python3.6/site-packages/sklearn/base.py:462: DataConversionWarning: Data with input dtype int64 were all converted to float64 by StandardScaler.\n",
      "  return self.fit(X, **fit_params).transform(X)\n",
      "/opt/anaconda3/envs/astrohack/lib/python3.6/site-packages/sklearn/metrics/cluster/supervised.py:732: FutureWarning: The behavior of AMI will change in version 0.22. To match the behavior of 'v_measure_score', AMI will use average_method='arithmetic' by default.\n",
      "  FutureWarning)\n",
      "/opt/anaconda3/envs/astrohack/lib/python3.6/site-packages/sklearn/metrics/cluster/unsupervised.py:342: RuntimeWarning: divide by zero encountered in true_divide\n",
      "  score = (intra_dists[:, None] + intra_dists) / centroid_distances\n",
      "/opt/anaconda3/envs/astrohack/lib/python3.6/site-packages/sklearn/metrics/cluster/unsupervised.py:342: RuntimeWarning: invalid value encountered in true_divide\n",
      "  score = (intra_dists[:, None] + intra_dists) / centroid_distances\n"
     ]
    },
    {
     "name": "stdout",
     "output_type": "stream",
     "text": [
      ">> Result: -0.007035311592735133\n"
     ]
    },
    {
     "name": "stderr",
     "output_type": "stream",
     "text": [
      "/opt/anaconda3/envs/astrohack/lib/python3.6/site-packages/sklearn/preprocessing/data.py:625: DataConversionWarning: Data with input dtype int64 were all converted to float64 by StandardScaler.\n",
      "  return self.partial_fit(X, y)\n",
      "/opt/anaconda3/envs/astrohack/lib/python3.6/site-packages/sklearn/base.py:462: DataConversionWarning: Data with input dtype int64 were all converted to float64 by StandardScaler.\n",
      "  return self.fit(X, **fit_params).transform(X)\n"
     ]
    },
    {
     "name": "stdout",
     "output_type": "stream",
     "text": [
      "Traceback (most recent call last):\n",
      "  File \"<ipython-input-3-0fbae45fdc0c>\", line 6, in evaluateGMM\n",
      "    resultDict, _ = gmm_utils.runGMM(args)\n",
      "  File \"/mnt/reds/projects/single-cell-sota/gmm/gmm_utils.py\", line 158, in runGMM\n",
      "    pc = PCA(n_components=params['pca_comp']).fit_transform(scaledDf)\n",
      "  File \"/opt/anaconda3/envs/astrohack/lib/python3.6/site-packages/sklearn/decomposition/pca.py\", line 359, in fit_transform\n",
      "    U, S, V = self._fit(X)\n",
      "  File \"/opt/anaconda3/envs/astrohack/lib/python3.6/site-packages/sklearn/decomposition/pca.py\", line 406, in _fit\n",
      "    return self._fit_full(X, n_components)\n",
      "  File \"/opt/anaconda3/envs/astrohack/lib/python3.6/site-packages/sklearn/decomposition/pca.py\", line 425, in _fit_full\n",
      "    % (n_components, min(n_samples, n_features)))\n",
      "ValueError: n_components=135 must be between 0 and min(n_samples, n_features)=60 with svd_solver='full'\n"
     ]
    },
    {
     "name": "stderr",
     "output_type": "stream",
     "text": [
      "/opt/anaconda3/envs/astrohack/lib/python3.6/site-packages/sklearn/preprocessing/data.py:625: DataConversionWarning: Data with input dtype int64 were all converted to float64 by StandardScaler.\n",
      "  return self.partial_fit(X, y)\n",
      "/opt/anaconda3/envs/astrohack/lib/python3.6/site-packages/sklearn/base.py:462: DataConversionWarning: Data with input dtype int64 were all converted to float64 by StandardScaler.\n",
      "  return self.fit(X, **fit_params).transform(X)\n"
     ]
    },
    {
     "name": "stdout",
     "output_type": "stream",
     "text": [
      "Traceback (most recent call last):\n",
      "  File \"<ipython-input-3-0fbae45fdc0c>\", line 6, in evaluateGMM\n",
      "    resultDict, _ = gmm_utils.runGMM(args)\n",
      "  File \"/mnt/reds/projects/single-cell-sota/gmm/gmm_utils.py\", line 158, in runGMM\n",
      "    pc = PCA(n_components=params['pca_comp']).fit_transform(scaledDf)\n",
      "  File \"/opt/anaconda3/envs/astrohack/lib/python3.6/site-packages/sklearn/decomposition/pca.py\", line 359, in fit_transform\n",
      "    U, S, V = self._fit(X)\n",
      "  File \"/opt/anaconda3/envs/astrohack/lib/python3.6/site-packages/sklearn/decomposition/pca.py\", line 406, in _fit\n",
      "    return self._fit_full(X, n_components)\n",
      "  File \"/opt/anaconda3/envs/astrohack/lib/python3.6/site-packages/sklearn/decomposition/pca.py\", line 425, in _fit_full\n",
      "    % (n_components, min(n_samples, n_features)))\n",
      "ValueError: n_components=74 must be between 0 and min(n_samples, n_features)=60 with svd_solver='full'\n",
      "Traceback (most recent call last):\n",
      "  File \"<ipython-input-3-0fbae45fdc0c>\", line 6, in evaluateGMM\n",
      "    resultDict, _ = gmm_utils.runGMM(args)\n",
      "  File \"/mnt/reds/projects/single-cell-sota/gmm/gmm_utils.py\", line 158, in runGMM\n",
      "    pc = PCA(n_components=params['pca_comp']).fit_transform(scaledDf)\n",
      "  File \"/opt/anaconda3/envs/astrohack/lib/python3.6/site-packages/sklearn/decomposition/pca.py\", line 359, in fit_transform\n",
      "    U, S, V = self._fit(X)\n",
      "  File \"/opt/anaconda3/envs/astrohack/lib/python3.6/site-packages/sklearn/decomposition/pca.py\", line 406, in _fit\n",
      "    return self._fit_full(X, n_components)\n",
      "  File \"/opt/anaconda3/envs/astrohack/lib/python3.6/site-packages/sklearn/decomposition/pca.py\", line 425, in _fit_full\n",
      "    % (n_components, min(n_samples, n_features)))\n",
      "ValueError: n_components=257 must be between 0 and min(n_samples, n_features)=60 with svd_solver='full'\n"
     ]
    },
    {
     "name": "stderr",
     "output_type": "stream",
     "text": [
      "/opt/anaconda3/envs/astrohack/lib/python3.6/site-packages/sklearn/preprocessing/data.py:625: DataConversionWarning: Data with input dtype int64 were all converted to float64 by StandardScaler.\n",
      "  return self.partial_fit(X, y)\n",
      "/opt/anaconda3/envs/astrohack/lib/python3.6/site-packages/sklearn/base.py:462: DataConversionWarning: Data with input dtype int64 were all converted to float64 by StandardScaler.\n",
      "  return self.fit(X, **fit_params).transform(X)\n"
     ]
    },
    {
     "name": "stdout",
     "output_type": "stream",
     "text": [
      "Traceback (most recent call last):\n",
      "  File \"<ipython-input-3-0fbae45fdc0c>\", line 6, in evaluateGMM\n",
      "    resultDict, _ = gmm_utils.runGMM(args)\n",
      "  File \"/mnt/reds/projects/single-cell-sota/gmm/gmm_utils.py\", line 158, in runGMM\n",
      "    pc = PCA(n_components=params['pca_comp']).fit_transform(scaledDf)\n",
      "  File \"/opt/anaconda3/envs/astrohack/lib/python3.6/site-packages/sklearn/decomposition/pca.py\", line 359, in fit_transform\n",
      "    U, S, V = self._fit(X)\n",
      "  File \"/opt/anaconda3/envs/astrohack/lib/python3.6/site-packages/sklearn/decomposition/pca.py\", line 406, in _fit\n",
      "    return self._fit_full(X, n_components)\n",
      "  File \"/opt/anaconda3/envs/astrohack/lib/python3.6/site-packages/sklearn/decomposition/pca.py\", line 425, in _fit_full\n",
      "    % (n_components, min(n_samples, n_features)))\n",
      "ValueError: n_components=106 must be between 0 and min(n_samples, n_features)=60 with svd_solver='full'\n",
      "Traceback (most recent call last):\n",
      "  File \"<ipython-input-3-0fbae45fdc0c>\", line 6, in evaluateGMM\n",
      "    resultDict, _ = gmm_utils.runGMM(args)\n",
      "  File \"/mnt/reds/projects/single-cell-sota/gmm/gmm_utils.py\", line 158, in runGMM\n",
      "    pc = PCA(n_components=params['pca_comp']).fit_transform(scaledDf)\n",
      "  File \"/opt/anaconda3/envs/astrohack/lib/python3.6/site-packages/sklearn/decomposition/pca.py\", line 359, in fit_transform\n",
      "    U, S, V = self._fit(X)\n",
      "  File \"/opt/anaconda3/envs/astrohack/lib/python3.6/site-packages/sklearn/decomposition/pca.py\", line 406, in _fit\n",
      "    return self._fit_full(X, n_components)\n",
      "  File \"/opt/anaconda3/envs/astrohack/lib/python3.6/site-packages/sklearn/decomposition/pca.py\", line 425, in _fit_full\n",
      "    % (n_components, min(n_samples, n_features)))\n",
      "ValueError: n_components=121 must be between 0 and min(n_samples, n_features)=60 with svd_solver='full'\n"
     ]
    },
    {
     "name": "stderr",
     "output_type": "stream",
     "text": [
      "/opt/anaconda3/envs/astrohack/lib/python3.6/site-packages/sklearn/preprocessing/data.py:625: DataConversionWarning: Data with input dtype int64 were all converted to float64 by StandardScaler.\n",
      "  return self.partial_fit(X, y)\n",
      "/opt/anaconda3/envs/astrohack/lib/python3.6/site-packages/sklearn/base.py:462: DataConversionWarning: Data with input dtype int64 were all converted to float64 by StandardScaler.\n",
      "  return self.fit(X, **fit_params).transform(X)\n"
     ]
    },
    {
     "name": "stdout",
     "output_type": "stream",
     "text": [
      "Traceback (most recent call last):\n",
      "  File \"<ipython-input-3-0fbae45fdc0c>\", line 6, in evaluateGMM\n",
      "    resultDict, _ = gmm_utils.runGMM(args)\n",
      "  File \"/mnt/reds/projects/single-cell-sota/gmm/gmm_utils.py\", line 158, in runGMM\n",
      "    pc = PCA(n_components=params['pca_comp']).fit_transform(scaledDf)\n",
      "  File \"/opt/anaconda3/envs/astrohack/lib/python3.6/site-packages/sklearn/decomposition/pca.py\", line 359, in fit_transform\n",
      "    U, S, V = self._fit(X)\n",
      "  File \"/opt/anaconda3/envs/astrohack/lib/python3.6/site-packages/sklearn/decomposition/pca.py\", line 406, in _fit\n",
      "    return self._fit_full(X, n_components)\n",
      "  File \"/opt/anaconda3/envs/astrohack/lib/python3.6/site-packages/sklearn/decomposition/pca.py\", line 425, in _fit_full\n",
      "    % (n_components, min(n_samples, n_features)))\n",
      "ValueError: n_components=181 must be between 0 and min(n_samples, n_features)=60 with svd_solver='full'\n",
      "Traceback (most recent call last):\n",
      "  File \"/opt/anaconda3/envs/astrohack/lib/python3.6/site-packages/sklearn/mixture/gaussian_mixture.py\", line 318, in _compute_precision_cholesky\n",
      "    cov_chol = linalg.cholesky(covariance, lower=True)\n",
      "  File \"/opt/anaconda3/envs/astrohack/lib/python3.6/site-packages/scipy/linalg/decomp_cholesky.py\", line 91, in cholesky\n",
      "    check_finite=check_finite)\n",
      "  File \"/opt/anaconda3/envs/astrohack/lib/python3.6/site-packages/scipy/linalg/decomp_cholesky.py\", line 40, in _cholesky\n",
      "    \"definite\" % info)\n",
      "numpy.linalg.linalg.LinAlgError: 12-th leading minor of the array is not positive definite\n",
      "\n",
      "During handling of the above exception, another exception occurred:\n",
      "\n",
      "Traceback (most recent call last):\n",
      "  File \"<ipython-input-3-0fbae45fdc0c>\", line 6, in evaluateGMM\n",
      "    resultDict, _ = gmm_utils.runGMM(args)\n",
      "  File \"/mnt/reds/projects/single-cell-sota/gmm/gmm_utils.py\", line 160, in runGMM\n",
      "    model = GaussianMixture(params['nb_clusters'] , covariance_type ='full', random_state = 0).fit(pc)\n",
      "  File \"/opt/anaconda3/envs/astrohack/lib/python3.6/site-packages/sklearn/mixture/base.py\", line 194, in fit\n",
      "    self.fit_predict(X, y)\n",
      "  File \"/opt/anaconda3/envs/astrohack/lib/python3.6/site-packages/sklearn/mixture/base.py\", line 237, in fit_predict\n",
      "    self._initialize_parameters(X, random_state)\n",
      "  File \"/opt/anaconda3/envs/astrohack/lib/python3.6/site-packages/sklearn/mixture/base.py\", line 158, in _initialize_parameters\n",
      "    self._initialize(X, resp)\n",
      "  File \"/opt/anaconda3/envs/astrohack/lib/python3.6/site-packages/sklearn/mixture/gaussian_mixture.py\", line 650, in _initialize\n",
      "    covariances, self.covariance_type)\n",
      "  File \"/opt/anaconda3/envs/astrohack/lib/python3.6/site-packages/sklearn/mixture/gaussian_mixture.py\", line 320, in _compute_precision_cholesky\n",
      "    raise ValueError(estimate_precision_error_message)\n",
      "ValueError: Fitting the mixture model failed because some components have ill-defined empirical covariance (for instance caused by singleton or collapsed samples). Try to decrease the number of components, or increase reg_covar.\n",
      "Index  100\n"
     ]
    },
    {
     "name": "stderr",
     "output_type": "stream",
     "text": [
      "/opt/anaconda3/envs/astrohack/lib/python3.6/site-packages/sklearn/preprocessing/data.py:625: DataConversionWarning: Data with input dtype int64 were all converted to float64 by StandardScaler.\n",
      "  return self.partial_fit(X, y)\n",
      "/opt/anaconda3/envs/astrohack/lib/python3.6/site-packages/sklearn/base.py:462: DataConversionWarning: Data with input dtype int64 were all converted to float64 by StandardScaler.\n",
      "  return self.fit(X, **fit_params).transform(X)\n",
      "/opt/anaconda3/envs/astrohack/lib/python3.6/site-packages/sklearn/metrics/cluster/supervised.py:732: FutureWarning: The behavior of AMI will change in version 0.22. To match the behavior of 'v_measure_score', AMI will use average_method='arithmetic' by default.\n",
      "  FutureWarning)\n",
      "/opt/anaconda3/envs/astrohack/lib/python3.6/site-packages/sklearn/metrics/cluster/unsupervised.py:342: RuntimeWarning: divide by zero encountered in true_divide\n",
      "  score = (intra_dists[:, None] + intra_dists) / centroid_distances\n",
      "/opt/anaconda3/envs/astrohack/lib/python3.6/site-packages/sklearn/metrics/cluster/unsupervised.py:342: RuntimeWarning: invalid value encountered in true_divide\n",
      "  score = (intra_dists[:, None] + intra_dists) / centroid_distances\n"
     ]
    },
    {
     "name": "stdout",
     "output_type": "stream",
     "text": [
      ">> Result: 0.0034948589086120233\n"
     ]
    },
    {
     "name": "stderr",
     "output_type": "stream",
     "text": [
      "/opt/anaconda3/envs/astrohack/lib/python3.6/site-packages/sklearn/preprocessing/data.py:625: DataConversionWarning: Data with input dtype int64 were all converted to float64 by StandardScaler.\n",
      "  return self.partial_fit(X, y)\n",
      "/opt/anaconda3/envs/astrohack/lib/python3.6/site-packages/sklearn/base.py:462: DataConversionWarning: Data with input dtype int64 were all converted to float64 by StandardScaler.\n",
      "  return self.fit(X, **fit_params).transform(X)\n",
      "/opt/anaconda3/envs/astrohack/lib/python3.6/site-packages/sklearn/metrics/cluster/supervised.py:732: FutureWarning: The behavior of AMI will change in version 0.22. To match the behavior of 'v_measure_score', AMI will use average_method='arithmetic' by default.\n",
      "  FutureWarning)\n",
      "/opt/anaconda3/envs/astrohack/lib/python3.6/site-packages/sklearn/metrics/cluster/unsupervised.py:342: RuntimeWarning: divide by zero encountered in true_divide\n",
      "  score = (intra_dists[:, None] + intra_dists) / centroid_distances\n"
     ]
    },
    {
     "name": "stdout",
     "output_type": "stream",
     "text": [
      ">> Result: 0.9433574624143161\n"
     ]
    },
    {
     "name": "stderr",
     "output_type": "stream",
     "text": [
      "/opt/anaconda3/envs/astrohack/lib/python3.6/site-packages/sklearn/preprocessing/data.py:625: DataConversionWarning: Data with input dtype int64 were all converted to float64 by StandardScaler.\n",
      "  return self.partial_fit(X, y)\n",
      "/opt/anaconda3/envs/astrohack/lib/python3.6/site-packages/sklearn/base.py:462: DataConversionWarning: Data with input dtype int64 were all converted to float64 by StandardScaler.\n",
      "  return self.fit(X, **fit_params).transform(X)\n",
      "/opt/anaconda3/envs/astrohack/lib/python3.6/site-packages/sklearn/metrics/cluster/supervised.py:732: FutureWarning: The behavior of AMI will change in version 0.22. To match the behavior of 'v_measure_score', AMI will use average_method='arithmetic' by default.\n",
      "  FutureWarning)\n",
      "/opt/anaconda3/envs/astrohack/lib/python3.6/site-packages/sklearn/metrics/cluster/unsupervised.py:342: RuntimeWarning: divide by zero encountered in true_divide\n",
      "  score = (intra_dists[:, None] + intra_dists) / centroid_distances\n",
      "/opt/anaconda3/envs/astrohack/lib/python3.6/site-packages/sklearn/metrics/cluster/unsupervised.py:342: RuntimeWarning: invalid value encountered in true_divide\n",
      "  score = (intra_dists[:, None] + intra_dists) / centroid_distances\n"
     ]
    },
    {
     "name": "stdout",
     "output_type": "stream",
     "text": [
      ">> Result: 0.8909650124413409\n"
     ]
    },
    {
     "name": "stderr",
     "output_type": "stream",
     "text": [
      "/opt/anaconda3/envs/astrohack/lib/python3.6/site-packages/sklearn/preprocessing/data.py:625: DataConversionWarning: Data with input dtype int64 were all converted to float64 by StandardScaler.\n",
      "  return self.partial_fit(X, y)\n",
      "/opt/anaconda3/envs/astrohack/lib/python3.6/site-packages/sklearn/base.py:462: DataConversionWarning: Data with input dtype int64 were all converted to float64 by StandardScaler.\n",
      "  return self.fit(X, **fit_params).transform(X)\n",
      "/opt/anaconda3/envs/astrohack/lib/python3.6/site-packages/sklearn/metrics/cluster/supervised.py:732: FutureWarning: The behavior of AMI will change in version 0.22. To match the behavior of 'v_measure_score', AMI will use average_method='arithmetic' by default.\n",
      "  FutureWarning)\n",
      "/opt/anaconda3/envs/astrohack/lib/python3.6/site-packages/sklearn/metrics/cluster/unsupervised.py:342: RuntimeWarning: divide by zero encountered in true_divide\n",
      "  score = (intra_dists[:, None] + intra_dists) / centroid_distances\n"
     ]
    },
    {
     "name": "stdout",
     "output_type": "stream",
     "text": [
      ">> Result: 0.9135252389048485\n",
      "Traceback (most recent call last):\n",
      "  File \"/opt/anaconda3/envs/astrohack/lib/python3.6/site-packages/sklearn/mixture/gaussian_mixture.py\", line 318, in _compute_precision_cholesky\n",
      "    cov_chol = linalg.cholesky(covariance, lower=True)\n",
      "  File \"/opt/anaconda3/envs/astrohack/lib/python3.6/site-packages/scipy/linalg/decomp_cholesky.py\", line 91, in cholesky\n",
      "    check_finite=check_finite)\n",
      "  File \"/opt/anaconda3/envs/astrohack/lib/python3.6/site-packages/scipy/linalg/decomp_cholesky.py\", line 40, in _cholesky\n",
      "    \"definite\" % info)\n",
      "numpy.linalg.linalg.LinAlgError: 6-th leading minor of the array is not positive definite\n",
      "\n",
      "During handling of the above exception, another exception occurred:\n",
      "\n",
      "Traceback (most recent call last):\n",
      "  File \"<ipython-input-3-0fbae45fdc0c>\", line 6, in evaluateGMM\n",
      "    resultDict, _ = gmm_utils.runGMM(args)\n",
      "  File \"/mnt/reds/projects/single-cell-sota/gmm/gmm_utils.py\", line 160, in runGMM\n",
      "    model = GaussianMixture(params['nb_clusters'] , covariance_type ='full', random_state = 0).fit(pc)\n",
      "  File \"/opt/anaconda3/envs/astrohack/lib/python3.6/site-packages/sklearn/mixture/base.py\", line 194, in fit\n",
      "    self.fit_predict(X, y)\n",
      "  File \"/opt/anaconda3/envs/astrohack/lib/python3.6/site-packages/sklearn/mixture/base.py\", line 237, in fit_predict\n",
      "    self._initialize_parameters(X, random_state)\n",
      "  File \"/opt/anaconda3/envs/astrohack/lib/python3.6/site-packages/sklearn/mixture/base.py\", line 158, in _initialize_parameters\n",
      "    self._initialize(X, resp)\n",
      "  File \"/opt/anaconda3/envs/astrohack/lib/python3.6/site-packages/sklearn/mixture/gaussian_mixture.py\", line 650, in _initialize\n",
      "    covariances, self.covariance_type)\n",
      "  File \"/opt/anaconda3/envs/astrohack/lib/python3.6/site-packages/sklearn/mixture/gaussian_mixture.py\", line 320, in _compute_precision_cholesky\n",
      "    raise ValueError(estimate_precision_error_message)\n",
      "ValueError: Fitting the mixture model failed because some components have ill-defined empirical covariance (for instance caused by singleton or collapsed samples). Try to decrease the number of components, or increase reg_covar.\n"
     ]
    },
    {
     "name": "stderr",
     "output_type": "stream",
     "text": [
      "/opt/anaconda3/envs/astrohack/lib/python3.6/site-packages/sklearn/metrics/cluster/supervised.py:732: FutureWarning: The behavior of AMI will change in version 0.22. To match the behavior of 'v_measure_score', AMI will use average_method='arithmetic' by default.\n",
      "  FutureWarning)\n",
      "/opt/anaconda3/envs/astrohack/lib/python3.6/site-packages/sklearn/metrics/cluster/unsupervised.py:342: RuntimeWarning: divide by zero encountered in true_divide\n",
      "  score = (intra_dists[:, None] + intra_dists) / centroid_distances\n",
      "/opt/anaconda3/envs/astrohack/lib/python3.6/site-packages/sklearn/metrics/cluster/unsupervised.py:342: RuntimeWarning: invalid value encountered in true_divide\n",
      "  score = (intra_dists[:, None] + intra_dists) / centroid_distances\n"
     ]
    },
    {
     "name": "stdout",
     "output_type": "stream",
     "text": [
      ">> Result: 0.02391960622981445\n"
     ]
    },
    {
     "name": "stderr",
     "output_type": "stream",
     "text": [
      "/opt/anaconda3/envs/astrohack/lib/python3.6/site-packages/sklearn/preprocessing/data.py:625: DataConversionWarning: Data with input dtype int64 were all converted to float64 by StandardScaler.\n",
      "  return self.partial_fit(X, y)\n",
      "/opt/anaconda3/envs/astrohack/lib/python3.6/site-packages/sklearn/base.py:462: DataConversionWarning: Data with input dtype int64 were all converted to float64 by StandardScaler.\n",
      "  return self.fit(X, **fit_params).transform(X)\n",
      "/opt/anaconda3/envs/astrohack/lib/python3.6/site-packages/sklearn/metrics/cluster/supervised.py:732: FutureWarning: The behavior of AMI will change in version 0.22. To match the behavior of 'v_measure_score', AMI will use average_method='arithmetic' by default.\n",
      "  FutureWarning)\n",
      "/opt/anaconda3/envs/astrohack/lib/python3.6/site-packages/sklearn/metrics/cluster/unsupervised.py:342: RuntimeWarning: divide by zero encountered in true_divide\n",
      "  score = (intra_dists[:, None] + intra_dists) / centroid_distances\n",
      "/opt/anaconda3/envs/astrohack/lib/python3.6/site-packages/sklearn/metrics/cluster/unsupervised.py:342: RuntimeWarning: invalid value encountered in true_divide\n",
      "  score = (intra_dists[:, None] + intra_dists) / centroid_distances\n"
     ]
    },
    {
     "name": "stdout",
     "output_type": "stream",
     "text": [
      ">> Result: 0.9135252389048485\n"
     ]
    },
    {
     "name": "stderr",
     "output_type": "stream",
     "text": [
      "/opt/anaconda3/envs/astrohack/lib/python3.6/site-packages/sklearn/metrics/cluster/supervised.py:732: FutureWarning: The behavior of AMI will change in version 0.22. To match the behavior of 'v_measure_score', AMI will use average_method='arithmetic' by default.\n",
      "  FutureWarning)\n",
      "/opt/anaconda3/envs/astrohack/lib/python3.6/site-packages/sklearn/metrics/cluster/unsupervised.py:342: RuntimeWarning: divide by zero encountered in true_divide\n",
      "  score = (intra_dists[:, None] + intra_dists) / centroid_distances\n",
      "/opt/anaconda3/envs/astrohack/lib/python3.6/site-packages/sklearn/metrics/cluster/unsupervised.py:342: RuntimeWarning: invalid value encountered in true_divide\n",
      "  score = (intra_dists[:, None] + intra_dists) / centroid_distances\n"
     ]
    },
    {
     "name": "stdout",
     "output_type": "stream",
     "text": [
      ">> Result: 0.4785859959211421\n"
     ]
    },
    {
     "name": "stderr",
     "output_type": "stream",
     "text": [
      "/opt/anaconda3/envs/astrohack/lib/python3.6/site-packages/sklearn/preprocessing/data.py:625: DataConversionWarning: Data with input dtype int64 were all converted to float64 by StandardScaler.\n",
      "  return self.partial_fit(X, y)\n",
      "/opt/anaconda3/envs/astrohack/lib/python3.6/site-packages/sklearn/base.py:462: DataConversionWarning: Data with input dtype int64 were all converted to float64 by StandardScaler.\n",
      "  return self.fit(X, **fit_params).transform(X)\n",
      "/opt/anaconda3/envs/astrohack/lib/python3.6/site-packages/sklearn/metrics/cluster/supervised.py:732: FutureWarning: The behavior of AMI will change in version 0.22. To match the behavior of 'v_measure_score', AMI will use average_method='arithmetic' by default.\n",
      "  FutureWarning)\n",
      "/opt/anaconda3/envs/astrohack/lib/python3.6/site-packages/sklearn/metrics/cluster/unsupervised.py:342: RuntimeWarning: divide by zero encountered in true_divide\n",
      "  score = (intra_dists[:, None] + intra_dists) / centroid_distances\n",
      "/opt/anaconda3/envs/astrohack/lib/python3.6/site-packages/sklearn/metrics/cluster/unsupervised.py:342: RuntimeWarning: invalid value encountered in true_divide\n",
      "  score = (intra_dists[:, None] + intra_dists) / centroid_distances\n"
     ]
    },
    {
     "name": "stdout",
     "output_type": "stream",
     "text": [
      ">> Result: 0.9607615862580045\n"
     ]
    },
    {
     "name": "stderr",
     "output_type": "stream",
     "text": [
      "/opt/anaconda3/envs/astrohack/lib/python3.6/site-packages/sklearn/preprocessing/data.py:625: DataConversionWarning: Data with input dtype int64 were all converted to float64 by StandardScaler.\n",
      "  return self.partial_fit(X, y)\n",
      "/opt/anaconda3/envs/astrohack/lib/python3.6/site-packages/sklearn/base.py:462: DataConversionWarning: Data with input dtype int64 were all converted to float64 by StandardScaler.\n",
      "  return self.fit(X, **fit_params).transform(X)\n",
      "/opt/anaconda3/envs/astrohack/lib/python3.6/site-packages/sklearn/metrics/cluster/supervised.py:732: FutureWarning: The behavior of AMI will change in version 0.22. To match the behavior of 'v_measure_score', AMI will use average_method='arithmetic' by default.\n",
      "  FutureWarning)\n",
      "/opt/anaconda3/envs/astrohack/lib/python3.6/site-packages/sklearn/metrics/cluster/unsupervised.py:342: RuntimeWarning: divide by zero encountered in true_divide\n",
      "  score = (intra_dists[:, None] + intra_dists) / centroid_distances\n",
      "/opt/anaconda3/envs/astrohack/lib/python3.6/site-packages/sklearn/metrics/cluster/unsupervised.py:342: RuntimeWarning: invalid value encountered in true_divide\n",
      "  score = (intra_dists[:, None] + intra_dists) / centroid_distances\n"
     ]
    },
    {
     "name": "stdout",
     "output_type": "stream",
     "text": [
      ">> Result: 0.008706937718442493\n",
      "Index  110\n"
     ]
    },
    {
     "name": "stderr",
     "output_type": "stream",
     "text": [
      "/opt/anaconda3/envs/astrohack/lib/python3.6/site-packages/sklearn/preprocessing/data.py:625: DataConversionWarning: Data with input dtype int64 were all converted to float64 by StandardScaler.\n",
      "  return self.partial_fit(X, y)\n",
      "/opt/anaconda3/envs/astrohack/lib/python3.6/site-packages/sklearn/base.py:462: DataConversionWarning: Data with input dtype int64 were all converted to float64 by StandardScaler.\n",
      "  return self.fit(X, **fit_params).transform(X)\n",
      "/opt/anaconda3/envs/astrohack/lib/python3.6/site-packages/sklearn/metrics/cluster/supervised.py:732: FutureWarning: The behavior of AMI will change in version 0.22. To match the behavior of 'v_measure_score', AMI will use average_method='arithmetic' by default.\n",
      "  FutureWarning)\n",
      "/opt/anaconda3/envs/astrohack/lib/python3.6/site-packages/sklearn/metrics/cluster/unsupervised.py:342: RuntimeWarning: divide by zero encountered in true_divide\n",
      "  score = (intra_dists[:, None] + intra_dists) / centroid_distances\n",
      "/opt/anaconda3/envs/astrohack/lib/python3.6/site-packages/sklearn/metrics/cluster/unsupervised.py:342: RuntimeWarning: invalid value encountered in true_divide\n",
      "  score = (intra_dists[:, None] + intra_dists) / centroid_distances\n"
     ]
    },
    {
     "name": "stdout",
     "output_type": "stream",
     "text": [
      ">> Result: 0.7517596468583083\n"
     ]
    },
    {
     "name": "stderr",
     "output_type": "stream",
     "text": [
      "/opt/anaconda3/envs/astrohack/lib/python3.6/site-packages/sklearn/preprocessing/data.py:625: DataConversionWarning: Data with input dtype int64 were all converted to float64 by StandardScaler.\n",
      "  return self.partial_fit(X, y)\n",
      "/opt/anaconda3/envs/astrohack/lib/python3.6/site-packages/sklearn/base.py:462: DataConversionWarning: Data with input dtype int64 were all converted to float64 by StandardScaler.\n",
      "  return self.fit(X, **fit_params).transform(X)\n"
     ]
    },
    {
     "name": "stdout",
     "output_type": "stream",
     "text": [
      "Traceback (most recent call last):\n",
      "  File \"<ipython-input-3-0fbae45fdc0c>\", line 6, in evaluateGMM\n",
      "    resultDict, _ = gmm_utils.runGMM(args)\n",
      "  File \"/mnt/reds/projects/single-cell-sota/gmm/gmm_utils.py\", line 158, in runGMM\n",
      "    pc = PCA(n_components=params['pca_comp']).fit_transform(scaledDf)\n",
      "  File \"/opt/anaconda3/envs/astrohack/lib/python3.6/site-packages/sklearn/decomposition/pca.py\", line 359, in fit_transform\n",
      "    U, S, V = self._fit(X)\n",
      "  File \"/opt/anaconda3/envs/astrohack/lib/python3.6/site-packages/sklearn/decomposition/pca.py\", line 406, in _fit\n",
      "    return self._fit_full(X, n_components)\n",
      "  File \"/opt/anaconda3/envs/astrohack/lib/python3.6/site-packages/sklearn/decomposition/pca.py\", line 425, in _fit_full\n",
      "    % (n_components, min(n_samples, n_features)))\n",
      "ValueError: n_components=220 must be between 0 and min(n_samples, n_features)=60 with svd_solver='full'\n",
      "Traceback (most recent call last):\n",
      "  File \"/opt/anaconda3/envs/astrohack/lib/python3.6/site-packages/sklearn/mixture/gaussian_mixture.py\", line 318, in _compute_precision_cholesky\n",
      "    cov_chol = linalg.cholesky(covariance, lower=True)\n",
      "  File \"/opt/anaconda3/envs/astrohack/lib/python3.6/site-packages/scipy/linalg/decomp_cholesky.py\", line 91, in cholesky\n",
      "    check_finite=check_finite)\n",
      "  File \"/opt/anaconda3/envs/astrohack/lib/python3.6/site-packages/scipy/linalg/decomp_cholesky.py\", line 40, in _cholesky\n",
      "    \"definite\" % info)\n",
      "numpy.linalg.linalg.LinAlgError: 6-th leading minor of the array is not positive definite\n",
      "\n",
      "During handling of the above exception, another exception occurred:\n",
      "\n",
      "Traceback (most recent call last):\n",
      "  File \"<ipython-input-3-0fbae45fdc0c>\", line 6, in evaluateGMM\n",
      "    resultDict, _ = gmm_utils.runGMM(args)\n",
      "  File \"/mnt/reds/projects/single-cell-sota/gmm/gmm_utils.py\", line 160, in runGMM\n",
      "    model = GaussianMixture(params['nb_clusters'] , covariance_type ='full', random_state = 0).fit(pc)\n",
      "  File \"/opt/anaconda3/envs/astrohack/lib/python3.6/site-packages/sklearn/mixture/base.py\", line 194, in fit\n",
      "    self.fit_predict(X, y)\n",
      "  File \"/opt/anaconda3/envs/astrohack/lib/python3.6/site-packages/sklearn/mixture/base.py\", line 237, in fit_predict\n",
      "    self._initialize_parameters(X, random_state)\n",
      "  File \"/opt/anaconda3/envs/astrohack/lib/python3.6/site-packages/sklearn/mixture/base.py\", line 158, in _initialize_parameters\n",
      "    self._initialize(X, resp)\n",
      "  File \"/opt/anaconda3/envs/astrohack/lib/python3.6/site-packages/sklearn/mixture/gaussian_mixture.py\", line 650, in _initialize\n",
      "    covariances, self.covariance_type)\n",
      "  File \"/opt/anaconda3/envs/astrohack/lib/python3.6/site-packages/sklearn/mixture/gaussian_mixture.py\", line 320, in _compute_precision_cholesky\n",
      "    raise ValueError(estimate_precision_error_message)\n",
      "ValueError: Fitting the mixture model failed because some components have ill-defined empirical covariance (for instance caused by singleton or collapsed samples). Try to decrease the number of components, or increase reg_covar.\n",
      "Traceback (most recent call last):\n",
      "  File \"<ipython-input-3-0fbae45fdc0c>\", line 6, in evaluateGMM\n",
      "    resultDict, _ = gmm_utils.runGMM(args)\n",
      "  File \"/mnt/reds/projects/single-cell-sota/gmm/gmm_utils.py\", line 158, in runGMM\n",
      "    pc = PCA(n_components=params['pca_comp']).fit_transform(scaledDf)\n",
      "  File \"/opt/anaconda3/envs/astrohack/lib/python3.6/site-packages/sklearn/decomposition/pca.py\", line 359, in fit_transform\n",
      "    U, S, V = self._fit(X)\n",
      "  File \"/opt/anaconda3/envs/astrohack/lib/python3.6/site-packages/sklearn/decomposition/pca.py\", line 406, in _fit\n",
      "    return self._fit_full(X, n_components)\n",
      "  File \"/opt/anaconda3/envs/astrohack/lib/python3.6/site-packages/sklearn/decomposition/pca.py\", line 425, in _fit_full\n",
      "    % (n_components, min(n_samples, n_features)))\n",
      "ValueError: n_components=157 must be between 0 and min(n_samples, n_features)=60 with svd_solver='full'\n"
     ]
    },
    {
     "name": "stderr",
     "output_type": "stream",
     "text": [
      "/opt/anaconda3/envs/astrohack/lib/python3.6/site-packages/sklearn/preprocessing/data.py:625: DataConversionWarning: Data with input dtype int64 were all converted to float64 by StandardScaler.\n",
      "  return self.partial_fit(X, y)\n",
      "/opt/anaconda3/envs/astrohack/lib/python3.6/site-packages/sklearn/base.py:462: DataConversionWarning: Data with input dtype int64 were all converted to float64 by StandardScaler.\n",
      "  return self.fit(X, **fit_params).transform(X)\n",
      "/opt/anaconda3/envs/astrohack/lib/python3.6/site-packages/sklearn/metrics/cluster/supervised.py:732: FutureWarning: The behavior of AMI will change in version 0.22. To match the behavior of 'v_measure_score', AMI will use average_method='arithmetic' by default.\n",
      "  FutureWarning)\n",
      "/opt/anaconda3/envs/astrohack/lib/python3.6/site-packages/sklearn/metrics/cluster/unsupervised.py:342: RuntimeWarning: divide by zero encountered in true_divide\n",
      "  score = (intra_dists[:, None] + intra_dists) / centroid_distances\n",
      "/opt/anaconda3/envs/astrohack/lib/python3.6/site-packages/sklearn/metrics/cluster/unsupervised.py:342: RuntimeWarning: invalid value encountered in true_divide\n",
      "  score = (intra_dists[:, None] + intra_dists) / centroid_distances\n"
     ]
    },
    {
     "name": "stdout",
     "output_type": "stream",
     "text": [
      ">> Result: 0.901293128899561\n"
     ]
    },
    {
     "name": "stderr",
     "output_type": "stream",
     "text": [
      "/opt/anaconda3/envs/astrohack/lib/python3.6/site-packages/sklearn/preprocessing/data.py:625: DataConversionWarning: Data with input dtype int64 were all converted to float64 by StandardScaler.\n",
      "  return self.partial_fit(X, y)\n",
      "/opt/anaconda3/envs/astrohack/lib/python3.6/site-packages/sklearn/base.py:462: DataConversionWarning: Data with input dtype int64 were all converted to float64 by StandardScaler.\n",
      "  return self.fit(X, **fit_params).transform(X)\n"
     ]
    },
    {
     "name": "stdout",
     "output_type": "stream",
     "text": [
      "Traceback (most recent call last):\n",
      "  File \"<ipython-input-3-0fbae45fdc0c>\", line 6, in evaluateGMM\n",
      "    resultDict, _ = gmm_utils.runGMM(args)\n",
      "  File \"/mnt/reds/projects/single-cell-sota/gmm/gmm_utils.py\", line 158, in runGMM\n",
      "    pc = PCA(n_components=params['pca_comp']).fit_transform(scaledDf)\n",
      "  File \"/opt/anaconda3/envs/astrohack/lib/python3.6/site-packages/sklearn/decomposition/pca.py\", line 359, in fit_transform\n",
      "    U, S, V = self._fit(X)\n",
      "  File \"/opt/anaconda3/envs/astrohack/lib/python3.6/site-packages/sklearn/decomposition/pca.py\", line 406, in _fit\n",
      "    return self._fit_full(X, n_components)\n",
      "  File \"/opt/anaconda3/envs/astrohack/lib/python3.6/site-packages/sklearn/decomposition/pca.py\", line 425, in _fit_full\n",
      "    % (n_components, min(n_samples, n_features)))\n",
      "ValueError: n_components=194 must be between 0 and min(n_samples, n_features)=60 with svd_solver='full'\n",
      "Traceback (most recent call last):\n",
      "  File \"<ipython-input-3-0fbae45fdc0c>\", line 6, in evaluateGMM\n",
      "    resultDict, _ = gmm_utils.runGMM(args)\n",
      "  File \"/mnt/reds/projects/single-cell-sota/gmm/gmm_utils.py\", line 158, in runGMM\n",
      "    pc = PCA(n_components=params['pca_comp']).fit_transform(scaledDf)\n",
      "  File \"/opt/anaconda3/envs/astrohack/lib/python3.6/site-packages/sklearn/decomposition/pca.py\", line 359, in fit_transform\n",
      "    U, S, V = self._fit(X)\n",
      "  File \"/opt/anaconda3/envs/astrohack/lib/python3.6/site-packages/sklearn/decomposition/pca.py\", line 406, in _fit\n",
      "    return self._fit_full(X, n_components)\n",
      "  File \"/opt/anaconda3/envs/astrohack/lib/python3.6/site-packages/sklearn/decomposition/pca.py\", line 425, in _fit_full\n",
      "    % (n_components, min(n_samples, n_features)))\n",
      "ValueError: n_components=148 must be between 0 and min(n_samples, n_features)=60 with svd_solver='full'\n"
     ]
    },
    {
     "name": "stderr",
     "output_type": "stream",
     "text": [
      "/opt/anaconda3/envs/astrohack/lib/python3.6/site-packages/sklearn/preprocessing/data.py:625: DataConversionWarning: Data with input dtype int64 were all converted to float64 by StandardScaler.\n",
      "  return self.partial_fit(X, y)\n",
      "/opt/anaconda3/envs/astrohack/lib/python3.6/site-packages/sklearn/base.py:462: DataConversionWarning: Data with input dtype int64 were all converted to float64 by StandardScaler.\n",
      "  return self.fit(X, **fit_params).transform(X)\n"
     ]
    },
    {
     "name": "stdout",
     "output_type": "stream",
     "text": [
      "Traceback (most recent call last):\n",
      "  File \"<ipython-input-3-0fbae45fdc0c>\", line 6, in evaluateGMM\n",
      "    resultDict, _ = gmm_utils.runGMM(args)\n",
      "  File \"/mnt/reds/projects/single-cell-sota/gmm/gmm_utils.py\", line 158, in runGMM\n",
      "    pc = PCA(n_components=params['pca_comp']).fit_transform(scaledDf)\n",
      "  File \"/opt/anaconda3/envs/astrohack/lib/python3.6/site-packages/sklearn/decomposition/pca.py\", line 359, in fit_transform\n",
      "    U, S, V = self._fit(X)\n",
      "  File \"/opt/anaconda3/envs/astrohack/lib/python3.6/site-packages/sklearn/decomposition/pca.py\", line 406, in _fit\n",
      "    return self._fit_full(X, n_components)\n",
      "  File \"/opt/anaconda3/envs/astrohack/lib/python3.6/site-packages/sklearn/decomposition/pca.py\", line 425, in _fit_full\n",
      "    % (n_components, min(n_samples, n_features)))\n",
      "ValueError: n_components=69 must be between 0 and min(n_samples, n_features)=60 with svd_solver='full'\n"
     ]
    },
    {
     "name": "stderr",
     "output_type": "stream",
     "text": [
      "/opt/anaconda3/envs/astrohack/lib/python3.6/site-packages/sklearn/preprocessing/data.py:625: DataConversionWarning: Data with input dtype int64 were all converted to float64 by StandardScaler.\n",
      "  return self.partial_fit(X, y)\n",
      "/opt/anaconda3/envs/astrohack/lib/python3.6/site-packages/sklearn/base.py:462: DataConversionWarning: Data with input dtype int64 were all converted to float64 by StandardScaler.\n",
      "  return self.fit(X, **fit_params).transform(X)\n",
      "/opt/anaconda3/envs/astrohack/lib/python3.6/site-packages/sklearn/metrics/cluster/supervised.py:732: FutureWarning: The behavior of AMI will change in version 0.22. To match the behavior of 'v_measure_score', AMI will use average_method='arithmetic' by default.\n",
      "  FutureWarning)\n",
      "/opt/anaconda3/envs/astrohack/lib/python3.6/site-packages/sklearn/metrics/cluster/unsupervised.py:342: RuntimeWarning: divide by zero encountered in true_divide\n",
      "  score = (intra_dists[:, None] + intra_dists) / centroid_distances\n"
     ]
    },
    {
     "name": "stdout",
     "output_type": "stream",
     "text": [
      ">> Result: 0.9008162579150868\n"
     ]
    },
    {
     "name": "stderr",
     "output_type": "stream",
     "text": [
      "/opt/anaconda3/envs/astrohack/lib/python3.6/site-packages/sklearn/preprocessing/data.py:625: DataConversionWarning: Data with input dtype int64 were all converted to float64 by StandardScaler.\n",
      "  return self.partial_fit(X, y)\n",
      "/opt/anaconda3/envs/astrohack/lib/python3.6/site-packages/sklearn/base.py:462: DataConversionWarning: Data with input dtype int64 were all converted to float64 by StandardScaler.\n",
      "  return self.fit(X, **fit_params).transform(X)\n"
     ]
    },
    {
     "name": "stdout",
     "output_type": "stream",
     "text": [
      "Traceback (most recent call last):\n",
      "  File \"<ipython-input-3-0fbae45fdc0c>\", line 6, in evaluateGMM\n",
      "    resultDict, _ = gmm_utils.runGMM(args)\n",
      "  File \"/mnt/reds/projects/single-cell-sota/gmm/gmm_utils.py\", line 158, in runGMM\n",
      "    pc = PCA(n_components=params['pca_comp']).fit_transform(scaledDf)\n",
      "  File \"/opt/anaconda3/envs/astrohack/lib/python3.6/site-packages/sklearn/decomposition/pca.py\", line 359, in fit_transform\n",
      "    U, S, V = self._fit(X)\n",
      "  File \"/opt/anaconda3/envs/astrohack/lib/python3.6/site-packages/sklearn/decomposition/pca.py\", line 406, in _fit\n",
      "    return self._fit_full(X, n_components)\n",
      "  File \"/opt/anaconda3/envs/astrohack/lib/python3.6/site-packages/sklearn/decomposition/pca.py\", line 425, in _fit_full\n",
      "    % (n_components, min(n_samples, n_features)))\n",
      "ValueError: n_components=84 must be between 0 and min(n_samples, n_features)=60 with svd_solver='full'\n",
      "Index  120\n",
      "Traceback (most recent call last):\n",
      "  File \"<ipython-input-3-0fbae45fdc0c>\", line 6, in evaluateGMM\n",
      "    resultDict, _ = gmm_utils.runGMM(args)\n",
      "  File \"/mnt/reds/projects/single-cell-sota/gmm/gmm_utils.py\", line 158, in runGMM\n",
      "    pc = PCA(n_components=params['pca_comp']).fit_transform(scaledDf)\n",
      "  File \"/opt/anaconda3/envs/astrohack/lib/python3.6/site-packages/sklearn/decomposition/pca.py\", line 359, in fit_transform\n",
      "    U, S, V = self._fit(X)\n",
      "  File \"/opt/anaconda3/envs/astrohack/lib/python3.6/site-packages/sklearn/decomposition/pca.py\", line 406, in _fit\n",
      "    return self._fit_full(X, n_components)\n",
      "  File \"/opt/anaconda3/envs/astrohack/lib/python3.6/site-packages/sklearn/decomposition/pca.py\", line 425, in _fit_full\n",
      "    % (n_components, min(n_samples, n_features)))\n",
      "ValueError: n_components=75 must be between 0 and min(n_samples, n_features)=60 with svd_solver='full'\n"
     ]
    },
    {
     "name": "stderr",
     "output_type": "stream",
     "text": [
      "/opt/anaconda3/envs/astrohack/lib/python3.6/site-packages/sklearn/preprocessing/data.py:625: DataConversionWarning: Data with input dtype int64 were all converted to float64 by StandardScaler.\n",
      "  return self.partial_fit(X, y)\n",
      "/opt/anaconda3/envs/astrohack/lib/python3.6/site-packages/sklearn/base.py:462: DataConversionWarning: Data with input dtype int64 were all converted to float64 by StandardScaler.\n",
      "  return self.fit(X, **fit_params).transform(X)\n",
      "/opt/anaconda3/envs/astrohack/lib/python3.6/site-packages/sklearn/metrics/cluster/supervised.py:732: FutureWarning: The behavior of AMI will change in version 0.22. To match the behavior of 'v_measure_score', AMI will use average_method='arithmetic' by default.\n",
      "  FutureWarning)\n",
      "/opt/anaconda3/envs/astrohack/lib/python3.6/site-packages/sklearn/metrics/cluster/unsupervised.py:342: RuntimeWarning: divide by zero encountered in true_divide\n",
      "  score = (intra_dists[:, None] + intra_dists) / centroid_distances\n",
      "/opt/anaconda3/envs/astrohack/lib/python3.6/site-packages/sklearn/metrics/cluster/unsupervised.py:342: RuntimeWarning: invalid value encountered in true_divide\n",
      "  score = (intra_dists[:, None] + intra_dists) / centroid_distances\n"
     ]
    },
    {
     "name": "stdout",
     "output_type": "stream",
     "text": [
      ">> Result: 0.8733508051338901\n",
      "Traceback (most recent call last):\n",
      "  File \"<ipython-input-3-0fbae45fdc0c>\", line 6, in evaluateGMM\n",
      "    resultDict, _ = gmm_utils.runGMM(args)\n",
      "  File \"/mnt/reds/projects/single-cell-sota/gmm/gmm_utils.py\", line 158, in runGMM\n",
      "    pc = PCA(n_components=params['pca_comp']).fit_transform(scaledDf)\n",
      "  File \"/opt/anaconda3/envs/astrohack/lib/python3.6/site-packages/sklearn/decomposition/pca.py\", line 359, in fit_transform\n",
      "    U, S, V = self._fit(X)\n",
      "  File \"/opt/anaconda3/envs/astrohack/lib/python3.6/site-packages/sklearn/decomposition/pca.py\", line 406, in _fit\n",
      "    return self._fit_full(X, n_components)\n",
      "  File \"/opt/anaconda3/envs/astrohack/lib/python3.6/site-packages/sklearn/decomposition/pca.py\", line 425, in _fit_full\n",
      "    % (n_components, min(n_samples, n_features)))\n",
      "ValueError: n_components=114 must be between 0 and min(n_samples, n_features)=60 with svd_solver='full'\n"
     ]
    },
    {
     "name": "stderr",
     "output_type": "stream",
     "text": [
      "/opt/anaconda3/envs/astrohack/lib/python3.6/site-packages/sklearn/preprocessing/data.py:625: DataConversionWarning: Data with input dtype int64 were all converted to float64 by StandardScaler.\n",
      "  return self.partial_fit(X, y)\n",
      "/opt/anaconda3/envs/astrohack/lib/python3.6/site-packages/sklearn/base.py:462: DataConversionWarning: Data with input dtype int64 were all converted to float64 by StandardScaler.\n",
      "  return self.fit(X, **fit_params).transform(X)\n"
     ]
    },
    {
     "name": "stdout",
     "output_type": "stream",
     "text": [
      "Traceback (most recent call last):\n",
      "  File \"<ipython-input-3-0fbae45fdc0c>\", line 6, in evaluateGMM\n",
      "    resultDict, _ = gmm_utils.runGMM(args)\n",
      "  File \"/mnt/reds/projects/single-cell-sota/gmm/gmm_utils.py\", line 158, in runGMM\n",
      "    pc = PCA(n_components=params['pca_comp']).fit_transform(scaledDf)\n",
      "  File \"/opt/anaconda3/envs/astrohack/lib/python3.6/site-packages/sklearn/decomposition/pca.py\", line 359, in fit_transform\n",
      "    U, S, V = self._fit(X)\n",
      "  File \"/opt/anaconda3/envs/astrohack/lib/python3.6/site-packages/sklearn/decomposition/pca.py\", line 406, in _fit\n",
      "    return self._fit_full(X, n_components)\n",
      "  File \"/opt/anaconda3/envs/astrohack/lib/python3.6/site-packages/sklearn/decomposition/pca.py\", line 425, in _fit_full\n",
      "    % (n_components, min(n_samples, n_features)))\n",
      "ValueError: n_components=171 must be between 0 and min(n_samples, n_features)=60 with svd_solver='full'\n"
     ]
    },
    {
     "name": "stderr",
     "output_type": "stream",
     "text": [
      "/opt/anaconda3/envs/astrohack/lib/python3.6/site-packages/sklearn/metrics/cluster/supervised.py:732: FutureWarning: The behavior of AMI will change in version 0.22. To match the behavior of 'v_measure_score', AMI will use average_method='arithmetic' by default.\n",
      "  FutureWarning)\n",
      "/opt/anaconda3/envs/astrohack/lib/python3.6/site-packages/sklearn/metrics/cluster/unsupervised.py:342: RuntimeWarning: divide by zero encountered in true_divide\n",
      "  score = (intra_dists[:, None] + intra_dists) / centroid_distances\n",
      "/opt/anaconda3/envs/astrohack/lib/python3.6/site-packages/sklearn/metrics/cluster/unsupervised.py:342: RuntimeWarning: invalid value encountered in true_divide\n",
      "  score = (intra_dists[:, None] + intra_dists) / centroid_distances\n"
     ]
    },
    {
     "name": "stdout",
     "output_type": "stream",
     "text": [
      ">> Result: 0.5552521479041662\n"
     ]
    },
    {
     "name": "stderr",
     "output_type": "stream",
     "text": [
      "/opt/anaconda3/envs/astrohack/lib/python3.6/site-packages/sklearn/preprocessing/data.py:625: DataConversionWarning: Data with input dtype int64 were all converted to float64 by StandardScaler.\n",
      "  return self.partial_fit(X, y)\n",
      "/opt/anaconda3/envs/astrohack/lib/python3.6/site-packages/sklearn/base.py:462: DataConversionWarning: Data with input dtype int64 were all converted to float64 by StandardScaler.\n",
      "  return self.fit(X, **fit_params).transform(X)\n"
     ]
    },
    {
     "name": "stdout",
     "output_type": "stream",
     "text": [
      "Traceback (most recent call last):\n",
      "  File \"<ipython-input-3-0fbae45fdc0c>\", line 6, in evaluateGMM\n",
      "    resultDict, _ = gmm_utils.runGMM(args)\n",
      "  File \"/mnt/reds/projects/single-cell-sota/gmm/gmm_utils.py\", line 158, in runGMM\n",
      "    pc = PCA(n_components=params['pca_comp']).fit_transform(scaledDf)\n",
      "  File \"/opt/anaconda3/envs/astrohack/lib/python3.6/site-packages/sklearn/decomposition/pca.py\", line 359, in fit_transform\n",
      "    U, S, V = self._fit(X)\n",
      "  File \"/opt/anaconda3/envs/astrohack/lib/python3.6/site-packages/sklearn/decomposition/pca.py\", line 406, in _fit\n",
      "    return self._fit_full(X, n_components)\n",
      "  File \"/opt/anaconda3/envs/astrohack/lib/python3.6/site-packages/sklearn/decomposition/pca.py\", line 425, in _fit_full\n",
      "    % (n_components, min(n_samples, n_features)))\n",
      "ValueError: n_components=105 must be between 0 and min(n_samples, n_features)=60 with svd_solver='full'\n"
     ]
    },
    {
     "name": "stderr",
     "output_type": "stream",
     "text": [
      "/opt/anaconda3/envs/astrohack/lib/python3.6/site-packages/sklearn/preprocessing/data.py:625: DataConversionWarning: Data with input dtype int64 were all converted to float64 by StandardScaler.\n",
      "  return self.partial_fit(X, y)\n",
      "/opt/anaconda3/envs/astrohack/lib/python3.6/site-packages/sklearn/base.py:462: DataConversionWarning: Data with input dtype int64 were all converted to float64 by StandardScaler.\n",
      "  return self.fit(X, **fit_params).transform(X)\n"
     ]
    },
    {
     "name": "stdout",
     "output_type": "stream",
     "text": [
      "Traceback (most recent call last):\n",
      "  File \"<ipython-input-3-0fbae45fdc0c>\", line 6, in evaluateGMM\n",
      "    resultDict, _ = gmm_utils.runGMM(args)\n",
      "  File \"/mnt/reds/projects/single-cell-sota/gmm/gmm_utils.py\", line 158, in runGMM\n",
      "    pc = PCA(n_components=params['pca_comp']).fit_transform(scaledDf)\n",
      "  File \"/opt/anaconda3/envs/astrohack/lib/python3.6/site-packages/sklearn/decomposition/pca.py\", line 359, in fit_transform\n",
      "    U, S, V = self._fit(X)\n",
      "  File \"/opt/anaconda3/envs/astrohack/lib/python3.6/site-packages/sklearn/decomposition/pca.py\", line 406, in _fit\n",
      "    return self._fit_full(X, n_components)\n",
      "  File \"/opt/anaconda3/envs/astrohack/lib/python3.6/site-packages/sklearn/decomposition/pca.py\", line 425, in _fit_full\n",
      "    % (n_components, min(n_samples, n_features)))\n",
      "ValueError: n_components=93 must be between 0 and min(n_samples, n_features)=60 with svd_solver='full'\n"
     ]
    },
    {
     "name": "stderr",
     "output_type": "stream",
     "text": [
      "/opt/anaconda3/envs/astrohack/lib/python3.6/site-packages/sklearn/preprocessing/data.py:625: DataConversionWarning: Data with input dtype int64 were all converted to float64 by StandardScaler.\n",
      "  return self.partial_fit(X, y)\n",
      "/opt/anaconda3/envs/astrohack/lib/python3.6/site-packages/sklearn/base.py:462: DataConversionWarning: Data with input dtype int64 were all converted to float64 by StandardScaler.\n",
      "  return self.fit(X, **fit_params).transform(X)\n",
      "/opt/anaconda3/envs/astrohack/lib/python3.6/site-packages/sklearn/metrics/cluster/supervised.py:732: FutureWarning: The behavior of AMI will change in version 0.22. To match the behavior of 'v_measure_score', AMI will use average_method='arithmetic' by default.\n",
      "  FutureWarning)\n",
      "/opt/anaconda3/envs/astrohack/lib/python3.6/site-packages/sklearn/metrics/cluster/unsupervised.py:342: RuntimeWarning: divide by zero encountered in true_divide\n",
      "  score = (intra_dists[:, None] + intra_dists) / centroid_distances\n"
     ]
    },
    {
     "name": "stdout",
     "output_type": "stream",
     "text": [
      ">> Result: 0.9087340719685983\n",
      "Traceback (most recent call last):\n",
      "  File \"<ipython-input-3-0fbae45fdc0c>\", line 6, in evaluateGMM\n",
      "    resultDict, _ = gmm_utils.runGMM(args)\n",
      "  File \"/mnt/reds/projects/single-cell-sota/gmm/gmm_utils.py\", line 158, in runGMM\n",
      "    pc = PCA(n_components=params['pca_comp']).fit_transform(scaledDf)\n",
      "  File \"/opt/anaconda3/envs/astrohack/lib/python3.6/site-packages/sklearn/decomposition/pca.py\", line 359, in fit_transform\n",
      "    U, S, V = self._fit(X)\n",
      "  File \"/opt/anaconda3/envs/astrohack/lib/python3.6/site-packages/sklearn/decomposition/pca.py\", line 406, in _fit\n",
      "    return self._fit_full(X, n_components)\n",
      "  File \"/opt/anaconda3/envs/astrohack/lib/python3.6/site-packages/sklearn/decomposition/pca.py\", line 425, in _fit_full\n",
      "    % (n_components, min(n_samples, n_features)))\n",
      "ValueError: n_components=64 must be between 0 and min(n_samples, n_features)=60 with svd_solver='full'\n"
     ]
    },
    {
     "name": "stderr",
     "output_type": "stream",
     "text": [
      "/opt/anaconda3/envs/astrohack/lib/python3.6/site-packages/sklearn/preprocessing/data.py:625: DataConversionWarning: Data with input dtype int64 were all converted to float64 by StandardScaler.\n",
      "  return self.partial_fit(X, y)\n",
      "/opt/anaconda3/envs/astrohack/lib/python3.6/site-packages/sklearn/base.py:462: DataConversionWarning: Data with input dtype int64 were all converted to float64 by StandardScaler.\n",
      "  return self.fit(X, **fit_params).transform(X)\n"
     ]
    },
    {
     "name": "stdout",
     "output_type": "stream",
     "text": [
      "Traceback (most recent call last):\n",
      "  File \"<ipython-input-3-0fbae45fdc0c>\", line 6, in evaluateGMM\n",
      "    resultDict, _ = gmm_utils.runGMM(args)\n",
      "  File \"/mnt/reds/projects/single-cell-sota/gmm/gmm_utils.py\", line 158, in runGMM\n",
      "    pc = PCA(n_components=params['pca_comp']).fit_transform(scaledDf)\n",
      "  File \"/opt/anaconda3/envs/astrohack/lib/python3.6/site-packages/sklearn/decomposition/pca.py\", line 359, in fit_transform\n",
      "    U, S, V = self._fit(X)\n",
      "  File \"/opt/anaconda3/envs/astrohack/lib/python3.6/site-packages/sklearn/decomposition/pca.py\", line 406, in _fit\n",
      "    return self._fit_full(X, n_components)\n",
      "  File \"/opt/anaconda3/envs/astrohack/lib/python3.6/site-packages/sklearn/decomposition/pca.py\", line 425, in _fit_full\n",
      "    % (n_components, min(n_samples, n_features)))\n",
      "ValueError: n_components=289 must be between 0 and min(n_samples, n_features)=60 with svd_solver='full'\n",
      "Index  130\n"
     ]
    },
    {
     "name": "stderr",
     "output_type": "stream",
     "text": [
      "/opt/anaconda3/envs/astrohack/lib/python3.6/site-packages/sklearn/metrics/cluster/supervised.py:732: FutureWarning: The behavior of AMI will change in version 0.22. To match the behavior of 'v_measure_score', AMI will use average_method='arithmetic' by default.\n",
      "  FutureWarning)\n",
      "/opt/anaconda3/envs/astrohack/lib/python3.6/site-packages/sklearn/metrics/cluster/unsupervised.py:342: RuntimeWarning: divide by zero encountered in true_divide\n",
      "  score = (intra_dists[:, None] + intra_dists) / centroid_distances\n",
      "/opt/anaconda3/envs/astrohack/lib/python3.6/site-packages/sklearn/metrics/cluster/unsupervised.py:342: RuntimeWarning: invalid value encountered in true_divide\n",
      "  score = (intra_dists[:, None] + intra_dists) / centroid_distances\n"
     ]
    },
    {
     "name": "stdout",
     "output_type": "stream",
     "text": [
      ">> Result: 0.01756375665850496\n"
     ]
    },
    {
     "name": "stderr",
     "output_type": "stream",
     "text": [
      "/opt/anaconda3/envs/astrohack/lib/python3.6/site-packages/sklearn/preprocessing/data.py:625: DataConversionWarning: Data with input dtype int64 were all converted to float64 by StandardScaler.\n",
      "  return self.partial_fit(X, y)\n",
      "/opt/anaconda3/envs/astrohack/lib/python3.6/site-packages/sklearn/base.py:462: DataConversionWarning: Data with input dtype int64 were all converted to float64 by StandardScaler.\n",
      "  return self.fit(X, **fit_params).transform(X)\n"
     ]
    },
    {
     "name": "stdout",
     "output_type": "stream",
     "text": [
      "Traceback (most recent call last):\n",
      "  File \"<ipython-input-3-0fbae45fdc0c>\", line 6, in evaluateGMM\n",
      "    resultDict, _ = gmm_utils.runGMM(args)\n",
      "  File \"/mnt/reds/projects/single-cell-sota/gmm/gmm_utils.py\", line 158, in runGMM\n",
      "    pc = PCA(n_components=params['pca_comp']).fit_transform(scaledDf)\n",
      "  File \"/opt/anaconda3/envs/astrohack/lib/python3.6/site-packages/sklearn/decomposition/pca.py\", line 359, in fit_transform\n",
      "    U, S, V = self._fit(X)\n",
      "  File \"/opt/anaconda3/envs/astrohack/lib/python3.6/site-packages/sklearn/decomposition/pca.py\", line 406, in _fit\n",
      "    return self._fit_full(X, n_components)\n",
      "  File \"/opt/anaconda3/envs/astrohack/lib/python3.6/site-packages/sklearn/decomposition/pca.py\", line 425, in _fit_full\n",
      "    % (n_components, min(n_samples, n_features)))\n",
      "ValueError: n_components=130 must be between 0 and min(n_samples, n_features)=60 with svd_solver='full'\n",
      "Traceback (most recent call last):\n",
      "  File \"/opt/anaconda3/envs/astrohack/lib/python3.6/site-packages/sklearn/mixture/gaussian_mixture.py\", line 318, in _compute_precision_cholesky\n",
      "    cov_chol = linalg.cholesky(covariance, lower=True)\n",
      "  File \"/opt/anaconda3/envs/astrohack/lib/python3.6/site-packages/scipy/linalg/decomp_cholesky.py\", line 91, in cholesky\n",
      "    check_finite=check_finite)\n",
      "  File \"/opt/anaconda3/envs/astrohack/lib/python3.6/site-packages/scipy/linalg/decomp_cholesky.py\", line 40, in _cholesky\n",
      "    \"definite\" % info)\n",
      "numpy.linalg.linalg.LinAlgError: 22-th leading minor of the array is not positive definite\n",
      "\n",
      "During handling of the above exception, another exception occurred:\n",
      "\n",
      "Traceback (most recent call last):\n",
      "  File \"<ipython-input-3-0fbae45fdc0c>\", line 6, in evaluateGMM\n",
      "    resultDict, _ = gmm_utils.runGMM(args)\n",
      "  File \"/mnt/reds/projects/single-cell-sota/gmm/gmm_utils.py\", line 160, in runGMM\n",
      "    model = GaussianMixture(params['nb_clusters'] , covariance_type ='full', random_state = 0).fit(pc)\n",
      "  File \"/opt/anaconda3/envs/astrohack/lib/python3.6/site-packages/sklearn/mixture/base.py\", line 194, in fit\n",
      "    self.fit_predict(X, y)\n",
      "  File \"/opt/anaconda3/envs/astrohack/lib/python3.6/site-packages/sklearn/mixture/base.py\", line 237, in fit_predict\n",
      "    self._initialize_parameters(X, random_state)\n",
      "  File \"/opt/anaconda3/envs/astrohack/lib/python3.6/site-packages/sklearn/mixture/base.py\", line 158, in _initialize_parameters\n",
      "    self._initialize(X, resp)\n",
      "  File \"/opt/anaconda3/envs/astrohack/lib/python3.6/site-packages/sklearn/mixture/gaussian_mixture.py\", line 650, in _initialize\n",
      "    covariances, self.covariance_type)\n",
      "  File \"/opt/anaconda3/envs/astrohack/lib/python3.6/site-packages/sklearn/mixture/gaussian_mixture.py\", line 320, in _compute_precision_cholesky\n",
      "    raise ValueError(estimate_precision_error_message)\n",
      "ValueError: Fitting the mixture model failed because some components have ill-defined empirical covariance (for instance caused by singleton or collapsed samples). Try to decrease the number of components, or increase reg_covar.\n"
     ]
    },
    {
     "name": "stderr",
     "output_type": "stream",
     "text": [
      "/opt/anaconda3/envs/astrohack/lib/python3.6/site-packages/sklearn/preprocessing/data.py:625: DataConversionWarning: Data with input dtype int64 were all converted to float64 by StandardScaler.\n",
      "  return self.partial_fit(X, y)\n",
      "/opt/anaconda3/envs/astrohack/lib/python3.6/site-packages/sklearn/base.py:462: DataConversionWarning: Data with input dtype int64 were all converted to float64 by StandardScaler.\n",
      "  return self.fit(X, **fit_params).transform(X)\n"
     ]
    },
    {
     "name": "stdout",
     "output_type": "stream",
     "text": [
      "Traceback (most recent call last):\n",
      "  File \"<ipython-input-3-0fbae45fdc0c>\", line 6, in evaluateGMM\n",
      "    resultDict, _ = gmm_utils.runGMM(args)\n",
      "  File \"/mnt/reds/projects/single-cell-sota/gmm/gmm_utils.py\", line 158, in runGMM\n",
      "    pc = PCA(n_components=params['pca_comp']).fit_transform(scaledDf)\n",
      "  File \"/opt/anaconda3/envs/astrohack/lib/python3.6/site-packages/sklearn/decomposition/pca.py\", line 359, in fit_transform\n",
      "    U, S, V = self._fit(X)\n",
      "  File \"/opt/anaconda3/envs/astrohack/lib/python3.6/site-packages/sklearn/decomposition/pca.py\", line 406, in _fit\n",
      "    return self._fit_full(X, n_components)\n",
      "  File \"/opt/anaconda3/envs/astrohack/lib/python3.6/site-packages/sklearn/decomposition/pca.py\", line 425, in _fit_full\n",
      "    % (n_components, min(n_samples, n_features)))\n",
      "ValueError: n_components=80 must be between 0 and min(n_samples, n_features)=60 with svd_solver='full'\n"
     ]
    },
    {
     "name": "stderr",
     "output_type": "stream",
     "text": [
      "/opt/anaconda3/envs/astrohack/lib/python3.6/site-packages/sklearn/preprocessing/data.py:625: DataConversionWarning: Data with input dtype int64 were all converted to float64 by StandardScaler.\n",
      "  return self.partial_fit(X, y)\n",
      "/opt/anaconda3/envs/astrohack/lib/python3.6/site-packages/sklearn/base.py:462: DataConversionWarning: Data with input dtype int64 were all converted to float64 by StandardScaler.\n",
      "  return self.fit(X, **fit_params).transform(X)\n"
     ]
    },
    {
     "name": "stdout",
     "output_type": "stream",
     "text": [
      "Traceback (most recent call last):\n",
      "  File \"<ipython-input-3-0fbae45fdc0c>\", line 6, in evaluateGMM\n",
      "    resultDict, _ = gmm_utils.runGMM(args)\n",
      "  File \"/mnt/reds/projects/single-cell-sota/gmm/gmm_utils.py\", line 158, in runGMM\n",
      "    pc = PCA(n_components=params['pca_comp']).fit_transform(scaledDf)\n",
      "  File \"/opt/anaconda3/envs/astrohack/lib/python3.6/site-packages/sklearn/decomposition/pca.py\", line 359, in fit_transform\n",
      "    U, S, V = self._fit(X)\n",
      "  File \"/opt/anaconda3/envs/astrohack/lib/python3.6/site-packages/sklearn/decomposition/pca.py\", line 406, in _fit\n",
      "    return self._fit_full(X, n_components)\n",
      "  File \"/opt/anaconda3/envs/astrohack/lib/python3.6/site-packages/sklearn/decomposition/pca.py\", line 425, in _fit_full\n",
      "    % (n_components, min(n_samples, n_features)))\n",
      "ValueError: n_components=99 must be between 0 and min(n_samples, n_features)=60 with svd_solver='full'\n"
     ]
    },
    {
     "name": "stderr",
     "output_type": "stream",
     "text": [
      "/opt/anaconda3/envs/astrohack/lib/python3.6/site-packages/sklearn/preprocessing/data.py:625: DataConversionWarning: Data with input dtype int64 were all converted to float64 by StandardScaler.\n",
      "  return self.partial_fit(X, y)\n",
      "/opt/anaconda3/envs/astrohack/lib/python3.6/site-packages/sklearn/base.py:462: DataConversionWarning: Data with input dtype int64 were all converted to float64 by StandardScaler.\n",
      "  return self.fit(X, **fit_params).transform(X)\n",
      "/opt/anaconda3/envs/astrohack/lib/python3.6/site-packages/sklearn/metrics/cluster/supervised.py:732: FutureWarning: The behavior of AMI will change in version 0.22. To match the behavior of 'v_measure_score', AMI will use average_method='arithmetic' by default.\n",
      "  FutureWarning)\n",
      "/opt/anaconda3/envs/astrohack/lib/python3.6/site-packages/sklearn/metrics/cluster/unsupervised.py:342: RuntimeWarning: divide by zero encountered in true_divide\n",
      "  score = (intra_dists[:, None] + intra_dists) / centroid_distances\n"
     ]
    },
    {
     "name": "stdout",
     "output_type": "stream",
     "text": [
      ">> Result: 0.9135252389048485\n"
     ]
    },
    {
     "name": "stderr",
     "output_type": "stream",
     "text": [
      "/opt/anaconda3/envs/astrohack/lib/python3.6/site-packages/sklearn/preprocessing/data.py:625: DataConversionWarning: Data with input dtype int64 were all converted to float64 by StandardScaler.\n",
      "  return self.partial_fit(X, y)\n",
      "/opt/anaconda3/envs/astrohack/lib/python3.6/site-packages/sklearn/base.py:462: DataConversionWarning: Data with input dtype int64 were all converted to float64 by StandardScaler.\n",
      "  return self.fit(X, **fit_params).transform(X)\n",
      "/opt/anaconda3/envs/astrohack/lib/python3.6/site-packages/sklearn/metrics/cluster/supervised.py:732: FutureWarning: The behavior of AMI will change in version 0.22. To match the behavior of 'v_measure_score', AMI will use average_method='arithmetic' by default.\n",
      "  FutureWarning)\n",
      "/opt/anaconda3/envs/astrohack/lib/python3.6/site-packages/sklearn/metrics/cluster/unsupervised.py:342: RuntimeWarning: divide by zero encountered in true_divide\n",
      "  score = (intra_dists[:, None] + intra_dists) / centroid_distances\n"
     ]
    },
    {
     "name": "stdout",
     "output_type": "stream",
     "text": [
      ">> Result: 0.9135252389048485\n"
     ]
    },
    {
     "name": "stderr",
     "output_type": "stream",
     "text": [
      "/opt/anaconda3/envs/astrohack/lib/python3.6/site-packages/sklearn/preprocessing/data.py:625: DataConversionWarning: Data with input dtype int64 were all converted to float64 by StandardScaler.\n",
      "  return self.partial_fit(X, y)\n",
      "/opt/anaconda3/envs/astrohack/lib/python3.6/site-packages/sklearn/base.py:462: DataConversionWarning: Data with input dtype int64 were all converted to float64 by StandardScaler.\n",
      "  return self.fit(X, **fit_params).transform(X)\n",
      "/opt/anaconda3/envs/astrohack/lib/python3.6/site-packages/sklearn/metrics/cluster/supervised.py:732: FutureWarning: The behavior of AMI will change in version 0.22. To match the behavior of 'v_measure_score', AMI will use average_method='arithmetic' by default.\n",
      "  FutureWarning)\n",
      "/opt/anaconda3/envs/astrohack/lib/python3.6/site-packages/sklearn/metrics/cluster/unsupervised.py:342: RuntimeWarning: divide by zero encountered in true_divide\n",
      "  score = (intra_dists[:, None] + intra_dists) / centroid_distances\n"
     ]
    },
    {
     "name": "stdout",
     "output_type": "stream",
     "text": [
      ">> Result: 0.9135252389048485\n"
     ]
    },
    {
     "name": "stderr",
     "output_type": "stream",
     "text": [
      "/opt/anaconda3/envs/astrohack/lib/python3.6/site-packages/sklearn/preprocessing/data.py:625: DataConversionWarning: Data with input dtype int64 were all converted to float64 by StandardScaler.\n",
      "  return self.partial_fit(X, y)\n",
      "/opt/anaconda3/envs/astrohack/lib/python3.6/site-packages/sklearn/base.py:462: DataConversionWarning: Data with input dtype int64 were all converted to float64 by StandardScaler.\n",
      "  return self.fit(X, **fit_params).transform(X)\n",
      "/opt/anaconda3/envs/astrohack/lib/python3.6/site-packages/sklearn/metrics/cluster/supervised.py:732: FutureWarning: The behavior of AMI will change in version 0.22. To match the behavior of 'v_measure_score', AMI will use average_method='arithmetic' by default.\n",
      "  FutureWarning)\n",
      "/opt/anaconda3/envs/astrohack/lib/python3.6/site-packages/sklearn/metrics/cluster/unsupervised.py:342: RuntimeWarning: divide by zero encountered in true_divide\n",
      "  score = (intra_dists[:, None] + intra_dists) / centroid_distances\n"
     ]
    },
    {
     "name": "stdout",
     "output_type": "stream",
     "text": [
      ">> Result: 0.9433574624143161\n"
     ]
    },
    {
     "name": "stderr",
     "output_type": "stream",
     "text": [
      "/opt/anaconda3/envs/astrohack/lib/python3.6/site-packages/sklearn/preprocessing/data.py:625: DataConversionWarning: Data with input dtype int64 were all converted to float64 by StandardScaler.\n",
      "  return self.partial_fit(X, y)\n",
      "/opt/anaconda3/envs/astrohack/lib/python3.6/site-packages/sklearn/base.py:462: DataConversionWarning: Data with input dtype int64 were all converted to float64 by StandardScaler.\n",
      "  return self.fit(X, **fit_params).transform(X)\n",
      "/opt/anaconda3/envs/astrohack/lib/python3.6/site-packages/sklearn/metrics/cluster/supervised.py:732: FutureWarning: The behavior of AMI will change in version 0.22. To match the behavior of 'v_measure_score', AMI will use average_method='arithmetic' by default.\n",
      "  FutureWarning)\n",
      "/opt/anaconda3/envs/astrohack/lib/python3.6/site-packages/sklearn/metrics/cluster/unsupervised.py:342: RuntimeWarning: divide by zero encountered in true_divide\n",
      "  score = (intra_dists[:, None] + intra_dists) / centroid_distances\n",
      "/opt/anaconda3/envs/astrohack/lib/python3.6/site-packages/sklearn/metrics/cluster/unsupervised.py:342: RuntimeWarning: invalid value encountered in true_divide\n",
      "  score = (intra_dists[:, None] + intra_dists) / centroid_distances\n"
     ]
    },
    {
     "name": "stdout",
     "output_type": "stream",
     "text": [
      ">> Result: 0.9053899270216318\n",
      "Index  140\n"
     ]
    },
    {
     "name": "stderr",
     "output_type": "stream",
     "text": [
      "/opt/anaconda3/envs/astrohack/lib/python3.6/site-packages/sklearn/preprocessing/data.py:625: DataConversionWarning: Data with input dtype int64 were all converted to float64 by StandardScaler.\n",
      "  return self.partial_fit(X, y)\n",
      "/opt/anaconda3/envs/astrohack/lib/python3.6/site-packages/sklearn/base.py:462: DataConversionWarning: Data with input dtype int64 were all converted to float64 by StandardScaler.\n",
      "  return self.fit(X, **fit_params).transform(X)\n",
      "/opt/anaconda3/envs/astrohack/lib/python3.6/site-packages/sklearn/metrics/cluster/supervised.py:732: FutureWarning: The behavior of AMI will change in version 0.22. To match the behavior of 'v_measure_score', AMI will use average_method='arithmetic' by default.\n",
      "  FutureWarning)\n",
      "/opt/anaconda3/envs/astrohack/lib/python3.6/site-packages/sklearn/metrics/cluster/unsupervised.py:342: RuntimeWarning: divide by zero encountered in true_divide\n",
      "  score = (intra_dists[:, None] + intra_dists) / centroid_distances\n"
     ]
    },
    {
     "name": "stdout",
     "output_type": "stream",
     "text": [
      ">> Result: 0.8854937544940281\n"
     ]
    },
    {
     "name": "stderr",
     "output_type": "stream",
     "text": [
      "/opt/anaconda3/envs/astrohack/lib/python3.6/site-packages/sklearn/preprocessing/data.py:625: DataConversionWarning: Data with input dtype int64 were all converted to float64 by StandardScaler.\n",
      "  return self.partial_fit(X, y)\n",
      "/opt/anaconda3/envs/astrohack/lib/python3.6/site-packages/sklearn/base.py:462: DataConversionWarning: Data with input dtype int64 were all converted to float64 by StandardScaler.\n",
      "  return self.fit(X, **fit_params).transform(X)\n",
      "/opt/anaconda3/envs/astrohack/lib/python3.6/site-packages/sklearn/metrics/cluster/supervised.py:732: FutureWarning: The behavior of AMI will change in version 0.22. To match the behavior of 'v_measure_score', AMI will use average_method='arithmetic' by default.\n",
      "  FutureWarning)\n",
      "/opt/anaconda3/envs/astrohack/lib/python3.6/site-packages/sklearn/metrics/cluster/unsupervised.py:342: RuntimeWarning: divide by zero encountered in true_divide\n",
      "  score = (intra_dists[:, None] + intra_dists) / centroid_distances\n"
     ]
    },
    {
     "name": "stdout",
     "output_type": "stream",
     "text": [
      ">> Result: 1.0\n"
     ]
    },
    {
     "name": "stderr",
     "output_type": "stream",
     "text": [
      "/opt/anaconda3/envs/astrohack/lib/python3.6/site-packages/sklearn/preprocessing/data.py:625: DataConversionWarning: Data with input dtype int64 were all converted to float64 by StandardScaler.\n",
      "  return self.partial_fit(X, y)\n",
      "/opt/anaconda3/envs/astrohack/lib/python3.6/site-packages/sklearn/base.py:462: DataConversionWarning: Data with input dtype int64 were all converted to float64 by StandardScaler.\n",
      "  return self.fit(X, **fit_params).transform(X)\n",
      "/opt/anaconda3/envs/astrohack/lib/python3.6/site-packages/sklearn/metrics/cluster/supervised.py:732: FutureWarning: The behavior of AMI will change in version 0.22. To match the behavior of 'v_measure_score', AMI will use average_method='arithmetic' by default.\n",
      "  FutureWarning)\n",
      "/opt/anaconda3/envs/astrohack/lib/python3.6/site-packages/sklearn/metrics/cluster/unsupervised.py:342: RuntimeWarning: divide by zero encountered in true_divide\n",
      "  score = (intra_dists[:, None] + intra_dists) / centroid_distances\n"
     ]
    },
    {
     "name": "stdout",
     "output_type": "stream",
     "text": [
      ">> Result: 0.9381120154010378\n"
     ]
    },
    {
     "name": "stderr",
     "output_type": "stream",
     "text": [
      "/opt/anaconda3/envs/astrohack/lib/python3.6/site-packages/sklearn/preprocessing/data.py:625: DataConversionWarning: Data with input dtype int64 were all converted to float64 by StandardScaler.\n",
      "  return self.partial_fit(X, y)\n",
      "/opt/anaconda3/envs/astrohack/lib/python3.6/site-packages/sklearn/base.py:462: DataConversionWarning: Data with input dtype int64 were all converted to float64 by StandardScaler.\n",
      "  return self.fit(X, **fit_params).transform(X)\n",
      "/opt/anaconda3/envs/astrohack/lib/python3.6/site-packages/sklearn/metrics/cluster/supervised.py:732: FutureWarning: The behavior of AMI will change in version 0.22. To match the behavior of 'v_measure_score', AMI will use average_method='arithmetic' by default.\n",
      "  FutureWarning)\n",
      "/opt/anaconda3/envs/astrohack/lib/python3.6/site-packages/sklearn/metrics/cluster/unsupervised.py:342: RuntimeWarning: divide by zero encountered in true_divide\n",
      "  score = (intra_dists[:, None] + intra_dists) / centroid_distances\n"
     ]
    },
    {
     "name": "stdout",
     "output_type": "stream",
     "text": [
      ">> Result: 0.9713270358108314\n"
     ]
    },
    {
     "name": "stderr",
     "output_type": "stream",
     "text": [
      "/opt/anaconda3/envs/astrohack/lib/python3.6/site-packages/sklearn/preprocessing/data.py:625: DataConversionWarning: Data with input dtype int64 were all converted to float64 by StandardScaler.\n",
      "  return self.partial_fit(X, y)\n",
      "/opt/anaconda3/envs/astrohack/lib/python3.6/site-packages/sklearn/base.py:462: DataConversionWarning: Data with input dtype int64 were all converted to float64 by StandardScaler.\n",
      "  return self.fit(X, **fit_params).transform(X)\n",
      "/opt/anaconda3/envs/astrohack/lib/python3.6/site-packages/sklearn/metrics/cluster/supervised.py:732: FutureWarning: The behavior of AMI will change in version 0.22. To match the behavior of 'v_measure_score', AMI will use average_method='arithmetic' by default.\n",
      "  FutureWarning)\n",
      "/opt/anaconda3/envs/astrohack/lib/python3.6/site-packages/sklearn/metrics/cluster/unsupervised.py:342: RuntimeWarning: divide by zero encountered in true_divide\n",
      "  score = (intra_dists[:, None] + intra_dists) / centroid_distances\n"
     ]
    },
    {
     "name": "stdout",
     "output_type": "stream",
     "text": [
      ">> Result: 0.9713270358108314\n"
     ]
    },
    {
     "name": "stderr",
     "output_type": "stream",
     "text": [
      "/opt/anaconda3/envs/astrohack/lib/python3.6/site-packages/sklearn/preprocessing/data.py:625: DataConversionWarning: Data with input dtype int64 were all converted to float64 by StandardScaler.\n",
      "  return self.partial_fit(X, y)\n",
      "/opt/anaconda3/envs/astrohack/lib/python3.6/site-packages/sklearn/base.py:462: DataConversionWarning: Data with input dtype int64 were all converted to float64 by StandardScaler.\n",
      "  return self.fit(X, **fit_params).transform(X)\n"
     ]
    },
    {
     "name": "stdout",
     "output_type": "stream",
     "text": [
      "Traceback (most recent call last):\n",
      "  File \"<ipython-input-3-0fbae45fdc0c>\", line 6, in evaluateGMM\n",
      "    resultDict, _ = gmm_utils.runGMM(args)\n",
      "  File \"/mnt/reds/projects/single-cell-sota/gmm/gmm_utils.py\", line 158, in runGMM\n",
      "    pc = PCA(n_components=params['pca_comp']).fit_transform(scaledDf)\n",
      "  File \"/opt/anaconda3/envs/astrohack/lib/python3.6/site-packages/sklearn/decomposition/pca.py\", line 359, in fit_transform\n",
      "    U, S, V = self._fit(X)\n",
      "  File \"/opt/anaconda3/envs/astrohack/lib/python3.6/site-packages/sklearn/decomposition/pca.py\", line 406, in _fit\n",
      "    return self._fit_full(X, n_components)\n",
      "  File \"/opt/anaconda3/envs/astrohack/lib/python3.6/site-packages/sklearn/decomposition/pca.py\", line 425, in _fit_full\n",
      "    % (n_components, min(n_samples, n_features)))\n",
      "ValueError: n_components=126 must be between 0 and min(n_samples, n_features)=60 with svd_solver='full'\n"
     ]
    },
    {
     "name": "stderr",
     "output_type": "stream",
     "text": [
      "/opt/anaconda3/envs/astrohack/lib/python3.6/site-packages/sklearn/preprocessing/data.py:625: DataConversionWarning: Data with input dtype int64 were all converted to float64 by StandardScaler.\n",
      "  return self.partial_fit(X, y)\n",
      "/opt/anaconda3/envs/astrohack/lib/python3.6/site-packages/sklearn/base.py:462: DataConversionWarning: Data with input dtype int64 were all converted to float64 by StandardScaler.\n",
      "  return self.fit(X, **fit_params).transform(X)\n"
     ]
    },
    {
     "name": "stdout",
     "output_type": "stream",
     "text": [
      "Traceback (most recent call last):\n",
      "  File \"<ipython-input-3-0fbae45fdc0c>\", line 6, in evaluateGMM\n",
      "    resultDict, _ = gmm_utils.runGMM(args)\n",
      "  File \"/mnt/reds/projects/single-cell-sota/gmm/gmm_utils.py\", line 158, in runGMM\n",
      "    pc = PCA(n_components=params['pca_comp']).fit_transform(scaledDf)\n",
      "  File \"/opt/anaconda3/envs/astrohack/lib/python3.6/site-packages/sklearn/decomposition/pca.py\", line 359, in fit_transform\n",
      "    U, S, V = self._fit(X)\n",
      "  File \"/opt/anaconda3/envs/astrohack/lib/python3.6/site-packages/sklearn/decomposition/pca.py\", line 406, in _fit\n",
      "    return self._fit_full(X, n_components)\n",
      "  File \"/opt/anaconda3/envs/astrohack/lib/python3.6/site-packages/sklearn/decomposition/pca.py\", line 425, in _fit_full\n",
      "    % (n_components, min(n_samples, n_features)))\n",
      "ValueError: n_components=142 must be between 0 and min(n_samples, n_features)=60 with svd_solver='full'\n"
     ]
    },
    {
     "name": "stderr",
     "output_type": "stream",
     "text": [
      "/opt/anaconda3/envs/astrohack/lib/python3.6/site-packages/sklearn/preprocessing/data.py:625: DataConversionWarning: Data with input dtype int64 were all converted to float64 by StandardScaler.\n",
      "  return self.partial_fit(X, y)\n",
      "/opt/anaconda3/envs/astrohack/lib/python3.6/site-packages/sklearn/base.py:462: DataConversionWarning: Data with input dtype int64 were all converted to float64 by StandardScaler.\n",
      "  return self.fit(X, **fit_params).transform(X)\n"
     ]
    },
    {
     "name": "stdout",
     "output_type": "stream",
     "text": [
      "Traceback (most recent call last):\n",
      "  File \"<ipython-input-3-0fbae45fdc0c>\", line 6, in evaluateGMM\n",
      "    resultDict, _ = gmm_utils.runGMM(args)\n",
      "  File \"/mnt/reds/projects/single-cell-sota/gmm/gmm_utils.py\", line 158, in runGMM\n",
      "    pc = PCA(n_components=params['pca_comp']).fit_transform(scaledDf)\n",
      "  File \"/opt/anaconda3/envs/astrohack/lib/python3.6/site-packages/sklearn/decomposition/pca.py\", line 359, in fit_transform\n",
      "    U, S, V = self._fit(X)\n",
      "  File \"/opt/anaconda3/envs/astrohack/lib/python3.6/site-packages/sklearn/decomposition/pca.py\", line 406, in _fit\n",
      "    return self._fit_full(X, n_components)\n",
      "  File \"/opt/anaconda3/envs/astrohack/lib/python3.6/site-packages/sklearn/decomposition/pca.py\", line 425, in _fit_full\n",
      "    % (n_components, min(n_samples, n_features)))\n",
      "ValueError: n_components=115 must be between 0 and min(n_samples, n_features)=60 with svd_solver='full'\n",
      "Traceback (most recent call last):\n",
      "  File \"<ipython-input-3-0fbae45fdc0c>\", line 6, in evaluateGMM\n",
      "    resultDict, _ = gmm_utils.runGMM(args)\n",
      "  File \"/mnt/reds/projects/single-cell-sota/gmm/gmm_utils.py\", line 158, in runGMM\n",
      "    pc = PCA(n_components=params['pca_comp']).fit_transform(scaledDf)\n",
      "  File \"/opt/anaconda3/envs/astrohack/lib/python3.6/site-packages/sklearn/decomposition/pca.py\", line 359, in fit_transform\n",
      "    U, S, V = self._fit(X)\n",
      "  File \"/opt/anaconda3/envs/astrohack/lib/python3.6/site-packages/sklearn/decomposition/pca.py\", line 406, in _fit\n",
      "    return self._fit_full(X, n_components)\n",
      "  File \"/opt/anaconda3/envs/astrohack/lib/python3.6/site-packages/sklearn/decomposition/pca.py\", line 425, in _fit_full\n",
      "    % (n_components, min(n_samples, n_features)))\n",
      "ValueError: n_components=87 must be between 0 and min(n_samples, n_features)=60 with svd_solver='full'\n"
     ]
    },
    {
     "name": "stderr",
     "output_type": "stream",
     "text": [
      "/opt/anaconda3/envs/astrohack/lib/python3.6/site-packages/sklearn/preprocessing/data.py:625: DataConversionWarning: Data with input dtype int64 were all converted to float64 by StandardScaler.\n",
      "  return self.partial_fit(X, y)\n",
      "/opt/anaconda3/envs/astrohack/lib/python3.6/site-packages/sklearn/base.py:462: DataConversionWarning: Data with input dtype int64 were all converted to float64 by StandardScaler.\n",
      "  return self.fit(X, **fit_params).transform(X)\n",
      "/opt/anaconda3/envs/astrohack/lib/python3.6/site-packages/sklearn/metrics/cluster/supervised.py:732: FutureWarning: The behavior of AMI will change in version 0.22. To match the behavior of 'v_measure_score', AMI will use average_method='arithmetic' by default.\n",
      "  FutureWarning)\n",
      "/opt/anaconda3/envs/astrohack/lib/python3.6/site-packages/sklearn/metrics/cluster/unsupervised.py:342: RuntimeWarning: divide by zero encountered in true_divide\n",
      "  score = (intra_dists[:, None] + intra_dists) / centroid_distances\n"
     ]
    },
    {
     "name": "stdout",
     "output_type": "stream",
     "text": [
      ">> Result: 0.9713270358108314\n",
      "Index  150\n"
     ]
    },
    {
     "name": "stderr",
     "output_type": "stream",
     "text": [
      "/opt/anaconda3/envs/astrohack/lib/python3.6/site-packages/sklearn/metrics/cluster/supervised.py:732: FutureWarning: The behavior of AMI will change in version 0.22. To match the behavior of 'v_measure_score', AMI will use average_method='arithmetic' by default.\n",
      "  FutureWarning)\n",
      "/opt/anaconda3/envs/astrohack/lib/python3.6/site-packages/sklearn/metrics/cluster/unsupervised.py:342: RuntimeWarning: divide by zero encountered in true_divide\n",
      "  score = (intra_dists[:, None] + intra_dists) / centroid_distances\n",
      "/opt/anaconda3/envs/astrohack/lib/python3.6/site-packages/sklearn/metrics/cluster/unsupervised.py:342: RuntimeWarning: invalid value encountered in true_divide\n",
      "  score = (intra_dists[:, None] + intra_dists) / centroid_distances\n"
     ]
    },
    {
     "name": "stdout",
     "output_type": "stream",
     "text": [
      ">> Result: 0.012284370768368335\n"
     ]
    },
    {
     "name": "stderr",
     "output_type": "stream",
     "text": [
      "/opt/anaconda3/envs/astrohack/lib/python3.6/site-packages/sklearn/preprocessing/data.py:625: DataConversionWarning: Data with input dtype int64 were all converted to float64 by StandardScaler.\n",
      "  return self.partial_fit(X, y)\n",
      "/opt/anaconda3/envs/astrohack/lib/python3.6/site-packages/sklearn/base.py:462: DataConversionWarning: Data with input dtype int64 were all converted to float64 by StandardScaler.\n",
      "  return self.fit(X, **fit_params).transform(X)\n"
     ]
    },
    {
     "name": "stdout",
     "output_type": "stream",
     "text": [
      "Traceback (most recent call last):\n",
      "  File \"<ipython-input-3-0fbae45fdc0c>\", line 6, in evaluateGMM\n",
      "    resultDict, _ = gmm_utils.runGMM(args)\n",
      "  File \"/mnt/reds/projects/single-cell-sota/gmm/gmm_utils.py\", line 158, in runGMM\n",
      "    pc = PCA(n_components=params['pca_comp']).fit_transform(scaledDf)\n",
      "  File \"/opt/anaconda3/envs/astrohack/lib/python3.6/site-packages/sklearn/decomposition/pca.py\", line 359, in fit_transform\n",
      "    U, S, V = self._fit(X)\n",
      "  File \"/opt/anaconda3/envs/astrohack/lib/python3.6/site-packages/sklearn/decomposition/pca.py\", line 406, in _fit\n",
      "    return self._fit_full(X, n_components)\n",
      "  File \"/opt/anaconda3/envs/astrohack/lib/python3.6/site-packages/sklearn/decomposition/pca.py\", line 425, in _fit_full\n",
      "    % (n_components, min(n_samples, n_features)))\n",
      "ValueError: n_components=71 must be between 0 and min(n_samples, n_features)=60 with svd_solver='full'\n",
      "Traceback (most recent call last):\n",
      "  File \"<ipython-input-3-0fbae45fdc0c>\", line 6, in evaluateGMM\n",
      "    resultDict, _ = gmm_utils.runGMM(args)\n",
      "  File \"/mnt/reds/projects/single-cell-sota/gmm/gmm_utils.py\", line 158, in runGMM\n",
      "    pc = PCA(n_components=params['pca_comp']).fit_transform(scaledDf)\n",
      "  File \"/opt/anaconda3/envs/astrohack/lib/python3.6/site-packages/sklearn/decomposition/pca.py\", line 359, in fit_transform\n",
      "    U, S, V = self._fit(X)\n",
      "  File \"/opt/anaconda3/envs/astrohack/lib/python3.6/site-packages/sklearn/decomposition/pca.py\", line 406, in _fit\n",
      "    return self._fit_full(X, n_components)\n",
      "  File \"/opt/anaconda3/envs/astrohack/lib/python3.6/site-packages/sklearn/decomposition/pca.py\", line 425, in _fit_full\n",
      "    % (n_components, min(n_samples, n_features)))\n",
      "ValueError: n_components=65 must be between 0 and min(n_samples, n_features)=60 with svd_solver='full'\n"
     ]
    },
    {
     "name": "stderr",
     "output_type": "stream",
     "text": [
      "/opt/anaconda3/envs/astrohack/lib/python3.6/site-packages/sklearn/preprocessing/data.py:625: DataConversionWarning: Data with input dtype int64 were all converted to float64 by StandardScaler.\n",
      "  return self.partial_fit(X, y)\n",
      "/opt/anaconda3/envs/astrohack/lib/python3.6/site-packages/sklearn/base.py:462: DataConversionWarning: Data with input dtype int64 were all converted to float64 by StandardScaler.\n",
      "  return self.fit(X, **fit_params).transform(X)\n"
     ]
    },
    {
     "name": "stdout",
     "output_type": "stream",
     "text": [
      "Traceback (most recent call last):\n",
      "  File \"<ipython-input-3-0fbae45fdc0c>\", line 6, in evaluateGMM\n",
      "    resultDict, _ = gmm_utils.runGMM(args)\n",
      "  File \"/mnt/reds/projects/single-cell-sota/gmm/gmm_utils.py\", line 158, in runGMM\n",
      "    pc = PCA(n_components=params['pca_comp']).fit_transform(scaledDf)\n",
      "  File \"/opt/anaconda3/envs/astrohack/lib/python3.6/site-packages/sklearn/decomposition/pca.py\", line 359, in fit_transform\n",
      "    U, S, V = self._fit(X)\n",
      "  File \"/opt/anaconda3/envs/astrohack/lib/python3.6/site-packages/sklearn/decomposition/pca.py\", line 406, in _fit\n",
      "    return self._fit_full(X, n_components)\n",
      "  File \"/opt/anaconda3/envs/astrohack/lib/python3.6/site-packages/sklearn/decomposition/pca.py\", line 425, in _fit_full\n",
      "    % (n_components, min(n_samples, n_features)))\n",
      "ValueError: n_components=103 must be between 0 and min(n_samples, n_features)=60 with svd_solver='full'\n"
     ]
    },
    {
     "name": "stderr",
     "output_type": "stream",
     "text": [
      "/opt/anaconda3/envs/astrohack/lib/python3.6/site-packages/sklearn/preprocessing/data.py:625: DataConversionWarning: Data with input dtype int64 were all converted to float64 by StandardScaler.\n",
      "  return self.partial_fit(X, y)\n",
      "/opt/anaconda3/envs/astrohack/lib/python3.6/site-packages/sklearn/base.py:462: DataConversionWarning: Data with input dtype int64 were all converted to float64 by StandardScaler.\n",
      "  return self.fit(X, **fit_params).transform(X)\n"
     ]
    },
    {
     "name": "stdout",
     "output_type": "stream",
     "text": [
      "Traceback (most recent call last):\n",
      "  File \"<ipython-input-3-0fbae45fdc0c>\", line 6, in evaluateGMM\n",
      "    resultDict, _ = gmm_utils.runGMM(args)\n",
      "  File \"/mnt/reds/projects/single-cell-sota/gmm/gmm_utils.py\", line 158, in runGMM\n",
      "    pc = PCA(n_components=params['pca_comp']).fit_transform(scaledDf)\n",
      "  File \"/opt/anaconda3/envs/astrohack/lib/python3.6/site-packages/sklearn/decomposition/pca.py\", line 359, in fit_transform\n",
      "    U, S, V = self._fit(X)\n",
      "  File \"/opt/anaconda3/envs/astrohack/lib/python3.6/site-packages/sklearn/decomposition/pca.py\", line 406, in _fit\n",
      "    return self._fit_full(X, n_components)\n",
      "  File \"/opt/anaconda3/envs/astrohack/lib/python3.6/site-packages/sklearn/decomposition/pca.py\", line 425, in _fit_full\n",
      "    % (n_components, min(n_samples, n_features)))\n",
      "ValueError: n_components=96 must be between 0 and min(n_samples, n_features)=60 with svd_solver='full'\n"
     ]
    },
    {
     "name": "stderr",
     "output_type": "stream",
     "text": [
      "/opt/anaconda3/envs/astrohack/lib/python3.6/site-packages/sklearn/preprocessing/data.py:625: DataConversionWarning: Data with input dtype int64 were all converted to float64 by StandardScaler.\n",
      "  return self.partial_fit(X, y)\n",
      "/opt/anaconda3/envs/astrohack/lib/python3.6/site-packages/sklearn/base.py:462: DataConversionWarning: Data with input dtype int64 were all converted to float64 by StandardScaler.\n",
      "  return self.fit(X, **fit_params).transform(X)\n"
     ]
    },
    {
     "name": "stdout",
     "output_type": "stream",
     "text": [
      "Traceback (most recent call last):\n",
      "  File \"<ipython-input-3-0fbae45fdc0c>\", line 6, in evaluateGMM\n",
      "    resultDict, _ = gmm_utils.runGMM(args)\n",
      "  File \"/mnt/reds/projects/single-cell-sota/gmm/gmm_utils.py\", line 158, in runGMM\n",
      "    pc = PCA(n_components=params['pca_comp']).fit_transform(scaledDf)\n",
      "  File \"/opt/anaconda3/envs/astrohack/lib/python3.6/site-packages/sklearn/decomposition/pca.py\", line 359, in fit_transform\n",
      "    U, S, V = self._fit(X)\n",
      "  File \"/opt/anaconda3/envs/astrohack/lib/python3.6/site-packages/sklearn/decomposition/pca.py\", line 406, in _fit\n",
      "    return self._fit_full(X, n_components)\n",
      "  File \"/opt/anaconda3/envs/astrohack/lib/python3.6/site-packages/sklearn/decomposition/pca.py\", line 425, in _fit_full\n",
      "    % (n_components, min(n_samples, n_features)))\n",
      "ValueError: n_components=76 must be between 0 and min(n_samples, n_features)=60 with svd_solver='full'\n"
     ]
    },
    {
     "name": "stderr",
     "output_type": "stream",
     "text": [
      "/opt/anaconda3/envs/astrohack/lib/python3.6/site-packages/sklearn/preprocessing/data.py:625: DataConversionWarning: Data with input dtype int64 were all converted to float64 by StandardScaler.\n",
      "  return self.partial_fit(X, y)\n",
      "/opt/anaconda3/envs/astrohack/lib/python3.6/site-packages/sklearn/base.py:462: DataConversionWarning: Data with input dtype int64 were all converted to float64 by StandardScaler.\n",
      "  return self.fit(X, **fit_params).transform(X)\n"
     ]
    },
    {
     "name": "stdout",
     "output_type": "stream",
     "text": [
      "Traceback (most recent call last):\n",
      "  File \"<ipython-input-3-0fbae45fdc0c>\", line 6, in evaluateGMM\n",
      "    resultDict, _ = gmm_utils.runGMM(args)\n",
      "  File \"/mnt/reds/projects/single-cell-sota/gmm/gmm_utils.py\", line 158, in runGMM\n",
      "    pc = PCA(n_components=params['pca_comp']).fit_transform(scaledDf)\n",
      "  File \"/opt/anaconda3/envs/astrohack/lib/python3.6/site-packages/sklearn/decomposition/pca.py\", line 359, in fit_transform\n",
      "    U, S, V = self._fit(X)\n",
      "  File \"/opt/anaconda3/envs/astrohack/lib/python3.6/site-packages/sklearn/decomposition/pca.py\", line 406, in _fit\n",
      "    return self._fit_full(X, n_components)\n",
      "  File \"/opt/anaconda3/envs/astrohack/lib/python3.6/site-packages/sklearn/decomposition/pca.py\", line 425, in _fit_full\n",
      "    % (n_components, min(n_samples, n_features)))\n",
      "ValueError: n_components=85 must be between 0 and min(n_samples, n_features)=60 with svd_solver='full'\n",
      "Traceback (most recent call last):\n",
      "  File \"/opt/anaconda3/envs/astrohack/lib/python3.6/site-packages/sklearn/mixture/gaussian_mixture.py\", line 318, in _compute_precision_cholesky\n",
      "    cov_chol = linalg.cholesky(covariance, lower=True)\n",
      "  File \"/opt/anaconda3/envs/astrohack/lib/python3.6/site-packages/scipy/linalg/decomp_cholesky.py\", line 91, in cholesky\n",
      "    check_finite=check_finite)\n",
      "  File \"/opt/anaconda3/envs/astrohack/lib/python3.6/site-packages/scipy/linalg/decomp_cholesky.py\", line 40, in _cholesky\n",
      "    \"definite\" % info)\n",
      "numpy.linalg.linalg.LinAlgError: 10-th leading minor of the array is not positive definite\n",
      "\n",
      "During handling of the above exception, another exception occurred:\n",
      "\n",
      "Traceback (most recent call last):\n",
      "  File \"<ipython-input-3-0fbae45fdc0c>\", line 6, in evaluateGMM\n",
      "    resultDict, _ = gmm_utils.runGMM(args)\n",
      "  File \"/mnt/reds/projects/single-cell-sota/gmm/gmm_utils.py\", line 160, in runGMM\n",
      "    model = GaussianMixture(params['nb_clusters'] , covariance_type ='full', random_state = 0).fit(pc)\n",
      "  File \"/opt/anaconda3/envs/astrohack/lib/python3.6/site-packages/sklearn/mixture/base.py\", line 194, in fit\n",
      "    self.fit_predict(X, y)\n",
      "  File \"/opt/anaconda3/envs/astrohack/lib/python3.6/site-packages/sklearn/mixture/base.py\", line 237, in fit_predict\n",
      "    self._initialize_parameters(X, random_state)\n",
      "  File \"/opt/anaconda3/envs/astrohack/lib/python3.6/site-packages/sklearn/mixture/base.py\", line 158, in _initialize_parameters\n",
      "    self._initialize(X, resp)\n",
      "  File \"/opt/anaconda3/envs/astrohack/lib/python3.6/site-packages/sklearn/mixture/gaussian_mixture.py\", line 650, in _initialize\n",
      "    covariances, self.covariance_type)\n",
      "  File \"/opt/anaconda3/envs/astrohack/lib/python3.6/site-packages/sklearn/mixture/gaussian_mixture.py\", line 320, in _compute_precision_cholesky\n",
      "    raise ValueError(estimate_precision_error_message)\n",
      "ValueError: Fitting the mixture model failed because some components have ill-defined empirical covariance (for instance caused by singleton or collapsed samples). Try to decrease the number of components, or increase reg_covar.\n"
     ]
    },
    {
     "name": "stderr",
     "output_type": "stream",
     "text": [
      "/opt/anaconda3/envs/astrohack/lib/python3.6/site-packages/sklearn/preprocessing/data.py:625: DataConversionWarning: Data with input dtype int64 were all converted to float64 by StandardScaler.\n",
      "  return self.partial_fit(X, y)\n",
      "/opt/anaconda3/envs/astrohack/lib/python3.6/site-packages/sklearn/base.py:462: DataConversionWarning: Data with input dtype int64 were all converted to float64 by StandardScaler.\n",
      "  return self.fit(X, **fit_params).transform(X)\n"
     ]
    },
    {
     "name": "stdout",
     "output_type": "stream",
     "text": [
      "Traceback (most recent call last):\n",
      "  File \"<ipython-input-3-0fbae45fdc0c>\", line 6, in evaluateGMM\n",
      "    resultDict, _ = gmm_utils.runGMM(args)\n",
      "  File \"/mnt/reds/projects/single-cell-sota/gmm/gmm_utils.py\", line 158, in runGMM\n",
      "    pc = PCA(n_components=params['pca_comp']).fit_transform(scaledDf)\n",
      "  File \"/opt/anaconda3/envs/astrohack/lib/python3.6/site-packages/sklearn/decomposition/pca.py\", line 359, in fit_transform\n",
      "    U, S, V = self._fit(X)\n",
      "  File \"/opt/anaconda3/envs/astrohack/lib/python3.6/site-packages/sklearn/decomposition/pca.py\", line 406, in _fit\n",
      "    return self._fit_full(X, n_components)\n",
      "  File \"/opt/anaconda3/envs/astrohack/lib/python3.6/site-packages/sklearn/decomposition/pca.py\", line 425, in _fit_full\n",
      "    % (n_components, min(n_samples, n_features)))\n",
      "ValueError: n_components=136 must be between 0 and min(n_samples, n_features)=60 with svd_solver='full'\n",
      "Traceback (most recent call last):\n",
      "  File \"<ipython-input-3-0fbae45fdc0c>\", line 6, in evaluateGMM\n",
      "    resultDict, _ = gmm_utils.runGMM(args)\n",
      "  File \"/mnt/reds/projects/single-cell-sota/gmm/gmm_utils.py\", line 158, in runGMM\n",
      "    pc = PCA(n_components=params['pca_comp']).fit_transform(scaledDf)\n",
      "  File \"/opt/anaconda3/envs/astrohack/lib/python3.6/site-packages/sklearn/decomposition/pca.py\", line 359, in fit_transform\n",
      "    U, S, V = self._fit(X)\n",
      "  File \"/opt/anaconda3/envs/astrohack/lib/python3.6/site-packages/sklearn/decomposition/pca.py\", line 406, in _fit\n",
      "    return self._fit_full(X, n_components)\n",
      "  File \"/opt/anaconda3/envs/astrohack/lib/python3.6/site-packages/sklearn/decomposition/pca.py\", line 425, in _fit_full\n",
      "    % (n_components, min(n_samples, n_features)))\n",
      "ValueError: n_components=79 must be between 0 and min(n_samples, n_features)=60 with svd_solver='full'\n",
      "Index  160\n"
     ]
    },
    {
     "name": "stderr",
     "output_type": "stream",
     "text": [
      "/opt/anaconda3/envs/astrohack/lib/python3.6/site-packages/sklearn/preprocessing/data.py:625: DataConversionWarning: Data with input dtype int64 were all converted to float64 by StandardScaler.\n",
      "  return self.partial_fit(X, y)\n",
      "/opt/anaconda3/envs/astrohack/lib/python3.6/site-packages/sklearn/base.py:462: DataConversionWarning: Data with input dtype int64 were all converted to float64 by StandardScaler.\n",
      "  return self.fit(X, **fit_params).transform(X)\n",
      "/opt/anaconda3/envs/astrohack/lib/python3.6/site-packages/sklearn/metrics/cluster/supervised.py:732: FutureWarning: The behavior of AMI will change in version 0.22. To match the behavior of 'v_measure_score', AMI will use average_method='arithmetic' by default.\n",
      "  FutureWarning)\n",
      "/opt/anaconda3/envs/astrohack/lib/python3.6/site-packages/sklearn/metrics/cluster/unsupervised.py:342: RuntimeWarning: divide by zero encountered in true_divide\n",
      "  score = (intra_dists[:, None] + intra_dists) / centroid_distances\n"
     ]
    },
    {
     "name": "stdout",
     "output_type": "stream",
     "text": [
      ">> Result: 0.5571506263174689\n",
      "Traceback (most recent call last):\n",
      "  File \"<ipython-input-3-0fbae45fdc0c>\", line 6, in evaluateGMM\n",
      "    resultDict, _ = gmm_utils.runGMM(args)\n",
      "  File \"/mnt/reds/projects/single-cell-sota/gmm/gmm_utils.py\", line 158, in runGMM\n",
      "    pc = PCA(n_components=params['pca_comp']).fit_transform(scaledDf)\n",
      "  File \"/opt/anaconda3/envs/astrohack/lib/python3.6/site-packages/sklearn/decomposition/pca.py\", line 359, in fit_transform\n",
      "    U, S, V = self._fit(X)\n",
      "  File \"/opt/anaconda3/envs/astrohack/lib/python3.6/site-packages/sklearn/decomposition/pca.py\", line 406, in _fit\n",
      "    return self._fit_full(X, n_components)\n",
      "  File \"/opt/anaconda3/envs/astrohack/lib/python3.6/site-packages/sklearn/decomposition/pca.py\", line 425, in _fit_full\n",
      "    % (n_components, min(n_samples, n_features)))\n",
      "ValueError: n_components=91 must be between 0 and min(n_samples, n_features)=60 with svd_solver='full'\n"
     ]
    },
    {
     "name": "stderr",
     "output_type": "stream",
     "text": [
      "/opt/anaconda3/envs/astrohack/lib/python3.6/site-packages/sklearn/preprocessing/data.py:625: DataConversionWarning: Data with input dtype int64 were all converted to float64 by StandardScaler.\n",
      "  return self.partial_fit(X, y)\n",
      "/opt/anaconda3/envs/astrohack/lib/python3.6/site-packages/sklearn/base.py:462: DataConversionWarning: Data with input dtype int64 were all converted to float64 by StandardScaler.\n",
      "  return self.fit(X, **fit_params).transform(X)\n"
     ]
    },
    {
     "name": "stdout",
     "output_type": "stream",
     "text": [
      "Traceback (most recent call last):\n",
      "  File \"<ipython-input-3-0fbae45fdc0c>\", line 6, in evaluateGMM\n",
      "    resultDict, _ = gmm_utils.runGMM(args)\n",
      "  File \"/mnt/reds/projects/single-cell-sota/gmm/gmm_utils.py\", line 158, in runGMM\n",
      "    pc = PCA(n_components=params['pca_comp']).fit_transform(scaledDf)\n",
      "  File \"/opt/anaconda3/envs/astrohack/lib/python3.6/site-packages/sklearn/decomposition/pca.py\", line 359, in fit_transform\n",
      "    U, S, V = self._fit(X)\n",
      "  File \"/opt/anaconda3/envs/astrohack/lib/python3.6/site-packages/sklearn/decomposition/pca.py\", line 406, in _fit\n",
      "    return self._fit_full(X, n_components)\n",
      "  File \"/opt/anaconda3/envs/astrohack/lib/python3.6/site-packages/sklearn/decomposition/pca.py\", line 425, in _fit_full\n",
      "    % (n_components, min(n_samples, n_features)))\n",
      "ValueError: n_components=71 must be between 0 and min(n_samples, n_features)=60 with svd_solver='full'\n"
     ]
    },
    {
     "name": "stderr",
     "output_type": "stream",
     "text": [
      "/opt/anaconda3/envs/astrohack/lib/python3.6/site-packages/sklearn/preprocessing/data.py:625: DataConversionWarning: Data with input dtype int64 were all converted to float64 by StandardScaler.\n",
      "  return self.partial_fit(X, y)\n",
      "/opt/anaconda3/envs/astrohack/lib/python3.6/site-packages/sklearn/base.py:462: DataConversionWarning: Data with input dtype int64 were all converted to float64 by StandardScaler.\n",
      "  return self.fit(X, **fit_params).transform(X)\n",
      "/opt/anaconda3/envs/astrohack/lib/python3.6/site-packages/sklearn/metrics/cluster/supervised.py:732: FutureWarning: The behavior of AMI will change in version 0.22. To match the behavior of 'v_measure_score', AMI will use average_method='arithmetic' by default.\n",
      "  FutureWarning)\n",
      "/opt/anaconda3/envs/astrohack/lib/python3.6/site-packages/sklearn/metrics/cluster/unsupervised.py:342: RuntimeWarning: divide by zero encountered in true_divide\n",
      "  score = (intra_dists[:, None] + intra_dists) / centroid_distances\n",
      "/opt/anaconda3/envs/astrohack/lib/python3.6/site-packages/sklearn/metrics/cluster/unsupervised.py:342: RuntimeWarning: invalid value encountered in true_divide\n",
      "  score = (intra_dists[:, None] + intra_dists) / centroid_distances\n"
     ]
    },
    {
     "name": "stdout",
     "output_type": "stream",
     "text": [
      ">> Result: 0.006488695300747685\n"
     ]
    },
    {
     "name": "stderr",
     "output_type": "stream",
     "text": [
      "/opt/anaconda3/envs/astrohack/lib/python3.6/site-packages/sklearn/preprocessing/data.py:625: DataConversionWarning: Data with input dtype int64 were all converted to float64 by StandardScaler.\n",
      "  return self.partial_fit(X, y)\n",
      "/opt/anaconda3/envs/astrohack/lib/python3.6/site-packages/sklearn/base.py:462: DataConversionWarning: Data with input dtype int64 were all converted to float64 by StandardScaler.\n",
      "  return self.fit(X, **fit_params).transform(X)\n"
     ]
    },
    {
     "name": "stdout",
     "output_type": "stream",
     "text": [
      "Traceback (most recent call last):\n",
      "  File \"<ipython-input-3-0fbae45fdc0c>\", line 6, in evaluateGMM\n",
      "    resultDict, _ = gmm_utils.runGMM(args)\n",
      "  File \"/mnt/reds/projects/single-cell-sota/gmm/gmm_utils.py\", line 158, in runGMM\n",
      "    pc = PCA(n_components=params['pca_comp']).fit_transform(scaledDf)\n",
      "  File \"/opt/anaconda3/envs/astrohack/lib/python3.6/site-packages/sklearn/decomposition/pca.py\", line 359, in fit_transform\n",
      "    U, S, V = self._fit(X)\n",
      "  File \"/opt/anaconda3/envs/astrohack/lib/python3.6/site-packages/sklearn/decomposition/pca.py\", line 406, in _fit\n",
      "    return self._fit_full(X, n_components)\n",
      "  File \"/opt/anaconda3/envs/astrohack/lib/python3.6/site-packages/sklearn/decomposition/pca.py\", line 425, in _fit_full\n",
      "    % (n_components, min(n_samples, n_features)))\n",
      "ValueError: n_components=121 must be between 0 and min(n_samples, n_features)=60 with svd_solver='full'\n"
     ]
    },
    {
     "name": "stderr",
     "output_type": "stream",
     "text": [
      "/opt/anaconda3/envs/astrohack/lib/python3.6/site-packages/sklearn/preprocessing/data.py:625: DataConversionWarning: Data with input dtype int64 were all converted to float64 by StandardScaler.\n",
      "  return self.partial_fit(X, y)\n",
      "/opt/anaconda3/envs/astrohack/lib/python3.6/site-packages/sklearn/base.py:462: DataConversionWarning: Data with input dtype int64 were all converted to float64 by StandardScaler.\n",
      "  return self.fit(X, **fit_params).transform(X)\n"
     ]
    },
    {
     "name": "stdout",
     "output_type": "stream",
     "text": [
      "Traceback (most recent call last):\n",
      "  File \"<ipython-input-3-0fbae45fdc0c>\", line 6, in evaluateGMM\n",
      "    resultDict, _ = gmm_utils.runGMM(args)\n",
      "  File \"/mnt/reds/projects/single-cell-sota/gmm/gmm_utils.py\", line 158, in runGMM\n",
      "    pc = PCA(n_components=params['pca_comp']).fit_transform(scaledDf)\n",
      "  File \"/opt/anaconda3/envs/astrohack/lib/python3.6/site-packages/sklearn/decomposition/pca.py\", line 359, in fit_transform\n",
      "    U, S, V = self._fit(X)\n",
      "  File \"/opt/anaconda3/envs/astrohack/lib/python3.6/site-packages/sklearn/decomposition/pca.py\", line 406, in _fit\n",
      "    return self._fit_full(X, n_components)\n",
      "  File \"/opt/anaconda3/envs/astrohack/lib/python3.6/site-packages/sklearn/decomposition/pca.py\", line 425, in _fit_full\n",
      "    % (n_components, min(n_samples, n_features)))\n",
      "ValueError: n_components=108 must be between 0 and min(n_samples, n_features)=60 with svd_solver='full'\n",
      "Traceback (most recent call last):\n",
      "  File \"/opt/anaconda3/envs/astrohack/lib/python3.6/site-packages/sklearn/mixture/gaussian_mixture.py\", line 318, in _compute_precision_cholesky\n",
      "    cov_chol = linalg.cholesky(covariance, lower=True)\n",
      "  File \"/opt/anaconda3/envs/astrohack/lib/python3.6/site-packages/scipy/linalg/decomp_cholesky.py\", line 91, in cholesky\n",
      "    check_finite=check_finite)\n",
      "  File \"/opt/anaconda3/envs/astrohack/lib/python3.6/site-packages/scipy/linalg/decomp_cholesky.py\", line 40, in _cholesky\n",
      "    \"definite\" % info)\n",
      "numpy.linalg.linalg.LinAlgError: 9-th leading minor of the array is not positive definite\n",
      "\n",
      "During handling of the above exception, another exception occurred:\n",
      "\n",
      "Traceback (most recent call last):\n",
      "  File \"<ipython-input-3-0fbae45fdc0c>\", line 6, in evaluateGMM\n",
      "    resultDict, _ = gmm_utils.runGMM(args)\n",
      "  File \"/mnt/reds/projects/single-cell-sota/gmm/gmm_utils.py\", line 160, in runGMM\n",
      "    model = GaussianMixture(params['nb_clusters'] , covariance_type ='full', random_state = 0).fit(pc)\n",
      "  File \"/opt/anaconda3/envs/astrohack/lib/python3.6/site-packages/sklearn/mixture/base.py\", line 194, in fit\n",
      "    self.fit_predict(X, y)\n",
      "  File \"/opt/anaconda3/envs/astrohack/lib/python3.6/site-packages/sklearn/mixture/base.py\", line 237, in fit_predict\n",
      "    self._initialize_parameters(X, random_state)\n",
      "  File \"/opt/anaconda3/envs/astrohack/lib/python3.6/site-packages/sklearn/mixture/base.py\", line 158, in _initialize_parameters\n",
      "    self._initialize(X, resp)\n",
      "  File \"/opt/anaconda3/envs/astrohack/lib/python3.6/site-packages/sklearn/mixture/gaussian_mixture.py\", line 650, in _initialize\n",
      "    covariances, self.covariance_type)\n",
      "  File \"/opt/anaconda3/envs/astrohack/lib/python3.6/site-packages/sklearn/mixture/gaussian_mixture.py\", line 320, in _compute_precision_cholesky\n",
      "    raise ValueError(estimate_precision_error_message)\n",
      "ValueError: Fitting the mixture model failed because some components have ill-defined empirical covariance (for instance caused by singleton or collapsed samples). Try to decrease the number of components, or increase reg_covar.\n",
      "Traceback (most recent call last):\n",
      "  File \"<ipython-input-3-0fbae45fdc0c>\", line 6, in evaluateGMM\n",
      "    resultDict, _ = gmm_utils.runGMM(args)\n",
      "  File \"/mnt/reds/projects/single-cell-sota/gmm/gmm_utils.py\", line 158, in runGMM\n",
      "    pc = PCA(n_components=params['pca_comp']).fit_transform(scaledDf)\n",
      "  File \"/opt/anaconda3/envs/astrohack/lib/python3.6/site-packages/sklearn/decomposition/pca.py\", line 359, in fit_transform\n",
      "    U, S, V = self._fit(X)\n",
      "  File \"/opt/anaconda3/envs/astrohack/lib/python3.6/site-packages/sklearn/decomposition/pca.py\", line 406, in _fit\n",
      "    return self._fit_full(X, n_components)\n",
      "  File \"/opt/anaconda3/envs/astrohack/lib/python3.6/site-packages/sklearn/decomposition/pca.py\", line 425, in _fit_full\n",
      "    % (n_components, min(n_samples, n_features)))\n",
      "ValueError: n_components=117 must be between 0 and min(n_samples, n_features)=60 with svd_solver='full'\n"
     ]
    },
    {
     "name": "stderr",
     "output_type": "stream",
     "text": [
      "/opt/anaconda3/envs/astrohack/lib/python3.6/site-packages/sklearn/preprocessing/data.py:625: DataConversionWarning: Data with input dtype int64 were all converted to float64 by StandardScaler.\n",
      "  return self.partial_fit(X, y)\n",
      "/opt/anaconda3/envs/astrohack/lib/python3.6/site-packages/sklearn/base.py:462: DataConversionWarning: Data with input dtype int64 were all converted to float64 by StandardScaler.\n",
      "  return self.fit(X, **fit_params).transform(X)\n"
     ]
    },
    {
     "name": "stdout",
     "output_type": "stream",
     "text": [
      "Traceback (most recent call last):\n",
      "  File \"<ipython-input-3-0fbae45fdc0c>\", line 6, in evaluateGMM\n",
      "    resultDict, _ = gmm_utils.runGMM(args)\n",
      "  File \"/mnt/reds/projects/single-cell-sota/gmm/gmm_utils.py\", line 158, in runGMM\n",
      "    pc = PCA(n_components=params['pca_comp']).fit_transform(scaledDf)\n",
      "  File \"/opt/anaconda3/envs/astrohack/lib/python3.6/site-packages/sklearn/decomposition/pca.py\", line 359, in fit_transform\n",
      "    U, S, V = self._fit(X)\n",
      "  File \"/opt/anaconda3/envs/astrohack/lib/python3.6/site-packages/sklearn/decomposition/pca.py\", line 406, in _fit\n",
      "    return self._fit_full(X, n_components)\n",
      "  File \"/opt/anaconda3/envs/astrohack/lib/python3.6/site-packages/sklearn/decomposition/pca.py\", line 425, in _fit_full\n",
      "    % (n_components, min(n_samples, n_features)))\n",
      "ValueError: n_components=161 must be between 0 and min(n_samples, n_features)=60 with svd_solver='full'\n"
     ]
    },
    {
     "name": "stderr",
     "output_type": "stream",
     "text": [
      "/opt/anaconda3/envs/astrohack/lib/python3.6/site-packages/sklearn/preprocessing/data.py:625: DataConversionWarning: Data with input dtype int64 were all converted to float64 by StandardScaler.\n",
      "  return self.partial_fit(X, y)\n",
      "/opt/anaconda3/envs/astrohack/lib/python3.6/site-packages/sklearn/base.py:462: DataConversionWarning: Data with input dtype int64 were all converted to float64 by StandardScaler.\n",
      "  return self.fit(X, **fit_params).transform(X)\n"
     ]
    },
    {
     "name": "stdout",
     "output_type": "stream",
     "text": [
      "Traceback (most recent call last):\n",
      "  File \"<ipython-input-3-0fbae45fdc0c>\", line 6, in evaluateGMM\n",
      "    resultDict, _ = gmm_utils.runGMM(args)\n",
      "  File \"/mnt/reds/projects/single-cell-sota/gmm/gmm_utils.py\", line 158, in runGMM\n",
      "    pc = PCA(n_components=params['pca_comp']).fit_transform(scaledDf)\n",
      "  File \"/opt/anaconda3/envs/astrohack/lib/python3.6/site-packages/sklearn/decomposition/pca.py\", line 359, in fit_transform\n",
      "    U, S, V = self._fit(X)\n",
      "  File \"/opt/anaconda3/envs/astrohack/lib/python3.6/site-packages/sklearn/decomposition/pca.py\", line 406, in _fit\n",
      "    return self._fit_full(X, n_components)\n",
      "  File \"/opt/anaconda3/envs/astrohack/lib/python3.6/site-packages/sklearn/decomposition/pca.py\", line 425, in _fit_full\n",
      "    % (n_components, min(n_samples, n_features)))\n",
      "ValueError: n_components=68 must be between 0 and min(n_samples, n_features)=60 with svd_solver='full'\n",
      "Index  170\n"
     ]
    },
    {
     "name": "stderr",
     "output_type": "stream",
     "text": [
      "/opt/anaconda3/envs/astrohack/lib/python3.6/site-packages/sklearn/metrics/cluster/supervised.py:732: FutureWarning: The behavior of AMI will change in version 0.22. To match the behavior of 'v_measure_score', AMI will use average_method='arithmetic' by default.\n",
      "  FutureWarning)\n",
      "/opt/anaconda3/envs/astrohack/lib/python3.6/site-packages/sklearn/metrics/cluster/unsupervised.py:342: RuntimeWarning: divide by zero encountered in true_divide\n",
      "  score = (intra_dists[:, None] + intra_dists) / centroid_distances\n",
      "/opt/anaconda3/envs/astrohack/lib/python3.6/site-packages/sklearn/metrics/cluster/unsupervised.py:342: RuntimeWarning: invalid value encountered in true_divide\n",
      "  score = (intra_dists[:, None] + intra_dists) / centroid_distances\n"
     ]
    },
    {
     "name": "stdout",
     "output_type": "stream",
     "text": [
      ">> Result: 0.053188756497553225\n"
     ]
    },
    {
     "name": "stderr",
     "output_type": "stream",
     "text": [
      "/opt/anaconda3/envs/astrohack/lib/python3.6/site-packages/sklearn/preprocessing/data.py:625: DataConversionWarning: Data with input dtype int64 were all converted to float64 by StandardScaler.\n",
      "  return self.partial_fit(X, y)\n",
      "/opt/anaconda3/envs/astrohack/lib/python3.6/site-packages/sklearn/base.py:462: DataConversionWarning: Data with input dtype int64 were all converted to float64 by StandardScaler.\n",
      "  return self.fit(X, **fit_params).transform(X)\n"
     ]
    },
    {
     "name": "stdout",
     "output_type": "stream",
     "text": [
      "Traceback (most recent call last):\n",
      "  File \"<ipython-input-3-0fbae45fdc0c>\", line 6, in evaluateGMM\n",
      "    resultDict, _ = gmm_utils.runGMM(args)\n",
      "  File \"/mnt/reds/projects/single-cell-sota/gmm/gmm_utils.py\", line 158, in runGMM\n",
      "    pc = PCA(n_components=params['pca_comp']).fit_transform(scaledDf)\n",
      "  File \"/opt/anaconda3/envs/astrohack/lib/python3.6/site-packages/sklearn/decomposition/pca.py\", line 359, in fit_transform\n",
      "    U, S, V = self._fit(X)\n",
      "  File \"/opt/anaconda3/envs/astrohack/lib/python3.6/site-packages/sklearn/decomposition/pca.py\", line 406, in _fit\n",
      "    return self._fit_full(X, n_components)\n",
      "  File \"/opt/anaconda3/envs/astrohack/lib/python3.6/site-packages/sklearn/decomposition/pca.py\", line 425, in _fit_full\n",
      "    % (n_components, min(n_samples, n_features)))\n",
      "ValueError: n_components=82 must be between 0 and min(n_samples, n_features)=60 with svd_solver='full'\n",
      "Traceback (most recent call last):\n",
      "  File \"<ipython-input-3-0fbae45fdc0c>\", line 6, in evaluateGMM\n",
      "    resultDict, _ = gmm_utils.runGMM(args)\n",
      "  File \"/mnt/reds/projects/single-cell-sota/gmm/gmm_utils.py\", line 158, in runGMM\n",
      "    pc = PCA(n_components=params['pca_comp']).fit_transform(scaledDf)\n",
      "  File \"/opt/anaconda3/envs/astrohack/lib/python3.6/site-packages/sklearn/decomposition/pca.py\", line 359, in fit_transform\n",
      "    U, S, V = self._fit(X)\n",
      "  File \"/opt/anaconda3/envs/astrohack/lib/python3.6/site-packages/sklearn/decomposition/pca.py\", line 406, in _fit\n",
      "    return self._fit_full(X, n_components)\n",
      "  File \"/opt/anaconda3/envs/astrohack/lib/python3.6/site-packages/sklearn/decomposition/pca.py\", line 425, in _fit_full\n",
      "    % (n_components, min(n_samples, n_features)))\n",
      "ValueError: n_components=62 must be between 0 and min(n_samples, n_features)=60 with svd_solver='full'\n"
     ]
    },
    {
     "name": "stderr",
     "output_type": "stream",
     "text": [
      "/opt/anaconda3/envs/astrohack/lib/python3.6/site-packages/sklearn/preprocessing/data.py:625: DataConversionWarning: Data with input dtype int64 were all converted to float64 by StandardScaler.\n",
      "  return self.partial_fit(X, y)\n",
      "/opt/anaconda3/envs/astrohack/lib/python3.6/site-packages/sklearn/base.py:462: DataConversionWarning: Data with input dtype int64 were all converted to float64 by StandardScaler.\n",
      "  return self.fit(X, **fit_params).transform(X)\n"
     ]
    },
    {
     "name": "stdout",
     "output_type": "stream",
     "text": [
      "Traceback (most recent call last):\n",
      "  File \"<ipython-input-3-0fbae45fdc0c>\", line 6, in evaluateGMM\n",
      "    resultDict, _ = gmm_utils.runGMM(args)\n",
      "  File \"/mnt/reds/projects/single-cell-sota/gmm/gmm_utils.py\", line 158, in runGMM\n",
      "    pc = PCA(n_components=params['pca_comp']).fit_transform(scaledDf)\n",
      "  File \"/opt/anaconda3/envs/astrohack/lib/python3.6/site-packages/sklearn/decomposition/pca.py\", line 359, in fit_transform\n",
      "    U, S, V = self._fit(X)\n",
      "  File \"/opt/anaconda3/envs/astrohack/lib/python3.6/site-packages/sklearn/decomposition/pca.py\", line 406, in _fit\n",
      "    return self._fit_full(X, n_components)\n",
      "  File \"/opt/anaconda3/envs/astrohack/lib/python3.6/site-packages/sklearn/decomposition/pca.py\", line 425, in _fit_full\n",
      "    % (n_components, min(n_samples, n_features)))\n",
      "ValueError: n_components=98 must be between 0 and min(n_samples, n_features)=60 with svd_solver='full'\n"
     ]
    },
    {
     "name": "stderr",
     "output_type": "stream",
     "text": [
      "/opt/anaconda3/envs/astrohack/lib/python3.6/site-packages/sklearn/preprocessing/data.py:625: DataConversionWarning: Data with input dtype int64 were all converted to float64 by StandardScaler.\n",
      "  return self.partial_fit(X, y)\n",
      "/opt/anaconda3/envs/astrohack/lib/python3.6/site-packages/sklearn/base.py:462: DataConversionWarning: Data with input dtype int64 were all converted to float64 by StandardScaler.\n",
      "  return self.fit(X, **fit_params).transform(X)\n"
     ]
    },
    {
     "name": "stdout",
     "output_type": "stream",
     "text": [
      "Traceback (most recent call last):\n",
      "  File \"<ipython-input-3-0fbae45fdc0c>\", line 6, in evaluateGMM\n",
      "    resultDict, _ = gmm_utils.runGMM(args)\n",
      "  File \"/mnt/reds/projects/single-cell-sota/gmm/gmm_utils.py\", line 158, in runGMM\n",
      "    pc = PCA(n_components=params['pca_comp']).fit_transform(scaledDf)\n",
      "  File \"/opt/anaconda3/envs/astrohack/lib/python3.6/site-packages/sklearn/decomposition/pca.py\", line 359, in fit_transform\n",
      "    U, S, V = self._fit(X)\n",
      "  File \"/opt/anaconda3/envs/astrohack/lib/python3.6/site-packages/sklearn/decomposition/pca.py\", line 406, in _fit\n",
      "    return self._fit_full(X, n_components)\n",
      "  File \"/opt/anaconda3/envs/astrohack/lib/python3.6/site-packages/sklearn/decomposition/pca.py\", line 425, in _fit_full\n",
      "    % (n_components, min(n_samples, n_features)))\n",
      "ValueError: n_components=179 must be between 0 and min(n_samples, n_features)=60 with svd_solver='full'\n",
      "Traceback (most recent call last):\n",
      "  File \"/opt/anaconda3/envs/astrohack/lib/python3.6/site-packages/sklearn/mixture/gaussian_mixture.py\", line 318, in _compute_precision_cholesky\n",
      "    cov_chol = linalg.cholesky(covariance, lower=True)\n",
      "  File \"/opt/anaconda3/envs/astrohack/lib/python3.6/site-packages/scipy/linalg/decomp_cholesky.py\", line 91, in cholesky\n",
      "    check_finite=check_finite)\n",
      "  File \"/opt/anaconda3/envs/astrohack/lib/python3.6/site-packages/scipy/linalg/decomp_cholesky.py\", line 40, in _cholesky\n",
      "    \"definite\" % info)\n",
      "numpy.linalg.linalg.LinAlgError: 20-th leading minor of the array is not positive definite\n",
      "\n",
      "During handling of the above exception, another exception occurred:\n",
      "\n",
      "Traceback (most recent call last):\n",
      "  File \"<ipython-input-3-0fbae45fdc0c>\", line 6, in evaluateGMM\n",
      "    resultDict, _ = gmm_utils.runGMM(args)\n",
      "  File \"/mnt/reds/projects/single-cell-sota/gmm/gmm_utils.py\", line 160, in runGMM\n",
      "    model = GaussianMixture(params['nb_clusters'] , covariance_type ='full', random_state = 0).fit(pc)\n",
      "  File \"/opt/anaconda3/envs/astrohack/lib/python3.6/site-packages/sklearn/mixture/base.py\", line 194, in fit\n",
      "    self.fit_predict(X, y)\n",
      "  File \"/opt/anaconda3/envs/astrohack/lib/python3.6/site-packages/sklearn/mixture/base.py\", line 237, in fit_predict\n",
      "    self._initialize_parameters(X, random_state)\n",
      "  File \"/opt/anaconda3/envs/astrohack/lib/python3.6/site-packages/sklearn/mixture/base.py\", line 158, in _initialize_parameters\n",
      "    self._initialize(X, resp)\n",
      "  File \"/opt/anaconda3/envs/astrohack/lib/python3.6/site-packages/sklearn/mixture/gaussian_mixture.py\", line 650, in _initialize\n",
      "    covariances, self.covariance_type)\n",
      "  File \"/opt/anaconda3/envs/astrohack/lib/python3.6/site-packages/sklearn/mixture/gaussian_mixture.py\", line 320, in _compute_precision_cholesky\n",
      "    raise ValueError(estimate_precision_error_message)\n",
      "ValueError: Fitting the mixture model failed because some components have ill-defined empirical covariance (for instance caused by singleton or collapsed samples). Try to decrease the number of components, or increase reg_covar.\n",
      "Traceback (most recent call last):\n",
      "  File \"<ipython-input-3-0fbae45fdc0c>\", line 6, in evaluateGMM\n",
      "    resultDict, _ = gmm_utils.runGMM(args)\n",
      "  File \"/mnt/reds/projects/single-cell-sota/gmm/gmm_utils.py\", line 158, in runGMM\n",
      "    pc = PCA(n_components=params['pca_comp']).fit_transform(scaledDf)\n",
      "  File \"/opt/anaconda3/envs/astrohack/lib/python3.6/site-packages/sklearn/decomposition/pca.py\", line 359, in fit_transform\n",
      "    U, S, V = self._fit(X)\n",
      "  File \"/opt/anaconda3/envs/astrohack/lib/python3.6/site-packages/sklearn/decomposition/pca.py\", line 406, in _fit\n",
      "    return self._fit_full(X, n_components)\n",
      "  File \"/opt/anaconda3/envs/astrohack/lib/python3.6/site-packages/sklearn/decomposition/pca.py\", line 425, in _fit_full\n",
      "    % (n_components, min(n_samples, n_features)))\n",
      "ValueError: n_components=226 must be between 0 and min(n_samples, n_features)=60 with svd_solver='full'\n"
     ]
    },
    {
     "name": "stderr",
     "output_type": "stream",
     "text": [
      "/opt/anaconda3/envs/astrohack/lib/python3.6/site-packages/sklearn/metrics/cluster/supervised.py:732: FutureWarning: The behavior of AMI will change in version 0.22. To match the behavior of 'v_measure_score', AMI will use average_method='arithmetic' by default.\n",
      "  FutureWarning)\n",
      "/opt/anaconda3/envs/astrohack/lib/python3.6/site-packages/sklearn/metrics/cluster/unsupervised.py:342: RuntimeWarning: divide by zero encountered in true_divide\n",
      "  score = (intra_dists[:, None] + intra_dists) / centroid_distances\n",
      "/opt/anaconda3/envs/astrohack/lib/python3.6/site-packages/sklearn/metrics/cluster/unsupervised.py:342: RuntimeWarning: invalid value encountered in true_divide\n",
      "  score = (intra_dists[:, None] + intra_dists) / centroid_distances\n"
     ]
    },
    {
     "name": "stdout",
     "output_type": "stream",
     "text": [
      ">> Result: 0.1800651639071747\n"
     ]
    },
    {
     "name": "stderr",
     "output_type": "stream",
     "text": [
      "/opt/anaconda3/envs/astrohack/lib/python3.6/site-packages/sklearn/preprocessing/data.py:625: DataConversionWarning: Data with input dtype int64 were all converted to float64 by StandardScaler.\n",
      "  return self.partial_fit(X, y)\n",
      "/opt/anaconda3/envs/astrohack/lib/python3.6/site-packages/sklearn/base.py:462: DataConversionWarning: Data with input dtype int64 were all converted to float64 by StandardScaler.\n",
      "  return self.fit(X, **fit_params).transform(X)\n",
      "/opt/anaconda3/envs/astrohack/lib/python3.6/site-packages/sklearn/metrics/cluster/supervised.py:732: FutureWarning: The behavior of AMI will change in version 0.22. To match the behavior of 'v_measure_score', AMI will use average_method='arithmetic' by default.\n",
      "  FutureWarning)\n",
      "/opt/anaconda3/envs/astrohack/lib/python3.6/site-packages/sklearn/metrics/cluster/unsupervised.py:342: RuntimeWarning: divide by zero encountered in true_divide\n",
      "  score = (intra_dists[:, None] + intra_dists) / centroid_distances\n"
     ]
    },
    {
     "name": "stdout",
     "output_type": "stream",
     "text": [
      ">> Result: 1.0\n",
      "Traceback (most recent call last):\n",
      "  File \"<ipython-input-3-0fbae45fdc0c>\", line 6, in evaluateGMM\n",
      "    resultDict, _ = gmm_utils.runGMM(args)\n",
      "  File \"/mnt/reds/projects/single-cell-sota/gmm/gmm_utils.py\", line 158, in runGMM\n",
      "    pc = PCA(n_components=params['pca_comp']).fit_transform(scaledDf)\n",
      "  File \"/opt/anaconda3/envs/astrohack/lib/python3.6/site-packages/sklearn/decomposition/pca.py\", line 359, in fit_transform\n",
      "    U, S, V = self._fit(X)\n",
      "  File \"/opt/anaconda3/envs/astrohack/lib/python3.6/site-packages/sklearn/decomposition/pca.py\", line 406, in _fit\n",
      "    return self._fit_full(X, n_components)\n",
      "  File \"/opt/anaconda3/envs/astrohack/lib/python3.6/site-packages/sklearn/decomposition/pca.py\", line 425, in _fit_full\n",
      "    % (n_components, min(n_samples, n_features)))\n",
      "ValueError: n_components=206 must be between 0 and min(n_samples, n_features)=60 with svd_solver='full'\n",
      "Index  180\n"
     ]
    },
    {
     "name": "stderr",
     "output_type": "stream",
     "text": [
      "/opt/anaconda3/envs/astrohack/lib/python3.6/site-packages/sklearn/preprocessing/data.py:625: DataConversionWarning: Data with input dtype int64 were all converted to float64 by StandardScaler.\n",
      "  return self.partial_fit(X, y)\n",
      "/opt/anaconda3/envs/astrohack/lib/python3.6/site-packages/sklearn/base.py:462: DataConversionWarning: Data with input dtype int64 were all converted to float64 by StandardScaler.\n",
      "  return self.fit(X, **fit_params).transform(X)\n",
      "/opt/anaconda3/envs/astrohack/lib/python3.6/site-packages/sklearn/metrics/cluster/supervised.py:732: FutureWarning: The behavior of AMI will change in version 0.22. To match the behavior of 'v_measure_score', AMI will use average_method='arithmetic' by default.\n",
      "  FutureWarning)\n",
      "/opt/anaconda3/envs/astrohack/lib/python3.6/site-packages/sklearn/metrics/cluster/unsupervised.py:342: RuntimeWarning: divide by zero encountered in true_divide\n",
      "  score = (intra_dists[:, None] + intra_dists) / centroid_distances\n",
      "/opt/anaconda3/envs/astrohack/lib/python3.6/site-packages/sklearn/metrics/cluster/unsupervised.py:342: RuntimeWarning: invalid value encountered in true_divide\n",
      "  score = (intra_dists[:, None] + intra_dists) / centroid_distances\n"
     ]
    },
    {
     "name": "stdout",
     "output_type": "stream",
     "text": [
      ">> Result: 0.005711970832489361\n"
     ]
    },
    {
     "name": "stderr",
     "output_type": "stream",
     "text": [
      "/opt/anaconda3/envs/astrohack/lib/python3.6/site-packages/sklearn/preprocessing/data.py:625: DataConversionWarning: Data with input dtype int64 were all converted to float64 by StandardScaler.\n",
      "  return self.partial_fit(X, y)\n",
      "/opt/anaconda3/envs/astrohack/lib/python3.6/site-packages/sklearn/base.py:462: DataConversionWarning: Data with input dtype int64 were all converted to float64 by StandardScaler.\n",
      "  return self.fit(X, **fit_params).transform(X)\n"
     ]
    },
    {
     "name": "stdout",
     "output_type": "stream",
     "text": [
      "Traceback (most recent call last):\n",
      "  File \"<ipython-input-3-0fbae45fdc0c>\", line 6, in evaluateGMM\n",
      "    resultDict, _ = gmm_utils.runGMM(args)\n",
      "  File \"/mnt/reds/projects/single-cell-sota/gmm/gmm_utils.py\", line 158, in runGMM\n",
      "    pc = PCA(n_components=params['pca_comp']).fit_transform(scaledDf)\n",
      "  File \"/opt/anaconda3/envs/astrohack/lib/python3.6/site-packages/sklearn/decomposition/pca.py\", line 359, in fit_transform\n",
      "    U, S, V = self._fit(X)\n",
      "  File \"/opt/anaconda3/envs/astrohack/lib/python3.6/site-packages/sklearn/decomposition/pca.py\", line 406, in _fit\n",
      "    return self._fit_full(X, n_components)\n",
      "  File \"/opt/anaconda3/envs/astrohack/lib/python3.6/site-packages/sklearn/decomposition/pca.py\", line 425, in _fit_full\n",
      "    % (n_components, min(n_samples, n_features)))\n",
      "ValueError: n_components=150 must be between 0 and min(n_samples, n_features)=60 with svd_solver='full'\n"
     ]
    },
    {
     "name": "stderr",
     "output_type": "stream",
     "text": [
      "/opt/anaconda3/envs/astrohack/lib/python3.6/site-packages/sklearn/preprocessing/data.py:625: DataConversionWarning: Data with input dtype int64 were all converted to float64 by StandardScaler.\n",
      "  return self.partial_fit(X, y)\n",
      "/opt/anaconda3/envs/astrohack/lib/python3.6/site-packages/sklearn/base.py:462: DataConversionWarning: Data with input dtype int64 were all converted to float64 by StandardScaler.\n",
      "  return self.fit(X, **fit_params).transform(X)\n",
      "/opt/anaconda3/envs/astrohack/lib/python3.6/site-packages/sklearn/metrics/cluster/supervised.py:732: FutureWarning: The behavior of AMI will change in version 0.22. To match the behavior of 'v_measure_score', AMI will use average_method='arithmetic' by default.\n",
      "  FutureWarning)\n",
      "/opt/anaconda3/envs/astrohack/lib/python3.6/site-packages/sklearn/metrics/cluster/unsupervised.py:342: RuntimeWarning: divide by zero encountered in true_divide\n",
      "  score = (intra_dists[:, None] + intra_dists) / centroid_distances\n"
     ]
    },
    {
     "name": "stdout",
     "output_type": "stream",
     "text": [
      ">> Result: 0.9399996301980289\n",
      "Traceback (most recent call last):\n",
      "  File \"<ipython-input-3-0fbae45fdc0c>\", line 6, in evaluateGMM\n",
      "    resultDict, _ = gmm_utils.runGMM(args)\n",
      "  File \"/mnt/reds/projects/single-cell-sota/gmm/gmm_utils.py\", line 158, in runGMM\n",
      "    pc = PCA(n_components=params['pca_comp']).fit_transform(scaledDf)\n",
      "  File \"/opt/anaconda3/envs/astrohack/lib/python3.6/site-packages/sklearn/decomposition/pca.py\", line 359, in fit_transform\n",
      "    U, S, V = self._fit(X)\n",
      "  File \"/opt/anaconda3/envs/astrohack/lib/python3.6/site-packages/sklearn/decomposition/pca.py\", line 406, in _fit\n",
      "    return self._fit_full(X, n_components)\n",
      "  File \"/opt/anaconda3/envs/astrohack/lib/python3.6/site-packages/sklearn/decomposition/pca.py\", line 425, in _fit_full\n",
      "    % (n_components, min(n_samples, n_features)))\n",
      "ValueError: n_components=92 must be between 0 and min(n_samples, n_features)=60 with svd_solver='full'\n",
      "Traceback (most recent call last):\n",
      "  File \"/opt/anaconda3/envs/astrohack/lib/python3.6/site-packages/sklearn/mixture/gaussian_mixture.py\", line 318, in _compute_precision_cholesky\n",
      "    cov_chol = linalg.cholesky(covariance, lower=True)\n",
      "  File \"/opt/anaconda3/envs/astrohack/lib/python3.6/site-packages/scipy/linalg/decomp_cholesky.py\", line 91, in cholesky\n",
      "    check_finite=check_finite)\n",
      "  File \"/opt/anaconda3/envs/astrohack/lib/python3.6/site-packages/scipy/linalg/decomp_cholesky.py\", line 40, in _cholesky\n",
      "    \"definite\" % info)\n",
      "numpy.linalg.linalg.LinAlgError: 8-th leading minor of the array is not positive definite\n",
      "\n",
      "During handling of the above exception, another exception occurred:\n",
      "\n",
      "Traceback (most recent call last):\n",
      "  File \"<ipython-input-3-0fbae45fdc0c>\", line 6, in evaluateGMM\n",
      "    resultDict, _ = gmm_utils.runGMM(args)\n",
      "  File \"/mnt/reds/projects/single-cell-sota/gmm/gmm_utils.py\", line 160, in runGMM\n",
      "    model = GaussianMixture(params['nb_clusters'] , covariance_type ='full', random_state = 0).fit(pc)\n",
      "  File \"/opt/anaconda3/envs/astrohack/lib/python3.6/site-packages/sklearn/mixture/base.py\", line 194, in fit\n",
      "    self.fit_predict(X, y)\n",
      "  File \"/opt/anaconda3/envs/astrohack/lib/python3.6/site-packages/sklearn/mixture/base.py\", line 237, in fit_predict\n",
      "    self._initialize_parameters(X, random_state)\n",
      "  File \"/opt/anaconda3/envs/astrohack/lib/python3.6/site-packages/sklearn/mixture/base.py\", line 158, in _initialize_parameters\n",
      "    self._initialize(X, resp)\n",
      "  File \"/opt/anaconda3/envs/astrohack/lib/python3.6/site-packages/sklearn/mixture/gaussian_mixture.py\", line 650, in _initialize\n",
      "    covariances, self.covariance_type)\n",
      "  File \"/opt/anaconda3/envs/astrohack/lib/python3.6/site-packages/sklearn/mixture/gaussian_mixture.py\", line 320, in _compute_precision_cholesky\n",
      "    raise ValueError(estimate_precision_error_message)\n",
      "ValueError: Fitting the mixture model failed because some components have ill-defined empirical covariance (for instance caused by singleton or collapsed samples). Try to decrease the number of components, or increase reg_covar.\n"
     ]
    },
    {
     "name": "stderr",
     "output_type": "stream",
     "text": [
      "/opt/anaconda3/envs/astrohack/lib/python3.6/site-packages/sklearn/preprocessing/data.py:625: DataConversionWarning: Data with input dtype int64 were all converted to float64 by StandardScaler.\n",
      "  return self.partial_fit(X, y)\n",
      "/opt/anaconda3/envs/astrohack/lib/python3.6/site-packages/sklearn/base.py:462: DataConversionWarning: Data with input dtype int64 were all converted to float64 by StandardScaler.\n",
      "  return self.fit(X, **fit_params).transform(X)\n"
     ]
    },
    {
     "name": "stdout",
     "output_type": "stream",
     "text": [
      "Traceback (most recent call last):\n",
      "  File \"<ipython-input-3-0fbae45fdc0c>\", line 6, in evaluateGMM\n",
      "    resultDict, _ = gmm_utils.runGMM(args)\n",
      "  File \"/mnt/reds/projects/single-cell-sota/gmm/gmm_utils.py\", line 158, in runGMM\n",
      "    pc = PCA(n_components=params['pca_comp']).fit_transform(scaledDf)\n",
      "  File \"/opt/anaconda3/envs/astrohack/lib/python3.6/site-packages/sklearn/decomposition/pca.py\", line 359, in fit_transform\n",
      "    U, S, V = self._fit(X)\n",
      "  File \"/opt/anaconda3/envs/astrohack/lib/python3.6/site-packages/sklearn/decomposition/pca.py\", line 406, in _fit\n",
      "    return self._fit_full(X, n_components)\n",
      "  File \"/opt/anaconda3/envs/astrohack/lib/python3.6/site-packages/sklearn/decomposition/pca.py\", line 425, in _fit_full\n",
      "    % (n_components, min(n_samples, n_features)))\n",
      "ValueError: n_components=128 must be between 0 and min(n_samples, n_features)=60 with svd_solver='full'\n",
      "Traceback (most recent call last):\n",
      "  File \"<ipython-input-3-0fbae45fdc0c>\", line 6, in evaluateGMM\n",
      "    resultDict, _ = gmm_utils.runGMM(args)\n",
      "  File \"/mnt/reds/projects/single-cell-sota/gmm/gmm_utils.py\", line 158, in runGMM\n",
      "    pc = PCA(n_components=params['pca_comp']).fit_transform(scaledDf)\n",
      "  File \"/opt/anaconda3/envs/astrohack/lib/python3.6/site-packages/sklearn/decomposition/pca.py\", line 359, in fit_transform\n",
      "    U, S, V = self._fit(X)\n",
      "  File \"/opt/anaconda3/envs/astrohack/lib/python3.6/site-packages/sklearn/decomposition/pca.py\", line 406, in _fit\n",
      "    return self._fit_full(X, n_components)\n",
      "  File \"/opt/anaconda3/envs/astrohack/lib/python3.6/site-packages/sklearn/decomposition/pca.py\", line 425, in _fit_full\n",
      "    % (n_components, min(n_samples, n_features)))\n",
      "ValueError: n_components=77 must be between 0 and min(n_samples, n_features)=60 with svd_solver='full'\n"
     ]
    },
    {
     "name": "stderr",
     "output_type": "stream",
     "text": [
      "/opt/anaconda3/envs/astrohack/lib/python3.6/site-packages/sklearn/preprocessing/data.py:625: DataConversionWarning: Data with input dtype int64 were all converted to float64 by StandardScaler.\n",
      "  return self.partial_fit(X, y)\n",
      "/opt/anaconda3/envs/astrohack/lib/python3.6/site-packages/sklearn/base.py:462: DataConversionWarning: Data with input dtype int64 were all converted to float64 by StandardScaler.\n",
      "  return self.fit(X, **fit_params).transform(X)\n"
     ]
    },
    {
     "name": "stdout",
     "output_type": "stream",
     "text": [
      "Traceback (most recent call last):\n",
      "  File \"<ipython-input-3-0fbae45fdc0c>\", line 6, in evaluateGMM\n",
      "    resultDict, _ = gmm_utils.runGMM(args)\n",
      "  File \"/mnt/reds/projects/single-cell-sota/gmm/gmm_utils.py\", line 158, in runGMM\n",
      "    pc = PCA(n_components=params['pca_comp']).fit_transform(scaledDf)\n",
      "  File \"/opt/anaconda3/envs/astrohack/lib/python3.6/site-packages/sklearn/decomposition/pca.py\", line 359, in fit_transform\n",
      "    U, S, V = self._fit(X)\n",
      "  File \"/opt/anaconda3/envs/astrohack/lib/python3.6/site-packages/sklearn/decomposition/pca.py\", line 406, in _fit\n",
      "    return self._fit_full(X, n_components)\n",
      "  File \"/opt/anaconda3/envs/astrohack/lib/python3.6/site-packages/sklearn/decomposition/pca.py\", line 425, in _fit_full\n",
      "    % (n_components, min(n_samples, n_features)))\n",
      "ValueError: n_components=268 must be between 0 and min(n_samples, n_features)=60 with svd_solver='full'\n",
      "Traceback (most recent call last):\n",
      "  File \"<ipython-input-3-0fbae45fdc0c>\", line 6, in evaluateGMM\n",
      "    resultDict, _ = gmm_utils.runGMM(args)\n",
      "  File \"/mnt/reds/projects/single-cell-sota/gmm/gmm_utils.py\", line 158, in runGMM\n",
      "    pc = PCA(n_components=params['pca_comp']).fit_transform(scaledDf)\n",
      "  File \"/opt/anaconda3/envs/astrohack/lib/python3.6/site-packages/sklearn/decomposition/pca.py\", line 359, in fit_transform\n",
      "    U, S, V = self._fit(X)\n",
      "  File \"/opt/anaconda3/envs/astrohack/lib/python3.6/site-packages/sklearn/decomposition/pca.py\", line 406, in _fit\n",
      "    return self._fit_full(X, n_components)\n",
      "  File \"/opt/anaconda3/envs/astrohack/lib/python3.6/site-packages/sklearn/decomposition/pca.py\", line 425, in _fit_full\n",
      "    % (n_components, min(n_samples, n_features)))\n",
      "ValueError: n_components=102 must be between 0 and min(n_samples, n_features)=60 with svd_solver='full'\n",
      "Traceback (most recent call last):\n",
      "  File \"<ipython-input-3-0fbae45fdc0c>\", line 6, in evaluateGMM\n",
      "    resultDict, _ = gmm_utils.runGMM(args)\n",
      "  File \"/mnt/reds/projects/single-cell-sota/gmm/gmm_utils.py\", line 158, in runGMM\n",
      "    pc = PCA(n_components=params['pca_comp']).fit_transform(scaledDf)\n",
      "  File \"/opt/anaconda3/envs/astrohack/lib/python3.6/site-packages/sklearn/decomposition/pca.py\", line 359, in fit_transform\n",
      "    U, S, V = self._fit(X)\n",
      "  File \"/opt/anaconda3/envs/astrohack/lib/python3.6/site-packages/sklearn/decomposition/pca.py\", line 406, in _fit\n",
      "    return self._fit_full(X, n_components)\n",
      "  File \"/opt/anaconda3/envs/astrohack/lib/python3.6/site-packages/sklearn/decomposition/pca.py\", line 425, in _fit_full\n",
      "    % (n_components, min(n_samples, n_features)))\n",
      "ValueError: n_components=249 must be between 0 and min(n_samples, n_features)=60 with svd_solver='full'\n",
      "Index  190\n"
     ]
    }
   ],
   "source": [
    "trials = runHyperopt(trialsFile, resultsFile, space, max_evals = 200, restart = True);"
   ]
  },
  {
   "cell_type": "code",
   "execution_count": null,
   "metadata": {
    "ExecuteTime": {
     "end_time": "2018-12-09T12:34:34.870705Z",
     "start_time": "2018-12-09T12:34:34.330249Z"
    }
   },
   "outputs": [],
   "source": [
    "resultsDf = pd.read_pickle(resultsFile)\n",
    "display(resultsDf.sort_values(by='_rand_index', ascending = False).head(3))\n",
    "gmm_utils.plotCorrelation(resultsDf, name=dataset)"
   ]
  },
  {
   "cell_type": "markdown",
   "metadata": {},
   "source": [
    "## Deng"
   ]
  },
  {
   "cell_type": "code",
   "execution_count": null,
   "metadata": {
    "ExecuteTime": {
     "end_time": "2018-12-09T12:34:38.397287Z",
     "start_time": "2018-12-09T12:34:38.005022Z"
    }
   },
   "outputs": [],
   "source": [
    "dataset= 'deng'\n",
    "trialsFile = f'data/{dataset}_gmm_trials.pkl'\n",
    "resultsFile = f'data/{dataset}_gmm_results.pkl'\n",
    "df, truth = gmm_utils.loadData(dataset)\n",
    "# umap2D = gmm_utils.getUmap(df, pca_comp = 10)\n",
    "print(df.shape, truth.shape, truth.clusters.unique())"
   ]
  },
  {
   "cell_type": "code",
   "execution_count": null,
   "metadata": {},
   "outputs": [],
   "source": []
  },
  {
   "cell_type": "code",
   "execution_count": null,
   "metadata": {},
   "outputs": [],
   "source": [
    "\n",
    "space = {\n",
    "    'dataset' : dataset\n",
    "    ,'minCellsPerGene':scope.int(hp.quniform('minCellsPerGene', 0, 5, 1))\n",
    "    ,'minGeneDispersion':hp.uniform('minGeneDispersion', 0, 1.5)\n",
    "    ,'log' : hp.choice('log', [True,False])\n",
    "    ,'scaler' : hp.choice('scaler',\n",
    "            ['none','standardScaleGenes', 'standardScaleCells', 'robustScaleGenes', 'robustScaleCells'])\n",
    "    ,'pca_comp' : scope.int(hp.quniform('pca_comp', 3, 300,1))\n",
    "    ,'nb_clusters' : scope.int(hp.quniform('nb_clusters', 3, 15, 1))\n",
    "}\n",
    "\n"
   ]
  },
  {
   "cell_type": "code",
   "execution_count": null,
   "metadata": {
    "scrolled": true
   },
   "outputs": [],
   "source": [
    "trials = runHyperopt(trialsFile, resultsFile, space, max_evals = 500, restart = True);"
   ]
  },
  {
   "cell_type": "code",
   "execution_count": null,
   "metadata": {
    "ExecuteTime": {
     "end_time": "2018-12-09T12:34:53.924492Z",
     "start_time": "2018-12-09T12:34:53.604848Z"
    }
   },
   "outputs": [],
   "source": [
    "resultsDf = pd.read_pickle(resultsFile)\n",
    "display(resultsDf.sort_values(by='_rand_index', ascending = False).head(3))\n",
    "gmm_utils.plotCorrelation(resultsDf, name=dataset)"
   ]
  },
  {
   "cell_type": "markdown",
   "metadata": {},
   "source": [
    "# sce10x_qc"
   ]
  },
  {
   "cell_type": "code",
   "execution_count": null,
   "metadata": {
    "ExecuteTime": {
     "end_time": "2018-12-15T15:34:18.351943Z",
     "start_time": "2018-12-15T15:34:17.957310Z"
    }
   },
   "outputs": [],
   "source": [
    "dataset= 'sce10x_qc'\n",
    "df, truth = utils.loadData(dataset)\n",
    "print(df.shape, truth.shape, truth.clusters.unique())\n",
    "trialsFile = f'data/{dataset}_{method}_trials.pkl'\n",
    "resultsFile = f'data/{dataset}_{method}_results.pkl'"
   ]
  },
  {
   "cell_type": "code",
   "execution_count": null,
   "metadata": {
    "ExecuteTime": {
     "end_time": "2018-12-15T16:03:13.447358Z",
     "start_time": "2018-12-15T15:35:33.858190Z"
    }
   },
   "outputs": [],
   "source": [
    "space = {\n",
    "    'dataset' : dataset\n",
    "    ,'minCellsPerGene':scope.int(hp.quniform('minCellsPerGene', 0, 5, 1))\n",
    "    ,'minGeneDispersion':hp.uniform('minGeneDispersion', 0, 1.5)\n",
    "    ,'log' : hp.choice('log', [True,False])\n",
    "    ,'scaler' : hp.choice('scaler',\n",
    "            ['none','standardScaleGenes', 'standardScaleCells', 'robustScaleGenes', 'robustScaleCells'])\n",
    "    ,'pca_comp' : scope.int(hp.quniform('pca_comp', 3, 300,1))\n",
    "    ,'nb_clusters' : scope.int(hp.quniform('nb_clusters', 3, 15, 1))\n",
    "}\n",
    "\n",
    "trials = runHyperopt(trialsFile, resultsFile, space, max_evals = 500, restart = True);"
   ]
  },
  {
   "cell_type": "code",
   "execution_count": null,
   "metadata": {},
   "outputs": [],
   "source": []
  },
  {
   "cell_type": "code",
   "execution_count": null,
   "metadata": {},
   "outputs": [],
   "source": []
  },
  {
   "cell_type": "markdown",
   "metadata": {},
   "source": [
    "# sce2_qc"
   ]
  },
  {
   "cell_type": "code",
   "execution_count": null,
   "metadata": {
    "ExecuteTime": {
     "end_time": "2018-12-15T16:18:12.049375Z",
     "start_time": "2018-12-15T16:18:11.955655Z"
    }
   },
   "outputs": [],
   "source": [
    "dataset= 'sce2_qc'\n",
    "df, truth = utils.loadData(dataset)\n",
    "print(df.shape, truth.shape, truth.clusters.unique())\n",
    "trialsFile = f'data/{dataset}_{method}_trials.pkl'\n",
    "resultsFile = f'data/{dataset}_{method}_results.pkl'"
   ]
  },
  {
   "cell_type": "code",
   "execution_count": null,
   "metadata": {
    "ExecuteTime": {
     "end_time": "2018-12-15T16:32:15.785560Z",
     "start_time": "2018-12-15T16:18:12.432796Z"
    }
   },
   "outputs": [],
   "source": [
    "space = {\n",
    "    'dataset' : dataset\n",
    "    ,'minCellsPerGene':scope.int(hp.quniform('minCellsPerGene', 0, 5, 1))\n",
    "    ,'minGeneDispersion':hp.uniform('minGeneDispersion', 0, 1.5)\n",
    "    ,'log' : hp.choice('log', [True,False])\n",
    "    ,'scaler' : hp.choice('scaler',\n",
    "            ['none','standardScaleGenes', 'standardScaleCells', 'robustScaleGenes', 'robustScaleCells'])\n",
    "    ,'pca_comp' : scope.int(hp.quniform('pca_comp', 3, 300,1))\n",
    "    ,'nb_clusters' : scope.int(hp.quniform('nb_clusters', 3, 15, 1))\n",
    "}\n",
    "\n",
    "trials = runHyperopt(trialsFile, resultsFile, space, max_evals = 500, restart = True);"
   ]
  },
  {
   "cell_type": "code",
   "execution_count": null,
   "metadata": {},
   "outputs": [],
   "source": []
  },
  {
   "cell_type": "code",
   "execution_count": null,
   "metadata": {},
   "outputs": [],
   "source": []
  },
  {
   "cell_type": "markdown",
   "metadata": {},
   "source": [
    "# sce8_qc"
   ]
  },
  {
   "cell_type": "code",
   "execution_count": null,
   "metadata": {
    "ExecuteTime": {
     "end_time": "2018-12-15T16:18:12.049375Z",
     "start_time": "2018-12-15T16:18:11.955655Z"
    }
   },
   "outputs": [],
   "source": [
    "dataset= 'sce8_qc'\n",
    "df, truth = utils.loadData(dataset)\n",
    "print(df.shape, truth.shape, truth.clusters.unique())\n",
    "trialsFile = f'data/{dataset}_{method}_trials.pkl'\n",
    "resultsFile = f'data/{dataset}_{method}_results.pkl'"
   ]
  },
  {
   "cell_type": "code",
   "execution_count": null,
   "metadata": {
    "ExecuteTime": {
     "end_time": "2018-12-15T16:32:15.785560Z",
     "start_time": "2018-12-15T16:18:12.432796Z"
    }
   },
   "outputs": [],
   "source": [
    "space = {\n",
    "    'dataset' : dataset\n",
    "    ,'minCellsPerGene':scope.int(hp.quniform('minCellsPerGene', 0, 5, 1))\n",
    "    ,'minGeneDispersion':hp.uniform('minGeneDispersion', 0, 1.5)\n",
    "    ,'log' : hp.choice('log', [True,False])\n",
    "    ,'scaler' : hp.choice('scaler',\n",
    "            ['none','standardScaleGenes', 'standardScaleCells', 'robustScaleGenes', 'robustScaleCells'])\n",
    "    ,'pca_comp' : scope.int(hp.quniform('pca_comp', 3, 300,1))\n",
    "    ,'nb_clusters' : scope.int(hp.quniform('nb_clusters', 3, 15, 1))\n",
    "}\n",
    "\n",
    "trials = runHyperopt(trialsFile, resultsFile, space, max_evals = 500, restart = True);"
   ]
  },
  {
   "cell_type": "code",
   "execution_count": null,
   "metadata": {},
   "outputs": [],
   "source": [
    "\n"
   ]
  },
  {
   "cell_type": "code",
   "execution_count": null,
   "metadata": {
    "scrolled": true
   },
   "outputs": [],
   "source": [
    "bestBic, bestAic, bestSil = optimalNbClustersGMM(pc, params['min_clusters'], params['max_clusters'], 2)"
   ]
  },
  {
   "cell_type": "code",
   "execution_count": null,
   "metadata": {},
   "outputs": [],
   "source": [
    "bestBic, bestAic, bestSil"
   ]
  },
  {
   "cell_type": "code",
   "execution_count": null,
   "metadata": {},
   "outputs": [],
   "source": [
    "for n_clust in n_clusters:\n",
    "    model = GaussianMixture(n_clust, covariance_type ='full', random_state = 0).fit(pc)\n",
    "    clusters = model.predict(pc)\n",
    "    score = adjusted_rand_score(truth.clusters.tolist(), clusters)\n",
    "    print(f\"For {n_clust} clusters, score : {score}\")"
   ]
  },
  {
   "cell_type": "markdown",
   "metadata": {},
   "source": [
    "## Evaluation"
   ]
  },
  {
   "cell_type": "code",
   "execution_count": null,
   "metadata": {},
   "outputs": [],
   "source": [
    "model = GaussianMixture(8, covariance_type ='full', random_state = 0).fit(pc)\n",
    "clusters = model.predict(pc)\n",
    "score = adjusted_rand_score(truth.clusters.tolist(), clusters)\n",
    "score"
   ]
  },
  {
   "cell_type": "code",
   "execution_count": null,
   "metadata": {},
   "outputs": [],
   "source": [
    "truth.clusters.value_counts().shape"
   ]
  },
  {
   "cell_type": "code",
   "execution_count": null,
   "metadata": {},
   "outputs": [],
   "source": []
  },
  {
   "cell_type": "code",
   "execution_count": null,
   "metadata": {},
   "outputs": [],
   "source": [
    "dataset = 'brainCIDR'\n",
    "df, truth = gmm_utils.loadData(dataset)\n",
    "umap2D = gmm_utils.getUmap(df, pca_comp = 10)\n",
    "print(df.shape, truth.shape, truth.clusters.unique())\n",
    "params={}\n",
    "params['dataset'] = 'brainCIDR'\n",
    "params['minCellsPerGene'] = 0\n",
    "params['minGeneDispersion'] = 0\n",
    "params['log'] = True # True, False\n",
    "params['scaler'] = 'standardScaleCells'# \n",
    "params['pca_comp'] = 10 #range (3, 300)\n",
    "params['nb_clusters'] =8 #3 -15\n",
    "gmm_utils.run(params);"
   ]
  }
 ],
 "metadata": {
  "hide_input": false,
  "kernelspec": {
   "display_name": "Python [default]",
   "language": "python",
   "name": "python3"
  },
  "language_info": {
   "codemirror_mode": {
    "name": "ipython",
    "version": 3
   },
   "file_extension": ".py",
   "mimetype": "text/x-python",
   "name": "python",
   "nbconvert_exporter": "python",
   "pygments_lexer": "ipython3",
   "version": "3.6.7"
  },
  "toc": {
   "base_numbering": 1,
   "nav_menu": {},
   "number_sections": true,
   "sideBar": true,
   "skip_h1_title": false,
   "title_cell": "Table of Contents",
   "title_sidebar": "Contents",
   "toc_cell": false,
   "toc_position": {},
   "toc_section_display": true,
   "toc_window_display": false
  },
  "varInspector": {
   "cols": {
    "lenName": 16,
    "lenType": 16,
    "lenVar": 40
   },
   "kernels_config": {
    "python": {
     "delete_cmd_postfix": "",
     "delete_cmd_prefix": "del ",
     "library": "var_list.py",
     "varRefreshCmd": "print(var_dic_list())"
    },
    "r": {
     "delete_cmd_postfix": ") ",
     "delete_cmd_prefix": "rm(",
     "library": "var_list.r",
     "varRefreshCmd": "cat(var_dic_list()) "
    }
   },
   "types_to_exclude": [
    "module",
    "function",
    "builtin_function_or_method",
    "instance",
    "_Feature"
   ],
   "window_display": false
  }
 },
 "nbformat": 4,
 "nbformat_minor": 2
}
