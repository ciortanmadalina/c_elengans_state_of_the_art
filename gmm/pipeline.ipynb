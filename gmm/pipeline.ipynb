{
 "cells": [
  {
   "cell_type": "code",
   "execution_count": 54,
   "metadata": {},
   "outputs": [],
   "source": [
    "import sys\n",
    "sys.path.append(\"..\") # this adds to path parent directory in order to import utils file\n",
    "import pandas as pd\n",
    "import matplotlib.pyplot as plt\n",
    "import seaborn as sns\n",
    "from collections import Counter\n",
    "import pickle\n",
    "import random\n",
    "from tqdm import tqdm\n",
    "import numpy as np\n",
    "import statsmodels.api as sm\n",
    "from scipy.stats import wasserstein_distance\n",
    "from sklearn.manifold import MDS\n",
    "from mpl_toolkits import mplot3d\n",
    "from scipy.spatial import distance\n",
    "from sklearn.manifold import TSNE\n",
    "from sklearn.cluster import AgglomerativeClustering, SpectralClustering, KMeans, AffinityPropagation, DBSCAN, FeatureAgglomeration\n",
    "from sklearn import metrics\n",
    "from sklearn.metrics import pairwise_distances\n",
    "from IPython.display import clear_output, Image, display\n",
    "from sklearn.preprocessing import StandardScaler, RobustScaler\n",
    "from sklearn.mixture import GaussianMixture\n",
    "from mpl_toolkits.mplot3d import Axes3D\n",
    "from sklearn.datasets.samples_generator import make_blobs\n",
    "from sklearn.cluster import AffinityPropagation\n",
    "from itertools import cycle\n",
    "from scipy.spatial.distance import pdist\n",
    "from sklearn.metrics.cluster import adjusted_rand_score\n",
    "from sklearn.decomposition import PCA\n",
    "import gmm_utils"
   ]
  },
  {
   "cell_type": "code",
   "execution_count": 2,
   "metadata": {},
   "outputs": [
    {
     "name": "stdout",
     "output_type": "stream",
     "text": [
      "elbowAnalysis\n",
      "silhouetteAnalyis\n",
      "bicAicAnalysis\n"
     ]
    },
    {
     "data": {
      "text/plain": [
       "<module 'gmm_utils' from '/home/mada/ml/single-cell-sota/gmm/gmm_utils.py'>"
      ]
     },
     "execution_count": 2,
     "metadata": {},
     "output_type": "execute_result"
    }
   ],
   "source": [
    "%load_ext autoreload\n",
    "import importlib\n",
    "importlib.reload(gmm_utils)"
   ]
  },
  {
   "cell_type": "code",
   "execution_count": 8,
   "metadata": {},
   "outputs": [],
   "source": [
    "def loadData(inputDataset):\n",
    "    \"\"\"\n",
    "    Load input dataset\n",
    "    \"\"\"\n",
    "    if inputDataset == 'brainCIDR':\n",
    "        path = '../input/brainCIDR/'\n",
    "        df = pd.read_csv(f\"{path}brainTags.csv\", index_col = 0).T\n",
    "        truth = pd.read_pickle(f'{path}truth.pkl')\n",
    "    \n",
    "    if inputDataset == 'pancreaticIsletCIDR':\n",
    "        path = '../input/pancreaticIsletCIDR/'\n",
    "        df = pd.read_csv(f\"{path}pancreaticIsletTags.csv\", index_col = 0).T\n",
    "        truth = pd.read_pickle(f'{path}truth.pkl')\n",
    "    \n",
    "    if inputDataset == 'deng':\n",
    "        path = '../input/deng/'\n",
    "        df = pd.read_csv(f\"{path}deng.csv\", index_col = 0).T\n",
    "        truth = pd.read_pickle(f'{path}truth.pkl')\n",
    "    return df, truth"
   ]
  },
  {
   "cell_type": "code",
   "execution_count": 9,
   "metadata": {},
   "outputs": [
    {
     "name": "stdout",
     "output_type": "stream",
     "text": [
      "(420, 22085) (420, 2)\n"
     ]
    }
   ],
   "source": [
    "datasetName = 'brainCIDR'\n",
    "df, truth = loadData(datasetName)\n",
    "print(df.shape, truth.shape)"
   ]
  },
  {
   "cell_type": "code",
   "execution_count": 10,
   "metadata": {},
   "outputs": [],
   "source": [
    "params={}\n",
    "params['scaler'] = 'standard'"
   ]
  },
  {
   "cell_type": "markdown",
   "metadata": {},
   "source": [
    "## Scale cells or genes?"
   ]
  },
  {
   "cell_type": "code",
   "execution_count": 11,
   "metadata": {},
   "outputs": [],
   "source": [
    "scaledDf = StandardScaler().fit_transform(df)"
   ]
  },
  {
   "cell_type": "code",
   "execution_count": 12,
   "metadata": {},
   "outputs": [],
   "source": [
    "# df =  RobustScaler().fit_transform(df)"
   ]
  },
  {
   "cell_type": "markdown",
   "metadata": {},
   "source": [
    "## Dimensionality reduction"
   ]
  },
  {
   "cell_type": "markdown",
   "metadata": {},
   "source": [
    "#### PCA"
   ]
  },
  {
   "cell_type": "code",
   "execution_count": 14,
   "metadata": {},
   "outputs": [
    {
     "data": {
      "image/png": "[encoded data removed]",
      "text/plain": [
       "<Figure size 432x288 with 1 Axes>"
      ]
     },
     "metadata": {},
     "output_type": "display_data"
    }
   ],
   "source": [
    "pca = PCA().fit(scaledDf)\n",
    "plt.plot(np.cumsum(pca.explained_variance_ratio_))\n",
    "plt.xlabel('number of components')\n",
    "plt.ylabel('cumulative explained variance');"
   ]
  },
  {
   "cell_type": "code",
   "execution_count": 22,
   "metadata": {},
   "outputs": [],
   "source": [
    "pca = PCA(.9).fit(scaledDf)\n"
   ]
  },
  {
   "cell_type": "code",
   "execution_count": 25,
   "metadata": {},
   "outputs": [
    {
     "data": {
      "text/plain": [
       "314"
      ]
     },
     "execution_count": 25,
     "metadata": {},
     "output_type": "execute_result"
    }
   ],
   "source": [
    "n_comp = pca.n_components_\n",
    "n_comp"
   ]
  },
  {
   "cell_type": "code",
   "execution_count": 26,
   "metadata": {},
   "outputs": [],
   "source": [
    "n_comp = 8\n",
    "\n",
    "pc = PCA(n_components=8).fit_transform(scaledDf)"
   ]
  },
  {
   "cell_type": "code",
   "execution_count": 50,
   "metadata": {},
   "outputs": [],
   "source": [
    "def bestGMM(pc, c_min, c_max):\n",
    "    print('Best score corresponds to the minimum values of AIC/BIC')\n",
    "    bic = []\n",
    "#     sil = []\n",
    "    numberOfClusters = range (c_min, c_max)\n",
    "    for n in numberOfClusters:\n",
    "        model = GaussianMixture(n, covariance_type ='full', random_state = 0).fit(pc)\n",
    "        clusters = model.predict(pc)\n",
    "        bic.append(model.bic(pc))\n",
    "#         sil.append(metrics.silhouette_score(pc,clusters ,metric='euclidean', sample_size=None, random_state=None))\n",
    "\n",
    "\n",
    "    plt.plot(numberOfClusters, bic, label = 'BIC')\n",
    "    plt.legend()\n",
    "    plt.title('BIC')\n",
    "    plt.xlabel('n_components')\n",
    "    plt.show()\n",
    "#     plt.figure()\n",
    "#     plt.plot(numberOfClusters, sil, label = 'sil')\n",
    "    return np.array(bic).argmin() + c_min"
   ]
  },
  {
   "cell_type": "code",
   "execution_count": 51,
   "metadata": {},
   "outputs": [
    {
     "name": "stdout",
     "output_type": "stream",
     "text": [
      "Best score corresponds to the minimum values of AIC/BIC\n"
     ]
    },
    {
     "data": {
      "image/png": "[encoded data removed]",
      "text/plain": [
       "<Figure size 432x288 with 1 Axes>"
      ]
     },
     "metadata": {},
     "output_type": "display_data"
    },
    {
     "data": {
      "text/plain": [
       "8"
      ]
     },
     "execution_count": 51,
     "metadata": {},
     "output_type": "execute_result"
    }
   ],
   "source": [
    "n_clust = bestGMM(pc, 3, 15)\n",
    "n_clust"
   ]
  },
  {
   "cell_type": "code",
   "execution_count": 52,
   "metadata": {},
   "outputs": [],
   "source": [
    "model = GaussianMixture(n_clust, covariance_type ='full', random_state = 0).fit(pc)\n",
    "clusters = model.predict(pc)"
   ]
  },
  {
   "cell_type": "markdown",
   "metadata": {},
   "source": [
    "## Evaluation"
   ]
  },
  {
   "cell_type": "code",
   "execution_count": 57,
   "metadata": {},
   "outputs": [
    {
     "data": {
      "text/plain": [
       "0.5279135090763832"
      ]
     },
     "execution_count": 57,
     "metadata": {},
     "output_type": "execute_result"
    }
   ],
   "source": [
    "score = adjusted_rand_score(truth.clusters.tolist(), clusters)\n",
    "\n",
    "score"
   ]
  },
  {
   "cell_type": "code",
   "execution_count": null,
   "metadata": {},
   "outputs": [],
   "source": []
  },
  {
   "cell_type": "code",
   "execution_count": null,
   "metadata": {},
   "outputs": [],
   "source": []
  },
  {
   "cell_type": "code",
   "execution_count": null,
   "metadata": {},
   "outputs": [],
   "source": []
  }
 ],
 "metadata": {
  "hide_input": false,
  "kernelspec": {
   "display_name": "Python 3",
   "language": "python",
   "name": "python3"
  },
  "language_info": {
   "codemirror_mode": {
    "name": "ipython",
    "version": 3
   },
   "file_extension": ".py",
   "mimetype": "text/x-python",
   "name": "python",
   "nbconvert_exporter": "python",
   "pygments_lexer": "ipython3",
   "version": "3.6.5"
  },
  "toc": {
   "base_numbering": 1,
   "nav_menu": {},
   "number_sections": true,
   "sideBar": true,
   "skip_h1_title": false,
   "title_cell": "Table of Contents",
   "title_sidebar": "Contents",
   "toc_cell": false,
   "toc_position": {},
   "toc_section_display": true,
   "toc_window_display": false
  }
 },
 "nbformat": 4,
 "nbformat_minor": 2
}
