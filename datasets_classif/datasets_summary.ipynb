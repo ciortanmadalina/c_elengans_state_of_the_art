{
 "cells": [
  {
   "cell_type": "code",
   "execution_count": 29,
   "metadata": {},
   "outputs": [],
   "source": [
    "import sys\n",
    "sys.path.append(\"..\") # this adds to path parent directory in order to import utils file\n",
    "sys.path.append(\"../gmm/\")\n",
    "import pandas as pd\n",
    "import matplotlib.pyplot as plt\n",
    "import seaborn as sns\n",
    "from collections import Counter\n",
    "import umap\n",
    "import random\n",
    "from tqdm import tqdm\n",
    "import numpy as np\n",
    "import scipy\n",
    "\n",
    "\n",
    "import gmm_utils\n"
   ]
  },
  {
   "cell_type": "code",
   "execution_count": 53,
   "metadata": {},
   "outputs": [],
   "source": [
    "def addStatistics(s, statistics, name = '#_cells_per_gene', reference = None):\n",
    "    statistics[f'{name}_avg'] = s.mean()\n",
    "    if reference is not None:\n",
    "        statistics[f'{name}_perc_avg'] = s.mean()/reference\n",
    "    statistics[f'{name}_std'] = s.std()\n",
    "    statistics[f'{name}_kurtosis'] = s.kurtosis()\n",
    "    statistics[f'{name}_skew'] = s.skew()\n",
    "    statistics[f'{name}_median'] = s.median()\n",
    "    return statistics"
   ]
  },
  {
   "cell_type": "code",
   "execution_count": 2,
   "metadata": {},
   "outputs": [],
   "source": [
    "dataset = 'brainCIDR'\n",
    "df, truth = gmm_utils.loadData(dataset)"
   ]
  },
  {
   "cell_type": "code",
   "execution_count": 45,
   "metadata": {},
   "outputs": [
    {
     "data": {
      "text/plain": [
       "{'max': 58272,\n",
       " 'nb_cells': 420,\n",
       " 'nb_genes': 420,\n",
       " 'percentage_0': 0.8140267580883384}"
      ]
     },
     "execution_count": 45,
     "metadata": {},
     "output_type": "execute_result"
    }
   ],
   "source": [
    "statistics = {}\n",
    "statistics['nb_cells'] = df.shape[0]\n",
    "statistics['nb_genes'] = df.shape[0]\n",
    "statistics['percentage_0'] = Counter(np.ravel(df.values))[0]/len(np.ravel(df.values))\n",
    "statistics['max'] = df.max().max()\n",
    "statistics"
   ]
  },
  {
   "cell_type": "code",
   "execution_count": 13,
   "metadata": {},
   "outputs": [],
   "source": [
    "discreteDf = np.zeros(df.shape)\n",
    "discreteDf[np.where(df>0)] = 1"
   ]
  },
  {
   "cell_type": "code",
   "execution_count": 37,
   "metadata": {},
   "outputs": [],
   "source": [
    "nbCellsPerGene=pd.Series(discreteDf.sum(axis =0 ))\n",
    "statistics = addStatistics(nbCellsPerGene, statistics, name = '#_cells_per_gene', reference=df.shape[0])"
   ]
  },
  {
   "cell_type": "code",
   "execution_count": 55,
   "metadata": {},
   "outputs": [],
   "source": [
    "nbGenesPerCells=pd.Series(discreteDf.sum(axis =1))\n",
    "statistics = addStatistics(nbGenesPerCells, statistics, name = '#_genes_per_cell', reference=df.shape[1])"
   ]
  },
  {
   "cell_type": "code",
   "execution_count": 56,
   "metadata": {},
   "outputs": [
    {
     "data": {
      "text/plain": [
       "{'#_cells_per_gene_avg': 78.1087616028979,\n",
       " '#_cells_per_gene_kurtosis': 1.167884638762644,\n",
       " '#_cells_per_gene_median': 41.0,\n",
       " '#_cells_per_gene_perc_avg': 0.18597324191166167,\n",
       " '#_cells_per_gene_skew': 1.3559671705215102,\n",
       " '#_cells_per_gene_std': 90.0098821162606,\n",
       " '#_genes_per_cell_avg': 4107.219047619048,\n",
       " '#_genes_per_cell_kurtosis': 5.1092678060069225,\n",
       " '#_genes_per_cell_median': 3868.5,\n",
       " '#_genes_per_cell_perc_avg': 0.18597324191166167,\n",
       " '#_genes_per_cell_skew': 1.282711190406593,\n",
       " '#_genes_per_cell_std': 1686.216353003116,\n",
       " 'max': 58272,\n",
       " 'nb_cells': 420,\n",
       " 'nb_genes': 420,\n",
       " 'percentage_0': 0.8140267580883384}"
      ]
     },
     "execution_count": 56,
     "metadata": {},
     "output_type": "execute_result"
    }
   ],
   "source": [
    "statistics"
   ]
  },
  {
   "cell_type": "code",
   "execution_count": null,
   "metadata": {},
   "outputs": [],
   "source": []
  },
  {
   "cell_type": "code",
   "execution_count": null,
   "metadata": {},
   "outputs": [],
   "source": []
  }
 ],
 "metadata": {
  "kernelspec": {
   "display_name": "Python [conda env:astrohack]",
   "language": "python",
   "name": "conda-env-astrohack-py"
  },
  "language_info": {
   "codemirror_mode": {
    "name": "ipython",
    "version": 3
   },
   "file_extension": ".py",
   "mimetype": "text/x-python",
   "name": "python",
   "nbconvert_exporter": "python",
   "pygments_lexer": "ipython3",
   "version": "3.6.7"
  },
  "toc": {
   "base_numbering": 1,
   "nav_menu": {},
   "number_sections": true,
   "sideBar": true,
   "skip_h1_title": false,
   "title_cell": "Table of Contents",
   "title_sidebar": "Contents",
   "toc_cell": false,
   "toc_position": {},
   "toc_section_display": true,
   "toc_window_display": false
  }
 },
 "nbformat": 4,
 "nbformat_minor": 2
}
