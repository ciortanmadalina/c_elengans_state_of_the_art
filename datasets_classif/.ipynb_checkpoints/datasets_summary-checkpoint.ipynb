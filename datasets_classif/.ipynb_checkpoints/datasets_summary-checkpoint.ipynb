{
 "cells": [
  {
   "cell_type": "code",
   "execution_count": 1,
   "metadata": {},
   "outputs": [
    {
     "name": "stdout",
     "output_type": "stream",
     "text": [
      "elbowAnalysis\n",
      "silhouetteAnalyis\n"
     ]
    }
   ],
   "source": [
    "import sys\n",
    "sys.path.append(\"..\") # this adds to path parent directory in order to import utils file\n",
    "sys.path.append(\"../gmm/\")\n",
    "import pandas as pd\n",
    "import matplotlib.pyplot as plt\n",
    "import seaborn as sns\n",
    "from collections import Counter\n",
    "import umap\n",
    "import random\n",
    "from tqdm import tqdm\n",
    "import numpy as np\n",
    "import scipy\n",
    "\n",
    "\n",
    "import gmm_utils\n"
   ]
  },
  {
   "cell_type": "code",
   "execution_count": 2,
   "metadata": {},
   "outputs": [],
   "source": [
    "dataset = 'brainCIDR'\n",
    "df, truth = gmm_utils.loadData(dataset)"
   ]
  },
  {
   "cell_type": "code",
   "execution_count": 14,
   "metadata": {},
   "outputs": [
    {
     "data": {
      "text/plain": [
       "{'max': 1/2-SBSRNA4     205\n",
       " A1BG             97\n",
       " A1BG-AS1         26\n",
       " A1CF            763\n",
       " A2LD1           264\n",
       " A2M            3450\n",
       " A2ML1          1290\n",
       " A2MP1          1163\n",
       " A4GALT            3\n",
       " A4GNT             9\n",
       " AA06             37\n",
       " AAA1             23\n",
       " AAAS            854\n",
       " AACS            829\n",
       " AACSP1           74\n",
       " AADAC             1\n",
       " AADACL2           1\n",
       " AADACL3           5\n",
       " AADACL4           1\n",
       " AADAT           870\n",
       " AAGAB          1110\n",
       " AAK1           2023\n",
       " AAMP           1307\n",
       " AANAT             3\n",
       " AARS           1294\n",
       " AARS2           340\n",
       " AARSD1          627\n",
       " AASDH          1078\n",
       " AASDHPPT       2077\n",
       " AASS           7121\n",
       "                ... \n",
       " ZSCAN2         1233\n",
       " ZSCAN20         513\n",
       " ZSCAN21         365\n",
       " ZSCAN22        1344\n",
       " ZSCAN23         237\n",
       " ZSCAN29        2064\n",
       " ZSCAN30        1344\n",
       " ZSCAN4            4\n",
       " ZSCAN5A          39\n",
       " ZSCAN5B           1\n",
       " ZSWIM1          245\n",
       " ZSWIM2            9\n",
       " ZSWIM3          248\n",
       " ZSWIM4          170\n",
       " ZSWIM5          449\n",
       " ZSWIM6          993\n",
       " ZSWIM7          745\n",
       " ZUFSP          3791\n",
       " ZW10           1328\n",
       " ZWILCH         1105\n",
       " ZWINT          1726\n",
       " ZXDA           1643\n",
       " ZXDB            606\n",
       " ZXDC           1939\n",
       " ZYG11A          278\n",
       " ZYG11B         2355\n",
       " ZYX             502\n",
       " ZZEF1          1108\n",
       " ZZZ3           1255\n",
       " tAKR             50\n",
       " Length: 22085, dtype: int64,\n",
       " 'nb_cells': 420,\n",
       " 'nb_genes': 420,\n",
       " 'percentage_0': 0.8140267580883384}"
      ]
     },
     "execution_count": 14,
     "metadata": {},
     "output_type": "execute_result"
    }
   ],
   "source": [
    "statistics = {}\n",
    "statistics['nb_cells'] = df.shape[0]\n",
    "statistics['nb_genes'] = df.shape[0]\n",
    "statistics['percentage_0'] = Counter(np.ravel(df.values))[0]/len(np.ravel(df.values))\n",
    "statistics['max'] = df.max().max()\n",
    "statistics"
   ]
  },
  {
   "cell_type": "code",
   "execution_count": 13,
   "metadata": {},
   "outputs": [],
   "source": [
    "discreteDf = np.zeros(df.shape)\n",
    "discreteDf[np.where(df>0)] = 1"
   ]
  },
  {
   "cell_type": "code",
   "execution_count": 26,
   "metadata": {},
   "outputs": [],
   "source": [
    "nbCellsPerGene=discreteDf.sum(axis =0 )"
   ]
  },
  {
   "cell_type": "code",
   "execution_count": 28,
   "metadata": {},
   "outputs": [
    {
     "ename": "AttributeError",
     "evalue": "'numpy.ndarray' object has no attribute 'kurtosis'",
     "output_type": "error",
     "traceback": [
      "\u001b[0;31m---------------------------------------------------------------------------\u001b[0m",
      "\u001b[0;31mAttributeError\u001b[0m                            Traceback (most recent call last)",
      "\u001b[0;32m<ipython-input-28-729a4f9ce05e>\u001b[0m in \u001b[0;36m<module>\u001b[0;34m()\u001b[0m\n\u001b[1;32m      1\u001b[0m \u001b[0mstatistics\u001b[0m\u001b[0;34m[\u001b[0m\u001b[0;34m'avg_#_cells_per_gene'\u001b[0m\u001b[0;34m]\u001b[0m \u001b[0;34m=\u001b[0m \u001b[0mnbCellsPerGene\u001b[0m\u001b[0;34m.\u001b[0m\u001b[0mmean\u001b[0m\u001b[0;34m(\u001b[0m\u001b[0;34m)\u001b[0m\u001b[0;34m\u001b[0m\u001b[0;34m\u001b[0m\u001b[0m\n\u001b[1;32m      2\u001b[0m \u001b[0mstatistics\u001b[0m\u001b[0;34m[\u001b[0m\u001b[0;34m'std_#_cells_per_gene'\u001b[0m\u001b[0;34m]\u001b[0m \u001b[0;34m=\u001b[0m \u001b[0mnbCellsPerGene\u001b[0m\u001b[0;34m.\u001b[0m\u001b[0mstd\u001b[0m\u001b[0;34m(\u001b[0m\u001b[0;34m)\u001b[0m\u001b[0;34m\u001b[0m\u001b[0;34m\u001b[0m\u001b[0m\n\u001b[0;32m----> 3\u001b[0;31m \u001b[0mstatistics\u001b[0m\u001b[0;34m[\u001b[0m\u001b[0;34m'kurtosis_#_cells_per_gene'\u001b[0m\u001b[0;34m]\u001b[0m \u001b[0;34m=\u001b[0m \u001b[0mnbCellsPerGene\u001b[0m\u001b[0;34m.\u001b[0m\u001b[0mkurtosis\u001b[0m\u001b[0;34m(\u001b[0m\u001b[0;34m)\u001b[0m\u001b[0;34m\u001b[0m\u001b[0;34m\u001b[0m\u001b[0m\n\u001b[0m\u001b[1;32m      4\u001b[0m \u001b[0mstatistics\u001b[0m\u001b[0;34m[\u001b[0m\u001b[0;34m'skew_#_cells_per_gene'\u001b[0m\u001b[0;34m]\u001b[0m \u001b[0;34m=\u001b[0m \u001b[0mnbCellsPerGene\u001b[0m\u001b[0;34m.\u001b[0m\u001b[0mskew\u001b[0m\u001b[0;34m(\u001b[0m\u001b[0;34m)\u001b[0m\u001b[0;34m\u001b[0m\u001b[0;34m\u001b[0m\u001b[0m\n\u001b[1;32m      5\u001b[0m \u001b[0mstatistics\u001b[0m\u001b[0;34m[\u001b[0m\u001b[0;34m'median_#_cells_per_gene'\u001b[0m\u001b[0;34m]\u001b[0m \u001b[0;34m=\u001b[0m \u001b[0mnbCellsPerGene\u001b[0m\u001b[0;34m.\u001b[0m\u001b[0mmedian\u001b[0m\u001b[0;34m(\u001b[0m\u001b[0;34m)\u001b[0m\u001b[0;34m\u001b[0m\u001b[0;34m\u001b[0m\u001b[0m\n",
      "\u001b[0;31mAttributeError\u001b[0m: 'numpy.ndarray' object has no attribute 'kurtosis'"
     ]
    }
   ],
   "source": [
    "statistics['avg_#_cells_per_gene'] = nbCellsPerGene.mean()\n",
    "statistics['std_#_cells_per_gene'] = nbCellsPerGene.std()\n",
    "statistics['kurtosis_#_cells_per_gene'] = nbCellsPerGene.kurtosis()\n",
    "statistics['skew_#_cells_per_gene'] = nbCellsPerGene.skew()\n",
    "statistics['median_#_cells_per_gene'] = nbCellsPerGene.median()"
   ]
  },
  {
   "cell_type": "code",
   "execution_count": null,
   "metadata": {},
   "outputs": [],
   "source": []
  },
  {
   "cell_type": "code",
   "execution_count": null,
   "metadata": {},
   "outputs": [],
   "source": []
  }
 ],
 "metadata": {
  "kernelspec": {
   "display_name": "Python [conda env:astrohack]",
   "language": "python",
   "name": "conda-env-astrohack-py"
  },
  "language_info": {
   "codemirror_mode": {
    "name": "ipython",
    "version": 3
   },
   "file_extension": ".py",
   "mimetype": "text/x-python",
   "name": "python",
   "nbconvert_exporter": "python",
   "pygments_lexer": "ipython3",
   "version": "3.6.7"
  },
  "toc": {
   "base_numbering": 1,
   "nav_menu": {},
   "number_sections": true,
   "sideBar": true,
   "skip_h1_title": false,
   "title_cell": "Table of Contents",
   "title_sidebar": "Contents",
   "toc_cell": false,
   "toc_position": {},
   "toc_section_display": true,
   "toc_window_display": false
  }
 },
 "nbformat": 4,
 "nbformat_minor": 2
}
