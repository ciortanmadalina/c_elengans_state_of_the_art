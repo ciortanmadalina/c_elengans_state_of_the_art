{
 "cells": [
  {
   "cell_type": "code",
   "execution_count": 3,
   "metadata": {
    "ExecuteTime": {
     "end_time": "2018-12-15T18:47:42.540627Z",
     "start_time": "2018-12-15T18:47:42.537784Z"
    }
   },
   "outputs": [],
   "source": [
    "import numpy as np\n",
    "import pandas as pd\n",
    "from scipy import sparse, io\n",
    "from collections import Counter"
   ]
  },
  {
   "cell_type": "code",
   "execution_count": 15,
   "metadata": {
    "ExecuteTime": {
     "end_time": "2018-12-15T18:49:39.221636Z",
     "start_time": "2018-12-15T18:49:39.217422Z"
    }
   },
   "outputs": [],
   "source": [
    "datasets = [ 'sce10x_qc', 'sce2_qc', 'sce8_qc']\n",
    "name = datasets[0]"
   ]
  },
  {
   "cell_type": "code",
   "execution_count": null,
   "metadata": {},
   "outputs": [],
   "source": [
    "\n",
    "\n",
    "df = pd.read_csv(f\"{name}.csv\", index_col=0).T\n",
    "/print df.shape\n",
    "sd = sparse.csr_matrix(df.values)\n",
    "sparse.save_npz(f\"{name}.npz\", sd)\n",
    "np.save(f\"{name}_cells.npy\", df.index.values)\n",
    "np.save(f\"{name}_genes.npy\", df.columns)\n",
    "\n",
    "truth = pd.read_csv(f'{name}_truth.csv', index_col = 0)\n",
    "\n",
    "truth['truth'] = truth['x'].astype('category')\n",
    "\n",
    "truth['clusters'] = truth['truth'].cat.codes\n",
    "truth.drop('x', inplace=True, axis = 1)\n",
    "truth.to_pickle(f'{name}_truth.pkl')"
   ]
  },
  {
   "cell_type": "code",
   "execution_count": 16,
   "metadata": {
    "ExecuteTime": {
     "end_time": "2018-12-15T18:49:41.523438Z",
     "start_time": "2018-12-15T18:49:41.231082Z"
    }
   },
   "outputs": [],
   "source": [
    "def loadDf(name):\n",
    "    data = sparse.load_npz(f\"{name}.npz\")\n",
    "    data = data.todense()\n",
    "    df1 = pd.DataFrame(data = data)\n",
    "    df1.set_index(np.load(f\"{name}_cells.npy\"), inplace=True)\n",
    "    df1.columns = np.load(f\"{name}_genes.npy\")\n",
    "    \n",
    "    truth = pd.read_pickle(f'{name}_truth.pkl')\n",
    "    return df1, truth\n",
    "\n",
    "df, truth= loadDf(name)"
   ]
  },
  {
   "cell_type": "code",
   "execution_count": 18,
   "metadata": {
    "ExecuteTime": {
     "end_time": "2018-12-15T18:49:48.110517Z",
     "start_time": "2018-12-15T18:49:48.106230Z"
    }
   },
   "outputs": [],
   "source": []
  },
  {
   "cell_type": "code",
   "execution_count": 19,
   "metadata": {
    "ExecuteTime": {
     "end_time": "2018-12-15T18:49:49.305324Z",
     "start_time": "2018-12-15T18:49:49.300288Z"
    }
   },
   "outputs": [],
   "source": [
    "truth['truth'] = df.index.values\n",
    "truth.to_pickle(f'{name}_truth.pkl')"
   ]
  },
  {
   "cell_type": "code",
   "execution_count": 20,
   "metadata": {
    "ExecuteTime": {
     "end_time": "2018-12-15T18:49:56.333138Z",
     "start_time": "2018-12-15T18:49:56.318235Z"
    },
    "scrolled": true
   },
   "outputs": [
    {
     "name": "stdout",
     "output_type": "stream",
     "text": [
      "(902, 16468) (902, 2)\n"
     ]
    },
    {
     "data": {
      "text/html": [
       "<div>\n",
       "<style scoped>\n",
       "    .dataframe tbody tr th:only-of-type {\n",
       "        vertical-align: middle;\n",
       "    }\n",
       "\n",
       "    .dataframe tbody tr th {\n",
       "        vertical-align: top;\n",
       "    }\n",
       "\n",
       "    .dataframe thead th {\n",
       "        text-align: right;\n",
       "    }\n",
       "</style>\n",
       "<table border=\"1\" class=\"dataframe\">\n",
       "  <thead>\n",
       "    <tr style=\"text-align: right;\">\n",
       "      <th></th>\n",
       "      <th>ENSG00000272758</th>\n",
       "      <th>ENSG00000154678</th>\n",
       "      <th>ENSG00000148737</th>\n",
       "      <th>ENSG00000196968</th>\n",
       "      <th>ENSG00000134297</th>\n",
       "      <th>ENSG00000122674</th>\n",
       "      <th>ENSG00000201413</th>\n",
       "      <th>ENSG00000111640</th>\n",
       "      <th>ENSG00000130340</th>\n",
       "      <th>ENSG00000224219</th>\n",
       "      <th>...</th>\n",
       "      <th>ENSG00000237854</th>\n",
       "      <th>ENSG00000240376</th>\n",
       "      <th>ENSG00000203288</th>\n",
       "      <th>ENSG00000234782</th>\n",
       "      <th>ENSG00000213070</th>\n",
       "      <th>ENSG00000237289</th>\n",
       "      <th>ENSG00000238098</th>\n",
       "      <th>ENSG00000133433</th>\n",
       "      <th>ENSG00000054219</th>\n",
       "      <th>ENSG00000137691</th>\n",
       "    </tr>\n",
       "  </thead>\n",
       "  <tbody>\n",
       "    <tr>\n",
       "      <th>CELL_000001</th>\n",
       "      <td>0</td>\n",
       "      <td>0</td>\n",
       "      <td>0</td>\n",
       "      <td>0</td>\n",
       "      <td>0</td>\n",
       "      <td>11</td>\n",
       "      <td>0</td>\n",
       "      <td>2400</td>\n",
       "      <td>2</td>\n",
       "      <td>7</td>\n",
       "      <td>...</td>\n",
       "      <td>0</td>\n",
       "      <td>344</td>\n",
       "      <td>0</td>\n",
       "      <td>19</td>\n",
       "      <td>7</td>\n",
       "      <td>0</td>\n",
       "      <td>0</td>\n",
       "      <td>0</td>\n",
       "      <td>1</td>\n",
       "      <td>0</td>\n",
       "    </tr>\n",
       "    <tr>\n",
       "      <th>CELL_000002</th>\n",
       "      <td>0</td>\n",
       "      <td>0</td>\n",
       "      <td>0</td>\n",
       "      <td>0</td>\n",
       "      <td>0</td>\n",
       "      <td>21</td>\n",
       "      <td>0</td>\n",
       "      <td>2306</td>\n",
       "      <td>5</td>\n",
       "      <td>4</td>\n",
       "      <td>...</td>\n",
       "      <td>0</td>\n",
       "      <td>314</td>\n",
       "      <td>1</td>\n",
       "      <td>10</td>\n",
       "      <td>9</td>\n",
       "      <td>1</td>\n",
       "      <td>0</td>\n",
       "      <td>0</td>\n",
       "      <td>0</td>\n",
       "      <td>3</td>\n",
       "    </tr>\n",
       "    <tr>\n",
       "      <th>CELL_000003</th>\n",
       "      <td>0</td>\n",
       "      <td>0</td>\n",
       "      <td>0</td>\n",
       "      <td>0</td>\n",
       "      <td>0</td>\n",
       "      <td>20</td>\n",
       "      <td>0</td>\n",
       "      <td>2159</td>\n",
       "      <td>7</td>\n",
       "      <td>4</td>\n",
       "      <td>...</td>\n",
       "      <td>2</td>\n",
       "      <td>353</td>\n",
       "      <td>0</td>\n",
       "      <td>13</td>\n",
       "      <td>10</td>\n",
       "      <td>0</td>\n",
       "      <td>0</td>\n",
       "      <td>0</td>\n",
       "      <td>0</td>\n",
       "      <td>0</td>\n",
       "    </tr>\n",
       "    <tr>\n",
       "      <th>CELL_000004</th>\n",
       "      <td>2</td>\n",
       "      <td>1</td>\n",
       "      <td>1</td>\n",
       "      <td>1</td>\n",
       "      <td>1</td>\n",
       "      <td>15</td>\n",
       "      <td>1</td>\n",
       "      <td>1986</td>\n",
       "      <td>5</td>\n",
       "      <td>11</td>\n",
       "      <td>...</td>\n",
       "      <td>0</td>\n",
       "      <td>331</td>\n",
       "      <td>0</td>\n",
       "      <td>26</td>\n",
       "      <td>9</td>\n",
       "      <td>0</td>\n",
       "      <td>0</td>\n",
       "      <td>0</td>\n",
       "      <td>0</td>\n",
       "      <td>0</td>\n",
       "    </tr>\n",
       "    <tr>\n",
       "      <th>CELL_000005</th>\n",
       "      <td>0</td>\n",
       "      <td>0</td>\n",
       "      <td>3</td>\n",
       "      <td>2</td>\n",
       "      <td>1</td>\n",
       "      <td>8</td>\n",
       "      <td>0</td>\n",
       "      <td>3468</td>\n",
       "      <td>4</td>\n",
       "      <td>6</td>\n",
       "      <td>...</td>\n",
       "      <td>0</td>\n",
       "      <td>294</td>\n",
       "      <td>0</td>\n",
       "      <td>24</td>\n",
       "      <td>14</td>\n",
       "      <td>0</td>\n",
       "      <td>1</td>\n",
       "      <td>0</td>\n",
       "      <td>0</td>\n",
       "      <td>0</td>\n",
       "    </tr>\n",
       "  </tbody>\n",
       "</table>\n",
       "<p>5 rows × 16468 columns</p>\n",
       "</div>"
      ],
      "text/plain": [
       "             ENSG00000272758  ENSG00000154678  ENSG00000148737  \\\n",
       "CELL_000001                0                0                0   \n",
       "CELL_000002                0                0                0   \n",
       "CELL_000003                0                0                0   \n",
       "CELL_000004                2                1                1   \n",
       "CELL_000005                0                0                3   \n",
       "\n",
       "             ENSG00000196968  ENSG00000134297  ENSG00000122674  \\\n",
       "CELL_000001                0                0               11   \n",
       "CELL_000002                0                0               21   \n",
       "CELL_000003                0                0               20   \n",
       "CELL_000004                1                1               15   \n",
       "CELL_000005                2                1                8   \n",
       "\n",
       "             ENSG00000201413  ENSG00000111640  ENSG00000130340  \\\n",
       "CELL_000001                0             2400                2   \n",
       "CELL_000002                0             2306                5   \n",
       "CELL_000003                0             2159                7   \n",
       "CELL_000004                1             1986                5   \n",
       "CELL_000005                0             3468                4   \n",
       "\n",
       "             ENSG00000224219       ...         ENSG00000237854  \\\n",
       "CELL_000001                7       ...                       0   \n",
       "CELL_000002                4       ...                       0   \n",
       "CELL_000003                4       ...                       2   \n",
       "CELL_000004               11       ...                       0   \n",
       "CELL_000005                6       ...                       0   \n",
       "\n",
       "             ENSG00000240376  ENSG00000203288  ENSG00000234782  \\\n",
       "CELL_000001              344                0               19   \n",
       "CELL_000002              314                1               10   \n",
       "CELL_000003              353                0               13   \n",
       "CELL_000004              331                0               26   \n",
       "CELL_000005              294                0               24   \n",
       "\n",
       "             ENSG00000213070  ENSG00000237289  ENSG00000238098  \\\n",
       "CELL_000001                7                0                0   \n",
       "CELL_000002                9                1                0   \n",
       "CELL_000003               10                0                0   \n",
       "CELL_000004                9                0                0   \n",
       "CELL_000005               14                0                1   \n",
       "\n",
       "             ENSG00000133433  ENSG00000054219  ENSG00000137691  \n",
       "CELL_000001                0                1                0  \n",
       "CELL_000002                0                0                3  \n",
       "CELL_000003                0                0                0  \n",
       "CELL_000004                0                0                0  \n",
       "CELL_000005                0                0                0  \n",
       "\n",
       "[5 rows x 16468 columns]"
      ]
     },
     "metadata": {},
     "output_type": "display_data"
    },
    {
     "data": {
      "text/html": [
       "<div>\n",
       "<style scoped>\n",
       "    .dataframe tbody tr th:only-of-type {\n",
       "        vertical-align: middle;\n",
       "    }\n",
       "\n",
       "    .dataframe tbody tr th {\n",
       "        vertical-align: top;\n",
       "    }\n",
       "\n",
       "    .dataframe thead th {\n",
       "        text-align: right;\n",
       "    }\n",
       "</style>\n",
       "<table border=\"1\" class=\"dataframe\">\n",
       "  <thead>\n",
       "    <tr style=\"text-align: right;\">\n",
       "      <th></th>\n",
       "      <th>truth</th>\n",
       "      <th>clusters</th>\n",
       "    </tr>\n",
       "  </thead>\n",
       "  <tbody>\n",
       "    <tr>\n",
       "      <th>1</th>\n",
       "      <td>CELL_000001</td>\n",
       "      <td>2</td>\n",
       "    </tr>\n",
       "    <tr>\n",
       "      <th>2</th>\n",
       "      <td>CELL_000002</td>\n",
       "      <td>0</td>\n",
       "    </tr>\n",
       "    <tr>\n",
       "      <th>3</th>\n",
       "      <td>CELL_000003</td>\n",
       "      <td>2</td>\n",
       "    </tr>\n",
       "    <tr>\n",
       "      <th>4</th>\n",
       "      <td>CELL_000004</td>\n",
       "      <td>2</td>\n",
       "    </tr>\n",
       "    <tr>\n",
       "      <th>5</th>\n",
       "      <td>CELL_000005</td>\n",
       "      <td>2</td>\n",
       "    </tr>\n",
       "  </tbody>\n",
       "</table>\n",
       "</div>"
      ],
      "text/plain": [
       "         truth  clusters\n",
       "1  CELL_000001         2\n",
       "2  CELL_000002         0\n",
       "3  CELL_000003         2\n",
       "4  CELL_000004         2\n",
       "5  CELL_000005         2"
      ]
     },
     "metadata": {},
     "output_type": "display_data"
    }
   ],
   "source": [
    "print(df.shape, truth.shape)\n",
    "display(df.head())\n",
    "\n",
    "display(truth.head())"
   ]
  },
  {
   "cell_type": "code",
   "execution_count": null,
   "metadata": {},
   "outputs": [],
   "source": []
  },
  {
   "cell_type": "code",
   "execution_count": null,
   "metadata": {},
   "outputs": [],
   "source": []
  },
  {
   "cell_type": "code",
   "execution_count": null,
   "metadata": {},
   "outputs": [],
   "source": []
  },
  {
   "cell_type": "code",
   "execution_count": null,
   "metadata": {},
   "outputs": [],
   "source": []
  },
  {
   "cell_type": "code",
   "execution_count": null,
   "metadata": {},
   "outputs": [],
   "source": []
  },
  {
   "cell_type": "code",
   "execution_count": null,
   "metadata": {},
   "outputs": [],
   "source": []
  }
 ],
 "metadata": {
  "hide_input": false,
  "kernelspec": {
   "display_name": "Python [default]",
   "language": "python",
   "name": "python3"
  },
  "language_info": {
   "codemirror_mode": {
    "name": "ipython",
    "version": 3
   },
   "file_extension": ".py",
   "mimetype": "text/x-python",
   "name": "python",
   "nbconvert_exporter": "python",
   "pygments_lexer": "ipython3",
   "version": "3.6.7"
  },
  "toc": {
   "base_numbering": 1,
   "nav_menu": {},
   "number_sections": true,
   "sideBar": true,
   "skip_h1_title": false,
   "title_cell": "Table of Contents",
   "title_sidebar": "Contents",
   "toc_cell": false,
   "toc_position": {},
   "toc_section_display": true,
   "toc_window_display": false
  },
  "varInspector": {
   "cols": {
    "lenName": 16,
    "lenType": 16,
    "lenVar": 40
   },
   "kernels_config": {
    "python": {
     "delete_cmd_postfix": "",
     "delete_cmd_prefix": "del ",
     "library": "var_list.py",
     "varRefreshCmd": "print(var_dic_list())"
    },
    "r": {
     "delete_cmd_postfix": ") ",
     "delete_cmd_prefix": "rm(",
     "library": "var_list.r",
     "varRefreshCmd": "cat(var_dic_list()) "
    }
   },
   "types_to_exclude": [
    "module",
    "function",
    "builtin_function_or_method",
    "instance",
    "_Feature"
   ],
   "window_display": false
  }
 },
 "nbformat": 4,
 "nbformat_minor": 2
}
