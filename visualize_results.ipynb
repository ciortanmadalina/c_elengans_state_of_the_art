{
 "cells": [
  {
   "cell_type": "code",
   "execution_count": 1,
   "metadata": {
    "ExecuteTime": {
     "end_time": "2018-12-16T11:12:01.920928Z",
     "start_time": "2018-12-16T11:12:01.570737Z"
    }
   },
   "outputs": [],
   "source": [
    "import sys\n",
    "sys.path.append(\"..\") # this adds to path parent directory in order to import utils file\n",
    "import pandas as pd\n",
    "import matplotlib.pyplot as plt\n",
    "import seaborn as sns\n",
    "from collections import Counter\n",
    "import random\n",
    "from tqdm import tqdm\n",
    "import numpy as np\n",
    "import os\n",
    "import seaborn as sns\n",
    "import matplotlib.backends.backend_pdf\n",
    "plt.ion()\n",
    "plt.show()"
   ]
  },
  {
   "cell_type": "markdown",
   "metadata": {
    "ExecuteTime": {
     "end_time": "2018-12-11T22:52:03.595985Z",
     "start_time": "2018-12-11T22:52:03.587840Z"
    }
   },
   "source": [
    "## Utils functions"
   ]
  },
  {
   "cell_type": "code",
   "execution_count": 2,
   "metadata": {
    "ExecuteTime": {
     "end_time": "2018-12-16T11:12:02.475905Z",
     "start_time": "2018-12-16T11:12:02.366376Z"
    }
   },
   "outputs": [],
   "source": [
    "def getResultsDataset(datasets, path, method = 'louvain'):\n",
    "    results = []\n",
    "    for dataset in datasets:\n",
    "        if method == 'louvain':\n",
    "            resultsFile = f'{path}{dataset}_{method}_results.pkl'\n",
    "            results.append(pd.read_pickle(resultsFile))\n",
    "    results = pd.concat(results)\n",
    "    return results\n",
    "\n",
    "def plotResults(results, randIndexColumn= '_rand_index', datasetColumn = 'dataset', filename = None):\n",
    "    def plotFeature(column, randIndexColumn, datasetColumn, pdf):\n",
    "        if np.issubdtype(results[column].dtype, np.number):\n",
    "            g = sns.FacetGrid(results, col=datasetColumn, margin_titles=True, height=3, col_wrap=3)\n",
    "            g.map(sns.kdeplot, column, randIndexColumn);\n",
    "        else:\n",
    "            g = sns.catplot(x=column, y=randIndexColumn, hue=datasetColumn,\n",
    "                            data=results, kind = 'violin', height = 4, aspect=3);\n",
    "            plt.xticks(rotation = 90);\n",
    "\n",
    "        g.fig.suptitle(f\"Distribution of {column}\")\n",
    "        g.fig.subplots_adjust(top=0.85)\n",
    "        if pdf is not None:\n",
    "            pdf.savefig(bbox_inches=\"tight\")\n",
    "        plt.show()\n",
    "        \n",
    "    # convert values to numeric if needed\n",
    "    for column in results.columns:\n",
    "        try:\n",
    "            numericCol = pd.to_numeric(results[column])\n",
    "            results[column] = numericCol\n",
    "        except:\n",
    "            ;\n",
    "    features = np.setdiff1d(results.columns, [randIndexColumn, datasetColumn])\n",
    "    \n",
    "    # Plotting\n",
    "    if filename is not None:    \n",
    "        pdf = matplotlib.backends.backend_pdf.PdfPages(f\"{filename}\")\n",
    "    else: \n",
    "        pdf= None\n",
    "    for column in features:\n",
    "        plotFeature(column, randIndexColumn, datasetColumn, pdf)\n",
    "    if pdf is not None:\n",
    "        pdf.close()\n",
    "    "
   ]
  },
  {
   "cell_type": "code",
   "execution_count": 3,
   "metadata": {
    "ExecuteTime": {
     "end_time": "2018-12-16T11:12:03.029367Z",
     "start_time": "2018-12-16T11:12:03.027363Z"
    }
   },
   "outputs": [],
   "source": [
    "datasets = ['brainCIDR', 'pancreaticIsletCIDR', 'deng', 'sce10x_qc', 'sce2_qc', 'sce8_qc']"
   ]
  },
  {
   "cell_type": "markdown",
   "metadata": {},
   "source": [
    "# Louvain"
   ]
  },
  {
   "cell_type": "code",
   "execution_count": 4,
   "metadata": {
    "ExecuteTime": {
     "end_time": "2018-12-16T11:12:04.233674Z",
     "start_time": "2018-12-16T11:12:04.210932Z"
    },
    "scrolled": true
   },
   "outputs": [
    {
     "data": {
      "text/plain": [
       "((2245, 17), deng                   500\n",
       " sce10x_qc              480\n",
       " sce8_qc                474\n",
       " sce2_qc                461\n",
       " pancreaticIsletCIDR    306\n",
       " brainCIDR               24\n",
       " Name: dataset, dtype: int64)"
      ]
     },
     "execution_count": 4,
     "metadata": {},
     "output_type": "execute_result"
    }
   ],
   "source": [
    "method = 'louvain'\n",
    "results = getResultsDataset(datasets,  path = 'gmm/data/', method = method)\n",
    "results.shape, results['dataset'].value_counts()"
   ]
  },
  {
   "cell_type": "code",
   "execution_count": null,
   "metadata": {},
   "outputs": [],
   "source": [
    "plotResults(results, filename = f\"reports/{method}.pdf\") #f\"{method}.pdf\""
   ]
  },
  {
   "cell_type": "markdown",
   "metadata": {},
   "source": [
    "# GMM"
   ]
  },
  {
   "cell_type": "code",
   "execution_count": null,
   "metadata": {},
   "outputs": [],
   "source": [
    "method = 'gmm'\n",
    "plotResults(results, filename = None) #f\"{method}.pdf\"\n",
    "results = getResultsDataset(datasets, method = method)"
   ]
  },
  {
   "cell_type": "markdown",
   "metadata": {},
   "source": [
    "# Seurat"
   ]
  },
  {
   "cell_type": "code",
   "execution_count": null,
   "metadata": {},
   "outputs": [],
   "source": [
    "method = 'seurat'\n",
    "plotResults(results, filename = None) #f\"{method}.pdf\"\n",
    "results = getResultsDataset(datasets, method = method)"
   ]
  },
  {
   "cell_type": "code",
   "execution_count": null,
   "metadata": {},
   "outputs": [],
   "source": []
  },
  {
   "cell_type": "code",
   "execution_count": null,
   "metadata": {},
   "outputs": [],
   "source": []
  }
 ],
 "metadata": {
  "hide_input": false,
  "kernelspec": {
   "display_name": "Python [default]",
   "language": "python",
   "name": "python3"
  },
  "language_info": {
   "codemirror_mode": {
    "name": "ipython",
    "version": 3
   },
   "file_extension": ".py",
   "mimetype": "text/x-python",
   "name": "python",
   "nbconvert_exporter": "python",
   "pygments_lexer": "ipython3",
   "version": "3.6.7"
  },
  "toc": {
   "base_numbering": 1,
   "nav_menu": {},
   "number_sections": true,
   "sideBar": true,
   "skip_h1_title": false,
   "title_cell": "Table of Contents",
   "title_sidebar": "Contents",
   "toc_cell": false,
   "toc_position": {},
   "toc_section_display": true,
   "toc_window_display": false
  },
  "varInspector": {
   "cols": {
    "lenName": 16,
    "lenType": 16,
    "lenVar": 40
   },
   "kernels_config": {
    "python": {
     "delete_cmd_postfix": "",
     "delete_cmd_prefix": "del ",
     "library": "var_list.py",
     "varRefreshCmd": "print(var_dic_list())"
    },
    "r": {
     "delete_cmd_postfix": ") ",
     "delete_cmd_prefix": "rm(",
     "library": "var_list.r",
     "varRefreshCmd": "cat(var_dic_list()) "
    }
   },
   "oldHeight": 122.72691,
   "position": {
    "height": "385.717px",
    "left": "873.636px",
    "right": "20px",
    "top": "119px",
    "width": "354.091px"
   },
   "types_to_exclude": [
    "module",
    "function",
    "builtin_function_or_method",
    "instance",
    "_Feature"
   ],
   "varInspector_section_display": "block",
   "window_display": false
  }
 },
 "nbformat": 4,
 "nbformat_minor": 2
}
