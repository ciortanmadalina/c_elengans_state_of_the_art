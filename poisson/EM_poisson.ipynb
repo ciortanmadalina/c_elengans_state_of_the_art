{
 "cells": [
  {
   "cell_type": "code",
   "execution_count": 1,
   "metadata": {
    "ExecuteTime": {
     "end_time": "2019-02-19T20:35:19.748602Z",
     "start_time": "2019-02-19T20:35:16.822402Z"
    }
   },
   "outputs": [
    {
     "name": "stdout",
     "output_type": "stream",
     "text": [
      "elbowAnalysis\n",
      "silhouetteAnalyis\n"
     ]
    }
   ],
   "source": [
    "import sys\n",
    "sys.path.append(\"..\") # this adds to path parent directory in order to import utils file\n",
    "import pandas as pd\n",
    "import matplotlib.pyplot as plt\n",
    "import seaborn as sns\n",
    "from collections import Counter\n",
    "import random\n",
    "from tqdm import tqdm\n",
    "import numpy as np\n",
    "from sklearn import metrics\n",
    "from IPython.display import clear_output, Image, display\n",
    "from sklearn.preprocessing import StandardScaler, RobustScaler\n",
    "from sklearn.mixture import GaussianMixture\n",
    "from sklearn.metrics.cluster import adjusted_rand_score\n",
    "from statsmodels.base.model import GenericLikelihoodModel\n",
    "from scipy import stats\n",
    "## Import custom utils\n",
    "import utils\n",
    "np.random.seed(0)"
   ]
  },
  {
   "cell_type": "code",
   "execution_count": 2,
   "metadata": {
    "ExecuteTime": {
     "end_time": "2019-02-19T20:35:19.921208Z",
     "start_time": "2019-02-19T20:35:19.769546Z"
    }
   },
   "outputs": [],
   "source": [
    "%load_ext autoreload\n",
    "%autoreload 2"
   ]
  },
  {
   "cell_type": "markdown",
   "metadata": {},
   "source": [
    "Define zero inflated poisson probability mass function and maximum likelihood optimizer for estimating the best lambda and pi in agreement with observed data.  \n"
   ]
  },
  {
   "cell_type": "code",
   "execution_count": 4,
   "metadata": {
    "ExecuteTime": {
     "end_time": "2019-02-19T20:35:33.357444Z",
     "start_time": "2019-02-19T20:35:33.193855Z"
    }
   },
   "outputs": [],
   "source": [
    "def zip_pmf(x, pi, lambda_):\n",
    "    \"\"\"\n",
    "    Probability mass function for zero inflated poisson\n",
    "    P(k) = (1-pi)* poisson(k)\n",
    "    P(0) = pi + (1-pi) * poisson(0) \n",
    "    \"\"\"\n",
    "    if pi < 0 or pi > 1 or lambda_ <= 0:\n",
    "        return np.zeros_like(x)\n",
    "    else:\n",
    "        return (x == 0) * pi + (1 - pi) * stats.poisson.pmf(x, lambda_)\n",
    "\n",
    "class ZeroInflatedPoisson(GenericLikelihoodModel):\n",
    "    \"\"\"\n",
    "    Maximum likelihood optimizer for zip distribution.\n",
    "    This model will provide an estimation for lambda and pi parameters\n",
    "    which maximize the likelihood that the observed data matches the\n",
    "    underlying model\n",
    "    \"\"\"\n",
    "    def __init__(self, endog, exog=None, **kwds):\n",
    "        if exog is None:\n",
    "            exog = np.zeros_like(endog)\n",
    "        super(ZeroInflatedPoisson, self).__init__(endog, exog, **kwds)\n",
    "    \n",
    "    def nloglikeobs(self, params):\n",
    "        pi = params[0]\n",
    "        lambda_ = params[1]\n",
    "        return -np.log(zip_pmf(self.endog, pi=pi, lambda_=lambda_))\n",
    "    \n",
    "    def fit(self, start_params=None, maxiter=10000, maxfun=5000, **kwds):\n",
    "        if start_params is None:\n",
    "            lambda_start = self.endog.mean()\n",
    "            percentage_of_zeros = (self.endog == 0).mean()\n",
    "            start_params = np.array([percentage_of_zeros, lambda_start])\n",
    "            \n",
    "        return super(ZeroInflatedPoisson, self).fit(start_params=start_params,\n",
    "                                                    maxiter=maxiter, maxfun=maxfun, **kwds)"
   ]
  },
  {
   "cell_type": "code",
   "execution_count": 5,
   "metadata": {
    "ExecuteTime": {
     "end_time": "2019-02-19T20:35:34.441783Z",
     "start_time": "2019-02-19T20:35:33.864308Z"
    }
   },
   "outputs": [
    {
     "name": "stdout",
     "output_type": "stream",
     "text": [
      "(902, 16468) (902, 2) [2 0 1]\n"
     ]
    }
   ],
   "source": [
    "dataset= 'sce10x_qc'\n",
    "df, truth = utils.loadData(dataset)\n",
    "print(df.shape, truth.shape, truth.clusters.unique())"
   ]
  },
  {
   "cell_type": "markdown",
   "metadata": {
    "ExecuteTime": {
     "end_time": "2019-02-19T19:10:21.103343Z",
     "start_time": "2019-02-19T19:10:20.783937Z"
    }
   },
   "source": [
    "For each gene calculate the lambda an pi parameters corresponding to the ZIP model:"
   ]
  },
  {
   "cell_type": "code",
   "execution_count": 6,
   "metadata": {
    "ExecuteTime": {
     "end_time": "2019-02-19T20:35:36.624403Z",
     "start_time": "2019-02-19T20:35:35.626135Z"
    }
   },
   "outputs": [
    {
     "data": {
      "image/png": "[encoded data removed]",
      "text/plain": [
       "<Figure size 432x288 with 1 Axes>"
      ]
     },
     "metadata": {
      "needs_background": "light"
     },
     "output_type": "display_data"
    }
   ],
   "source": [
    "plt.hist(df.values.ravel(), log= True)\n",
    "plt.title('Logscale histogram of all dataset values')\n",
    "plt.xlabel('UMI')\n",
    "plt.ylabel('frequency');"
   ]
  },
  {
   "cell_type": "code",
   "execution_count": 10,
   "metadata": {
    "ExecuteTime": {
     "end_time": "2019-02-19T20:48:38.811396Z",
     "start_time": "2019-02-19T20:48:38.651264Z"
    }
   },
   "outputs": [],
   "source": [
    "genes_pi=[]\n",
    "genes_lambda=[]\n",
    "for gene in df.columns:\n",
    "    x = df[gene].values\n",
    "    pi_, lambda_ = ZeroInflatedPoisson(x).fit().params\n",
    "    genes_pi.append(pi_)\n",
    "    genes_lambda.append(lambda_)"
   ]
  },
  {
   "cell_type": "code",
   "execution_count": 8,
   "metadata": {
    "ExecuteTime": {
     "end_time": "2019-02-19T20:48:11.572264Z",
     "start_time": "2019-02-19T20:48:11.357791Z"
    }
   },
   "outputs": [],
   "source": [
    "np.save('genes_lambda.npy', genes_lambda)\n",
    "np.save('genes_pi.npy', genes_pi)"
   ]
  },
  {
   "cell_type": "code",
   "execution_count": 12,
   "metadata": {
    "ExecuteTime": {
     "end_time": "2019-02-19T20:49:44.457352Z",
     "start_time": "2019-02-19T20:49:44.199084Z"
    }
   },
   "outputs": [
    {
     "data": {
      "image/png": "[encoded data removed]",
      "text/plain": [
       "<Figure size 432x288 with 1 Axes>"
      ]
     },
     "metadata": {
      "needs_background": "light"
     },
     "output_type": "display_data"
    }
   ],
   "source": [
    "plt.hist(genes_pi)\n",
    "plt.title('Histogram pi values');"
   ]
  },
  {
   "cell_type": "code",
   "execution_count": 13,
   "metadata": {
    "ExecuteTime": {
     "end_time": "2019-02-19T20:50:09.163806Z",
     "start_time": "2019-02-19T20:50:08.909266Z"
    }
   },
   "outputs": [
    {
     "data": {
      "image/png": "[encoded data removed]",
      "text/plain": [
       "<Figure size 432x288 with 1 Axes>"
      ]
     },
     "metadata": {
      "needs_background": "light"
     },
     "output_type": "display_data"
    }
   ],
   "source": [
    "plt.hist(genes_lambda)\n",
    "plt.title('Histogram lambda values');"
   ]
  },
  {
   "cell_type": "markdown",
   "metadata": {},
   "source": [
    "## Jensen-Shannon Divergence\n",
    "\n",
    "https://enterotype.embl.de/enterotypes.html   \n",
    "https://github.com/flaviovdf/klkmeans   \n",
    "https://stackoverflow.com/questions/14660900/how-do-i-cluster-with-kl-divergence"
   ]
  },
  {
   "cell_type": "code",
   "execution_count": 14,
   "metadata": {
    "ExecuteTime": {
     "end_time": "2019-02-19T20:50:23.555585Z",
     "start_time": "2019-02-19T20:50:23.388829Z"
    }
   },
   "outputs": [],
   "source": [
    "from scipy.stats import entropy\n",
    "from numpy.linalg import norm\n",
    "import numpy as np\n",
    "\n",
    "def JSD(P, Q):\n",
    "    _P = P / norm(P, ord=1)\n",
    "    _Q = Q / norm(Q, ord=1)\n",
    "    _M = 0.5 * (_P + _Q)\n",
    "    return 0.5 * (entropy(_P, _M) + entropy(_Q, _M))"
   ]
  },
  {
   "cell_type": "code",
   "execution_count": 15,
   "metadata": {
    "ExecuteTime": {
     "end_time": "2019-02-19T20:50:58.099908Z",
     "start_time": "2019-02-19T20:50:57.940167Z"
    }
   },
   "outputs": [
    {
     "data": {
      "text/plain": [
       "0.6070448756760959"
      ]
     },
     "execution_count": 15,
     "metadata": {},
     "output_type": "execute_result"
    }
   ],
   "source": [
    "JSD(df[df.columns[0]].values, df[df.columns[1]].values)"
   ]
  },
  {
   "cell_type": "code",
   "execution_count": null,
   "metadata": {},
   "outputs": [],
   "source": []
  },
  {
   "cell_type": "code",
   "execution_count": null,
   "metadata": {},
   "outputs": [],
   "source": []
  },
  {
   "cell_type": "code",
   "execution_count": null,
   "metadata": {},
   "outputs": [],
   "source": []
  }
 ],
 "metadata": {
  "kernelspec": {
   "display_name": "Python 3",
   "language": "python",
   "name": "python3"
  },
  "language_info": {
   "codemirror_mode": {
    "name": "ipython",
    "version": 3
   },
   "file_extension": ".py",
   "mimetype": "text/x-python",
   "name": "python",
   "nbconvert_exporter": "python",
   "pygments_lexer": "ipython3",
   "version": "3.7.2"
  },
  "varInspector": {
   "cols": {
    "lenName": 16,
    "lenType": 16,
    "lenVar": 40
   },
   "kernels_config": {
    "python": {
     "delete_cmd_postfix": "",
     "delete_cmd_prefix": "del ",
     "library": "var_list.py",
     "varRefreshCmd": "print(var_dic_list())"
    },
    "r": {
     "delete_cmd_postfix": ") ",
     "delete_cmd_prefix": "rm(",
     "library": "var_list.r",
     "varRefreshCmd": "cat(var_dic_list()) "
    }
   },
   "types_to_exclude": [
    "module",
    "function",
    "builtin_function_or_method",
    "instance",
    "_Feature"
   ],
   "window_display": false
  }
 },
 "nbformat": 4,
 "nbformat_minor": 2
}
