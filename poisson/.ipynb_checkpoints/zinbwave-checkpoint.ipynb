{
 "cells": [
  {
   "cell_type": "code",
   "execution_count": null,
   "metadata": {
    "ExecuteTime": {
     "end_time": "2019-02-24T19:42:18.388278Z",
     "start_time": "2019-02-24T19:42:16.279914Z"
    }
   },
   "outputs": [],
   "source": [
    "import sys\n",
    "sys.path.append(\"..\") # this adds to path parent directory in order to import utils file\n",
    "import pandas as pd\n",
    "import matplotlib.pyplot as plt\n",
    "from collections import Counter\n",
    "import random\n",
    "import numpy as np\n",
    "from sklearn import metrics\n",
    "from sklearn.preprocessing import StandardScaler, RobustScaler\n",
    "from sklearn.mixture import GaussianMixture\n",
    "from sklearn.metrics.cluster import adjusted_rand_score\n",
    "from statsmodels.base.model import GenericLikelihoodModel\n",
    "from scipy import stats\n",
    "import pickle\n",
    "import pystan\n",
    "\n",
    "import utils\n",
    "import read_utils\n",
    "np.random.seed(0)"
   ]
  },
  {
   "cell_type": "code",
   "execution_count": null,
   "metadata": {
    "ExecuteTime": {
     "end_time": "2019-02-24T19:42:18.570792Z",
     "start_time": "2019-02-24T19:42:18.435154Z"
    }
   },
   "outputs": [],
   "source": [
    "%load_ext autoreload\n",
    "%autoreload 2"
   ]
  },
  {
   "cell_type": "markdown",
   "metadata": {},
   "source": [
    "## ZINBAWE model\n",
    "\n",
    "https://www.ncbi.nlm.nih.gov/pmc/articles/PMC5773593/  \n",
    "https://www.bioconductor.org/packages/devel/bioc/vignettes/zinbwave/inst/doc/intro.html   \n",
    "https://github.com/drisso/zinb_analysis  \n",
    "Reproduce comparaisons: https://github.com/fperraudeau/singlecellworkflow   \n",
    "\n",
    "\n",
    "ZIFA:  \n",
    "https://genomebiology.biomedcentral.com/articles/10.1186/s13059-015-0805-z  \n",
    "https://github.com/epierson9/ZIFA  \n",
    "\n",
    "\n",
    "PYSTAN:  \n",
    "https://pystan.readthedocs.io/en/latest/index.html"
   ]
  },
  {
   "cell_type": "code",
   "execution_count": null,
   "metadata": {
    "ExecuteTime": {
     "start_time": "2019-02-24T19:41:49.237Z"
    }
   },
   "outputs": [],
   "source": [
    "stanCode = \"\"\"\n",
    "\n",
    "data {\n",
    "  int<lower=0> N; // number of data points in dataset\n",
    "  int<lower=1> P; // number of known covariates\n",
    "  int<lower=1> K; // number of hidden dimensions\n",
    "  int<lower=1> G; // number of observed genes\n",
    "  int<lower=1> C; // number of observed cells\n",
    "\n",
    "  vector[P] x[N]; // Covariates, including intercept.\n",
    "  int y[N];      // Expression values (counts!)\n",
    "  int<lower=1, upper=G> gene[N]; // Gene identifiers\n",
    "  int<lower=1, upper=C> cell[N]; // Cell identifiers\n",
    "\n",
    "}\n",
    "parameters {\n",
    "  // Latent variable model\n",
    "  matrix[G, K] alpha_mu;\n",
    "  matrix[G, K] alpha_pi;\n",
    "\n",
    "  matrix[K, C] w;\n",
    "\n",
    "  // Cell regression weights\n",
    "  matrix[G, P] beta_mu;\n",
    "  matrix[G, P] beta_pi;\n",
    "\n",
    "  // Gene regression weights\n",
    "  // (For now only do intercept)\n",
    "  matrix[G, 1] gamma_mu;\n",
    "  matrix[G, 1] gamma_pi;\n",
    "\n",
    "  // Dispersion\n",
    "  real zeta[G];\n",
    "\n",
    "}\n",
    "model {\n",
    "  row_vector[1] mu;\n",
    "  row_vector[1] pi_;\n",
    "  real theta;\n",
    "\n",
    "  // Priors\n",
    "  to_vector(w) ~ normal(0, 1);\n",
    "\n",
    "  // likelihood\n",
    "  for (n in 1:N){\n",
    "    mu = exp(beta_mu[gene[n]] * x[n] + gamma_mu[gene[N]] + alpha_mu[gene[n]] * col(w, cell[n]));\n",
    "    pi_ = beta_pi[gene[n]] * x[n] + gamma_pi[gene[N]] + alpha_pi[gene[n]] * col(w, cell[n]);\n",
    "    theta = exp(zeta[gene[n]]);\n",
    "\n",
    "    if (y[n] > 0) {\n",
    "      target += bernoulli_logit_lpmf(0 | pi_) + neg_binomial_2_lpmf(y[n] | mu, theta);\n",
    "    }\n",
    "    else {\n",
    "      target += log_sum_exp(bernoulli_logit_lpmf(1 | pi_),\n",
    "                            bernoulli_logit_lpmf(0 | pi_) + neg_binomial_2_lpmf(y[n] | mu, theta));\n",
    "    }\n",
    "  }\n",
    "}\n",
    "\n",
    "\"\"\""
   ]
  },
  {
   "cell_type": "code",
   "execution_count": null,
   "metadata": {
    "ExecuteTime": {
     "start_time": "2019-02-24T19:41:49.898Z"
    }
   },
   "outputs": [],
   "source": [
    "model = pystan.StanModel(model_code=stanCode)"
   ]
  },
  {
   "cell_type": "markdown",
   "metadata": {},
   "source": [
    "# Save compiled model"
   ]
  },
  {
   "cell_type": "code",
   "execution_count": null,
   "metadata": {
    "ExecuteTime": {
     "end_time": "2019-02-24T18:34:13.568430Z",
     "start_time": "2019-02-24T18:34:13.553473Z"
    }
   },
   "outputs": [],
   "source": [
    "with open('zinbwave.pkl', 'wb') as fh:\n",
    "    pickle.dump(model, fh)"
   ]
  },
  {
   "cell_type": "markdown",
   "metadata": {},
   "source": [
    "## Start here if the model was already generated"
   ]
  },
  {
   "cell_type": "code",
   "execution_count": null,
   "metadata": {
    "ExecuteTime": {
     "end_time": "2019-02-24T19:42:20.802825Z",
     "start_time": "2019-02-24T19:42:20.620318Z"
    }
   },
   "outputs": [],
   "source": [
    "with open('zinbwave.pkl', 'rb') as fh:\n",
    "    model = pickle.load(fh)"
   ]
  },
  {
   "cell_type": "code",
   "execution_count": null,
   "metadata": {
    "ExecuteTime": {
     "end_time": "2019-02-24T19:42:22.172166Z",
     "start_time": "2019-02-24T19:42:21.500959Z"
    }
   },
   "outputs": [],
   "source": [
    "dataset= 'sce10x_qc'\n",
    "df, truth = read_utils.loadData(dataset)\n",
    "print(df.shape, truth.shape, truth.clusters.unique())"
   ]
  },
  {
   "cell_type": "code",
   "execution_count": null,
   "metadata": {
    "ExecuteTime": {
     "end_time": "2019-02-24T19:42:25.022546Z",
     "start_time": "2019-02-24T19:42:24.882920Z"
    }
   },
   "outputs": [],
   "source": [
    "# geneDf = df.T # log transform data\n",
    "# geneDf['total_counts'] = geneDf.sum(axis = 1)\n",
    "# geneDf['num_genes'] = (geneDf > 0).sum(axis = 1)\n",
    "# geneDf['dispersion'] = (geneDf > 0).var(axis = 1) / (geneDf > 0).mean(axis = 1)\n",
    "# geneDf = geneDf[['total_counts', 'num_genes', 'dispersion']]\n",
    "# print(geneDf.shape)\n",
    "# geneDf.head()\n",
    "\n",
    "# geneDf['dispersion'].hist(log = False)\n",
    "# plt.title('Histogram of gene dispersion')\n",
    "# plt.xlabel('Dispersion value')\n",
    "# plt.ylabel('Frequency');"
   ]
  },
  {
   "cell_type": "markdown",
   "metadata": {},
   "source": [
    "## Keep only top 1000 genes with highest variation\n",
    "\n",
    "TODO: remove also some cells "
   ]
  },
  {
   "cell_type": "code",
   "execution_count": null,
   "metadata": {
    "ExecuteTime": {
     "end_time": "2019-02-24T19:42:27.214687Z",
     "start_time": "2019-02-24T19:42:27.083039Z"
    }
   },
   "outputs": [],
   "source": [
    "geneDf = df.T # log transform data\n",
    "geneDf.shape"
   ]
  },
  {
   "cell_type": "code",
   "execution_count": null,
   "metadata": {
    "ExecuteTime": {
     "end_time": "2019-02-24T19:42:31.567054Z",
     "start_time": "2019-02-24T19:42:29.415803Z"
    }
   },
   "outputs": [],
   "source": [
    "idx = geneDf.pipe(np.log1p).var(1).sort_values(ascending=False).head(1000).index\n",
    "mus = geneDf.pipe(np.log1p).mean(1)\n",
    "vas = geneDf.pipe(np.log1p).var(1)\n",
    "idx.shape, mus.shape, vas.shape"
   ]
  },
  {
   "cell_type": "code",
   "execution_count": null,
   "metadata": {
    "ExecuteTime": {
     "end_time": "2019-02-24T19:42:34.626875Z",
     "start_time": "2019-02-24T19:42:34.039444Z"
    }
   },
   "outputs": [],
   "source": [
    "plt.scatter(mus, vas, label='Remaining');\n",
    "plt.scatter(mus[idx], vas[idx], label=f'Top {idx.shape[0]} genes by dispersion');\n",
    "plt.legend(scatterpoints=3)\n",
    "plt.xlabel('Log count mean')\n",
    "plt.ylabel('Log count variance');"
   ]
  },
  {
   "cell_type": "code",
   "execution_count": null,
   "metadata": {
    "ExecuteTime": {
     "end_time": "2019-02-24T19:42:36.796245Z",
     "start_time": "2019-02-24T19:42:36.666590Z"
    }
   },
   "outputs": [],
   "source": [
    "cellNames = geneDf.columns.tolist()\n",
    "cellNames[:3]"
   ]
  },
  {
   "cell_type": "code",
   "execution_count": null,
   "metadata": {
    "ExecuteTime": {
     "end_time": "2019-02-24T19:42:38.954064Z",
     "start_time": "2019-02-24T19:42:38.797470Z"
    }
   },
   "outputs": [],
   "source": [
    "geneDf = geneDf.loc[idx]\n",
    "geneDf['gene'] = geneDf.index\n",
    "print(geneDf.shape)\n",
    "geneDf.head()"
   ]
  },
  {
   "cell_type": "code",
   "execution_count": null,
   "metadata": {
    "ExecuteTime": {
     "start_time": "2019-02-24T19:42:23.605Z"
    }
   },
   "outputs": [],
   "source": [
    "long_data = pd.melt(geneDf, id_vars=['gene']).dropna().rename(columns={'variable': 'cell'})\n",
    "print(long_data.shape)\n",
    "long_data.head()"
   ]
  },
  {
   "cell_type": "code",
   "execution_count": null,
   "metadata": {
    "ExecuteTime": {
     "start_time": "2019-02-24T19:42:23.996Z"
    }
   },
   "outputs": [],
   "source": [
    "genes = long_data.gene.astype('category')\n",
    "G = genes.cat.categories.shape[0]\n",
    "genes = genes.cat.codes.values + 1\n",
    "len(genes), len(np.unique(genes)), genes[:3], G"
   ]
  },
  {
   "cell_type": "code",
   "execution_count": null,
   "metadata": {
    "ExecuteTime": {
     "start_time": "2019-02-24T19:42:24.656Z"
    }
   },
   "outputs": [],
   "source": [
    "cells = long_data.cell.astype('category')\n",
    "C = cells.cat.categories.shape[0]\n",
    "cells = cells.cat.codes.values + 1\n",
    "len(cells), len(np.unique(cells)), cells[:3], C"
   ]
  },
  {
   "cell_type": "code",
   "execution_count": null,
   "metadata": {
    "ExecuteTime": {
     "start_time": "2019-02-24T19:42:24.915Z"
    }
   },
   "outputs": [],
   "source": [
    "y = long_data.value.values\n",
    "y.shape"
   ]
  },
  {
   "cell_type": "code",
   "execution_count": null,
   "metadata": {
    "ExecuteTime": {
     "start_time": "2019-02-24T19:42:25.206Z"
    }
   },
   "outputs": [],
   "source": [
    "covars = np.zeros((len(y), 2))\n",
    "covars[:, 0] = 1\n",
    "covars.shape"
   ]
  },
  {
   "cell_type": "code",
   "execution_count": null,
   "metadata": {
    "ExecuteTime": {
     "start_time": "2019-02-24T19:42:25.645Z"
    }
   },
   "outputs": [],
   "source": [
    "N = y.shape[0]\n",
    "P = covars.shape[1]\n",
    "data = {\n",
    "    'N': N, # number of observed values = #cells * #genes\n",
    "    'P': P, # number of cell covariates\n",
    "    'K': 2, # latent space size\n",
    "    'G': G, # number of genes\n",
    "    'C': C, # number of cells\n",
    "    'x': covars, # cell covariates\n",
    "    'y': y, # observed UMIs\n",
    "    'gene': genes, # gene ids\n",
    "    'cell': cells # cell ids\n",
    "}"
   ]
  },
  {
   "cell_type": "code",
   "execution_count": null,
   "metadata": {
    "ExecuteTime": {
     "start_time": "2019-02-24T19:42:26.465Z"
    }
   },
   "outputs": [],
   "source": [
    "o = model.optimizing(data=data)"
   ]
  },
  {
   "cell_type": "code",
   "execution_count": null,
   "metadata": {
    "ExecuteTime": {
     "start_time": "2019-02-24T19:42:34.464Z"
    }
   },
   "outputs": [],
   "source": [
    "W = o['w']"
   ]
  },
  {
   "cell_type": "code",
   "execution_count": null,
   "metadata": {},
   "outputs": [],
   "source": [
    "%pastebin 1-3"
   ]
  },
  {
   "cell_type": "markdown",
   "metadata": {},
   "source": [
    "## Perform clustreing on W"
   ]
  },
  {
   "cell_type": "code",
   "execution_count": null,
   "metadata": {},
   "outputs": [],
   "source": [
    "utils.elbowAnalysis(W, range(2, 5))"
   ]
  },
  {
   "cell_type": "code",
   "execution_count": null,
   "metadata": {},
   "outputs": [],
   "source": [
    "from sklearn.cluster import KMeans"
   ]
  },
  {
   "cell_type": "code",
   "execution_count": null,
   "metadata": {},
   "outputs": [],
   "source": [
    "k=3\n",
    "kmeanModel = KMeans(n_clusters=k)\n",
    "kmeanModel.fit(W)"
   ]
  },
  {
   "cell_type": "code",
   "execution_count": null,
   "metadata": {},
   "outputs": [],
   "source": [
    "pred = kmeanModel.predict(W)"
   ]
  },
  {
   "cell_type": "code",
   "execution_count": null,
   "metadata": {},
   "outputs": [],
   "source": [
    "from sklearn.metrics.cluster import adjusted_rand_score\n",
    "adjusted_rand_score(truth.clusters, pred)"
   ]
  },
  {
   "cell_type": "code",
   "execution_count": null,
   "metadata": {
    "ExecuteTime": {
     "start_time": "2019-02-24T20:04:36.014Z"
    }
   },
   "outputs": [],
   "source": [
    "1"
   ]
  },
  {
   "cell_type": "code",
   "execution_count": null,
   "metadata": {},
   "outputs": [],
   "source": []
  }
 ],
 "metadata": {
  "kernelspec": {
   "display_name": "Python 3",
   "language": "python",
   "name": "python3"
  },
  "language_info": {
   "codemirror_mode": {
    "name": "ipython",
    "version": 3
   },
   "file_extension": ".py",
   "mimetype": "text/x-python",
   "name": "python",
   "nbconvert_exporter": "python",
   "pygments_lexer": "ipython3",
   "version": "3.7.2"
  },
  "varInspector": {
   "cols": {
    "lenName": 16,
    "lenType": 16,
    "lenVar": 40
   },
   "kernels_config": {
    "python": {
     "delete_cmd_postfix": "",
     "delete_cmd_prefix": "del ",
     "library": "var_list.py",
     "varRefreshCmd": "print(var_dic_list())"
    },
    "r": {
     "delete_cmd_postfix": ") ",
     "delete_cmd_prefix": "rm(",
     "library": "var_list.r",
     "varRefreshCmd": "cat(var_dic_list()) "
    }
   },
   "types_to_exclude": [
    "module",
    "function",
    "builtin_function_or_method",
    "instance",
    "_Feature"
   ],
   "window_display": false
  }
 },
 "nbformat": 4,
 "nbformat_minor": 2
}
