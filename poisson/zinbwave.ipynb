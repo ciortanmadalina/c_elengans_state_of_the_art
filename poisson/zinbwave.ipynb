{
 "cells": [
  {
   "cell_type": "code",
   "execution_count": 1,
   "metadata": {
    "ExecuteTime": {
     "end_time": "2019-02-24T20:06:45.201096Z",
     "start_time": "2019-02-24T20:06:43.559828Z"
    }
   },
   "outputs": [
    {
     "name": "stdout",
     "output_type": "stream",
     "text": [
      "elbowAnalysis\n",
      "silhouetteAnalyis\n"
     ]
    }
   ],
   "source": [
    "import sys\n",
    "sys.path.append(\"..\") # this adds to path parent directory in order to import utils file\n",
    "import pandas as pd\n",
    "import matplotlib.pyplot as plt\n",
    "from collections import Counter\n",
    "import random\n",
    "import numpy as np\n",
    "from sklearn import metrics\n",
    "from sklearn.preprocessing import StandardScaler, RobustScaler\n",
    "from sklearn.mixture import GaussianMixture\n",
    "from sklearn.metrics.cluster import adjusted_rand_score\n",
    "from statsmodels.base.model import GenericLikelihoodModel\n",
    "from scipy import stats\n",
    "import pickle\n",
    "import pystan\n",
    "\n",
    "import utils\n",
    "import read_utils\n",
    "np.random.seed(0)"
   ]
  },
  {
   "cell_type": "code",
   "execution_count": 2,
   "metadata": {
    "ExecuteTime": {
     "end_time": "2019-02-24T20:06:46.622918Z",
     "start_time": "2019-02-24T20:06:46.487866Z"
    }
   },
   "outputs": [],
   "source": [
    "%load_ext autoreload\n",
    "%autoreload 2"
   ]
  },
  {
   "cell_type": "markdown",
   "metadata": {},
   "source": [
    "## ZINBAWE model\n",
    "\n",
    "https://www.ncbi.nlm.nih.gov/pmc/articles/PMC5773593/  \n",
    "https://www.bioconductor.org/packages/devel/bioc/vignettes/zinbwave/inst/doc/intro.html   \n",
    "https://github.com/drisso/zinb_analysis  \n",
    "Reproduce comparaisons: https://github.com/fperraudeau/singlecellworkflow   \n",
    "\n",
    "\n",
    "ZIFA:  \n",
    "https://genomebiology.biomedcentral.com/articles/10.1186/s13059-015-0805-z  \n",
    "https://github.com/epierson9/ZIFA  \n",
    "\n",
    "\n",
    "PYSTAN:  \n",
    "https://pystan.readthedocs.io/en/latest/index.html"
   ]
  },
  {
   "cell_type": "code",
   "execution_count": 18,
   "metadata": {
    "ExecuteTime": {
     "end_time": "2019-02-24T20:07:47.801433Z",
     "start_time": "2019-02-24T20:07:47.666088Z"
    }
   },
   "outputs": [],
   "source": [
    "stanCode = \"\"\"\n",
    "\n",
    "data {\n",
    "  int<lower=0> N; // number of data points in dataset\n",
    "  int<lower=1> P; // number of known covariates\n",
    "  int<lower=1> K; // number of hidden dimensions\n",
    "  int<lower=1> G; // number of observed genes\n",
    "  int<lower=1> C; // number of observed cells\n",
    "\n",
    "  vector[P] x[N]; // Covariates, including intercept.\n",
    "  int y[N];      // Expression values (counts!)\n",
    "  int<lower=1, upper=G> gene[N]; // Gene identifiers\n",
    "  int<lower=1, upper=C> cell[N]; // Cell identifiers\n",
    "\n",
    "}\n",
    "parameters {\n",
    "  // Latent variable model\n",
    "  matrix[G, K] alpha_mu;\n",
    "  matrix[G, K] alpha_pi;\n",
    "\n",
    "  matrix[K, C] w;\n",
    "\n",
    "  // Cell regression weights\n",
    "  matrix[G, P] beta_mu;\n",
    "  matrix[G, P] beta_pi;\n",
    "\n",
    "  // Gene regression weights\n",
    "  // (For now only do intercept)\n",
    "  matrix[G, 1] gamma_mu;\n",
    "  matrix[G, 1] gamma_pi;\n",
    "\n",
    "  // Dispersion\n",
    "  real zeta[G];\n",
    "\n",
    "}\n",
    "model {\n",
    "  row_vector[1] mu;\n",
    "  row_vector[1] pi_;\n",
    "  real theta;\n",
    "\n",
    "  // Priors\n",
    "  to_vector(w) ~ normal(0, 1);\n",
    "\n",
    "  // likelihood\n",
    "  for (n in 1:N){\n",
    "    mu = exp(beta_mu[gene[n]] * x[n] + gamma_mu[gene[N]] + alpha_mu[gene[n]] * col(w, cell[n]));\n",
    "    pi_ = beta_pi[gene[n]] * x[n] + gamma_pi[gene[N]] + alpha_pi[gene[n]] * col(w, cell[n]);\n",
    "    theta = exp(zeta[gene[n]]);\n",
    "\n",
    "    if (y[n] > 0) {\n",
    "      target += bernoulli_logit_lpmf(0 | pi_) + neg_binomial_2_lpmf(y[n] | mu, theta);\n",
    "    }\n",
    "    else {\n",
    "      target += log_sum_exp(bernoulli_logit_lpmf(1 | pi_),\n",
    "                            bernoulli_logit_lpmf(0 | pi_) + neg_binomial_2_lpmf(y[n] | mu, theta));\n",
    "    }\n",
    "  }\n",
    "}\n",
    "\n",
    "\"\"\""
   ]
  },
  {
   "cell_type": "code",
   "execution_count": 19,
   "metadata": {
    "ExecuteTime": {
     "end_time": "2019-02-24T20:07:56.803954Z",
     "start_time": "2019-02-24T20:07:55.906901Z"
    }
   },
   "outputs": [
    {
     "data": {
      "text/plain": [
       "'http://dpaste.com/295H852'"
      ]
     },
     "execution_count": 19,
     "metadata": {},
     "output_type": "execute_result"
    }
   ],
   "source": [
    "%pastebin 18"
   ]
  },
  {
   "cell_type": "code",
   "execution_count": null,
   "metadata": {
    "ExecuteTime": {
     "start_time": "2019-02-24T19:41:49.898Z"
    }
   },
   "outputs": [],
   "source": [
    "model = pystan.StanModel(model_code=stanCode)"
   ]
  },
  {
   "cell_type": "markdown",
   "metadata": {},
   "source": [
    "# Save compiled model"
   ]
  },
  {
   "cell_type": "code",
   "execution_count": null,
   "metadata": {
    "ExecuteTime": {
     "end_time": "2019-02-24T18:34:13.568430Z",
     "start_time": "2019-02-24T18:34:13.553473Z"
    }
   },
   "outputs": [],
   "source": [
    "with open('zinbwave.pkl', 'wb') as fh:\n",
    "    pickle.dump(model, fh)"
   ]
  },
  {
   "cell_type": "markdown",
   "metadata": {},
   "source": [
    "## Start here if the model was already generated"
   ]
  },
  {
   "cell_type": "code",
   "execution_count": 3,
   "metadata": {
    "ExecuteTime": {
     "end_time": "2019-02-24T20:06:52.107121Z",
     "start_time": "2019-02-24T20:06:51.947194Z"
    }
   },
   "outputs": [],
   "source": [
    "with open('zinbwave.pkl', 'rb') as fh:\n",
    "    model = pickle.load(fh)"
   ]
  },
  {
   "cell_type": "code",
   "execution_count": 4,
   "metadata": {
    "ExecuteTime": {
     "end_time": "2019-02-24T20:06:53.644435Z",
     "start_time": "2019-02-24T20:06:52.845759Z"
    }
   },
   "outputs": [
    {
     "name": "stdout",
     "output_type": "stream",
     "text": [
      "(902, 16468) (902, 2) [2 0 1]\n"
     ]
    }
   ],
   "source": [
    "dataset= 'sce10x_qc'\n",
    "df, truth = read_utils.loadData(dataset)\n",
    "print(df.shape, truth.shape, truth.clusters.unique())"
   ]
  },
  {
   "cell_type": "code",
   "execution_count": 5,
   "metadata": {
    "ExecuteTime": {
     "end_time": "2019-02-24T20:06:54.854646Z",
     "start_time": "2019-02-24T20:06:54.699601Z"
    }
   },
   "outputs": [],
   "source": [
    "# geneDf = df.T # log transform data\n",
    "# geneDf['total_counts'] = geneDf.sum(axis = 1)\n",
    "# geneDf['num_genes'] = (geneDf > 0).sum(axis = 1)\n",
    "# geneDf['dispersion'] = (geneDf > 0).var(axis = 1) / (geneDf > 0).mean(axis = 1)\n",
    "# geneDf = geneDf[['total_counts', 'num_genes', 'dispersion']]\n",
    "# print(geneDf.shape)\n",
    "# geneDf.head()\n",
    "\n",
    "# geneDf['dispersion'].hist(log = False)\n",
    "# plt.title('Histogram of gene dispersion')\n",
    "# plt.xlabel('Dispersion value')\n",
    "# plt.ylabel('Frequency');"
   ]
  },
  {
   "cell_type": "markdown",
   "metadata": {},
   "source": [
    "## Keep only top 1000 genes with highest variation\n",
    "\n",
    "TODO: remove also some cells "
   ]
  },
  {
   "cell_type": "code",
   "execution_count": 6,
   "metadata": {
    "ExecuteTime": {
     "end_time": "2019-02-24T20:06:56.669026Z",
     "start_time": "2019-02-24T20:06:56.546173Z"
    }
   },
   "outputs": [
    {
     "data": {
      "text/plain": [
       "(16468, 902)"
      ]
     },
     "execution_count": 6,
     "metadata": {},
     "output_type": "execute_result"
    }
   ],
   "source": [
    "geneDf = df.T\n",
    "geneDf.shape"
   ]
  },
  {
   "cell_type": "code",
   "execution_count": 7,
   "metadata": {
    "ExecuteTime": {
     "end_time": "2019-02-24T20:07:00.549271Z",
     "start_time": "2019-02-24T20:06:58.754940Z"
    }
   },
   "outputs": [
    {
     "data": {
      "text/plain": [
       "((1000,), (16468,), (16468,))"
      ]
     },
     "execution_count": 7,
     "metadata": {},
     "output_type": "execute_result"
    }
   ],
   "source": [
    "idx = geneDf.pipe(np.log1p).var(1).sort_values(ascending=False).head(1000).index\n",
    "mus = geneDf.pipe(np.log1p).mean(1)\n",
    "vas = geneDf.pipe(np.log1p).var(1)\n",
    "idx.shape, mus.shape, vas.shape"
   ]
  },
  {
   "cell_type": "code",
   "execution_count": 8,
   "metadata": {
    "ExecuteTime": {
     "end_time": "2019-02-24T20:07:01.719493Z",
     "start_time": "2019-02-24T20:07:01.165564Z"
    }
   },
   "outputs": [
    {
     "data": {
      "image/png": "[encoded data removed]",
      "text/plain": [
       "<Figure size 432x288 with 1 Axes>"
      ]
     },
     "metadata": {
      "needs_background": "light"
     },
     "output_type": "display_data"
    }
   ],
   "source": [
    "plt.scatter(mus, vas, label='Remaining');\n",
    "plt.scatter(mus[idx], vas[idx], label=f'Top {idx.shape[0]} genes by dispersion');\n",
    "plt.legend(scatterpoints=3)\n",
    "plt.xlabel('Log count mean')\n",
    "plt.ylabel('Log count variance');"
   ]
  },
  {
   "cell_type": "code",
   "execution_count": 9,
   "metadata": {
    "ExecuteTime": {
     "end_time": "2019-02-24T20:07:02.484921Z",
     "start_time": "2019-02-24T20:07:02.358369Z"
    }
   },
   "outputs": [
    {
     "data": {
      "text/plain": [
       "['CELL_000001', 'CELL_000002', 'CELL_000003']"
      ]
     },
     "execution_count": 9,
     "metadata": {},
     "output_type": "execute_result"
    }
   ],
   "source": [
    "cellNames = geneDf.columns.tolist()\n",
    "cellNames[:3]"
   ]
  },
  {
   "cell_type": "code",
   "execution_count": 10,
   "metadata": {
    "ExecuteTime": {
     "end_time": "2019-02-24T20:07:03.753665Z",
     "start_time": "2019-02-24T20:07:03.595607Z"
    }
   },
   "outputs": [
    {
     "name": "stdout",
     "output_type": "stream",
     "text": [
      "(1000, 903)\n"
     ]
    },
    {
     "data": {
      "text/html": [
       "<div>\n",
       "<style scoped>\n",
       "    .dataframe tbody tr th:only-of-type {\n",
       "        vertical-align: middle;\n",
       "    }\n",
       "\n",
       "    .dataframe tbody tr th {\n",
       "        vertical-align: top;\n",
       "    }\n",
       "\n",
       "    .dataframe thead th {\n",
       "        text-align: right;\n",
       "    }\n",
       "</style>\n",
       "<table border=\"1\" class=\"dataframe\">\n",
       "  <thead>\n",
       "    <tr style=\"text-align: right;\">\n",
       "      <th></th>\n",
       "      <th>CELL_000001</th>\n",
       "      <th>CELL_000002</th>\n",
       "      <th>CELL_000003</th>\n",
       "      <th>CELL_000004</th>\n",
       "      <th>CELL_000005</th>\n",
       "      <th>CELL_000006</th>\n",
       "      <th>CELL_000007</th>\n",
       "      <th>CELL_000008</th>\n",
       "      <th>CELL_000009</th>\n",
       "      <th>CELL_000010</th>\n",
       "      <th>...</th>\n",
       "      <th>CELL_000932</th>\n",
       "      <th>CELL_000933</th>\n",
       "      <th>CELL_000934</th>\n",
       "      <th>CELL_000935</th>\n",
       "      <th>CELL_000939</th>\n",
       "      <th>CELL_000943</th>\n",
       "      <th>CELL_000946</th>\n",
       "      <th>CELL_000955</th>\n",
       "      <th>CELL_000965</th>\n",
       "      <th>gene</th>\n",
       "    </tr>\n",
       "  </thead>\n",
       "  <tbody>\n",
       "    <tr>\n",
       "      <th>ENSG00000108602</th>\n",
       "      <td>0</td>\n",
       "      <td>2</td>\n",
       "      <td>3</td>\n",
       "      <td>3</td>\n",
       "      <td>0</td>\n",
       "      <td>1</td>\n",
       "      <td>1</td>\n",
       "      <td>3</td>\n",
       "      <td>2</td>\n",
       "      <td>3</td>\n",
       "      <td>...</td>\n",
       "      <td>1</td>\n",
       "      <td>0</td>\n",
       "      <td>129</td>\n",
       "      <td>0</td>\n",
       "      <td>0</td>\n",
       "      <td>0</td>\n",
       "      <td>48</td>\n",
       "      <td>0</td>\n",
       "      <td>0</td>\n",
       "      <td>ENSG00000108602</td>\n",
       "    </tr>\n",
       "    <tr>\n",
       "      <th>ENSG00000019582</th>\n",
       "      <td>4</td>\n",
       "      <td>1</td>\n",
       "      <td>5</td>\n",
       "      <td>4</td>\n",
       "      <td>3</td>\n",
       "      <td>5</td>\n",
       "      <td>3</td>\n",
       "      <td>5</td>\n",
       "      <td>6</td>\n",
       "      <td>4</td>\n",
       "      <td>...</td>\n",
       "      <td>5</td>\n",
       "      <td>4</td>\n",
       "      <td>128</td>\n",
       "      <td>1</td>\n",
       "      <td>1</td>\n",
       "      <td>43</td>\n",
       "      <td>162</td>\n",
       "      <td>0</td>\n",
       "      <td>2</td>\n",
       "      <td>ENSG00000019582</td>\n",
       "    </tr>\n",
       "    <tr>\n",
       "      <th>ENSG00000173432</th>\n",
       "      <td>2</td>\n",
       "      <td>11</td>\n",
       "      <td>2</td>\n",
       "      <td>1</td>\n",
       "      <td>1</td>\n",
       "      <td>3</td>\n",
       "      <td>2</td>\n",
       "      <td>0</td>\n",
       "      <td>0</td>\n",
       "      <td>1</td>\n",
       "      <td>...</td>\n",
       "      <td>0</td>\n",
       "      <td>1</td>\n",
       "      <td>66</td>\n",
       "      <td>0</td>\n",
       "      <td>0</td>\n",
       "      <td>1</td>\n",
       "      <td>62</td>\n",
       "      <td>0</td>\n",
       "      <td>0</td>\n",
       "      <td>ENSG00000173432</td>\n",
       "    </tr>\n",
       "    <tr>\n",
       "      <th>ENSG00000148346</th>\n",
       "      <td>4</td>\n",
       "      <td>3</td>\n",
       "      <td>3</td>\n",
       "      <td>5</td>\n",
       "      <td>3</td>\n",
       "      <td>1</td>\n",
       "      <td>3</td>\n",
       "      <td>1</td>\n",
       "      <td>3</td>\n",
       "      <td>3</td>\n",
       "      <td>...</td>\n",
       "      <td>1</td>\n",
       "      <td>1</td>\n",
       "      <td>122</td>\n",
       "      <td>1</td>\n",
       "      <td>1</td>\n",
       "      <td>1</td>\n",
       "      <td>26</td>\n",
       "      <td>0</td>\n",
       "      <td>1</td>\n",
       "      <td>ENSG00000148346</td>\n",
       "    </tr>\n",
       "    <tr>\n",
       "      <th>ENSG00000196126</th>\n",
       "      <td>0</td>\n",
       "      <td>0</td>\n",
       "      <td>0</td>\n",
       "      <td>0</td>\n",
       "      <td>0</td>\n",
       "      <td>0</td>\n",
       "      <td>1</td>\n",
       "      <td>0</td>\n",
       "      <td>1</td>\n",
       "      <td>1</td>\n",
       "      <td>...</td>\n",
       "      <td>1</td>\n",
       "      <td>1</td>\n",
       "      <td>42</td>\n",
       "      <td>0</td>\n",
       "      <td>0</td>\n",
       "      <td>0</td>\n",
       "      <td>69</td>\n",
       "      <td>0</td>\n",
       "      <td>0</td>\n",
       "      <td>ENSG00000196126</td>\n",
       "    </tr>\n",
       "  </tbody>\n",
       "</table>\n",
       "<p>5 rows × 903 columns</p>\n",
       "</div>"
      ],
      "text/plain": [
       "                 CELL_000001  CELL_000002  CELL_000003  CELL_000004  \\\n",
       "ENSG00000108602            0            2            3            3   \n",
       "ENSG00000019582            4            1            5            4   \n",
       "ENSG00000173432            2           11            2            1   \n",
       "ENSG00000148346            4            3            3            5   \n",
       "ENSG00000196126            0            0            0            0   \n",
       "\n",
       "                 CELL_000005  CELL_000006  CELL_000007  CELL_000008  \\\n",
       "ENSG00000108602            0            1            1            3   \n",
       "ENSG00000019582            3            5            3            5   \n",
       "ENSG00000173432            1            3            2            0   \n",
       "ENSG00000148346            3            1            3            1   \n",
       "ENSG00000196126            0            0            1            0   \n",
       "\n",
       "                 CELL_000009  CELL_000010  ...  CELL_000932  CELL_000933  \\\n",
       "ENSG00000108602            2            3  ...            1            0   \n",
       "ENSG00000019582            6            4  ...            5            4   \n",
       "ENSG00000173432            0            1  ...            0            1   \n",
       "ENSG00000148346            3            3  ...            1            1   \n",
       "ENSG00000196126            1            1  ...            1            1   \n",
       "\n",
       "                 CELL_000934  CELL_000935  CELL_000939  CELL_000943  \\\n",
       "ENSG00000108602          129            0            0            0   \n",
       "ENSG00000019582          128            1            1           43   \n",
       "ENSG00000173432           66            0            0            1   \n",
       "ENSG00000148346          122            1            1            1   \n",
       "ENSG00000196126           42            0            0            0   \n",
       "\n",
       "                 CELL_000946  CELL_000955  CELL_000965             gene  \n",
       "ENSG00000108602           48            0            0  ENSG00000108602  \n",
       "ENSG00000019582          162            0            2  ENSG00000019582  \n",
       "ENSG00000173432           62            0            0  ENSG00000173432  \n",
       "ENSG00000148346           26            0            1  ENSG00000148346  \n",
       "ENSG00000196126           69            0            0  ENSG00000196126  \n",
       "\n",
       "[5 rows x 903 columns]"
      ]
     },
     "execution_count": 10,
     "metadata": {},
     "output_type": "execute_result"
    }
   ],
   "source": [
    "geneDf = geneDf.loc[idx]\n",
    "geneDf['gene'] = geneDf.index\n",
    "print(geneDf.shape)\n",
    "geneDf.head()"
   ]
  },
  {
   "cell_type": "code",
   "execution_count": 11,
   "metadata": {
    "ExecuteTime": {
     "end_time": "2019-02-24T20:07:05.466723Z",
     "start_time": "2019-02-24T20:07:05.016719Z"
    }
   },
   "outputs": [
    {
     "name": "stdout",
     "output_type": "stream",
     "text": [
      "(902000, 3)\n"
     ]
    },
    {
     "data": {
      "text/html": [
       "<div>\n",
       "<style scoped>\n",
       "    .dataframe tbody tr th:only-of-type {\n",
       "        vertical-align: middle;\n",
       "    }\n",
       "\n",
       "    .dataframe tbody tr th {\n",
       "        vertical-align: top;\n",
       "    }\n",
       "\n",
       "    .dataframe thead th {\n",
       "        text-align: right;\n",
       "    }\n",
       "</style>\n",
       "<table border=\"1\" class=\"dataframe\">\n",
       "  <thead>\n",
       "    <tr style=\"text-align: right;\">\n",
       "      <th></th>\n",
       "      <th>gene</th>\n",
       "      <th>cell</th>\n",
       "      <th>value</th>\n",
       "    </tr>\n",
       "  </thead>\n",
       "  <tbody>\n",
       "    <tr>\n",
       "      <th>0</th>\n",
       "      <td>ENSG00000108602</td>\n",
       "      <td>CELL_000001</td>\n",
       "      <td>0</td>\n",
       "    </tr>\n",
       "    <tr>\n",
       "      <th>1</th>\n",
       "      <td>ENSG00000019582</td>\n",
       "      <td>CELL_000001</td>\n",
       "      <td>4</td>\n",
       "    </tr>\n",
       "    <tr>\n",
       "      <th>2</th>\n",
       "      <td>ENSG00000173432</td>\n",
       "      <td>CELL_000001</td>\n",
       "      <td>2</td>\n",
       "    </tr>\n",
       "    <tr>\n",
       "      <th>3</th>\n",
       "      <td>ENSG00000148346</td>\n",
       "      <td>CELL_000001</td>\n",
       "      <td>4</td>\n",
       "    </tr>\n",
       "    <tr>\n",
       "      <th>4</th>\n",
       "      <td>ENSG00000196126</td>\n",
       "      <td>CELL_000001</td>\n",
       "      <td>0</td>\n",
       "    </tr>\n",
       "  </tbody>\n",
       "</table>\n",
       "</div>"
      ],
      "text/plain": [
       "              gene         cell  value\n",
       "0  ENSG00000108602  CELL_000001      0\n",
       "1  ENSG00000019582  CELL_000001      4\n",
       "2  ENSG00000173432  CELL_000001      2\n",
       "3  ENSG00000148346  CELL_000001      4\n",
       "4  ENSG00000196126  CELL_000001      0"
      ]
     },
     "execution_count": 11,
     "metadata": {},
     "output_type": "execute_result"
    }
   ],
   "source": [
    "long_data = pd.melt(geneDf, id_vars=['gene']).dropna().rename(columns={'variable': 'cell'})\n",
    "print(long_data.shape)\n",
    "long_data.head()"
   ]
  },
  {
   "cell_type": "code",
   "execution_count": 12,
   "metadata": {
    "ExecuteTime": {
     "end_time": "2019-02-24T20:07:06.456752Z",
     "start_time": "2019-02-24T20:07:06.200797Z"
    }
   },
   "outputs": [
    {
     "data": {
      "text/plain": [
       "(902000, 1000, array([216,  21, 724], dtype=int16), 1000)"
      ]
     },
     "execution_count": 12,
     "metadata": {},
     "output_type": "execute_result"
    }
   ],
   "source": [
    "genes = long_data.gene.astype('category')\n",
    "G = genes.cat.categories.shape[0]\n",
    "genes = genes.cat.codes.values + 1\n",
    "len(genes), len(np.unique(genes)), genes[:3], G"
   ]
  },
  {
   "cell_type": "code",
   "execution_count": 13,
   "metadata": {
    "ExecuteTime": {
     "end_time": "2019-02-24T20:07:08.418674Z",
     "start_time": "2019-02-24T20:07:08.236455Z"
    }
   },
   "outputs": [
    {
     "data": {
      "text/plain": [
       "(902000, 902, array([1, 1, 1], dtype=int16), 902)"
      ]
     },
     "execution_count": 13,
     "metadata": {},
     "output_type": "execute_result"
    }
   ],
   "source": [
    "cells = long_data.cell.astype('category')\n",
    "C = cells.cat.categories.shape[0]\n",
    "cells = cells.cat.codes.values + 1\n",
    "len(cells), len(np.unique(cells)), cells[:3], C"
   ]
  },
  {
   "cell_type": "code",
   "execution_count": 14,
   "metadata": {
    "ExecuteTime": {
     "end_time": "2019-02-24T20:07:09.159412Z",
     "start_time": "2019-02-24T20:07:09.035888Z"
    }
   },
   "outputs": [
    {
     "data": {
      "text/plain": [
       "(902000,)"
      ]
     },
     "execution_count": 14,
     "metadata": {},
     "output_type": "execute_result"
    }
   ],
   "source": [
    "y = long_data.value.values\n",
    "y.shape"
   ]
  },
  {
   "cell_type": "code",
   "execution_count": 15,
   "metadata": {
    "ExecuteTime": {
     "end_time": "2019-02-24T20:07:09.966404Z",
     "start_time": "2019-02-24T20:07:09.835444Z"
    }
   },
   "outputs": [
    {
     "data": {
      "text/plain": [
       "(902000, 2)"
      ]
     },
     "execution_count": 15,
     "metadata": {},
     "output_type": "execute_result"
    }
   ],
   "source": [
    "covars = np.zeros((len(y), 2))\n",
    "covars[:, 0] = 1\n",
    "covars.shape"
   ]
  },
  {
   "cell_type": "code",
   "execution_count": 16,
   "metadata": {
    "ExecuteTime": {
     "end_time": "2019-02-24T20:07:10.670300Z",
     "start_time": "2019-02-24T20:07:10.539245Z"
    }
   },
   "outputs": [],
   "source": [
    "N = y.shape[0]\n",
    "P = covars.shape[1]\n",
    "data = {\n",
    "    'N': N, # number of observed values = #cells * #genes\n",
    "    'P': P, # number of cell covariates\n",
    "    'K': 2, # latent space size\n",
    "    'G': G, # number of genes\n",
    "    'C': C, # number of cells\n",
    "    'x': covars, # cell covariates\n",
    "    'y': y, # observed UMIs\n",
    "    'gene': genes, # gene ids\n",
    "    'cell': cells # cell ids\n",
    "}"
   ]
  },
  {
   "cell_type": "code",
   "execution_count": 20,
   "metadata": {
    "ExecuteTime": {
     "end_time": "2019-02-24T20:59:31.983193Z",
     "start_time": "2019-02-24T20:08:13.647188Z"
    }
   },
   "outputs": [
    {
     "name": "stderr",
     "output_type": "stream",
     "text": [
      "C:\\Users\\ciort\\Anaconda3\\envs\\stan_env\\lib\\site-packages\\pystan\\misc.py:399: FutureWarning: Conversion of the second argument of issubdtype from `float` to `np.floating` is deprecated. In future, it will be treated as `np.float64 == np.dtype(float).type`.\n",
      "  elif np.issubdtype(np.asarray(v).dtype, float):\n"
     ]
    }
   ],
   "source": [
    "o = model.optimizing(data=data)"
   ]
  },
  {
   "cell_type": "code",
   "execution_count": 21,
   "metadata": {
    "ExecuteTime": {
     "end_time": "2019-02-24T20:59:45.525232Z",
     "start_time": "2019-02-24T20:59:45.400985Z"
    }
   },
   "outputs": [],
   "source": [
    "W = o['w']"
   ]
  },
  {
   "cell_type": "code",
   "execution_count": 23,
   "metadata": {
    "ExecuteTime": {
     "end_time": "2019-02-24T21:00:15.323892Z",
     "start_time": "2019-02-24T21:00:15.203713Z"
    }
   },
   "outputs": [
    {
     "data": {
      "text/plain": [
       "(2, 902)"
      ]
     },
     "execution_count": 23,
     "metadata": {},
     "output_type": "execute_result"
    }
   ],
   "source": [
    "W.shape"
   ]
  },
  {
   "cell_type": "markdown",
   "metadata": {},
   "source": [
    "Serialize results"
   ]
  },
  {
   "cell_type": "code",
   "execution_count": 25,
   "metadata": {
    "ExecuteTime": {
     "end_time": "2019-02-24T21:01:36.175707Z",
     "start_time": "2019-02-24T21:01:36.039726Z"
    }
   },
   "outputs": [],
   "source": [
    "with open('o.pkl', 'wb') as fh:\n",
    "    pickle.dump(o, fh)\n",
    "\n",
    "np.save('w.pkl', W)"
   ]
  },
  {
   "cell_type": "code",
   "execution_count": 24,
   "metadata": {
    "ExecuteTime": {
     "end_time": "2019-02-24T21:00:53.466865Z",
     "start_time": "2019-02-24T21:00:53.190166Z"
    }
   },
   "outputs": [
    {
     "data": {
      "text/plain": [
       "<matplotlib.collections.PathCollection at 0x1d9cc53c7b8>"
      ]
     },
     "execution_count": 24,
     "metadata": {},
     "output_type": "execute_result"
    },
    {
     "data": {
      "image/png": "[encoded data removed]",
      "text/plain": [
       "<Figure size 432x288 with 1 Axes>"
      ]
     },
     "metadata": {
      "needs_background": "light"
     },
     "output_type": "display_data"
    }
   ],
   "source": [
    "plt.scatter(W[0,:], W[1,:])"
   ]
  },
  {
   "cell_type": "markdown",
   "metadata": {},
   "source": [
    "## Perform clustreing on W"
   ]
  },
  {
   "cell_type": "code",
   "execution_count": 28,
   "metadata": {
    "ExecuteTime": {
     "end_time": "2019-02-24T21:02:51.370996Z",
     "start_time": "2019-02-24T21:02:51.027411Z"
    }
   },
   "outputs": [
    {
     "name": "stderr",
     "output_type": "stream",
     "text": [
      "100%|████████████████████████████████████████████████████████████████████████████████████| 4/4 [00:00<00:00, 41.87it/s]\n"
     ]
    },
    {
     "data": {
      "image/png": "[encoded data removed]",
      "text/plain": [
       "<Figure size 432x288 with 1 Axes>"
      ]
     },
     "metadata": {
      "needs_background": "light"
     },
     "output_type": "display_data"
    }
   ],
   "source": [
    "utils.elbowAnalysis(W.T\n",
    "                    , range(2, 6))"
   ]
  },
  {
   "cell_type": "code",
   "execution_count": 29,
   "metadata": {
    "ExecuteTime": {
     "end_time": "2019-02-24T21:02:55.973558Z",
     "start_time": "2019-02-24T21:02:55.845625Z"
    }
   },
   "outputs": [],
   "source": [
    "from sklearn.cluster import KMeans"
   ]
  },
  {
   "cell_type": "code",
   "execution_count": 31,
   "metadata": {
    "ExecuteTime": {
     "end_time": "2019-02-24T21:03:03.965469Z",
     "start_time": "2019-02-24T21:03:03.817821Z"
    }
   },
   "outputs": [
    {
     "data": {
      "text/plain": [
       "KMeans(algorithm='auto', copy_x=True, init='k-means++', max_iter=300,\n",
       "    n_clusters=3, n_init=10, n_jobs=None, precompute_distances='auto',\n",
       "    random_state=None, tol=0.0001, verbose=0)"
      ]
     },
     "execution_count": 31,
     "metadata": {},
     "output_type": "execute_result"
    }
   ],
   "source": [
    "k=3\n",
    "kmeanModel = KMeans(n_clusters=k)\n",
    "kmeanModel.fit(W.T)"
   ]
  },
  {
   "cell_type": "code",
   "execution_count": 32,
   "metadata": {
    "ExecuteTime": {
     "end_time": "2019-02-24T21:03:10.414772Z",
     "start_time": "2019-02-24T21:03:10.274024Z"
    }
   },
   "outputs": [],
   "source": [
    "pred = kmeanModel.predict(W.T)"
   ]
  },
  {
   "cell_type": "code",
   "execution_count": 33,
   "metadata": {
    "ExecuteTime": {
     "end_time": "2019-02-24T21:03:13.119796Z",
     "start_time": "2019-02-24T21:03:12.958378Z"
    }
   },
   "outputs": [
    {
     "data": {
      "text/plain": [
       "0.99352630377602"
      ]
     },
     "execution_count": 33,
     "metadata": {},
     "output_type": "execute_result"
    }
   ],
   "source": [
    "from sklearn.metrics.cluster import adjusted_rand_score\n",
    "adjusted_rand_score(truth.clusters, pred)"
   ]
  },
  {
   "cell_type": "code",
   "execution_count": null,
   "metadata": {},
   "outputs": [],
   "source": []
  }
 ],
 "metadata": {
  "kernelspec": {
   "display_name": "Python 3",
   "language": "python",
   "name": "python3"
  },
  "language_info": {
   "codemirror_mode": {
    "name": "ipython",
    "version": 3
   },
   "file_extension": ".py",
   "mimetype": "text/x-python",
   "name": "python",
   "nbconvert_exporter": "python",
   "pygments_lexer": "ipython3",
   "version": "3.7.2"
  },
  "varInspector": {
   "cols": {
    "lenName": 16,
    "lenType": 16,
    "lenVar": 40
   },
   "kernels_config": {
    "python": {
     "delete_cmd_postfix": "",
     "delete_cmd_prefix": "del ",
     "library": "var_list.py",
     "varRefreshCmd": "print(var_dic_list())"
    },
    "r": {
     "delete_cmd_postfix": ") ",
     "delete_cmd_prefix": "rm(",
     "library": "var_list.r",
     "varRefreshCmd": "cat(var_dic_list()) "
    }
   },
   "types_to_exclude": [
    "module",
    "function",
    "builtin_function_or_method",
    "instance",
    "_Feature"
   ],
   "window_display": false
  }
 },
 "nbformat": 4,
 "nbformat_minor": 2
}
